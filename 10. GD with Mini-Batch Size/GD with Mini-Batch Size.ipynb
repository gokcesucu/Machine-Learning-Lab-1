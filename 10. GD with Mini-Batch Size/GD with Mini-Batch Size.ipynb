{
 "cells": [
  {
   "cell_type": "markdown",
   "metadata": {},
   "source": [
    " # 10. Gradient Descent with Mini-Batch Size"
   ]
  },
  {
   "cell_type": "markdown",
   "metadata": {},
   "source": [
    "### 0. IMPORTING THE LIBRARIES"
   ]
  },
  {
   "cell_type": "code",
   "execution_count": 1,
   "metadata": {},
   "outputs": [],
   "source": [
    "import pandas as pd\n",
    "import random\n",
    "import math\n",
    "import numpy as np"
   ]
  },
  {
   "cell_type": "markdown",
   "metadata": {},
   "source": [
    "### 1. READING THE DATA"
   ]
  },
  {
   "cell_type": "code",
   "execution_count": 2,
   "metadata": {},
   "outputs": [],
   "source": [
    "bank_set = pd.read_csv('bank.csv', sep=';')"
   ]
  },
  {
   "cell_type": "code",
   "execution_count": 3,
   "metadata": {},
   "outputs": [
    {
     "data": {
      "text/html": [
       "<div>\n",
       "<style scoped>\n",
       "    .dataframe tbody tr th:only-of-type {\n",
       "        vertical-align: middle;\n",
       "    }\n",
       "\n",
       "    .dataframe tbody tr th {\n",
       "        vertical-align: top;\n",
       "    }\n",
       "\n",
       "    .dataframe thead th {\n",
       "        text-align: right;\n",
       "    }\n",
       "</style>\n",
       "<table border=\"1\" class=\"dataframe\">\n",
       "  <thead>\n",
       "    <tr style=\"text-align: right;\">\n",
       "      <th></th>\n",
       "      <th>age</th>\n",
       "      <th>job</th>\n",
       "      <th>marital</th>\n",
       "      <th>education</th>\n",
       "      <th>default</th>\n",
       "      <th>balance</th>\n",
       "      <th>housing</th>\n",
       "      <th>loan</th>\n",
       "      <th>contact</th>\n",
       "      <th>day</th>\n",
       "      <th>month</th>\n",
       "      <th>duration</th>\n",
       "      <th>campaign</th>\n",
       "      <th>pdays</th>\n",
       "      <th>previous</th>\n",
       "      <th>poutcome</th>\n",
       "      <th>y</th>\n",
       "    </tr>\n",
       "  </thead>\n",
       "  <tbody>\n",
       "    <tr>\n",
       "      <th>0</th>\n",
       "      <td>30</td>\n",
       "      <td>unemployed</td>\n",
       "      <td>married</td>\n",
       "      <td>primary</td>\n",
       "      <td>no</td>\n",
       "      <td>1787</td>\n",
       "      <td>no</td>\n",
       "      <td>no</td>\n",
       "      <td>cellular</td>\n",
       "      <td>19</td>\n",
       "      <td>oct</td>\n",
       "      <td>79</td>\n",
       "      <td>1</td>\n",
       "      <td>-1</td>\n",
       "      <td>0</td>\n",
       "      <td>unknown</td>\n",
       "      <td>no</td>\n",
       "    </tr>\n",
       "    <tr>\n",
       "      <th>1</th>\n",
       "      <td>33</td>\n",
       "      <td>services</td>\n",
       "      <td>married</td>\n",
       "      <td>secondary</td>\n",
       "      <td>no</td>\n",
       "      <td>4789</td>\n",
       "      <td>yes</td>\n",
       "      <td>yes</td>\n",
       "      <td>cellular</td>\n",
       "      <td>11</td>\n",
       "      <td>may</td>\n",
       "      <td>220</td>\n",
       "      <td>1</td>\n",
       "      <td>339</td>\n",
       "      <td>4</td>\n",
       "      <td>failure</td>\n",
       "      <td>no</td>\n",
       "    </tr>\n",
       "    <tr>\n",
       "      <th>2</th>\n",
       "      <td>35</td>\n",
       "      <td>management</td>\n",
       "      <td>single</td>\n",
       "      <td>tertiary</td>\n",
       "      <td>no</td>\n",
       "      <td>1350</td>\n",
       "      <td>yes</td>\n",
       "      <td>no</td>\n",
       "      <td>cellular</td>\n",
       "      <td>16</td>\n",
       "      <td>apr</td>\n",
       "      <td>185</td>\n",
       "      <td>1</td>\n",
       "      <td>330</td>\n",
       "      <td>1</td>\n",
       "      <td>failure</td>\n",
       "      <td>no</td>\n",
       "    </tr>\n",
       "    <tr>\n",
       "      <th>3</th>\n",
       "      <td>30</td>\n",
       "      <td>management</td>\n",
       "      <td>married</td>\n",
       "      <td>tertiary</td>\n",
       "      <td>no</td>\n",
       "      <td>1476</td>\n",
       "      <td>yes</td>\n",
       "      <td>yes</td>\n",
       "      <td>unknown</td>\n",
       "      <td>3</td>\n",
       "      <td>jun</td>\n",
       "      <td>199</td>\n",
       "      <td>4</td>\n",
       "      <td>-1</td>\n",
       "      <td>0</td>\n",
       "      <td>unknown</td>\n",
       "      <td>no</td>\n",
       "    </tr>\n",
       "    <tr>\n",
       "      <th>4</th>\n",
       "      <td>59</td>\n",
       "      <td>blue-collar</td>\n",
       "      <td>married</td>\n",
       "      <td>secondary</td>\n",
       "      <td>no</td>\n",
       "      <td>0</td>\n",
       "      <td>yes</td>\n",
       "      <td>no</td>\n",
       "      <td>unknown</td>\n",
       "      <td>5</td>\n",
       "      <td>may</td>\n",
       "      <td>226</td>\n",
       "      <td>1</td>\n",
       "      <td>-1</td>\n",
       "      <td>0</td>\n",
       "      <td>unknown</td>\n",
       "      <td>no</td>\n",
       "    </tr>\n",
       "    <tr>\n",
       "      <th>...</th>\n",
       "      <td>...</td>\n",
       "      <td>...</td>\n",
       "      <td>...</td>\n",
       "      <td>...</td>\n",
       "      <td>...</td>\n",
       "      <td>...</td>\n",
       "      <td>...</td>\n",
       "      <td>...</td>\n",
       "      <td>...</td>\n",
       "      <td>...</td>\n",
       "      <td>...</td>\n",
       "      <td>...</td>\n",
       "      <td>...</td>\n",
       "      <td>...</td>\n",
       "      <td>...</td>\n",
       "      <td>...</td>\n",
       "      <td>...</td>\n",
       "    </tr>\n",
       "    <tr>\n",
       "      <th>4516</th>\n",
       "      <td>33</td>\n",
       "      <td>services</td>\n",
       "      <td>married</td>\n",
       "      <td>secondary</td>\n",
       "      <td>no</td>\n",
       "      <td>-333</td>\n",
       "      <td>yes</td>\n",
       "      <td>no</td>\n",
       "      <td>cellular</td>\n",
       "      <td>30</td>\n",
       "      <td>jul</td>\n",
       "      <td>329</td>\n",
       "      <td>5</td>\n",
       "      <td>-1</td>\n",
       "      <td>0</td>\n",
       "      <td>unknown</td>\n",
       "      <td>no</td>\n",
       "    </tr>\n",
       "    <tr>\n",
       "      <th>4517</th>\n",
       "      <td>57</td>\n",
       "      <td>self-employed</td>\n",
       "      <td>married</td>\n",
       "      <td>tertiary</td>\n",
       "      <td>yes</td>\n",
       "      <td>-3313</td>\n",
       "      <td>yes</td>\n",
       "      <td>yes</td>\n",
       "      <td>unknown</td>\n",
       "      <td>9</td>\n",
       "      <td>may</td>\n",
       "      <td>153</td>\n",
       "      <td>1</td>\n",
       "      <td>-1</td>\n",
       "      <td>0</td>\n",
       "      <td>unknown</td>\n",
       "      <td>no</td>\n",
       "    </tr>\n",
       "    <tr>\n",
       "      <th>4518</th>\n",
       "      <td>57</td>\n",
       "      <td>technician</td>\n",
       "      <td>married</td>\n",
       "      <td>secondary</td>\n",
       "      <td>no</td>\n",
       "      <td>295</td>\n",
       "      <td>no</td>\n",
       "      <td>no</td>\n",
       "      <td>cellular</td>\n",
       "      <td>19</td>\n",
       "      <td>aug</td>\n",
       "      <td>151</td>\n",
       "      <td>11</td>\n",
       "      <td>-1</td>\n",
       "      <td>0</td>\n",
       "      <td>unknown</td>\n",
       "      <td>no</td>\n",
       "    </tr>\n",
       "    <tr>\n",
       "      <th>4519</th>\n",
       "      <td>28</td>\n",
       "      <td>blue-collar</td>\n",
       "      <td>married</td>\n",
       "      <td>secondary</td>\n",
       "      <td>no</td>\n",
       "      <td>1137</td>\n",
       "      <td>no</td>\n",
       "      <td>no</td>\n",
       "      <td>cellular</td>\n",
       "      <td>6</td>\n",
       "      <td>feb</td>\n",
       "      <td>129</td>\n",
       "      <td>4</td>\n",
       "      <td>211</td>\n",
       "      <td>3</td>\n",
       "      <td>other</td>\n",
       "      <td>no</td>\n",
       "    </tr>\n",
       "    <tr>\n",
       "      <th>4520</th>\n",
       "      <td>44</td>\n",
       "      <td>entrepreneur</td>\n",
       "      <td>single</td>\n",
       "      <td>tertiary</td>\n",
       "      <td>no</td>\n",
       "      <td>1136</td>\n",
       "      <td>yes</td>\n",
       "      <td>yes</td>\n",
       "      <td>cellular</td>\n",
       "      <td>3</td>\n",
       "      <td>apr</td>\n",
       "      <td>345</td>\n",
       "      <td>2</td>\n",
       "      <td>249</td>\n",
       "      <td>7</td>\n",
       "      <td>other</td>\n",
       "      <td>no</td>\n",
       "    </tr>\n",
       "  </tbody>\n",
       "</table>\n",
       "<p>4521 rows × 17 columns</p>\n",
       "</div>"
      ],
      "text/plain": [
       "      age            job  marital  education default  balance housing loan  \\\n",
       "0      30     unemployed  married    primary      no     1787      no   no   \n",
       "1      33       services  married  secondary      no     4789     yes  yes   \n",
       "2      35     management   single   tertiary      no     1350     yes   no   \n",
       "3      30     management  married   tertiary      no     1476     yes  yes   \n",
       "4      59    blue-collar  married  secondary      no        0     yes   no   \n",
       "...   ...            ...      ...        ...     ...      ...     ...  ...   \n",
       "4516   33       services  married  secondary      no     -333     yes   no   \n",
       "4517   57  self-employed  married   tertiary     yes    -3313     yes  yes   \n",
       "4518   57     technician  married  secondary      no      295      no   no   \n",
       "4519   28    blue-collar  married  secondary      no     1137      no   no   \n",
       "4520   44   entrepreneur   single   tertiary      no     1136     yes  yes   \n",
       "\n",
       "       contact  day month  duration  campaign  pdays  previous poutcome   y  \n",
       "0     cellular   19   oct        79         1     -1         0  unknown  no  \n",
       "1     cellular   11   may       220         1    339         4  failure  no  \n",
       "2     cellular   16   apr       185         1    330         1  failure  no  \n",
       "3      unknown    3   jun       199         4     -1         0  unknown  no  \n",
       "4      unknown    5   may       226         1     -1         0  unknown  no  \n",
       "...        ...  ...   ...       ...       ...    ...       ...      ...  ..  \n",
       "4516  cellular   30   jul       329         5     -1         0  unknown  no  \n",
       "4517   unknown    9   may       153         1     -1         0  unknown  no  \n",
       "4518  cellular   19   aug       151        11     -1         0  unknown  no  \n",
       "4519  cellular    6   feb       129         4    211         3    other  no  \n",
       "4520  cellular    3   apr       345         2    249         7    other  no  \n",
       "\n",
       "[4521 rows x 17 columns]"
      ]
     },
     "execution_count": 3,
     "metadata": {},
     "output_type": "execute_result"
    }
   ],
   "source": [
    "bank_set"
   ]
  },
  {
   "cell_type": "code",
   "execution_count": 12,
   "metadata": {},
   "outputs": [],
   "source": [
    "bank_set['job'].replace({'unemployed':1},inplace=True)"
   ]
  },
  {
   "cell_type": "markdown",
   "metadata": {},
   "source": [
    "The bank data has 4521 samples and 17 values."
   ]
  },
  {
   "cell_type": "markdown",
   "metadata": {},
   "source": [
    "### 2. CONVERTING NON-NUMERIC VALUES "
   ]
  },
  {
   "cell_type": "markdown",
   "metadata": {},
   "source": [
    "In this part, we will convert any non-numeric values into the numeric values. For doing this, first, I would find which values are non numeric and I will convert by manually."
   ]
  },
  {
   "cell_type": "code",
   "execution_count": 13,
   "metadata": {},
   "outputs": [
    {
     "name": "stdout",
     "output_type": "stream",
     "text": [
      "<class 'pandas.core.frame.DataFrame'>\n",
      "RangeIndex: 4521 entries, 0 to 4520\n",
      "Data columns (total 17 columns):\n",
      " #   Column     Non-Null Count  Dtype \n",
      "---  ------     --------------  ----- \n",
      " 0   age        4521 non-null   int64 \n",
      " 1   job        4521 non-null   object\n",
      " 2   marital    4521 non-null   object\n",
      " 3   education  4521 non-null   object\n",
      " 4   default    4521 non-null   object\n",
      " 5   balance    4521 non-null   int64 \n",
      " 6   housing    4521 non-null   object\n",
      " 7   loan       4521 non-null   object\n",
      " 8   contact    4521 non-null   object\n",
      " 9   day        4521 non-null   int64 \n",
      " 10  month      4521 non-null   object\n",
      " 11  duration   4521 non-null   int64 \n",
      " 12  campaign   4521 non-null   int64 \n",
      " 13  pdays      4521 non-null   int64 \n",
      " 14  previous   4521 non-null   int64 \n",
      " 15  poutcome   4521 non-null   object\n",
      " 16  y          4521 non-null   object\n",
      "dtypes: int64(7), object(10)\n",
      "memory usage: 600.6+ KB\n"
     ]
    }
   ],
   "source": [
    "bank_set.info()"
   ]
  },
  {
   "cell_type": "markdown",
   "metadata": {},
   "source": [
    "According to the info, job ,marital, education,default,housing,loan,contact,month,poutcome and y vlaues are object. "
   ]
  },
  {
   "cell_type": "markdown",
   "metadata": {},
   "source": [
    "#### 2.1 Converting the 'job' Column"
   ]
  },
  {
   "cell_type": "code",
   "execution_count": 14,
   "metadata": {},
   "outputs": [
    {
     "data": {
      "text/plain": [
       "{1,\n",
       " 'admin.',\n",
       " 'blue-collar',\n",
       " 'entrepreneur',\n",
       " 'housemaid',\n",
       " 'management',\n",
       " 'retired',\n",
       " 'self-employed',\n",
       " 'services',\n",
       " 'student',\n",
       " 'technician',\n",
       " 'unknown'}"
      ]
     },
     "execution_count": 14,
     "metadata": {},
     "output_type": "execute_result"
    }
   ],
   "source": [
    "set(list(bank_set['job']))"
   ]
  },
  {
   "cell_type": "code",
   "execution_count": 15,
   "metadata": {},
   "outputs": [],
   "source": [
    "bank_set['job'].replace({'admin.':0, 'blue-collar':1  , 'entrepreneur':2, \n",
    "                        'housemaid':3, 'management':4, 'retired':5 ,'self-employed':6\n",
    "                       ,'services':7, 'services':8 , 'student':9 , 'technician':10\n",
    "                       , 'unemployed':11, 'unknown':12}, inplace = True)"
   ]
  },
  {
   "cell_type": "markdown",
   "metadata": {},
   "source": [
    "#### 2.2 Converting the 'marital' Columns"
   ]
  },
  {
   "cell_type": "code",
   "execution_count": 16,
   "metadata": {},
   "outputs": [
    {
     "data": {
      "text/plain": [
       "{'divorced', 'married', 'single'}"
      ]
     },
     "execution_count": 16,
     "metadata": {},
     "output_type": "execute_result"
    }
   ],
   "source": [
    "set(list(bank_set['marital']))"
   ]
  },
  {
   "cell_type": "code",
   "execution_count": 17,
   "metadata": {},
   "outputs": [],
   "source": [
    "bank_set['marital'].replace({'divorced':0 , 'married':1,'single':2}, inplace=True)"
   ]
  },
  {
   "cell_type": "markdown",
   "metadata": {},
   "source": [
    "#### 2.3 Converting the 'education' Columns"
   ]
  },
  {
   "cell_type": "code",
   "execution_count": 18,
   "metadata": {},
   "outputs": [
    {
     "data": {
      "text/plain": [
       "{'primary', 'secondary', 'tertiary', 'unknown'}"
      ]
     },
     "execution_count": 18,
     "metadata": {},
     "output_type": "execute_result"
    }
   ],
   "source": [
    "set(list(bank_set['education']))"
   ]
  },
  {
   "cell_type": "code",
   "execution_count": 19,
   "metadata": {},
   "outputs": [],
   "source": [
    "bank_set['education'].replace({'primary':0, 'secondary':1 , 'tertiary':2 , 'unknown':3}, inplace=True)"
   ]
  },
  {
   "cell_type": "markdown",
   "metadata": {},
   "source": [
    "#### 2.4 Converting the 'default' Column"
   ]
  },
  {
   "cell_type": "code",
   "execution_count": 20,
   "metadata": {},
   "outputs": [
    {
     "data": {
      "text/plain": [
       "{'no', 'yes'}"
      ]
     },
     "execution_count": 20,
     "metadata": {},
     "output_type": "execute_result"
    }
   ],
   "source": [
    "set(list(bank_set['default']))"
   ]
  },
  {
   "cell_type": "code",
   "execution_count": 21,
   "metadata": {},
   "outputs": [],
   "source": [
    "bank_set['default'].replace({'no':0 , 'yes':1}, inplace = True)"
   ]
  },
  {
   "cell_type": "markdown",
   "metadata": {},
   "source": [
    "#### 2.5 Converting the 'Housing'   Column "
   ]
  },
  {
   "cell_type": "code",
   "execution_count": 22,
   "metadata": {},
   "outputs": [
    {
     "data": {
      "text/plain": [
       "{'no', 'yes'}"
      ]
     },
     "execution_count": 22,
     "metadata": {},
     "output_type": "execute_result"
    }
   ],
   "source": [
    "set(list(bank_set['housing']))"
   ]
  },
  {
   "cell_type": "code",
   "execution_count": 23,
   "metadata": {},
   "outputs": [],
   "source": [
    "bank_set['housing'].replace({'no':0 , 'yes':1}, inplace = True)"
   ]
  },
  {
   "cell_type": "markdown",
   "metadata": {},
   "source": [
    "#### 2.6 Converting the 'loan' Column"
   ]
  },
  {
   "cell_type": "code",
   "execution_count": 24,
   "metadata": {},
   "outputs": [
    {
     "data": {
      "text/plain": [
       "{'no', 'yes'}"
      ]
     },
     "execution_count": 24,
     "metadata": {},
     "output_type": "execute_result"
    }
   ],
   "source": [
    "set(list(bank_set['loan']))"
   ]
  },
  {
   "cell_type": "code",
   "execution_count": 25,
   "metadata": {},
   "outputs": [],
   "source": [
    "bank_set['loan'].replace({'no':0 , 'yes':1}, inplace = True)"
   ]
  },
  {
   "cell_type": "markdown",
   "metadata": {},
   "source": [
    "#### 2.7 Converting the 'Contact' Column"
   ]
  },
  {
   "cell_type": "code",
   "execution_count": 26,
   "metadata": {},
   "outputs": [
    {
     "data": {
      "text/plain": [
       "{'cellular', 'telephone', 'unknown'}"
      ]
     },
     "execution_count": 26,
     "metadata": {},
     "output_type": "execute_result"
    }
   ],
   "source": [
    "set(list(bank_set['contact']))"
   ]
  },
  {
   "cell_type": "code",
   "execution_count": 27,
   "metadata": {},
   "outputs": [],
   "source": [
    "bank_set['contact'].replace({'cellular':0, 'telephone':1 , 'unknown':2}, inplace=True)"
   ]
  },
  {
   "cell_type": "markdown",
   "metadata": {},
   "source": [
    "#### 2.8 Converting the 'month' Column"
   ]
  },
  {
   "cell_type": "code",
   "execution_count": 28,
   "metadata": {},
   "outputs": [
    {
     "data": {
      "text/plain": [
       "{'apr',\n",
       " 'aug',\n",
       " 'dec',\n",
       " 'feb',\n",
       " 'jan',\n",
       " 'jul',\n",
       " 'jun',\n",
       " 'mar',\n",
       " 'may',\n",
       " 'nov',\n",
       " 'oct',\n",
       " 'sep'}"
      ]
     },
     "execution_count": 28,
     "metadata": {},
     "output_type": "execute_result"
    }
   ],
   "source": [
    "set(list(bank_set['month']))"
   ]
  },
  {
   "cell_type": "code",
   "execution_count": 29,
   "metadata": {},
   "outputs": [],
   "source": [
    "bank_set['month'].replace({'jan':0 , 'feb':1 , 'mar':2 , 'apr':3 , 'may':4,\n",
    "                           'jun':5 , 'jul':6 , 'aug':7 , 'sep':8 , 'oct':9,\n",
    "                           'nov':10, 'dec':11}, inplace = True)"
   ]
  },
  {
   "cell_type": "markdown",
   "metadata": {},
   "source": [
    "#### 2.9 Converting 'poutcom' Column"
   ]
  },
  {
   "cell_type": "code",
   "execution_count": 30,
   "metadata": {},
   "outputs": [
    {
     "data": {
      "text/plain": [
       "{'failure', 'other', 'success', 'unknown'}"
      ]
     },
     "execution_count": 30,
     "metadata": {},
     "output_type": "execute_result"
    }
   ],
   "source": [
    "set(list(bank_set['poutcome']))"
   ]
  },
  {
   "cell_type": "code",
   "execution_count": 31,
   "metadata": {},
   "outputs": [],
   "source": [
    "bank_set['poutcome'].replace({'failure':0 , 'other':1 , 'success':2 , 'unknown':3}, inplace=True)"
   ]
  },
  {
   "cell_type": "markdown",
   "metadata": {},
   "source": [
    "#### 2.10 Converting 'y' Column"
   ]
  },
  {
   "cell_type": "code",
   "execution_count": 32,
   "metadata": {},
   "outputs": [
    {
     "data": {
      "text/plain": [
       "{'no', 'yes'}"
      ]
     },
     "execution_count": 32,
     "metadata": {},
     "output_type": "execute_result"
    }
   ],
   "source": [
    "set(list(bank_set['y']))"
   ]
  },
  {
   "cell_type": "code",
   "execution_count": 33,
   "metadata": {},
   "outputs": [],
   "source": [
    "bank_set['y'].replace({'no':0 , 'yes':1}, inplace = True)"
   ]
  },
  {
   "cell_type": "markdown",
   "metadata": {},
   "source": [
    "#### 2.11 Final Data Set"
   ]
  },
  {
   "cell_type": "code",
   "execution_count": 34,
   "metadata": {},
   "outputs": [
    {
     "name": "stdout",
     "output_type": "stream",
     "text": [
      "<class 'pandas.core.frame.DataFrame'>\n",
      "RangeIndex: 4521 entries, 0 to 4520\n",
      "Data columns (total 17 columns):\n",
      " #   Column     Non-Null Count  Dtype\n",
      "---  ------     --------------  -----\n",
      " 0   age        4521 non-null   int64\n",
      " 1   job        4521 non-null   int64\n",
      " 2   marital    4521 non-null   int64\n",
      " 3   education  4521 non-null   int64\n",
      " 4   default    4521 non-null   int64\n",
      " 5   balance    4521 non-null   int64\n",
      " 6   housing    4521 non-null   int64\n",
      " 7   loan       4521 non-null   int64\n",
      " 8   contact    4521 non-null   int64\n",
      " 9   day        4521 non-null   int64\n",
      " 10  month      4521 non-null   int64\n",
      " 11  duration   4521 non-null   int64\n",
      " 12  campaign   4521 non-null   int64\n",
      " 13  pdays      4521 non-null   int64\n",
      " 14  previous   4521 non-null   int64\n",
      " 15  poutcome   4521 non-null   int64\n",
      " 16  y          4521 non-null   int64\n",
      "dtypes: int64(17)\n",
      "memory usage: 600.6 KB\n"
     ]
    }
   ],
   "source": [
    "bank_set.info()"
   ]
  },
  {
   "cell_type": "code",
   "execution_count": 35,
   "metadata": {},
   "outputs": [
    {
     "data": {
      "text/html": [
       "<div>\n",
       "<style scoped>\n",
       "    .dataframe tbody tr th:only-of-type {\n",
       "        vertical-align: middle;\n",
       "    }\n",
       "\n",
       "    .dataframe tbody tr th {\n",
       "        vertical-align: top;\n",
       "    }\n",
       "\n",
       "    .dataframe thead th {\n",
       "        text-align: right;\n",
       "    }\n",
       "</style>\n",
       "<table border=\"1\" class=\"dataframe\">\n",
       "  <thead>\n",
       "    <tr style=\"text-align: right;\">\n",
       "      <th></th>\n",
       "      <th>age</th>\n",
       "      <th>job</th>\n",
       "      <th>marital</th>\n",
       "      <th>education</th>\n",
       "      <th>default</th>\n",
       "      <th>balance</th>\n",
       "      <th>housing</th>\n",
       "      <th>loan</th>\n",
       "      <th>contact</th>\n",
       "      <th>day</th>\n",
       "      <th>month</th>\n",
       "      <th>duration</th>\n",
       "      <th>campaign</th>\n",
       "      <th>pdays</th>\n",
       "      <th>previous</th>\n",
       "      <th>poutcome</th>\n",
       "      <th>y</th>\n",
       "    </tr>\n",
       "  </thead>\n",
       "  <tbody>\n",
       "    <tr>\n",
       "      <th>0</th>\n",
       "      <td>30</td>\n",
       "      <td>1</td>\n",
       "      <td>1</td>\n",
       "      <td>0</td>\n",
       "      <td>0</td>\n",
       "      <td>1787</td>\n",
       "      <td>0</td>\n",
       "      <td>0</td>\n",
       "      <td>0</td>\n",
       "      <td>19</td>\n",
       "      <td>9</td>\n",
       "      <td>79</td>\n",
       "      <td>1</td>\n",
       "      <td>-1</td>\n",
       "      <td>0</td>\n",
       "      <td>3</td>\n",
       "      <td>0</td>\n",
       "    </tr>\n",
       "    <tr>\n",
       "      <th>1</th>\n",
       "      <td>33</td>\n",
       "      <td>8</td>\n",
       "      <td>1</td>\n",
       "      <td>1</td>\n",
       "      <td>0</td>\n",
       "      <td>4789</td>\n",
       "      <td>1</td>\n",
       "      <td>1</td>\n",
       "      <td>0</td>\n",
       "      <td>11</td>\n",
       "      <td>4</td>\n",
       "      <td>220</td>\n",
       "      <td>1</td>\n",
       "      <td>339</td>\n",
       "      <td>4</td>\n",
       "      <td>0</td>\n",
       "      <td>0</td>\n",
       "    </tr>\n",
       "    <tr>\n",
       "      <th>2</th>\n",
       "      <td>35</td>\n",
       "      <td>4</td>\n",
       "      <td>2</td>\n",
       "      <td>2</td>\n",
       "      <td>0</td>\n",
       "      <td>1350</td>\n",
       "      <td>1</td>\n",
       "      <td>0</td>\n",
       "      <td>0</td>\n",
       "      <td>16</td>\n",
       "      <td>3</td>\n",
       "      <td>185</td>\n",
       "      <td>1</td>\n",
       "      <td>330</td>\n",
       "      <td>1</td>\n",
       "      <td>0</td>\n",
       "      <td>0</td>\n",
       "    </tr>\n",
       "    <tr>\n",
       "      <th>3</th>\n",
       "      <td>30</td>\n",
       "      <td>4</td>\n",
       "      <td>1</td>\n",
       "      <td>2</td>\n",
       "      <td>0</td>\n",
       "      <td>1476</td>\n",
       "      <td>1</td>\n",
       "      <td>1</td>\n",
       "      <td>2</td>\n",
       "      <td>3</td>\n",
       "      <td>5</td>\n",
       "      <td>199</td>\n",
       "      <td>4</td>\n",
       "      <td>-1</td>\n",
       "      <td>0</td>\n",
       "      <td>3</td>\n",
       "      <td>0</td>\n",
       "    </tr>\n",
       "    <tr>\n",
       "      <th>4</th>\n",
       "      <td>59</td>\n",
       "      <td>1</td>\n",
       "      <td>1</td>\n",
       "      <td>1</td>\n",
       "      <td>0</td>\n",
       "      <td>0</td>\n",
       "      <td>1</td>\n",
       "      <td>0</td>\n",
       "      <td>2</td>\n",
       "      <td>5</td>\n",
       "      <td>4</td>\n",
       "      <td>226</td>\n",
       "      <td>1</td>\n",
       "      <td>-1</td>\n",
       "      <td>0</td>\n",
       "      <td>3</td>\n",
       "      <td>0</td>\n",
       "    </tr>\n",
       "    <tr>\n",
       "      <th>...</th>\n",
       "      <td>...</td>\n",
       "      <td>...</td>\n",
       "      <td>...</td>\n",
       "      <td>...</td>\n",
       "      <td>...</td>\n",
       "      <td>...</td>\n",
       "      <td>...</td>\n",
       "      <td>...</td>\n",
       "      <td>...</td>\n",
       "      <td>...</td>\n",
       "      <td>...</td>\n",
       "      <td>...</td>\n",
       "      <td>...</td>\n",
       "      <td>...</td>\n",
       "      <td>...</td>\n",
       "      <td>...</td>\n",
       "      <td>...</td>\n",
       "    </tr>\n",
       "    <tr>\n",
       "      <th>4516</th>\n",
       "      <td>33</td>\n",
       "      <td>8</td>\n",
       "      <td>1</td>\n",
       "      <td>1</td>\n",
       "      <td>0</td>\n",
       "      <td>-333</td>\n",
       "      <td>1</td>\n",
       "      <td>0</td>\n",
       "      <td>0</td>\n",
       "      <td>30</td>\n",
       "      <td>6</td>\n",
       "      <td>329</td>\n",
       "      <td>5</td>\n",
       "      <td>-1</td>\n",
       "      <td>0</td>\n",
       "      <td>3</td>\n",
       "      <td>0</td>\n",
       "    </tr>\n",
       "    <tr>\n",
       "      <th>4517</th>\n",
       "      <td>57</td>\n",
       "      <td>6</td>\n",
       "      <td>1</td>\n",
       "      <td>2</td>\n",
       "      <td>1</td>\n",
       "      <td>-3313</td>\n",
       "      <td>1</td>\n",
       "      <td>1</td>\n",
       "      <td>2</td>\n",
       "      <td>9</td>\n",
       "      <td>4</td>\n",
       "      <td>153</td>\n",
       "      <td>1</td>\n",
       "      <td>-1</td>\n",
       "      <td>0</td>\n",
       "      <td>3</td>\n",
       "      <td>0</td>\n",
       "    </tr>\n",
       "    <tr>\n",
       "      <th>4518</th>\n",
       "      <td>57</td>\n",
       "      <td>10</td>\n",
       "      <td>1</td>\n",
       "      <td>1</td>\n",
       "      <td>0</td>\n",
       "      <td>295</td>\n",
       "      <td>0</td>\n",
       "      <td>0</td>\n",
       "      <td>0</td>\n",
       "      <td>19</td>\n",
       "      <td>7</td>\n",
       "      <td>151</td>\n",
       "      <td>11</td>\n",
       "      <td>-1</td>\n",
       "      <td>0</td>\n",
       "      <td>3</td>\n",
       "      <td>0</td>\n",
       "    </tr>\n",
       "    <tr>\n",
       "      <th>4519</th>\n",
       "      <td>28</td>\n",
       "      <td>1</td>\n",
       "      <td>1</td>\n",
       "      <td>1</td>\n",
       "      <td>0</td>\n",
       "      <td>1137</td>\n",
       "      <td>0</td>\n",
       "      <td>0</td>\n",
       "      <td>0</td>\n",
       "      <td>6</td>\n",
       "      <td>1</td>\n",
       "      <td>129</td>\n",
       "      <td>4</td>\n",
       "      <td>211</td>\n",
       "      <td>3</td>\n",
       "      <td>1</td>\n",
       "      <td>0</td>\n",
       "    </tr>\n",
       "    <tr>\n",
       "      <th>4520</th>\n",
       "      <td>44</td>\n",
       "      <td>2</td>\n",
       "      <td>2</td>\n",
       "      <td>2</td>\n",
       "      <td>0</td>\n",
       "      <td>1136</td>\n",
       "      <td>1</td>\n",
       "      <td>1</td>\n",
       "      <td>0</td>\n",
       "      <td>3</td>\n",
       "      <td>3</td>\n",
       "      <td>345</td>\n",
       "      <td>2</td>\n",
       "      <td>249</td>\n",
       "      <td>7</td>\n",
       "      <td>1</td>\n",
       "      <td>0</td>\n",
       "    </tr>\n",
       "  </tbody>\n",
       "</table>\n",
       "<p>4521 rows × 17 columns</p>\n",
       "</div>"
      ],
      "text/plain": [
       "      age  job  marital  education  default  balance  housing  loan  contact  \\\n",
       "0      30    1        1          0        0     1787        0     0        0   \n",
       "1      33    8        1          1        0     4789        1     1        0   \n",
       "2      35    4        2          2        0     1350        1     0        0   \n",
       "3      30    4        1          2        0     1476        1     1        2   \n",
       "4      59    1        1          1        0        0        1     0        2   \n",
       "...   ...  ...      ...        ...      ...      ...      ...   ...      ...   \n",
       "4516   33    8        1          1        0     -333        1     0        0   \n",
       "4517   57    6        1          2        1    -3313        1     1        2   \n",
       "4518   57   10        1          1        0      295        0     0        0   \n",
       "4519   28    1        1          1        0     1137        0     0        0   \n",
       "4520   44    2        2          2        0     1136        1     1        0   \n",
       "\n",
       "      day  month  duration  campaign  pdays  previous  poutcome  y  \n",
       "0      19      9        79         1     -1         0         3  0  \n",
       "1      11      4       220         1    339         4         0  0  \n",
       "2      16      3       185         1    330         1         0  0  \n",
       "3       3      5       199         4     -1         0         3  0  \n",
       "4       5      4       226         1     -1         0         3  0  \n",
       "...   ...    ...       ...       ...    ...       ...       ... ..  \n",
       "4516   30      6       329         5     -1         0         3  0  \n",
       "4517    9      4       153         1     -1         0         3  0  \n",
       "4518   19      7       151        11     -1         0         3  0  \n",
       "4519    6      1       129         4    211         3         1  0  \n",
       "4520    3      3       345         2    249         7         1  0  \n",
       "\n",
       "[4521 rows x 17 columns]"
      ]
     },
     "execution_count": 35,
     "metadata": {},
     "output_type": "execute_result"
    }
   ],
   "source": [
    "bank_set"
   ]
  },
  {
   "cell_type": "markdown",
   "metadata": {},
   "source": [
    "### 3. EXISTING OF MISSING VALUES"
   ]
  },
  {
   "cell_type": "markdown",
   "metadata": {},
   "source": [
    "Now, we will use .info() function the know whether data set has NaN values or not."
   ]
  },
  {
   "cell_type": "code",
   "execution_count": 36,
   "metadata": {},
   "outputs": [
    {
     "name": "stdout",
     "output_type": "stream",
     "text": [
      "<class 'pandas.core.frame.DataFrame'>\n",
      "RangeIndex: 4521 entries, 0 to 4520\n",
      "Data columns (total 17 columns):\n",
      " #   Column     Non-Null Count  Dtype\n",
      "---  ------     --------------  -----\n",
      " 0   age        4521 non-null   int64\n",
      " 1   job        4521 non-null   int64\n",
      " 2   marital    4521 non-null   int64\n",
      " 3   education  4521 non-null   int64\n",
      " 4   default    4521 non-null   int64\n",
      " 5   balance    4521 non-null   int64\n",
      " 6   housing    4521 non-null   int64\n",
      " 7   loan       4521 non-null   int64\n",
      " 8   contact    4521 non-null   int64\n",
      " 9   day        4521 non-null   int64\n",
      " 10  month      4521 non-null   int64\n",
      " 11  duration   4521 non-null   int64\n",
      " 12  campaign   4521 non-null   int64\n",
      " 13  pdays      4521 non-null   int64\n",
      " 14  previous   4521 non-null   int64\n",
      " 15  poutcome   4521 non-null   int64\n",
      " 16  y          4521 non-null   int64\n",
      "dtypes: int64(17)\n",
      "memory usage: 600.6 KB\n"
     ]
    }
   ],
   "source": [
    "bank_set.info()"
   ]
  },
  {
   "cell_type": "markdown",
   "metadata": {},
   "source": [
    "According to the info, there is no any NaN values in the data. For this reason, no need to drop any columns."
   ]
  },
  {
   "cell_type": "markdown",
   "metadata": {},
   "source": [
    "### 4. NORMALIZING THE DATA"
   ]
  },
  {
   "cell_type": "markdown",
   "metadata": {},
   "source": [
    "####  4. 1 Mean and Standard Deviation of The Data"
   ]
  },
  {
   "cell_type": "code",
   "execution_count": 37,
   "metadata": {},
   "outputs": [],
   "source": [
    "mu = np.array(bank_set).mean()"
   ]
  },
  {
   "cell_type": "code",
   "execution_count": 38,
   "metadata": {},
   "outputs": [],
   "source": [
    "sigma = np.std(np.array(bank_set))"
   ]
  },
  {
   "cell_type": "code",
   "execution_count": 39,
   "metadata": {},
   "outputs": [
    {
     "name": "stdout",
     "output_type": "stream",
     "text": [
      "Mean of The Data = 106.05065251050652\n",
      "Standart Deviation of The Data = 805.8497617924002\n"
     ]
    }
   ],
   "source": [
    "print('Mean of The Data =', mu)\n",
    "print('Standart Deviation of The Data =', sigma)"
   ]
  },
  {
   "cell_type": "markdown",
   "metadata": {},
   "source": [
    "####  4.2 Normalize The Data"
   ]
  },
  {
   "cell_type": "code",
   "execution_count": 40,
   "metadata": {},
   "outputs": [],
   "source": [
    "dimension_one = int(bank_set.shape[0])\n",
    "dimension_two = int(bank_set.shape[1])\n",
    "bank_set_matrix = np.array(bank_set, dtype='f')\n",
    "for i in range(0,dimension_one):\n",
    "    for j in range(0,dimension_two):\n",
    "        bank_set_matrix[i][j]=(bank_set_matrix[i][j]-mu)/sigma\n",
    "        "
   ]
  },
  {
   "cell_type": "code",
   "execution_count": 41,
   "metadata": {},
   "outputs": [],
   "source": [
    "a = (np.array(bank_set)[0][0]-mu)/sigma"
   ]
  },
  {
   "cell_type": "code",
   "execution_count": 42,
   "metadata": {},
   "outputs": [],
   "source": [
    "bank_set_normalized= pd.DataFrame(bank_set_matrix)"
   ]
  },
  {
   "cell_type": "markdown",
   "metadata": {},
   "source": [
    "### 5. CREATING TRAIN and TEST SET"
   ]
  },
  {
   "cell_type": "markdown",
   "metadata": {},
   "source": [
    "#### 5.1 Defining a Function to Create Train and Test Set"
   ]
  },
  {
   "cell_type": "code",
   "execution_count": 35,
   "metadata": {},
   "outputs": [],
   "source": [
    "def train_test_set(data,train_ratio):\n",
    "    train_set =[]\n",
    "    test_set=[]\n",
    "    all_number_of_samples=int(data.shape[0])\n",
    "    train_number_of_samples = math.floor(all_number_of_samples*train_ratio)\n",
    "    places_of_train_samples =random.sample(range(0,all_number_of_samples),train_number_of_samples)\n",
    "    for i in range(0,all_number_of_samples):\n",
    "        if i in places_of_train_samples:\n",
    "            train_set.append(data.iloc[i])\n",
    "        else:\n",
    "            test_set.append(data.iloc[i])\n",
    "    return train_set,test_set\n",
    "        \n",
    "    "
   ]
  },
  {
   "cell_type": "markdown",
   "metadata": {},
   "source": [
    "#### 5.2 Train and Test Sets"
   ]
  },
  {
   "cell_type": "code",
   "execution_count": 36,
   "metadata": {},
   "outputs": [],
   "source": [
    "train_set_bank , test_set_bank = train_test_set(bank_set_normalized,0.8)"
   ]
  },
  {
   "cell_type": "code",
   "execution_count": 37,
   "metadata": {},
   "outputs": [
    {
     "data": {
      "text/html": [
       "<div>\n",
       "<style scoped>\n",
       "    .dataframe tbody tr th:only-of-type {\n",
       "        vertical-align: middle;\n",
       "    }\n",
       "\n",
       "    .dataframe tbody tr th {\n",
       "        vertical-align: top;\n",
       "    }\n",
       "\n",
       "    .dataframe thead th {\n",
       "        text-align: right;\n",
       "    }\n",
       "</style>\n",
       "<table border=\"1\" class=\"dataframe\">\n",
       "  <thead>\n",
       "    <tr style=\"text-align: right;\">\n",
       "      <th></th>\n",
       "      <th>0</th>\n",
       "      <th>1</th>\n",
       "      <th>2</th>\n",
       "      <th>3</th>\n",
       "      <th>4</th>\n",
       "      <th>5</th>\n",
       "      <th>6</th>\n",
       "      <th>7</th>\n",
       "      <th>8</th>\n",
       "      <th>9</th>\n",
       "      <th>10</th>\n",
       "      <th>11</th>\n",
       "      <th>12</th>\n",
       "      <th>13</th>\n",
       "      <th>14</th>\n",
       "      <th>15</th>\n",
       "      <th>16</th>\n",
       "    </tr>\n",
       "  </thead>\n",
       "  <tbody>\n",
       "    <tr>\n",
       "      <th>0</th>\n",
       "      <td>-0.094373</td>\n",
       "      <td>-0.130360</td>\n",
       "      <td>-0.130360</td>\n",
       "      <td>-0.131601</td>\n",
       "      <td>-0.131601</td>\n",
       "      <td>2.085934</td>\n",
       "      <td>-0.131601</td>\n",
       "      <td>-0.131601</td>\n",
       "      <td>-0.131601</td>\n",
       "      <td>-0.108023</td>\n",
       "      <td>-0.120433</td>\n",
       "      <td>-0.033568</td>\n",
       "      <td>-0.130360</td>\n",
       "      <td>-0.132842</td>\n",
       "      <td>-0.131601</td>\n",
       "      <td>-0.127878</td>\n",
       "      <td>-0.131601</td>\n",
       "    </tr>\n",
       "    <tr>\n",
       "      <th>1</th>\n",
       "      <td>-0.090650</td>\n",
       "      <td>-0.121674</td>\n",
       "      <td>-0.130360</td>\n",
       "      <td>-0.130360</td>\n",
       "      <td>-0.131601</td>\n",
       "      <td>5.811194</td>\n",
       "      <td>-0.130360</td>\n",
       "      <td>-0.130360</td>\n",
       "      <td>-0.131601</td>\n",
       "      <td>-0.117951</td>\n",
       "      <td>-0.126637</td>\n",
       "      <td>0.141403</td>\n",
       "      <td>-0.130360</td>\n",
       "      <td>0.289073</td>\n",
       "      <td>-0.126637</td>\n",
       "      <td>-0.131601</td>\n",
       "      <td>-0.131601</td>\n",
       "    </tr>\n",
       "    <tr>\n",
       "      <th>2</th>\n",
       "      <td>-0.088169</td>\n",
       "      <td>-0.126637</td>\n",
       "      <td>-0.129119</td>\n",
       "      <td>-0.129119</td>\n",
       "      <td>-0.131601</td>\n",
       "      <td>1.543649</td>\n",
       "      <td>-0.130360</td>\n",
       "      <td>-0.131601</td>\n",
       "      <td>-0.131601</td>\n",
       "      <td>-0.111746</td>\n",
       "      <td>-0.127878</td>\n",
       "      <td>0.097970</td>\n",
       "      <td>-0.130360</td>\n",
       "      <td>0.277905</td>\n",
       "      <td>-0.130360</td>\n",
       "      <td>-0.131601</td>\n",
       "      <td>-0.131601</td>\n",
       "    </tr>\n",
       "    <tr>\n",
       "      <th>3</th>\n",
       "      <td>-0.094373</td>\n",
       "      <td>-0.126637</td>\n",
       "      <td>-0.130360</td>\n",
       "      <td>-0.129119</td>\n",
       "      <td>-0.131601</td>\n",
       "      <td>1.700006</td>\n",
       "      <td>-0.130360</td>\n",
       "      <td>-0.130360</td>\n",
       "      <td>-0.129119</td>\n",
       "      <td>-0.127878</td>\n",
       "      <td>-0.125396</td>\n",
       "      <td>0.115343</td>\n",
       "      <td>-0.126637</td>\n",
       "      <td>-0.132842</td>\n",
       "      <td>-0.131601</td>\n",
       "      <td>-0.127878</td>\n",
       "      <td>-0.131601</td>\n",
       "    </tr>\n",
       "    <tr>\n",
       "      <th>4</th>\n",
       "      <td>-0.058386</td>\n",
       "      <td>-0.130360</td>\n",
       "      <td>-0.130360</td>\n",
       "      <td>-0.130360</td>\n",
       "      <td>-0.131601</td>\n",
       "      <td>-0.131601</td>\n",
       "      <td>-0.130360</td>\n",
       "      <td>-0.131601</td>\n",
       "      <td>-0.129119</td>\n",
       "      <td>-0.125396</td>\n",
       "      <td>-0.126637</td>\n",
       "      <td>0.148848</td>\n",
       "      <td>-0.130360</td>\n",
       "      <td>-0.132842</td>\n",
       "      <td>-0.131601</td>\n",
       "      <td>-0.127878</td>\n",
       "      <td>-0.131601</td>\n",
       "    </tr>\n",
       "    <tr>\n",
       "      <th>...</th>\n",
       "      <td>...</td>\n",
       "      <td>...</td>\n",
       "      <td>...</td>\n",
       "      <td>...</td>\n",
       "      <td>...</td>\n",
       "      <td>...</td>\n",
       "      <td>...</td>\n",
       "      <td>...</td>\n",
       "      <td>...</td>\n",
       "      <td>...</td>\n",
       "      <td>...</td>\n",
       "      <td>...</td>\n",
       "      <td>...</td>\n",
       "      <td>...</td>\n",
       "      <td>...</td>\n",
       "      <td>...</td>\n",
       "      <td>...</td>\n",
       "    </tr>\n",
       "    <tr>\n",
       "      <th>4515</th>\n",
       "      <td>-0.091891</td>\n",
       "      <td>-0.121674</td>\n",
       "      <td>-0.129119</td>\n",
       "      <td>-0.130360</td>\n",
       "      <td>-0.131601</td>\n",
       "      <td>0.455357</td>\n",
       "      <td>-0.130360</td>\n",
       "      <td>-0.131601</td>\n",
       "      <td>-0.131601</td>\n",
       "      <td>-0.122915</td>\n",
       "      <td>-0.124155</td>\n",
       "      <td>0.642737</td>\n",
       "      <td>-0.125396</td>\n",
       "      <td>-0.132842</td>\n",
       "      <td>-0.131601</td>\n",
       "      <td>-0.127878</td>\n",
       "      <td>-0.131601</td>\n",
       "    </tr>\n",
       "    <tr>\n",
       "      <th>4516</th>\n",
       "      <td>-0.090650</td>\n",
       "      <td>-0.121674</td>\n",
       "      <td>-0.130360</td>\n",
       "      <td>-0.130360</td>\n",
       "      <td>-0.131601</td>\n",
       "      <td>-0.544829</td>\n",
       "      <td>-0.130360</td>\n",
       "      <td>-0.131601</td>\n",
       "      <td>-0.131601</td>\n",
       "      <td>-0.094373</td>\n",
       "      <td>-0.124155</td>\n",
       "      <td>0.276664</td>\n",
       "      <td>-0.125396</td>\n",
       "      <td>-0.132842</td>\n",
       "      <td>-0.131601</td>\n",
       "      <td>-0.127878</td>\n",
       "      <td>-0.131601</td>\n",
       "    </tr>\n",
       "    <tr>\n",
       "      <th>4518</th>\n",
       "      <td>-0.060868</td>\n",
       "      <td>-0.119192</td>\n",
       "      <td>-0.130360</td>\n",
       "      <td>-0.130360</td>\n",
       "      <td>-0.131601</td>\n",
       "      <td>0.234472</td>\n",
       "      <td>-0.131601</td>\n",
       "      <td>-0.131601</td>\n",
       "      <td>-0.131601</td>\n",
       "      <td>-0.108023</td>\n",
       "      <td>-0.122915</td>\n",
       "      <td>0.055779</td>\n",
       "      <td>-0.117951</td>\n",
       "      <td>-0.132842</td>\n",
       "      <td>-0.131601</td>\n",
       "      <td>-0.127878</td>\n",
       "      <td>-0.131601</td>\n",
       "    </tr>\n",
       "    <tr>\n",
       "      <th>4519</th>\n",
       "      <td>-0.096855</td>\n",
       "      <td>-0.130360</td>\n",
       "      <td>-0.130360</td>\n",
       "      <td>-0.130360</td>\n",
       "      <td>-0.131601</td>\n",
       "      <td>1.279332</td>\n",
       "      <td>-0.131601</td>\n",
       "      <td>-0.131601</td>\n",
       "      <td>-0.131601</td>\n",
       "      <td>-0.124155</td>\n",
       "      <td>-0.130360</td>\n",
       "      <td>0.028478</td>\n",
       "      <td>-0.126637</td>\n",
       "      <td>0.130234</td>\n",
       "      <td>-0.127878</td>\n",
       "      <td>-0.130360</td>\n",
       "      <td>-0.131601</td>\n",
       "    </tr>\n",
       "    <tr>\n",
       "      <th>4520</th>\n",
       "      <td>-0.077000</td>\n",
       "      <td>-0.129119</td>\n",
       "      <td>-0.129119</td>\n",
       "      <td>-0.129119</td>\n",
       "      <td>-0.131601</td>\n",
       "      <td>1.278091</td>\n",
       "      <td>-0.130360</td>\n",
       "      <td>-0.130360</td>\n",
       "      <td>-0.131601</td>\n",
       "      <td>-0.127878</td>\n",
       "      <td>-0.127878</td>\n",
       "      <td>0.296518</td>\n",
       "      <td>-0.129119</td>\n",
       "      <td>0.177390</td>\n",
       "      <td>-0.122915</td>\n",
       "      <td>-0.130360</td>\n",
       "      <td>-0.131601</td>\n",
       "    </tr>\n",
       "  </tbody>\n",
       "</table>\n",
       "<p>3616 rows × 17 columns</p>\n",
       "</div>"
      ],
      "text/plain": [
       "             0         1         2         3         4         5         6  \\\n",
       "0    -0.094373 -0.130360 -0.130360 -0.131601 -0.131601  2.085934 -0.131601   \n",
       "1    -0.090650 -0.121674 -0.130360 -0.130360 -0.131601  5.811194 -0.130360   \n",
       "2    -0.088169 -0.126637 -0.129119 -0.129119 -0.131601  1.543649 -0.130360   \n",
       "3    -0.094373 -0.126637 -0.130360 -0.129119 -0.131601  1.700006 -0.130360   \n",
       "4    -0.058386 -0.130360 -0.130360 -0.130360 -0.131601 -0.131601 -0.130360   \n",
       "...        ...       ...       ...       ...       ...       ...       ...   \n",
       "4515 -0.091891 -0.121674 -0.129119 -0.130360 -0.131601  0.455357 -0.130360   \n",
       "4516 -0.090650 -0.121674 -0.130360 -0.130360 -0.131601 -0.544829 -0.130360   \n",
       "4518 -0.060868 -0.119192 -0.130360 -0.130360 -0.131601  0.234472 -0.131601   \n",
       "4519 -0.096855 -0.130360 -0.130360 -0.130360 -0.131601  1.279332 -0.131601   \n",
       "4520 -0.077000 -0.129119 -0.129119 -0.129119 -0.131601  1.278091 -0.130360   \n",
       "\n",
       "             7         8         9        10        11        12        13  \\\n",
       "0    -0.131601 -0.131601 -0.108023 -0.120433 -0.033568 -0.130360 -0.132842   \n",
       "1    -0.130360 -0.131601 -0.117951 -0.126637  0.141403 -0.130360  0.289073   \n",
       "2    -0.131601 -0.131601 -0.111746 -0.127878  0.097970 -0.130360  0.277905   \n",
       "3    -0.130360 -0.129119 -0.127878 -0.125396  0.115343 -0.126637 -0.132842   \n",
       "4    -0.131601 -0.129119 -0.125396 -0.126637  0.148848 -0.130360 -0.132842   \n",
       "...        ...       ...       ...       ...       ...       ...       ...   \n",
       "4515 -0.131601 -0.131601 -0.122915 -0.124155  0.642737 -0.125396 -0.132842   \n",
       "4516 -0.131601 -0.131601 -0.094373 -0.124155  0.276664 -0.125396 -0.132842   \n",
       "4518 -0.131601 -0.131601 -0.108023 -0.122915  0.055779 -0.117951 -0.132842   \n",
       "4519 -0.131601 -0.131601 -0.124155 -0.130360  0.028478 -0.126637  0.130234   \n",
       "4520 -0.130360 -0.131601 -0.127878 -0.127878  0.296518 -0.129119  0.177390   \n",
       "\n",
       "            14        15        16  \n",
       "0    -0.131601 -0.127878 -0.131601  \n",
       "1    -0.126637 -0.131601 -0.131601  \n",
       "2    -0.130360 -0.131601 -0.131601  \n",
       "3    -0.131601 -0.127878 -0.131601  \n",
       "4    -0.131601 -0.127878 -0.131601  \n",
       "...        ...       ...       ...  \n",
       "4515 -0.131601 -0.127878 -0.131601  \n",
       "4516 -0.131601 -0.127878 -0.131601  \n",
       "4518 -0.131601 -0.127878 -0.131601  \n",
       "4519 -0.127878 -0.130360 -0.131601  \n",
       "4520 -0.122915 -0.130360 -0.131601  \n",
       "\n",
       "[3616 rows x 17 columns]"
      ]
     },
     "execution_count": 37,
     "metadata": {},
     "output_type": "execute_result"
    }
   ],
   "source": [
    "pd.DataFrame(train_set_bank)"
   ]
  },
  {
   "cell_type": "code",
   "execution_count": 38,
   "metadata": {},
   "outputs": [
    {
     "data": {
      "text/html": [
       "<div>\n",
       "<style scoped>\n",
       "    .dataframe tbody tr th:only-of-type {\n",
       "        vertical-align: middle;\n",
       "    }\n",
       "\n",
       "    .dataframe tbody tr th {\n",
       "        vertical-align: top;\n",
       "    }\n",
       "\n",
       "    .dataframe thead th {\n",
       "        text-align: right;\n",
       "    }\n",
       "</style>\n",
       "<table border=\"1\" class=\"dataframe\">\n",
       "  <thead>\n",
       "    <tr style=\"text-align: right;\">\n",
       "      <th></th>\n",
       "      <th>0</th>\n",
       "      <th>1</th>\n",
       "      <th>2</th>\n",
       "      <th>3</th>\n",
       "      <th>4</th>\n",
       "      <th>5</th>\n",
       "      <th>6</th>\n",
       "      <th>7</th>\n",
       "      <th>8</th>\n",
       "      <th>9</th>\n",
       "      <th>10</th>\n",
       "      <th>11</th>\n",
       "      <th>12</th>\n",
       "      <th>13</th>\n",
       "      <th>14</th>\n",
       "      <th>15</th>\n",
       "      <th>16</th>\n",
       "    </tr>\n",
       "  </thead>\n",
       "  <tbody>\n",
       "    <tr>\n",
       "      <th>6</th>\n",
       "      <td>-0.086928</td>\n",
       "      <td>-0.124155</td>\n",
       "      <td>-0.130360</td>\n",
       "      <td>-0.129119</td>\n",
       "      <td>-0.131601</td>\n",
       "      <td>0.249363</td>\n",
       "      <td>-0.130360</td>\n",
       "      <td>-0.131601</td>\n",
       "      <td>-0.131601</td>\n",
       "      <td>-0.114228</td>\n",
       "      <td>-0.126637</td>\n",
       "      <td>0.291555</td>\n",
       "      <td>-0.130360</td>\n",
       "      <td>0.277905</td>\n",
       "      <td>-0.129119</td>\n",
       "      <td>-0.130360</td>\n",
       "      <td>-0.131601</td>\n",
       "    </tr>\n",
       "    <tr>\n",
       "      <th>9</th>\n",
       "      <td>-0.078241</td>\n",
       "      <td>-0.121674</td>\n",
       "      <td>-0.130360</td>\n",
       "      <td>-0.131601</td>\n",
       "      <td>-0.131601</td>\n",
       "      <td>-0.240803</td>\n",
       "      <td>-0.130360</td>\n",
       "      <td>-0.130360</td>\n",
       "      <td>-0.131601</td>\n",
       "      <td>-0.110505</td>\n",
       "      <td>-0.127878</td>\n",
       "      <td>0.256809</td>\n",
       "      <td>-0.130360</td>\n",
       "      <td>0.050815</td>\n",
       "      <td>-0.129119</td>\n",
       "      <td>-0.131601</td>\n",
       "      <td>-0.131601</td>\n",
       "    </tr>\n",
       "    <tr>\n",
       "      <th>27</th>\n",
       "      <td>-0.048459</td>\n",
       "      <td>-0.125396</td>\n",
       "      <td>-0.130360</td>\n",
       "      <td>-0.127878</td>\n",
       "      <td>-0.131601</td>\n",
       "      <td>0.732084</td>\n",
       "      <td>-0.131601</td>\n",
       "      <td>-0.131601</td>\n",
       "      <td>-0.130360</td>\n",
       "      <td>-0.110505</td>\n",
       "      <td>-0.122915</td>\n",
       "      <td>0.016069</td>\n",
       "      <td>-0.130360</td>\n",
       "      <td>-0.001304</td>\n",
       "      <td>-0.129119</td>\n",
       "      <td>-0.131601</td>\n",
       "      <td>-0.131601</td>\n",
       "    </tr>\n",
       "    <tr>\n",
       "      <th>28</th>\n",
       "      <td>-0.062109</td>\n",
       "      <td>-0.124155</td>\n",
       "      <td>-0.130360</td>\n",
       "      <td>-0.130360</td>\n",
       "      <td>-0.131601</td>\n",
       "      <td>0.841285</td>\n",
       "      <td>-0.131601</td>\n",
       "      <td>-0.130360</td>\n",
       "      <td>-0.131601</td>\n",
       "      <td>-0.094373</td>\n",
       "      <td>-0.124155</td>\n",
       "      <td>0.053297</td>\n",
       "      <td>-0.129119</td>\n",
       "      <td>-0.132842</td>\n",
       "      <td>-0.131601</td>\n",
       "      <td>-0.127878</td>\n",
       "      <td>-0.131601</td>\n",
       "    </tr>\n",
       "    <tr>\n",
       "      <th>31</th>\n",
       "      <td>-0.093132</td>\n",
       "      <td>-0.119192</td>\n",
       "      <td>-0.130360</td>\n",
       "      <td>-0.130360</td>\n",
       "      <td>-0.131601</td>\n",
       "      <td>0.080597</td>\n",
       "      <td>-0.131601</td>\n",
       "      <td>-0.131601</td>\n",
       "      <td>-0.131601</td>\n",
       "      <td>-0.098096</td>\n",
       "      <td>-0.122915</td>\n",
       "      <td>-0.031086</td>\n",
       "      <td>-0.127878</td>\n",
       "      <td>-0.132842</td>\n",
       "      <td>-0.131601</td>\n",
       "      <td>-0.127878</td>\n",
       "      <td>-0.131601</td>\n",
       "    </tr>\n",
       "    <tr>\n",
       "      <th>...</th>\n",
       "      <td>...</td>\n",
       "      <td>...</td>\n",
       "      <td>...</td>\n",
       "      <td>...</td>\n",
       "      <td>...</td>\n",
       "      <td>...</td>\n",
       "      <td>...</td>\n",
       "      <td>...</td>\n",
       "      <td>...</td>\n",
       "      <td>...</td>\n",
       "      <td>...</td>\n",
       "      <td>...</td>\n",
       "      <td>...</td>\n",
       "      <td>...</td>\n",
       "      <td>...</td>\n",
       "      <td>...</td>\n",
       "      <td>...</td>\n",
       "    </tr>\n",
       "    <tr>\n",
       "      <th>4507</th>\n",
       "      <td>-0.090650</td>\n",
       "      <td>-0.121674</td>\n",
       "      <td>-0.130360</td>\n",
       "      <td>-0.130360</td>\n",
       "      <td>-0.131601</td>\n",
       "      <td>0.225786</td>\n",
       "      <td>-0.130360</td>\n",
       "      <td>-0.131601</td>\n",
       "      <td>-0.131601</td>\n",
       "      <td>-0.110505</td>\n",
       "      <td>-0.127878</td>\n",
       "      <td>0.248122</td>\n",
       "      <td>-0.130360</td>\n",
       "      <td>-0.132842</td>\n",
       "      <td>-0.131601</td>\n",
       "      <td>-0.127878</td>\n",
       "      <td>-0.131601</td>\n",
       "    </tr>\n",
       "    <tr>\n",
       "      <th>4508</th>\n",
       "      <td>-0.079482</td>\n",
       "      <td>-0.131601</td>\n",
       "      <td>-0.130360</td>\n",
       "      <td>-0.127878</td>\n",
       "      <td>-0.131601</td>\n",
       "      <td>0.665074</td>\n",
       "      <td>-0.130360</td>\n",
       "      <td>-0.130360</td>\n",
       "      <td>-0.129119</td>\n",
       "      <td>-0.111746</td>\n",
       "      <td>-0.126637</td>\n",
       "      <td>0.500030</td>\n",
       "      <td>-0.129119</td>\n",
       "      <td>-0.132842</td>\n",
       "      <td>-0.131601</td>\n",
       "      <td>-0.127878</td>\n",
       "      <td>-0.131601</td>\n",
       "    </tr>\n",
       "    <tr>\n",
       "      <th>4509</th>\n",
       "      <td>-0.068314</td>\n",
       "      <td>-0.119192</td>\n",
       "      <td>-0.130360</td>\n",
       "      <td>-0.129119</td>\n",
       "      <td>-0.131601</td>\n",
       "      <td>2.978160</td>\n",
       "      <td>-0.131601</td>\n",
       "      <td>-0.131601</td>\n",
       "      <td>-0.131601</td>\n",
       "      <td>-0.094373</td>\n",
       "      <td>-0.119192</td>\n",
       "      <td>0.128993</td>\n",
       "      <td>-0.127878</td>\n",
       "      <td>-0.132842</td>\n",
       "      <td>-0.131601</td>\n",
       "      <td>-0.127878</td>\n",
       "      <td>-0.131601</td>\n",
       "    </tr>\n",
       "    <tr>\n",
       "      <th>4510</th>\n",
       "      <td>-0.086928</td>\n",
       "      <td>-0.119192</td>\n",
       "      <td>-0.131601</td>\n",
       "      <td>-0.130360</td>\n",
       "      <td>-0.131601</td>\n",
       "      <td>0.570763</td>\n",
       "      <td>-0.130360</td>\n",
       "      <td>-0.131601</td>\n",
       "      <td>-0.129119</td>\n",
       "      <td>-0.106783</td>\n",
       "      <td>-0.126637</td>\n",
       "      <td>0.028478</td>\n",
       "      <td>-0.129119</td>\n",
       "      <td>-0.132842</td>\n",
       "      <td>-0.131601</td>\n",
       "      <td>-0.127878</td>\n",
       "      <td>-0.131601</td>\n",
       "    </tr>\n",
       "    <tr>\n",
       "      <th>4517</th>\n",
       "      <td>-0.060868</td>\n",
       "      <td>-0.124155</td>\n",
       "      <td>-0.130360</td>\n",
       "      <td>-0.129119</td>\n",
       "      <td>-0.130360</td>\n",
       "      <td>-4.242789</td>\n",
       "      <td>-0.130360</td>\n",
       "      <td>-0.130360</td>\n",
       "      <td>-0.129119</td>\n",
       "      <td>-0.120433</td>\n",
       "      <td>-0.126637</td>\n",
       "      <td>0.058261</td>\n",
       "      <td>-0.130360</td>\n",
       "      <td>-0.132842</td>\n",
       "      <td>-0.131601</td>\n",
       "      <td>-0.127878</td>\n",
       "      <td>-0.131601</td>\n",
       "    </tr>\n",
       "  </tbody>\n",
       "</table>\n",
       "<p>905 rows × 17 columns</p>\n",
       "</div>"
      ],
      "text/plain": [
       "             0         1         2         3         4         5         6  \\\n",
       "6    -0.086928 -0.124155 -0.130360 -0.129119 -0.131601  0.249363 -0.130360   \n",
       "9    -0.078241 -0.121674 -0.130360 -0.131601 -0.131601 -0.240803 -0.130360   \n",
       "27   -0.048459 -0.125396 -0.130360 -0.127878 -0.131601  0.732084 -0.131601   \n",
       "28   -0.062109 -0.124155 -0.130360 -0.130360 -0.131601  0.841285 -0.131601   \n",
       "31   -0.093132 -0.119192 -0.130360 -0.130360 -0.131601  0.080597 -0.131601   \n",
       "...        ...       ...       ...       ...       ...       ...       ...   \n",
       "4507 -0.090650 -0.121674 -0.130360 -0.130360 -0.131601  0.225786 -0.130360   \n",
       "4508 -0.079482 -0.131601 -0.130360 -0.127878 -0.131601  0.665074 -0.130360   \n",
       "4509 -0.068314 -0.119192 -0.130360 -0.129119 -0.131601  2.978160 -0.131601   \n",
       "4510 -0.086928 -0.119192 -0.131601 -0.130360 -0.131601  0.570763 -0.130360   \n",
       "4517 -0.060868 -0.124155 -0.130360 -0.129119 -0.130360 -4.242789 -0.130360   \n",
       "\n",
       "             7         8         9        10        11        12        13  \\\n",
       "6    -0.131601 -0.131601 -0.114228 -0.126637  0.291555 -0.130360  0.277905   \n",
       "9    -0.130360 -0.131601 -0.110505 -0.127878  0.256809 -0.130360  0.050815   \n",
       "27   -0.131601 -0.130360 -0.110505 -0.122915  0.016069 -0.130360 -0.001304   \n",
       "28   -0.130360 -0.131601 -0.094373 -0.124155  0.053297 -0.129119 -0.132842   \n",
       "31   -0.131601 -0.131601 -0.098096 -0.122915 -0.031086 -0.127878 -0.132842   \n",
       "...        ...       ...       ...       ...       ...       ...       ...   \n",
       "4507 -0.131601 -0.131601 -0.110505 -0.127878  0.248122 -0.130360 -0.132842   \n",
       "4508 -0.130360 -0.129119 -0.111746 -0.126637  0.500030 -0.129119 -0.132842   \n",
       "4509 -0.131601 -0.131601 -0.094373 -0.119192  0.128993 -0.127878 -0.132842   \n",
       "4510 -0.131601 -0.129119 -0.106783 -0.126637  0.028478 -0.129119 -0.132842   \n",
       "4517 -0.130360 -0.129119 -0.120433 -0.126637  0.058261 -0.130360 -0.132842   \n",
       "\n",
       "            14        15        16  \n",
       "6    -0.129119 -0.130360 -0.131601  \n",
       "9    -0.129119 -0.131601 -0.131601  \n",
       "27   -0.129119 -0.131601 -0.131601  \n",
       "28   -0.131601 -0.127878 -0.131601  \n",
       "31   -0.131601 -0.127878 -0.131601  \n",
       "...        ...       ...       ...  \n",
       "4507 -0.131601 -0.127878 -0.131601  \n",
       "4508 -0.131601 -0.127878 -0.131601  \n",
       "4509 -0.131601 -0.127878 -0.131601  \n",
       "4510 -0.131601 -0.127878 -0.131601  \n",
       "4517 -0.131601 -0.127878 -0.131601  \n",
       "\n",
       "[905 rows x 17 columns]"
      ]
     },
     "execution_count": 38,
     "metadata": {},
     "output_type": "execute_result"
    }
   ],
   "source": [
    "pd.DataFrame(test_set_bank)"
   ]
  },
  {
   "cell_type": "markdown",
   "metadata": {},
   "source": [
    "#### 5.3 X Matris  and Y Vector Of Train Set"
   ]
  },
  {
   "cell_type": "code",
   "execution_count": 39,
   "metadata": {},
   "outputs": [],
   "source": [
    "x_train = np.array(train_set_bank)[:,:16]\n",
    "y_train =np.array(train_set_bank)[:,16:]"
   ]
  },
  {
   "cell_type": "code",
   "execution_count": 40,
   "metadata": {},
   "outputs": [
    {
     "name": "stdout",
     "output_type": "stream",
     "text": [
      "(3616, 16)\n",
      "(3616, 1)\n"
     ]
    }
   ],
   "source": [
    "print(x_train.shape)\n",
    "print(y_train.shape)"
   ]
  },
  {
   "cell_type": "markdown",
   "metadata": {},
   "source": [
    "#### 5.4 X Matris  and Y Vector Of Test Set"
   ]
  },
  {
   "cell_type": "code",
   "execution_count": 41,
   "metadata": {},
   "outputs": [],
   "source": [
    "x_test = np.array(test_set_bank)[:,:16]\n",
    "y_test =np.array(test_set_bank)[:,16:]"
   ]
  },
  {
   "cell_type": "code",
   "execution_count": 42,
   "metadata": {},
   "outputs": [
    {
     "name": "stdout",
     "output_type": "stream",
     "text": [
      "(905, 16)\n",
      "(905, 1)\n"
     ]
    }
   ],
   "source": [
    "print(x_test.shape)\n",
    "print(y_test.shape)"
   ]
  },
  {
   "cell_type": "code",
   "execution_count": 43,
   "metadata": {},
   "outputs": [
    {
     "data": {
      "text/plain": [
       "array([[-0.09437324, -0.1303601 , -0.1303601 , ..., -0.13284194,\n",
       "        -0.13160102, -0.12787825],\n",
       "       [-0.09065046, -0.12167361, -0.1303601 , ...,  0.28907293,\n",
       "        -0.12663732, -0.13160102],\n",
       "       [-0.08816861, -0.12663732, -0.12911917, ...,  0.2779046 ,\n",
       "        -0.1303601 , -0.13160102],\n",
       "       ...,\n",
       "       [-0.06086823, -0.11919176, -0.1303601 , ..., -0.13284194,\n",
       "        -0.13160102, -0.12787825],\n",
       "       [-0.09685509, -0.1303601 , -0.1303601 , ...,  0.13023439,\n",
       "        -0.12787825, -0.1303601 ],\n",
       "       [-0.07700028, -0.12911917, -0.12911917, ...,  0.17738958,\n",
       "        -0.12291454, -0.1303601 ]], dtype=float32)"
      ]
     },
     "execution_count": 43,
     "metadata": {},
     "output_type": "execute_result"
    }
   ],
   "source": [
    "x_train"
   ]
  },
  {
   "cell_type": "markdown",
   "metadata": {},
   "source": [
    "### 6.  LOGISTIC REGRESSION  with MINI-BATCH GRADIENT ASCENT"
   ]
  },
  {
   "cell_type": "markdown",
   "metadata": {},
   "source": [
    "### 6.1 Defining The Functions"
   ]
  },
  {
   "cell_type": "markdown",
   "metadata": {},
   "source": [
    "#### 6.1.0 Logistic Function"
   ]
  },
  {
   "cell_type": "code",
   "execution_count": 44,
   "metadata": {},
   "outputs": [],
   "source": [
    "def logistic_function(x,beta):\n",
    "    return 1/(1+np.exp(x.T@beta))"
   ]
  },
  {
   "cell_type": "markdown",
   "metadata": {},
   "source": [
    "#### 6.1.1 Loglikelihood Loss Function"
   ]
  },
  {
   "cell_type": "code",
   "execution_count": 45,
   "metadata": {},
   "outputs": [],
   "source": [
    "def loglikelihood(x,y,beta):\n",
    "    dim_one= int(x.shape[0])\n",
    "    dim_two= int(x.shape[1])\n",
    "    loss = 0\n",
    "    for i in range(0,dim_one):\n",
    "        loss= float(loss + y[i]*((x[i].reshape((dim_two,1))).T@beta) - np.log(1  + (np.exp(x[i].reshape((dim_two,1))).T @beta)))\n",
    "    return loss\n",
    "    "
   ]
  },
  {
   "cell_type": "markdown",
   "metadata": {},
   "source": [
    "#### 6.1.2 Gradient Ascent For Logistic Regression"
   ]
  },
  {
   "cell_type": "code",
   "execution_count": 46,
   "metadata": {},
   "outputs": [],
   "source": [
    "#defining the gradienc ascent function for logistic regression\n",
    "def gradient_ascent_lr(x,y,beta,mu,i_max):\n",
    "    loss = []\n",
    "    dimension=int(y.shape[0])\n",
    "    diemnsion_two=int(x.shape[1])\n",
    "    \n",
    "    \n",
    "    for k in range(0,i_max):\n",
    "        y_prediction = np.zeros((dimension,1))\n",
    "        for j in range(0,dimension):\n",
    "            y_prediction[j] = logistic_function(x[j].reshape((16,1)),beta)\n",
    "        \n",
    "        beta_new = beta + mu* x.T@(y-y_prediction)\n",
    "        loss.append(loglikelihood(x,y,beta_new))\n",
    "        beta = beta_new\n",
    "    return loss\n",
    "    \n",
    "    \n",
    "    "
   ]
  },
  {
   "cell_type": "code",
   "execution_count": 47,
   "metadata": {},
   "outputs": [],
   "source": [
    "#applying the gradient ascent function to the train set\n",
    "b= np.ones((16,1))\n",
    "error_one= gradient_ascent_lr(x_train,y_train,b,0.000001,300)"
   ]
  },
  {
   "cell_type": "code",
   "execution_count": 48,
   "metadata": {},
   "outputs": [],
   "source": [
    "import matplotlib.pyplot as plt"
   ]
  },
  {
   "cell_type": "code",
   "execution_count": 49,
   "metadata": {},
   "outputs": [
    {
     "data": {
      "image/png": "[encoded data removed]",
      "text/plain": [
       "<Figure size 432x288 with 1 Axes>"
      ]
     },
     "metadata": {
      "needs_background": "light"
     },
     "output_type": "display_data"
    }
   ],
   "source": [
    "plt.plot(error_one)\n",
    "plt.xlabel('Iteration')\n",
    "plt.ylabel('Loglikelihood')\n",
    "plt.title('Gradient Ascent Method')\n",
    "plt.show()"
   ]
  },
  {
   "cell_type": "markdown",
   "metadata": {},
   "source": [
    "#### 6.1.3 Gradient Ascent With Mini-Batch  Size"
   ]
  },
  {
   "cell_type": "code",
   "execution_count": 50,
   "metadata": {},
   "outputs": [],
   "source": [
    "def mini_batch_ga_lr(x,y,beta,batch_size,mu, i_max):\n",
    "    dim_one = int(x.shape[0])\n",
    "    dim_two = int(x.shape[1])\n",
    "    loss =[]\n",
    "    epoch_number = math.floor(dim_one/batch_size)\n",
    "    for i in range(0,i_max):  \n",
    "        for j in range(0,epoch_number-1):\n",
    "            y_prediction = np.zeros((dim_one,1))\n",
    "            for k in range(0,dim_one):\n",
    "                y_prediction[k]=logistic_function(x[k].reshape((dim_two,1)),beta)\n",
    "            value_one = (x[j*batch_size:(j+1)*batch_size]).T\n",
    "            value_two = (y[j*batch_size:(j+1)*batch_size]-y_prediction[j*batch_size:(j+1)*batch_size])\n",
    "            beta_new = beta + mu*value_one@value_two\n",
    "            loss.append(loglikelihood(x,y,beta_new))\n",
    "            beta =beta_new\n",
    "               \n",
    "        y_prediction = np.zeros((dim_one,1))\n",
    "        for k in range(0,dim_one):\n",
    "                y_prediction[k]=logistic_function(x[k].reshape((dim_two,1)),beta)\n",
    "                \n",
    "        beta_lost = beta + mu*x[(epoch_number)*batch_size:dim_one].T@(y[(epoch_number)*batch_size:dim_one]- y_prediction[(epoch_number)*batch_size:dim_one])\n",
    "        loss.append(loglikelihood(x,y,beta_lost))\n",
    "        beta = beta_lost\n",
    " \n",
    "    return loss\n",
    "    \n",
    "    "
   ]
  },
  {
   "cell_type": "code",
   "execution_count": 51,
   "metadata": {},
   "outputs": [],
   "source": [
    "errors_mini = mini_batch_ga_lr(x_train,y_train,b,500,0.000001,10)"
   ]
  },
  {
   "cell_type": "code",
   "execution_count": 52,
   "metadata": {},
   "outputs": [
    {
     "data": {
      "text/plain": [
       "Text(0, 0.5, 'Loglikelihood')"
      ]
     },
     "execution_count": 52,
     "metadata": {},
     "output_type": "execute_result"
    },
    {
     "data": {
      "image/png": "[encoded data removed]",
      "text/plain": [
       "<Figure size 432x288 with 1 Axes>"
      ]
     },
     "metadata": {
      "needs_background": "light"
     },
     "output_type": "display_data"
    }
   ],
   "source": [
    "plt.plot(errors_mini)\n",
    "plt.title('Gradient Ascent With Mini Batch')\n",
    "plt.xlabel('Epoch')\n",
    "plt.ylabel('Loglikelihood')"
   ]
  }
 ],
 "metadata": {
  "kernelspec": {
   "display_name": "Python 3",
   "language": "python",
   "name": "python3"
  },
  "language_info": {
   "codemirror_mode": {
    "name": "ipython",
    "version": 3
   },
   "file_extension": ".py",
   "mimetype": "text/x-python",
   "name": "python",
   "nbconvert_exporter": "python",
   "pygments_lexer": "ipython3",
   "version": "3.8.3"
  }
 },
 "nbformat": 4,
 "nbformat_minor": 4
}
