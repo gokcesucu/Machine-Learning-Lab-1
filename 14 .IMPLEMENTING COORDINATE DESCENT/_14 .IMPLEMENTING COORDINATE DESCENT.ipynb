{
 "cells": [
  {
   "cell_type": "markdown",
   "metadata": {},
   "source": [
    "\n",
    "# 14 .IMPLEMENTING COORDINATE DESCENT"
   ]
  },
  {
   "cell_type": "markdown",
   "metadata": {},
   "source": [
    "## 0. DATA PRE-PROCESSING"
   ]
  },
  {
   "cell_type": "code",
   "execution_count": 142,
   "metadata": {},
   "outputs": [],
   "source": [
    "y_wine_quality = np.array(wine_quality['quality']).reshape((1599,1))"
   ]
  },
  {
   "cell_type": "code",
   "execution_count": 143,
   "metadata": {},
   "outputs": [],
   "source": [
    "x_wine_quality_without_bias = np.array(wine_quality.iloc[:,:-1])"
   ]
  },
  {
   "cell_type": "code",
   "execution_count": 144,
   "metadata": {},
   "outputs": [],
   "source": [
    "x_wine_quality=np.hstack((x_wine_quality_without_bias,np.ones((1599,1))))"
   ]
  },
  {
   "cell_type": "code",
   "execution_count": 145,
   "metadata": {},
   "outputs": [
    {
     "data": {
      "text/plain": [
       "array([[ 7.4  ,  0.7  ,  0.   , ...,  0.56 ,  9.4  ,  1.   ],\n",
       "       [ 7.8  ,  0.88 ,  0.   , ...,  0.68 ,  9.8  ,  1.   ],\n",
       "       [ 7.8  ,  0.76 ,  0.04 , ...,  0.65 ,  9.8  ,  1.   ],\n",
       "       ...,\n",
       "       [ 6.3  ,  0.51 ,  0.13 , ...,  0.75 , 11.   ,  1.   ],\n",
       "       [ 5.9  ,  0.645,  0.12 , ...,  0.71 , 10.2  ,  1.   ],\n",
       "       [ 6.   ,  0.31 ,  0.47 , ...,  0.66 , 11.   ,  1.   ]])"
      ]
     },
     "execution_count": 145,
     "metadata": {},
     "output_type": "execute_result"
    }
   ],
   "source": [
    "x_wine_quality"
   ]
  },
  {
   "cell_type": "code",
   "execution_count": 146,
   "metadata": {},
   "outputs": [
    {
     "name": "stdout",
     "output_type": "stream",
     "text": [
      "(1599, 1)\n",
      "(1599, 12)\n"
     ]
    }
   ],
   "source": [
    "print(y_wine_quality.shape)\n",
    "print(x_wine_quality.shape)"
   ]
  },
  {
   "cell_type": "markdown",
   "metadata": {},
   "source": [
    "## 1. COORDINATE DESCENT"
   ]
  },
  {
   "cell_type": "markdown",
   "metadata": {},
   "source": [
    "### 1.1 Defining the Functions "
   ]
  },
  {
   "cell_type": "markdown",
   "metadata": {},
   "source": [
    "#### 1. g(X,Y,beta,m)"
   ]
  },
  {
   "cell_type": "code",
   "execution_count": 147,
   "metadata": {},
   "outputs": [],
   "source": [
    "def g_m(X,Y,beta,m):\n",
    "    d=int(X.shape[0])\n",
    "    X_m=np.delete(X, m, 1)\n",
    "    beta_m = np.delete(beta,m,0)\n",
    "    xm=X[:,m].reshape((d,1))\n",
    "    return ((Y - (X_m@beta_m)).T @ xm)/(xm.T@xm)"
   ]
  },
  {
   "cell_type": "markdown",
   "metadata": {},
   "source": [
    "#### 2.f(X,y,beta)"
   ]
  },
  {
   "cell_type": "code",
   "execution_count": 148,
   "metadata": {},
   "outputs": [],
   "source": [
    "def f(X,Y,beta):\n",
    "    return(Y-X@beta).T@(Y-X@beta)"
   ]
  },
  {
   "cell_type": "markdown",
   "metadata": {},
   "source": [
    "#### 3. Minimize Coordinate Descent"
   ]
  },
  {
   "cell_type": "code",
   "execution_count": 149,
   "metadata": {},
   "outputs": [],
   "source": [
    "def minimize_CD(X,Y,beta_initial,i_max):\n",
    "    dim = int(beta_initial.shape[0])\n",
    "    for i in range(0,i_max):\n",
    "        beta_next=beta_initial\n",
    "        for m in range(0,dim):\n",
    "            beta_next[m]=g_m(X,Y,beta_next,m)\n",
    "    return beta_next"
   ]
  },
  {
   "cell_type": "markdown",
   "metadata": {},
   "source": [
    "#### 4. Learn-LInreg"
   ]
  },
  {
   "cell_type": "code",
   "execution_count": 150,
   "metadata": {},
   "outputs": [],
   "source": [
    "def learn_linreg_CD(X,Y,i_max):\n",
    "    dimension=int(X.shape[1])\n",
    "    beta_zero = np.zeros((dimension,1))\n",
    "    beta = minimize_CD(X,Y,beta_zero,i_max)\n",
    "    return beta\n",
    "    "
   ]
  },
  {
   "cell_type": "markdown",
   "metadata": {},
   "source": [
    "### 2. Implementing CD Descent Algorithm"
   ]
  },
  {
   "cell_type": "code",
   "execution_count": 151,
   "metadata": {},
   "outputs": [],
   "source": [
    "beta_list=[]\n",
    "for i in range(1,200):\n",
    "    a=learn_linreg_CD(x_wine_quality,y_wine_quality,i)\n",
    "    beta_list.append(a)"
   ]
  },
  {
   "cell_type": "code",
   "execution_count": 152,
   "metadata": {},
   "outputs": [],
   "source": [
    "table=pd.DataFrame(beta_list[0])\n",
    "for i in range(0,199):\n",
    "    table=pd.concat([table,pd.DataFrame(beta_list[i])],1)\n",
    "table_new=pd.DataFrame(np.array(table))\n",
    "zeros=pd.DataFrame(np.zeros((12,1)))\n",
    "table_new =pd.concat([zeros,table_new],1)\n",
    "table_new=pd.DataFrame(np.array(table_new).T)"
   ]
  },
  {
   "cell_type": "code",
   "execution_count": 153,
   "metadata": {},
   "outputs": [
    {
     "data": {
      "text/html": [
       "<div>\n",
       "<style scoped>\n",
       "    .dataframe tbody tr th:only-of-type {\n",
       "        vertical-align: middle;\n",
       "    }\n",
       "\n",
       "    .dataframe tbody tr th {\n",
       "        vertical-align: top;\n",
       "    }\n",
       "\n",
       "    .dataframe thead th {\n",
       "        text-align: right;\n",
       "    }\n",
       "</style>\n",
       "<table border=\"1\" class=\"dataframe\">\n",
       "  <thead>\n",
       "    <tr style=\"text-align: right;\">\n",
       "      <th></th>\n",
       "      <th>0</th>\n",
       "      <th>1</th>\n",
       "      <th>2</th>\n",
       "      <th>3</th>\n",
       "      <th>4</th>\n",
       "      <th>5</th>\n",
       "      <th>6</th>\n",
       "      <th>7</th>\n",
       "      <th>8</th>\n",
       "      <th>9</th>\n",
       "      <th>10</th>\n",
       "      <th>11</th>\n",
       "    </tr>\n",
       "  </thead>\n",
       "  <tbody>\n",
       "    <tr>\n",
       "      <th>0</th>\n",
       "      <td>0.000000</td>\n",
       "      <td>0.000000</td>\n",
       "      <td>0.000000</td>\n",
       "      <td>0.000000</td>\n",
       "      <td>0.000000</td>\n",
       "      <td>0.000000</td>\n",
       "      <td>0.000000</td>\n",
       "      <td>0.000000</td>\n",
       "      <td>0.000000</td>\n",
       "      <td>0.000000</td>\n",
       "      <td>0.000000</td>\n",
       "      <td>0.000000</td>\n",
       "    </tr>\n",
       "    <tr>\n",
       "      <th>1</th>\n",
       "      <td>0.651442</td>\n",
       "      <td>0.353127</td>\n",
       "      <td>-0.878587</td>\n",
       "      <td>0.064862</td>\n",
       "      <td>0.036232</td>\n",
       "      <td>0.007483</td>\n",
       "      <td>-0.001189</td>\n",
       "      <td>0.035029</td>\n",
       "      <td>0.009209</td>\n",
       "      <td>-0.018283</td>\n",
       "      <td>0.003060</td>\n",
       "      <td>-0.048716</td>\n",
       "    </tr>\n",
       "    <tr>\n",
       "      <th>2</th>\n",
       "      <td>0.651442</td>\n",
       "      <td>0.353127</td>\n",
       "      <td>-0.878587</td>\n",
       "      <td>0.064862</td>\n",
       "      <td>0.036232</td>\n",
       "      <td>0.007483</td>\n",
       "      <td>-0.001189</td>\n",
       "      <td>0.035029</td>\n",
       "      <td>0.009209</td>\n",
       "      <td>-0.018283</td>\n",
       "      <td>0.003060</td>\n",
       "      <td>-0.048716</td>\n",
       "    </tr>\n",
       "    <tr>\n",
       "      <th>3</th>\n",
       "      <td>0.629664</td>\n",
       "      <td>0.551912</td>\n",
       "      <td>-1.276574</td>\n",
       "      <td>0.090633</td>\n",
       "      <td>0.290524</td>\n",
       "      <td>0.012811</td>\n",
       "      <td>-0.002035</td>\n",
       "      <td>0.084818</td>\n",
       "      <td>0.017292</td>\n",
       "      <td>-0.017735</td>\n",
       "      <td>0.005379</td>\n",
       "      <td>-0.098449</td>\n",
       "    </tr>\n",
       "    <tr>\n",
       "      <th>4</th>\n",
       "      <td>0.610298</td>\n",
       "      <td>0.667673</td>\n",
       "      <td>-1.426714</td>\n",
       "      <td>0.097692</td>\n",
       "      <td>0.567653</td>\n",
       "      <td>0.016907</td>\n",
       "      <td>-0.002644</td>\n",
       "      <td>0.145313</td>\n",
       "      <td>0.024719</td>\n",
       "      <td>-0.008906</td>\n",
       "      <td>0.007418</td>\n",
       "      <td>-0.148607</td>\n",
       "    </tr>\n",
       "    <tr>\n",
       "      <th>...</th>\n",
       "      <td>...</td>\n",
       "      <td>...</td>\n",
       "      <td>...</td>\n",
       "      <td>...</td>\n",
       "      <td>...</td>\n",
       "      <td>...</td>\n",
       "      <td>...</td>\n",
       "      <td>...</td>\n",
       "      <td>...</td>\n",
       "      <td>...</td>\n",
       "      <td>...</td>\n",
       "      <td>...</td>\n",
       "    </tr>\n",
       "    <tr>\n",
       "      <th>196</th>\n",
       "      <td>0.025358</td>\n",
       "      <td>-1.168601</td>\n",
       "      <td>-0.044299</td>\n",
       "      <td>0.010112</td>\n",
       "      <td>-2.009712</td>\n",
       "      <td>0.003896</td>\n",
       "      <td>-0.003365</td>\n",
       "      <td>6.238795</td>\n",
       "      <td>0.186837</td>\n",
       "      <td>1.010956</td>\n",
       "      <td>0.231179</td>\n",
       "      <td>-3.613602</td>\n",
       "    </tr>\n",
       "    <tr>\n",
       "      <th>197</th>\n",
       "      <td>0.025475</td>\n",
       "      <td>-1.168745</td>\n",
       "      <td>-0.045901</td>\n",
       "      <td>0.010057</td>\n",
       "      <td>-2.006141</td>\n",
       "      <td>0.003887</td>\n",
       "      <td>-0.003358</td>\n",
       "      <td>6.237894</td>\n",
       "      <td>0.186191</td>\n",
       "      <td>1.010524</td>\n",
       "      <td>0.231826</td>\n",
       "      <td>-3.617832</td>\n",
       "    </tr>\n",
       "    <tr>\n",
       "      <th>198</th>\n",
       "      <td>0.025592</td>\n",
       "      <td>-1.168874</td>\n",
       "      <td>-0.047483</td>\n",
       "      <td>0.010003</td>\n",
       "      <td>-2.002568</td>\n",
       "      <td>0.003879</td>\n",
       "      <td>-0.003351</td>\n",
       "      <td>6.236979</td>\n",
       "      <td>0.185545</td>\n",
       "      <td>1.010083</td>\n",
       "      <td>0.232468</td>\n",
       "      <td>-3.622008</td>\n",
       "    </tr>\n",
       "    <tr>\n",
       "      <th>199</th>\n",
       "      <td>0.025709</td>\n",
       "      <td>-1.168989</td>\n",
       "      <td>-0.049048</td>\n",
       "      <td>0.009949</td>\n",
       "      <td>-1.998994</td>\n",
       "      <td>0.003870</td>\n",
       "      <td>-0.003344</td>\n",
       "      <td>6.236051</td>\n",
       "      <td>0.184899</td>\n",
       "      <td>1.009636</td>\n",
       "      <td>0.233105</td>\n",
       "      <td>-3.626129</td>\n",
       "    </tr>\n",
       "    <tr>\n",
       "      <th>200</th>\n",
       "      <td>0.025825</td>\n",
       "      <td>-1.169091</td>\n",
       "      <td>-0.050593</td>\n",
       "      <td>0.009896</td>\n",
       "      <td>-1.995420</td>\n",
       "      <td>0.003862</td>\n",
       "      <td>-0.003338</td>\n",
       "      <td>6.235111</td>\n",
       "      <td>0.184253</td>\n",
       "      <td>1.009182</td>\n",
       "      <td>0.233737</td>\n",
       "      <td>-3.630196</td>\n",
       "    </tr>\n",
       "  </tbody>\n",
       "</table>\n",
       "<p>201 rows × 12 columns</p>\n",
       "</div>"
      ],
      "text/plain": [
       "            0         1         2         3         4         5         6  \\\n",
       "0    0.000000  0.000000  0.000000  0.000000  0.000000  0.000000  0.000000   \n",
       "1    0.651442  0.353127 -0.878587  0.064862  0.036232  0.007483 -0.001189   \n",
       "2    0.651442  0.353127 -0.878587  0.064862  0.036232  0.007483 -0.001189   \n",
       "3    0.629664  0.551912 -1.276574  0.090633  0.290524  0.012811 -0.002035   \n",
       "4    0.610298  0.667673 -1.426714  0.097692  0.567653  0.016907 -0.002644   \n",
       "..        ...       ...       ...       ...       ...       ...       ...   \n",
       "196  0.025358 -1.168601 -0.044299  0.010112 -2.009712  0.003896 -0.003365   \n",
       "197  0.025475 -1.168745 -0.045901  0.010057 -2.006141  0.003887 -0.003358   \n",
       "198  0.025592 -1.168874 -0.047483  0.010003 -2.002568  0.003879 -0.003351   \n",
       "199  0.025709 -1.168989 -0.049048  0.009949 -1.998994  0.003870 -0.003344   \n",
       "200  0.025825 -1.169091 -0.050593  0.009896 -1.995420  0.003862 -0.003338   \n",
       "\n",
       "            7         8         9        10        11  \n",
       "0    0.000000  0.000000  0.000000  0.000000  0.000000  \n",
       "1    0.035029  0.009209 -0.018283  0.003060 -0.048716  \n",
       "2    0.035029  0.009209 -0.018283  0.003060 -0.048716  \n",
       "3    0.084818  0.017292 -0.017735  0.005379 -0.098449  \n",
       "4    0.145313  0.024719 -0.008906  0.007418 -0.148607  \n",
       "..        ...       ...       ...       ...       ...  \n",
       "196  6.238795  0.186837  1.010956  0.231179 -3.613602  \n",
       "197  6.237894  0.186191  1.010524  0.231826 -3.617832  \n",
       "198  6.236979  0.185545  1.010083  0.232468 -3.622008  \n",
       "199  6.236051  0.184899  1.009636  0.233105 -3.626129  \n",
       "200  6.235111  0.184253  1.009182  0.233737 -3.630196  \n",
       "\n",
       "[201 rows x 12 columns]"
      ]
     },
     "execution_count": 153,
     "metadata": {},
     "output_type": "execute_result"
    }
   ],
   "source": [
    "table_new"
   ]
  },
  {
   "cell_type": "code",
   "execution_count": 154,
   "metadata": {},
   "outputs": [
    {
     "data": {
      "image/png": "[encoded data removed]",
      "text/plain": [
       "<Figure size 720x432 with 1 Axes>"
      ]
     },
     "metadata": {
      "needs_background": "light"
     },
     "output_type": "display_data"
    }
   ],
   "source": [
    "table_new.plot(title='Beta Values with Coordinate Descent',figsize=(10,6))\n",
    "plt.legend(table_new, loc='upper right')\n",
    "plt.xlabel('Iteration')\n",
    "plt.ylabel('Beta Values')\n",
    "plt.show()"
   ]
  },
  {
   "cell_type": "markdown",
   "metadata": {},
   "source": [
    "## 2. COORDINATE DESCENT WITH L1"
   ]
  },
  {
   "cell_type": "markdown",
   "metadata": {},
   "source": [
    "### 1. Defining the Functions"
   ]
  },
  {
   "cell_type": "markdown",
   "metadata": {},
   "source": [
    "#### 1. Soft Function"
   ]
  },
  {
   "cell_type": "code",
   "execution_count": 174,
   "metadata": {},
   "outputs": [],
   "source": [
    "def soft(x,e):\n",
    "    if x>e:\n",
    "        result=x-e\n",
    "    elif x<-e:\n",
    "        result=x+e\n",
    "    elif abs(x)<=e:\n",
    "        result=0\n",
    "    return result\n",
    "        "
   ]
  },
  {
   "cell_type": "markdown",
   "metadata": {},
   "source": [
    "#### 2. Regularization Part"
   ]
  },
  {
   "cell_type": "code",
   "execution_count": 175,
   "metadata": {},
   "outputs": [],
   "source": [
    "def reg_part(X,lamba,m):\n",
    "    d=int(X.shape[0])\n",
    "    xm=X[:,m].reshape((d,1))\n",
    "    return lamba/(xm.T@xm)"
   ]
  },
  {
   "cell_type": "markdown",
   "metadata": {},
   "source": [
    "#### 3. Function g(X,Y,beta,lamba)"
   ]
  },
  {
   "cell_type": "code",
   "execution_count": 176,
   "metadata": {},
   "outputs": [],
   "source": [
    "def g_regularized(X,Y,beta,m,lamba):\n",
    "    d=int(X.shape[0])\n",
    "    X_m=np.delete(X, m, 1)\n",
    "    beta_m = np.delete(beta,m,0)\n",
    "    xm=X[:,m].reshape((d,1))\n",
    "    value_one =((Y - (X_m@beta_m)).T @ xm)/(xm.T@xm)\n",
    "    value_two =reg_part(X,lamba,m)\n",
    "    return soft(value_one,value_two)"
   ]
  },
  {
   "cell_type": "markdown",
   "metadata": {},
   "source": [
    "#### Minimize CD with Regularization"
   ]
  },
  {
   "cell_type": "code",
   "execution_count": 177,
   "metadata": {},
   "outputs": [],
   "source": [
    "def reg_minimize_CD(X,Y,beta_initial,lamba,i_max):\n",
    "    dim = int(beta_initial.shape[0])\n",
    "    for i in range(0,i_max):\n",
    "        beta_next=beta_initial\n",
    "        for m in range(0,dim):\n",
    "            beta_next[m]=g_regularized(X,Y,beta_initial,m,lamba)\n",
    "    return beta_next"
   ]
  },
  {
   "cell_type": "markdown",
   "metadata": {},
   "source": [
    "#### 3. Coordinate Descent with Regularization"
   ]
  },
  {
   "cell_type": "code",
   "execution_count": 178,
   "metadata": {},
   "outputs": [],
   "source": [
    "def reg_learn_linreg_CD(X,Y,lamba,i_max):\n",
    "    dimension=int(X.shape[1])\n",
    "    beta_zero = np.zeros((dimension,1))\n",
    "    beta = reg_minimize_CD(X,Y,beta_zero,lamba,i_max)\n",
    "    return beta\n",
    "    "
   ]
  },
  {
   "cell_type": "markdown",
   "metadata": {},
   "source": [
    "### 2. Implementing CD Descent with Regularization Algorithm"
   ]
  },
  {
   "cell_type": "code",
   "execution_count": 199,
   "metadata": {},
   "outputs": [],
   "source": [
    "reg_cd=[]\n",
    "for l in range(1,100):\n",
    "    b=reg_learn_linreg_CD(x_wine_quality,y_wine_quality,50,l)\n",
    "    reg_cd.append(b)"
   ]
  },
  {
   "cell_type": "code",
   "execution_count": 200,
   "metadata": {},
   "outputs": [],
   "source": [
    "reg_table=pd.DataFrame(reg_cd[0])\n",
    "for i in range(0,99):\n",
    "    reg_table=pd.concat([reg_table,pd.DataFrame(reg_cd[i])],1)"
   ]
  },
  {
   "cell_type": "code",
   "execution_count": 201,
   "metadata": {},
   "outputs": [],
   "source": [
    "table_reg=pd.DataFrame(np.array(reg_table))\n",
    "zeros=pd.DataFrame(np.zeros((12,1)))\n",
    "table_reg =pd.concat([zeros,table_reg],1)\n",
    "table_reg=pd.DataFrame(np.array(table_reg).T)"
   ]
  },
  {
   "cell_type": "code",
   "execution_count": 202,
   "metadata": {},
   "outputs": [
    {
     "data": {
      "text/html": [
       "<div>\n",
       "<style scoped>\n",
       "    .dataframe tbody tr th:only-of-type {\n",
       "        vertical-align: middle;\n",
       "    }\n",
       "\n",
       "    .dataframe tbody tr th {\n",
       "        vertical-align: top;\n",
       "    }\n",
       "\n",
       "    .dataframe thead th {\n",
       "        text-align: right;\n",
       "    }\n",
       "</style>\n",
       "<table border=\"1\" class=\"dataframe\">\n",
       "  <thead>\n",
       "    <tr style=\"text-align: right;\">\n",
       "      <th></th>\n",
       "      <th>0</th>\n",
       "      <th>1</th>\n",
       "      <th>2</th>\n",
       "      <th>3</th>\n",
       "      <th>4</th>\n",
       "      <th>5</th>\n",
       "      <th>6</th>\n",
       "      <th>7</th>\n",
       "      <th>8</th>\n",
       "      <th>9</th>\n",
       "      <th>10</th>\n",
       "      <th>11</th>\n",
       "    </tr>\n",
       "  </thead>\n",
       "  <tbody>\n",
       "    <tr>\n",
       "      <th>0</th>\n",
       "      <td>0.000000</td>\n",
       "      <td>0.000000</td>\n",
       "      <td>0.000000</td>\n",
       "      <td>0.000000</td>\n",
       "      <td>0.0</td>\n",
       "      <td>0.000000</td>\n",
       "      <td>0.000000</td>\n",
       "      <td>0.000000</td>\n",
       "      <td>0.000000</td>\n",
       "      <td>0.000000</td>\n",
       "      <td>0.000000</td>\n",
       "      <td>0.000000</td>\n",
       "    </tr>\n",
       "    <tr>\n",
       "      <th>1</th>\n",
       "      <td>0.651009</td>\n",
       "      <td>0.258472</td>\n",
       "      <td>-0.482912</td>\n",
       "      <td>0.043169</td>\n",
       "      <td>0.0</td>\n",
       "      <td>0.007891</td>\n",
       "      <td>-0.001187</td>\n",
       "      <td>0.001537</td>\n",
       "      <td>0.016414</td>\n",
       "      <td>0.000000</td>\n",
       "      <td>0.002240</td>\n",
       "      <td>-0.013383</td>\n",
       "    </tr>\n",
       "    <tr>\n",
       "      <th>2</th>\n",
       "      <td>0.651009</td>\n",
       "      <td>0.258472</td>\n",
       "      <td>-0.482912</td>\n",
       "      <td>0.043169</td>\n",
       "      <td>0.0</td>\n",
       "      <td>0.007891</td>\n",
       "      <td>-0.001187</td>\n",
       "      <td>0.001537</td>\n",
       "      <td>0.016414</td>\n",
       "      <td>0.000000</td>\n",
       "      <td>0.002240</td>\n",
       "      <td>-0.013383</td>\n",
       "    </tr>\n",
       "    <tr>\n",
       "      <th>3</th>\n",
       "      <td>0.623972</td>\n",
       "      <td>0.410961</td>\n",
       "      <td>-0.649446</td>\n",
       "      <td>0.059744</td>\n",
       "      <td>0.0</td>\n",
       "      <td>0.014270</td>\n",
       "      <td>-0.002025</td>\n",
       "      <td>0.022546</td>\n",
       "      <td>0.031911</td>\n",
       "      <td>0.000000</td>\n",
       "      <td>0.004773</td>\n",
       "      <td>-0.026868</td>\n",
       "    </tr>\n",
       "    <tr>\n",
       "      <th>4</th>\n",
       "      <td>0.598913</td>\n",
       "      <td>0.504592</td>\n",
       "      <td>-0.651575</td>\n",
       "      <td>0.063107</td>\n",
       "      <td>0.0</td>\n",
       "      <td>0.019194</td>\n",
       "      <td>-0.002615</td>\n",
       "      <td>0.058833</td>\n",
       "      <td>0.046809</td>\n",
       "      <td>0.000000</td>\n",
       "      <td>0.007460</td>\n",
       "      <td>-0.040028</td>\n",
       "    </tr>\n",
       "    <tr>\n",
       "      <th>...</th>\n",
       "      <td>...</td>\n",
       "      <td>...</td>\n",
       "      <td>...</td>\n",
       "      <td>...</td>\n",
       "      <td>...</td>\n",
       "      <td>...</td>\n",
       "      <td>...</td>\n",
       "      <td>...</td>\n",
       "      <td>...</td>\n",
       "      <td>...</td>\n",
       "      <td>...</td>\n",
       "      <td>...</td>\n",
       "    </tr>\n",
       "    <tr>\n",
       "      <th>96</th>\n",
       "      <td>0.054008</td>\n",
       "      <td>-0.551645</td>\n",
       "      <td>0.000000</td>\n",
       "      <td>0.000000</td>\n",
       "      <td>0.0</td>\n",
       "      <td>0.003958</td>\n",
       "      <td>-0.003439</td>\n",
       "      <td>0.613758</td>\n",
       "      <td>0.711627</td>\n",
       "      <td>0.201223</td>\n",
       "      <td>0.237807</td>\n",
       "      <td>0.000000</td>\n",
       "    </tr>\n",
       "    <tr>\n",
       "      <th>97</th>\n",
       "      <td>0.054480</td>\n",
       "      <td>-0.550721</td>\n",
       "      <td>0.000000</td>\n",
       "      <td>0.000000</td>\n",
       "      <td>0.0</td>\n",
       "      <td>0.003920</td>\n",
       "      <td>-0.003420</td>\n",
       "      <td>0.573177</td>\n",
       "      <td>0.716515</td>\n",
       "      <td>0.201619</td>\n",
       "      <td>0.239637</td>\n",
       "      <td>0.000000</td>\n",
       "    </tr>\n",
       "    <tr>\n",
       "      <th>98</th>\n",
       "      <td>0.054972</td>\n",
       "      <td>-0.549615</td>\n",
       "      <td>0.000000</td>\n",
       "      <td>0.000000</td>\n",
       "      <td>0.0</td>\n",
       "      <td>0.003884</td>\n",
       "      <td>-0.003400</td>\n",
       "      <td>0.532496</td>\n",
       "      <td>0.721396</td>\n",
       "      <td>0.201977</td>\n",
       "      <td>0.241454</td>\n",
       "      <td>0.000000</td>\n",
       "    </tr>\n",
       "    <tr>\n",
       "      <th>99</th>\n",
       "      <td>0.055485</td>\n",
       "      <td>-0.548333</td>\n",
       "      <td>0.000000</td>\n",
       "      <td>0.000000</td>\n",
       "      <td>0.0</td>\n",
       "      <td>0.003851</td>\n",
       "      <td>-0.003381</td>\n",
       "      <td>0.491725</td>\n",
       "      <td>0.726268</td>\n",
       "      <td>0.202299</td>\n",
       "      <td>0.243257</td>\n",
       "      <td>0.000000</td>\n",
       "    </tr>\n",
       "    <tr>\n",
       "      <th>100</th>\n",
       "      <td>0.056016</td>\n",
       "      <td>-0.546885</td>\n",
       "      <td>0.000000</td>\n",
       "      <td>0.000000</td>\n",
       "      <td>0.0</td>\n",
       "      <td>0.003819</td>\n",
       "      <td>-0.003361</td>\n",
       "      <td>0.450873</td>\n",
       "      <td>0.731132</td>\n",
       "      <td>0.202588</td>\n",
       "      <td>0.245045</td>\n",
       "      <td>0.000000</td>\n",
       "    </tr>\n",
       "  </tbody>\n",
       "</table>\n",
       "<p>101 rows × 12 columns</p>\n",
       "</div>"
      ],
      "text/plain": [
       "            0         1         2         3    4         5         6  \\\n",
       "0    0.000000  0.000000  0.000000  0.000000  0.0  0.000000  0.000000   \n",
       "1    0.651009  0.258472 -0.482912  0.043169  0.0  0.007891 -0.001187   \n",
       "2    0.651009  0.258472 -0.482912  0.043169  0.0  0.007891 -0.001187   \n",
       "3    0.623972  0.410961 -0.649446  0.059744  0.0  0.014270 -0.002025   \n",
       "4    0.598913  0.504592 -0.651575  0.063107  0.0  0.019194 -0.002615   \n",
       "..        ...       ...       ...       ...  ...       ...       ...   \n",
       "96   0.054008 -0.551645  0.000000  0.000000  0.0  0.003958 -0.003439   \n",
       "97   0.054480 -0.550721  0.000000  0.000000  0.0  0.003920 -0.003420   \n",
       "98   0.054972 -0.549615  0.000000  0.000000  0.0  0.003884 -0.003400   \n",
       "99   0.055485 -0.548333  0.000000  0.000000  0.0  0.003851 -0.003381   \n",
       "100  0.056016 -0.546885  0.000000  0.000000  0.0  0.003819 -0.003361   \n",
       "\n",
       "            7         8         9        10        11  \n",
       "0    0.000000  0.000000  0.000000  0.000000  0.000000  \n",
       "1    0.001537  0.016414  0.000000  0.002240 -0.013383  \n",
       "2    0.001537  0.016414  0.000000  0.002240 -0.013383  \n",
       "3    0.022546  0.031911  0.000000  0.004773 -0.026868  \n",
       "4    0.058833  0.046809  0.000000  0.007460 -0.040028  \n",
       "..        ...       ...       ...       ...       ...  \n",
       "96   0.613758  0.711627  0.201223  0.237807  0.000000  \n",
       "97   0.573177  0.716515  0.201619  0.239637  0.000000  \n",
       "98   0.532496  0.721396  0.201977  0.241454  0.000000  \n",
       "99   0.491725  0.726268  0.202299  0.243257  0.000000  \n",
       "100  0.450873  0.731132  0.202588  0.245045  0.000000  \n",
       "\n",
       "[101 rows x 12 columns]"
      ]
     },
     "execution_count": 202,
     "metadata": {},
     "output_type": "execute_result"
    }
   ],
   "source": [
    "table_reg"
   ]
  },
  {
   "cell_type": "code",
   "execution_count": 206,
   "metadata": {},
   "outputs": [
    {
     "data": {
      "image/png": "[encoded data removed]",
      "text/plain": [
       "<Figure size 720x432 with 1 Axes>"
      ]
     },
     "metadata": {
      "needs_background": "light"
     },
     "output_type": "display_data"
    }
   ],
   "source": [
    "table_reg.plot(title='Beta Values with Coordinate Descent\\n L1 Regularization $\\lambda =20$',figsize=(10,6))\n",
    "plt.legend(A, loc='upper right')\n",
    "plt.xlabel('Iteration')\n",
    "plt.ylabel('Beta Values')\n",
    "plt.show()"
   ]
  },
  {
   "cell_type": "markdown",
   "metadata": {},
   "source": [
    "# EXERCISE 3: CONCLUSION"
   ]
  },
  {
   "cell_type": "markdown",
   "metadata": {},
   "source": [
    "Betas of non regularized model is greater than regularized one.\n",
    "Regularization forces to Betas to be zero to overcome overfitting."
   ]
  },
  {
   "cell_type": "code",
   "execution_count": null,
   "metadata": {},
   "outputs": [],
   "source": []
  }
 ],
 "metadata": {
  "kernelspec": {
   "display_name": "Python 3",
   "language": "python",
   "name": "python3"
  },
  "language_info": {
   "codemirror_mode": {
    "name": "ipython",
    "version": 3
   },
   "file_extension": ".py",
   "mimetype": "text/x-python",
   "name": "python",
   "nbconvert_exporter": "python",
   "pygments_lexer": "ipython3",
   "version": "3.8.3"
  }
 },
 "nbformat": 4,
 "nbformat_minor": 4
}
