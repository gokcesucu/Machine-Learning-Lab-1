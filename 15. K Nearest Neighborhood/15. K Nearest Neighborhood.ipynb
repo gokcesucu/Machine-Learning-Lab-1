{
 "cells": [
  {
   "cell_type": "markdown",
   "metadata": {},
   "source": [
    "# K Nearest Neighboorhood \n",
    "## Gökce Sucu 246112"
   ]
  },
  {
   "cell_type": "markdown",
   "metadata": {},
   "source": [
    "## EXERCISE 0:\n",
    "## DATASET PREPROCESSING"
   ]
  },
  {
   "cell_type": "markdown",
   "metadata": {},
   "source": [
    "### 1. IMPORTING THE LIBRARIES"
   ]
  },
  {
   "cell_type": "code",
   "execution_count": 1,
   "metadata": {},
   "outputs": [],
   "source": [
    "import pandas as pd\n",
    "import numpy as np\n",
    "import matplotlib.pyplot as plt\n",
    "import random\n",
    "import math"
   ]
  },
  {
   "cell_type": "markdown",
   "metadata": {},
   "source": [
    "### 2. READING AND COMBINING THE ALL DATA SET"
   ]
  },
  {
   "cell_type": "markdown",
   "metadata": {},
   "source": [
    "#### 2.1 Reading the Data Summary"
   ]
  },
  {
   "cell_type": "code",
   "execution_count": 2,
   "metadata": {},
   "outputs": [
    {
     "data": {
      "text/html": [
       "<div>\n",
       "<style scoped>\n",
       "    .dataframe tbody tr th:only-of-type {\n",
       "        vertical-align: middle;\n",
       "    }\n",
       "\n",
       "    .dataframe tbody tr th {\n",
       "        vertical-align: top;\n",
       "    }\n",
       "\n",
       "    .dataframe thead th {\n",
       "        text-align: right;\n",
       "    }\n",
       "</style>\n",
       "<table border=\"1\" class=\"dataframe\">\n",
       "  <thead>\n",
       "    <tr style=\"text-align: right;\">\n",
       "      <th></th>\n",
       "      <th>ID</th>\n",
       "      <th>Type</th>\n",
       "      <th>Name</th>\n",
       "      <th>Train</th>\n",
       "      <th>Test</th>\n",
       "      <th>Class</th>\n",
       "      <th>Length</th>\n",
       "      <th>ED (w=0)</th>\n",
       "      <th>DTW (learned_w)</th>\n",
       "      <th>DTW (w=100)</th>\n",
       "      <th>Default rate</th>\n",
       "      <th>Data donor/editor</th>\n",
       "    </tr>\n",
       "  </thead>\n",
       "  <tbody>\n",
       "    <tr>\n",
       "      <th>0</th>\n",
       "      <td>1</td>\n",
       "      <td>Image</td>\n",
       "      <td>Adiac</td>\n",
       "      <td>390</td>\n",
       "      <td>391</td>\n",
       "      <td>37</td>\n",
       "      <td>176</td>\n",
       "      <td>0.3887</td>\n",
       "      <td>0.3913 (3)</td>\n",
       "      <td>0.3964</td>\n",
       "      <td>0.9591</td>\n",
       "      <td>A. Jalba</td>\n",
       "    </tr>\n",
       "    <tr>\n",
       "      <th>1</th>\n",
       "      <td>2</td>\n",
       "      <td>Image</td>\n",
       "      <td>ArrowHead</td>\n",
       "      <td>36</td>\n",
       "      <td>175</td>\n",
       "      <td>3</td>\n",
       "      <td>251</td>\n",
       "      <td>0.2000</td>\n",
       "      <td>0.2000 (0)</td>\n",
       "      <td>0.2971</td>\n",
       "      <td>0.6057</td>\n",
       "      <td>L. Ye &amp; E. Keogh</td>\n",
       "    </tr>\n",
       "    <tr>\n",
       "      <th>2</th>\n",
       "      <td>3</td>\n",
       "      <td>Spectro</td>\n",
       "      <td>Beef</td>\n",
       "      <td>30</td>\n",
       "      <td>30</td>\n",
       "      <td>5</td>\n",
       "      <td>470</td>\n",
       "      <td>0.3333</td>\n",
       "      <td>0.3333 (0)</td>\n",
       "      <td>0.3667</td>\n",
       "      <td>0.8000</td>\n",
       "      <td>K. Kemsley &amp;  A. Bagnall</td>\n",
       "    </tr>\n",
       "    <tr>\n",
       "      <th>3</th>\n",
       "      <td>4</td>\n",
       "      <td>Image</td>\n",
       "      <td>BeetleFly</td>\n",
       "      <td>20</td>\n",
       "      <td>20</td>\n",
       "      <td>2</td>\n",
       "      <td>512</td>\n",
       "      <td>0.2500</td>\n",
       "      <td>0.3000 (7)</td>\n",
       "      <td>0.3000</td>\n",
       "      <td>0.5000</td>\n",
       "      <td>J. Hills &amp; A. Bagnall</td>\n",
       "    </tr>\n",
       "    <tr>\n",
       "      <th>4</th>\n",
       "      <td>5</td>\n",
       "      <td>Image</td>\n",
       "      <td>BirdChicken</td>\n",
       "      <td>20</td>\n",
       "      <td>20</td>\n",
       "      <td>2</td>\n",
       "      <td>512</td>\n",
       "      <td>0.4500</td>\n",
       "      <td>0.3000 (6)</td>\n",
       "      <td>0.2500</td>\n",
       "      <td>0.5000</td>\n",
       "      <td>J. Hills &amp; A. Bagnall</td>\n",
       "    </tr>\n",
       "    <tr>\n",
       "      <th>...</th>\n",
       "      <td>...</td>\n",
       "      <td>...</td>\n",
       "      <td>...</td>\n",
       "      <td>...</td>\n",
       "      <td>...</td>\n",
       "      <td>...</td>\n",
       "      <td>...</td>\n",
       "      <td>...</td>\n",
       "      <td>...</td>\n",
       "      <td>...</td>\n",
       "      <td>...</td>\n",
       "      <td>...</td>\n",
       "    </tr>\n",
       "    <tr>\n",
       "      <th>123</th>\n",
       "      <td>124</td>\n",
       "      <td>Spectrum</td>\n",
       "      <td>SemgHandMovementCh2</td>\n",
       "      <td>450</td>\n",
       "      <td>450</td>\n",
       "      <td>6</td>\n",
       "      <td>1500</td>\n",
       "      <td>0.6311</td>\n",
       "      <td>0.3622 (1)</td>\n",
       "      <td>0.4156</td>\n",
       "      <td>0.8333</td>\n",
       "      <td>C.-C. M. Yeh</td>\n",
       "    </tr>\n",
       "    <tr>\n",
       "      <th>124</th>\n",
       "      <td>125</td>\n",
       "      <td>Spectrum</td>\n",
       "      <td>SemgHandSubjectCh2</td>\n",
       "      <td>450</td>\n",
       "      <td>450</td>\n",
       "      <td>5</td>\n",
       "      <td>1500</td>\n",
       "      <td>0.5956</td>\n",
       "      <td>0.2000 (3)</td>\n",
       "      <td>0.2733</td>\n",
       "      <td>0.8000</td>\n",
       "      <td>C.-C. M. Yeh</td>\n",
       "    </tr>\n",
       "    <tr>\n",
       "      <th>125</th>\n",
       "      <td>126</td>\n",
       "      <td>Sensor</td>\n",
       "      <td>ShakeGestureWiimoteZ</td>\n",
       "      <td>50</td>\n",
       "      <td>50</td>\n",
       "      <td>10</td>\n",
       "      <td>Vary</td>\n",
       "      <td>0.4000</td>\n",
       "      <td>0.1600 (6)</td>\n",
       "      <td>0.1400</td>\n",
       "      <td>0.9000</td>\n",
       "      <td>J. Guna</td>\n",
       "    </tr>\n",
       "    <tr>\n",
       "      <th>126</th>\n",
       "      <td>127</td>\n",
       "      <td>Simulated</td>\n",
       "      <td>SmoothSubspace</td>\n",
       "      <td>150</td>\n",
       "      <td>150</td>\n",
       "      <td>3</td>\n",
       "      <td>15</td>\n",
       "      <td>0.0933</td>\n",
       "      <td>0.0533 (1)</td>\n",
       "      <td>0.1733</td>\n",
       "      <td>0.6667</td>\n",
       "      <td>X. Huang</td>\n",
       "    </tr>\n",
       "    <tr>\n",
       "      <th>127</th>\n",
       "      <td>128</td>\n",
       "      <td>Simulated</td>\n",
       "      <td>UMD</td>\n",
       "      <td>36</td>\n",
       "      <td>144</td>\n",
       "      <td>3</td>\n",
       "      <td>150</td>\n",
       "      <td>0.2361</td>\n",
       "      <td>0.0278 (6)</td>\n",
       "      <td>0.0069</td>\n",
       "      <td>0.6667</td>\n",
       "      <td>Joseph Fourier University</td>\n",
       "    </tr>\n",
       "  </tbody>\n",
       "</table>\n",
       "<p>128 rows × 12 columns</p>\n",
       "</div>"
      ],
      "text/plain": [
       "      ID       Type                  Name  Train   Test   Class Length  \\\n",
       "0      1      Image                 Adiac     390    391     37    176   \n",
       "1      2      Image             ArrowHead      36    175      3    251   \n",
       "2      3    Spectro                  Beef      30     30      5    470   \n",
       "3      4      Image             BeetleFly      20     20      2    512   \n",
       "4      5      Image           BirdChicken      20     20      2    512   \n",
       "..   ...        ...                   ...     ...    ...    ...    ...   \n",
       "123  124   Spectrum   SemgHandMovementCh2     450    450      6   1500   \n",
       "124  125   Spectrum    SemgHandSubjectCh2     450    450      5   1500   \n",
       "125  126     Sensor  ShakeGestureWiimoteZ      50     50     10   Vary   \n",
       "126  127  Simulated        SmoothSubspace     150    150      3     15   \n",
       "127  128  Simulated                   UMD      36    144      3    150   \n",
       "\n",
       "     ED (w=0) DTW (learned_w)   DTW (w=100)  Default rate  \\\n",
       "0      0.3887       0.3913 (3)       0.3964        0.9591   \n",
       "1      0.2000       0.2000 (0)       0.2971        0.6057   \n",
       "2      0.3333       0.3333 (0)       0.3667        0.8000   \n",
       "3      0.2500       0.3000 (7)       0.3000        0.5000   \n",
       "4      0.4500       0.3000 (6)       0.2500        0.5000   \n",
       "..        ...              ...          ...           ...   \n",
       "123    0.6311       0.3622 (1)       0.4156        0.8333   \n",
       "124    0.5956       0.2000 (3)       0.2733        0.8000   \n",
       "125    0.4000       0.1600 (6)       0.1400        0.9000   \n",
       "126    0.0933       0.0533 (1)       0.1733        0.6667   \n",
       "127    0.2361       0.0278 (6)       0.0069        0.6667   \n",
       "\n",
       "             Data donor/editor  \n",
       "0                     A. Jalba  \n",
       "1             L. Ye & E. Keogh  \n",
       "2     K. Kemsley &  A. Bagnall  \n",
       "3        J. Hills & A. Bagnall  \n",
       "4        J. Hills & A. Bagnall  \n",
       "..                         ...  \n",
       "123               C.-C. M. Yeh  \n",
       "124               C.-C. M. Yeh  \n",
       "125                    J. Guna  \n",
       "126                   X. Huang  \n",
       "127  Joseph Fourier University  \n",
       "\n",
       "[128 rows x 12 columns]"
      ]
     },
     "execution_count": 2,
     "metadata": {},
     "output_type": "execute_result"
    }
   ],
   "source": [
    "data_summary = pd.read_csv('DataSummary.csv')\n",
    "data_summary"
   ]
  },
  {
   "cell_type": "markdown",
   "metadata": {},
   "source": [
    "So, we have 128 different data sets."
   ]
  },
  {
   "cell_type": "markdown",
   "metadata": {},
   "source": [
    "#### 2.2 List of Data Names"
   ]
  },
  {
   "cell_type": "code",
   "execution_count": 3,
   "metadata": {},
   "outputs": [
    {
     "data": {
      "text/plain": [
       "['Adiac',\n",
       " 'ArrowHead',\n",
       " 'Beef',\n",
       " 'BeetleFly',\n",
       " 'BirdChicken',\n",
       " 'Car',\n",
       " 'CBF',\n",
       " 'ChlorineConcentration',\n",
       " 'CinCECGTorso',\n",
       " 'Coffee',\n",
       " 'Computers',\n",
       " 'CricketX',\n",
       " 'CricketY',\n",
       " 'CricketZ',\n",
       " 'DiatomSizeReduction',\n",
       " 'DistalPhalanxOutlineAgeGroup',\n",
       " 'DistalPhalanxOutlineCorrect',\n",
       " 'DistalPhalanxTW',\n",
       " 'Earthquakes',\n",
       " 'ECG200',\n",
       " 'ECG5000',\n",
       " 'ECGFiveDays',\n",
       " 'ElectricDevices',\n",
       " 'FaceAll',\n",
       " 'FaceFour',\n",
       " 'FacesUCR',\n",
       " 'FiftyWords',\n",
       " 'Fish',\n",
       " 'FordA',\n",
       " 'FordB',\n",
       " 'GunPoint',\n",
       " 'Ham',\n",
       " 'HandOutlines',\n",
       " 'Haptics',\n",
       " 'Herring',\n",
       " 'InlineSkate',\n",
       " 'InsectWingbeatSound',\n",
       " 'ItalyPowerDemand',\n",
       " 'LargeKitchenAppliances',\n",
       " 'Lightning2',\n",
       " 'Lightning7',\n",
       " 'Mallat',\n",
       " 'Meat',\n",
       " 'MedicalImages',\n",
       " 'MiddlePhalanxOutlineAgeGroup',\n",
       " 'MiddlePhalanxOutlineCorrect',\n",
       " 'MiddlePhalanxTW',\n",
       " 'MoteStrain',\n",
       " 'NonInvasiveFetalECGThorax1',\n",
       " 'NonInvasiveFetalECGThorax2',\n",
       " 'OliveOil',\n",
       " 'OSULeaf',\n",
       " 'PhalangesOutlinesCorrect',\n",
       " 'Phoneme',\n",
       " 'Plane',\n",
       " 'ProximalPhalanxOutlineAgeGroup',\n",
       " 'ProximalPhalanxOutlineCorrect',\n",
       " 'ProximalPhalanxTW',\n",
       " 'RefrigerationDevices',\n",
       " 'ScreenType',\n",
       " 'ShapeletSim',\n",
       " 'ShapesAll',\n",
       " 'SmallKitchenAppliances',\n",
       " 'SonyAIBORobotSurface1',\n",
       " 'SonyAIBORobotSurface2',\n",
       " 'StarLightCurves',\n",
       " 'Strawberry',\n",
       " 'SwedishLeaf',\n",
       " 'Symbols',\n",
       " 'SyntheticControl',\n",
       " 'ToeSegmentation1',\n",
       " 'ToeSegmentation2',\n",
       " 'Trace',\n",
       " 'TwoLeadECG',\n",
       " 'TwoPatterns',\n",
       " 'UWaveGestureLibraryAll',\n",
       " 'UWaveGestureLibraryX',\n",
       " 'UWaveGestureLibraryY',\n",
       " 'UWaveGestureLibraryZ',\n",
       " 'Wafer',\n",
       " 'Wine',\n",
       " 'WordSynonyms',\n",
       " 'Worms',\n",
       " 'WormsTwoClass',\n",
       " 'Yoga',\n",
       " 'ACSF1',\n",
       " 'AllGestureWiimoteX',\n",
       " 'AllGestureWiimoteY',\n",
       " 'AllGestureWiimoteZ',\n",
       " 'BME',\n",
       " 'Chinatown',\n",
       " 'Crop',\n",
       " 'DodgerLoopDay',\n",
       " 'DodgerLoopGame',\n",
       " 'DodgerLoopWeekend',\n",
       " 'EOGHorizontalSignal',\n",
       " 'EOGVerticalSignal',\n",
       " 'EthanolLevel',\n",
       " 'FreezerRegularTrain',\n",
       " 'FreezerSmallTrain',\n",
       " 'Fungi',\n",
       " 'GestureMidAirD1',\n",
       " 'GestureMidAirD2',\n",
       " 'GestureMidAirD3',\n",
       " 'GesturePebbleZ1',\n",
       " 'GesturePebbleZ2',\n",
       " 'GunPointAgeSpan',\n",
       " 'GunPointMaleVersusFemale',\n",
       " 'GunPointOldVersusYoung',\n",
       " 'HouseTwenty',\n",
       " 'InsectEPGRegularTrain',\n",
       " 'InsectEPGSmallTrain',\n",
       " 'MelbournePedestrian',\n",
       " 'MixedShapesRegularTrain',\n",
       " 'MixedShapesSmallTrain',\n",
       " 'PickupGestureWiimoteZ',\n",
       " 'PigAirwayPressure',\n",
       " 'PigArtPressure',\n",
       " 'PigCVP',\n",
       " 'PLAID',\n",
       " 'PowerCons',\n",
       " 'Rock',\n",
       " 'SemgHandGenderCh2',\n",
       " 'SemgHandMovementCh2',\n",
       " 'SemgHandSubjectCh2',\n",
       " 'ShakeGestureWiimoteZ',\n",
       " 'SmoothSubspace',\n",
       " 'UMD']"
      ]
     },
     "execution_count": 3,
     "metadata": {},
     "output_type": "execute_result"
    }
   ],
   "source": [
    "name_of_datas= list(data_summary['Name'])\n",
    "name_of_datas"
   ]
  },
  {
   "cell_type": "markdown",
   "metadata": {},
   "source": [
    "#### 2.3 Creating 128 Datasets by Combining Train and Test Sets"
   ]
  },
  {
   "cell_type": "code",
   "execution_count": 4,
   "metadata": {},
   "outputs": [],
   "source": [
    "combined_datas =[]\n",
    "\n",
    "for i in range(0,128):\n",
    "    file_name = name_of_datas[i]\n",
    "    file_train_name = file_name + '_TRAIN.tsv'\n",
    "    file_test_name = file_name + '_TEST.tsv'\n",
    "    file_train = pd.read_csv(file_train_name,header=None,sep='\\t')\n",
    "    file_test = pd.read_csv(file_test_name,header=None,sep='\\t')\n",
    "    file = pd.concat([file_train,file_test],axis=0,ignore_index=True)\n",
    "    combined_datas.append(file)   "
   ]
  },
  {
   "cell_type": "markdown",
   "metadata": {},
   "source": [
    "#### 3. PADDLING"
   ]
  },
  {
   "cell_type": "markdown",
   "metadata": {},
   "source": [
    "#### 3.1 Finding The Datasets that Have not Equal Length Samples"
   ]
  },
  {
   "cell_type": "markdown",
   "metadata": {},
   "source": [
    "To find datas dont have same length samples, I am gonna use data summary file. In this data, there are some datas which have vary length. This is what we are looking for."
   ]
  },
  {
   "cell_type": "code",
   "execution_count": 5,
   "metadata": {
    "scrolled": true
   },
   "outputs": [
    {
     "data": {
      "text/html": [
       "<div>\n",
       "<style scoped>\n",
       "    .dataframe tbody tr th:only-of-type {\n",
       "        vertical-align: middle;\n",
       "    }\n",
       "\n",
       "    .dataframe tbody tr th {\n",
       "        vertical-align: top;\n",
       "    }\n",
       "\n",
       "    .dataframe thead th {\n",
       "        text-align: right;\n",
       "    }\n",
       "</style>\n",
       "<table border=\"1\" class=\"dataframe\">\n",
       "  <thead>\n",
       "    <tr style=\"text-align: right;\">\n",
       "      <th></th>\n",
       "      <th>ID</th>\n",
       "      <th>Type</th>\n",
       "      <th>Name</th>\n",
       "      <th>Train</th>\n",
       "      <th>Test</th>\n",
       "      <th>Class</th>\n",
       "      <th>Length</th>\n",
       "      <th>ED (w=0)</th>\n",
       "      <th>DTW (learned_w)</th>\n",
       "      <th>DTW (w=100)</th>\n",
       "      <th>Default rate</th>\n",
       "      <th>Data donor/editor</th>\n",
       "    </tr>\n",
       "  </thead>\n",
       "  <tbody>\n",
       "    <tr>\n",
       "      <th>86</th>\n",
       "      <td>87</td>\n",
       "      <td>Sensor</td>\n",
       "      <td>AllGestureWiimoteX</td>\n",
       "      <td>300</td>\n",
       "      <td>700</td>\n",
       "      <td>10</td>\n",
       "      <td>Vary</td>\n",
       "      <td>0.4843</td>\n",
       "      <td>0.2829 (14)</td>\n",
       "      <td>0.2843</td>\n",
       "      <td>0.9000</td>\n",
       "      <td>J. Guna</td>\n",
       "    </tr>\n",
       "    <tr>\n",
       "      <th>87</th>\n",
       "      <td>88</td>\n",
       "      <td>Sensor</td>\n",
       "      <td>AllGestureWiimoteY</td>\n",
       "      <td>300</td>\n",
       "      <td>700</td>\n",
       "      <td>10</td>\n",
       "      <td>Vary</td>\n",
       "      <td>0.4314</td>\n",
       "      <td>0.2700 (9)</td>\n",
       "      <td>0.2714</td>\n",
       "      <td>0.9000</td>\n",
       "      <td>J. Guna</td>\n",
       "    </tr>\n",
       "    <tr>\n",
       "      <th>88</th>\n",
       "      <td>89</td>\n",
       "      <td>Sensor</td>\n",
       "      <td>AllGestureWiimoteZ</td>\n",
       "      <td>300</td>\n",
       "      <td>700</td>\n",
       "      <td>10</td>\n",
       "      <td>Vary</td>\n",
       "      <td>0.5457</td>\n",
       "      <td>0.3486 (11)</td>\n",
       "      <td>0.3571</td>\n",
       "      <td>0.9000</td>\n",
       "      <td>J. Guna</td>\n",
       "    </tr>\n",
       "    <tr>\n",
       "      <th>101</th>\n",
       "      <td>102</td>\n",
       "      <td>Trajectory</td>\n",
       "      <td>GestureMidAirD1</td>\n",
       "      <td>208</td>\n",
       "      <td>130</td>\n",
       "      <td>26</td>\n",
       "      <td>Vary</td>\n",
       "      <td>0.4231</td>\n",
       "      <td>0.3615 (5)</td>\n",
       "      <td>0.4308</td>\n",
       "      <td>0.9615</td>\n",
       "      <td>H. A. Dau</td>\n",
       "    </tr>\n",
       "    <tr>\n",
       "      <th>102</th>\n",
       "      <td>103</td>\n",
       "      <td>Trajectory</td>\n",
       "      <td>GestureMidAirD2</td>\n",
       "      <td>208</td>\n",
       "      <td>130</td>\n",
       "      <td>26</td>\n",
       "      <td>Vary</td>\n",
       "      <td>0.5077</td>\n",
       "      <td>0.4000 (6)</td>\n",
       "      <td>0.3923</td>\n",
       "      <td>0.9615</td>\n",
       "      <td>H. A. Dau</td>\n",
       "    </tr>\n",
       "    <tr>\n",
       "      <th>103</th>\n",
       "      <td>104</td>\n",
       "      <td>Trajectory</td>\n",
       "      <td>GestureMidAirD3</td>\n",
       "      <td>208</td>\n",
       "      <td>130</td>\n",
       "      <td>26</td>\n",
       "      <td>Vary</td>\n",
       "      <td>0.6538</td>\n",
       "      <td>0.6231 (1)</td>\n",
       "      <td>0.6769</td>\n",
       "      <td>0.9615</td>\n",
       "      <td>H. A. Dau</td>\n",
       "    </tr>\n",
       "    <tr>\n",
       "      <th>104</th>\n",
       "      <td>105</td>\n",
       "      <td>Sensor</td>\n",
       "      <td>GesturePebbleZ1</td>\n",
       "      <td>132</td>\n",
       "      <td>172</td>\n",
       "      <td>6</td>\n",
       "      <td>Vary</td>\n",
       "      <td>0.2674</td>\n",
       "      <td>0.1744 (2)</td>\n",
       "      <td>0.2093</td>\n",
       "      <td>0.8140</td>\n",
       "      <td>I. Maglogiannis</td>\n",
       "    </tr>\n",
       "    <tr>\n",
       "      <th>105</th>\n",
       "      <td>106</td>\n",
       "      <td>Sensor</td>\n",
       "      <td>GesturePebbleZ2</td>\n",
       "      <td>146</td>\n",
       "      <td>158</td>\n",
       "      <td>6</td>\n",
       "      <td>Vary</td>\n",
       "      <td>0.3291</td>\n",
       "      <td>0.2215 (6)</td>\n",
       "      <td>0.3291</td>\n",
       "      <td>0.8101</td>\n",
       "      <td>I. Maglogiannis</td>\n",
       "    </tr>\n",
       "    <tr>\n",
       "      <th>115</th>\n",
       "      <td>116</td>\n",
       "      <td>Sensor</td>\n",
       "      <td>PickupGestureWiimoteZ</td>\n",
       "      <td>50</td>\n",
       "      <td>50</td>\n",
       "      <td>10</td>\n",
       "      <td>Vary</td>\n",
       "      <td>0.4400</td>\n",
       "      <td>0.3400 (17)</td>\n",
       "      <td>0.3400</td>\n",
       "      <td>0.9000</td>\n",
       "      <td>J. Guna</td>\n",
       "    </tr>\n",
       "    <tr>\n",
       "      <th>119</th>\n",
       "      <td>120</td>\n",
       "      <td>Device</td>\n",
       "      <td>PLAID</td>\n",
       "      <td>537</td>\n",
       "      <td>537</td>\n",
       "      <td>11</td>\n",
       "      <td>Vary</td>\n",
       "      <td>0.4767</td>\n",
       "      <td>0.1657 (12)</td>\n",
       "      <td>0.1639</td>\n",
       "      <td>0.8380</td>\n",
       "      <td>P. Schafer</td>\n",
       "    </tr>\n",
       "    <tr>\n",
       "      <th>125</th>\n",
       "      <td>126</td>\n",
       "      <td>Sensor</td>\n",
       "      <td>ShakeGestureWiimoteZ</td>\n",
       "      <td>50</td>\n",
       "      <td>50</td>\n",
       "      <td>10</td>\n",
       "      <td>Vary</td>\n",
       "      <td>0.4000</td>\n",
       "      <td>0.1600 (6)</td>\n",
       "      <td>0.1400</td>\n",
       "      <td>0.9000</td>\n",
       "      <td>J. Guna</td>\n",
       "    </tr>\n",
       "  </tbody>\n",
       "</table>\n",
       "</div>"
      ],
      "text/plain": [
       "      ID        Type                   Name  Train   Test   Class Length  \\\n",
       "86    87      Sensor     AllGestureWiimoteX     300    700     10   Vary   \n",
       "87    88      Sensor     AllGestureWiimoteY     300    700     10   Vary   \n",
       "88    89      Sensor     AllGestureWiimoteZ     300    700     10   Vary   \n",
       "101  102  Trajectory        GestureMidAirD1     208    130     26   Vary   \n",
       "102  103  Trajectory        GestureMidAirD2     208    130     26   Vary   \n",
       "103  104  Trajectory        GestureMidAirD3     208    130     26   Vary   \n",
       "104  105      Sensor        GesturePebbleZ1     132    172      6   Vary   \n",
       "105  106      Sensor        GesturePebbleZ2     146    158      6   Vary   \n",
       "115  116      Sensor  PickupGestureWiimoteZ      50     50     10   Vary   \n",
       "119  120      Device                  PLAID     537    537     11   Vary   \n",
       "125  126      Sensor   ShakeGestureWiimoteZ      50     50     10   Vary   \n",
       "\n",
       "     ED (w=0) DTW (learned_w)   DTW (w=100)  Default rate Data donor/editor  \n",
       "86     0.4843      0.2829 (14)       0.2843        0.9000           J. Guna  \n",
       "87     0.4314       0.2700 (9)       0.2714        0.9000           J. Guna  \n",
       "88     0.5457      0.3486 (11)       0.3571        0.9000           J. Guna  \n",
       "101    0.4231       0.3615 (5)       0.4308        0.9615         H. A. Dau  \n",
       "102    0.5077       0.4000 (6)       0.3923        0.9615         H. A. Dau  \n",
       "103    0.6538       0.6231 (1)       0.6769        0.9615         H. A. Dau  \n",
       "104    0.2674       0.1744 (2)       0.2093        0.8140   I. Maglogiannis  \n",
       "105    0.3291       0.2215 (6)       0.3291        0.8101   I. Maglogiannis  \n",
       "115    0.4400      0.3400 (17)       0.3400        0.9000           J. Guna  \n",
       "119    0.4767      0.1657 (12)       0.1639        0.8380        P. Schafer  \n",
       "125    0.4000       0.1600 (6)       0.1400        0.9000           J. Guna  "
      ]
     },
     "execution_count": 5,
     "metadata": {},
     "output_type": "execute_result"
    }
   ],
   "source": [
    "datas_havenot_same_length_sample=data_summary[data_summary['Length']=='Vary']\n",
    "datas_havenot_same_length_sample"
   ]
  },
  {
   "cell_type": "code",
   "execution_count": 6,
   "metadata": {},
   "outputs": [],
   "source": [
    "datas_havenot_same_length_sample_list=datas_havenot_same_length_sample['ID'].values-1"
   ]
  },
  {
   "cell_type": "code",
   "execution_count": 7,
   "metadata": {},
   "outputs": [
    {
     "name": "stdout",
     "output_type": "stream",
     "text": [
      "Datasets Havenot Same Length Samples=\n",
      " [ 86  87  88 101 102 103 104 105 115 119 125]\n"
     ]
    }
   ],
   "source": [
    "print('Datasets Havenot Same Length Samples=\\n',datas_havenot_same_length_sample_list)"
   ]
  },
  {
   "cell_type": "markdown",
   "metadata": {},
   "source": [
    "In conclusion, there are 9 datasets that have different sample length."
   ]
  },
  {
   "cell_type": "markdown",
   "metadata": {},
   "source": [
    "#### 3.2 Padding Function"
   ]
  },
  {
   "cell_type": "markdown",
   "metadata": {},
   "source": [
    "THe main idea of padding, finding tha nan values in a row, then adding this amount zero point to the left and deleting the right part of row."
   ]
  },
  {
   "cell_type": "code",
   "execution_count": 8,
   "metadata": {},
   "outputs": [],
   "source": [
    "def padding(dataset):\n",
    "    matrix = dataset.values\n",
    "    first_column =matrix[:,0]\n",
    "    matrix_witohut_first_column = matrix[:,1:]\n",
    "\n",
    "    number_of_samples = int(matrix.shape[0])\n",
    "    length_of_a_sample =int(matrix.shape[1])\n",
    "\n",
    "    for k in range(0,number_of_samples):\n",
    "        number_of_nan_values = np.isnan(matrix[k]).sum()\n",
    "        if number_of_nan_values!=0:\n",
    "            zeros = [0]*number_of_nan_values\n",
    "            class_type= [first_column[k]]\n",
    "            rest= matrix_witohut_first_column[k][:-number_of_nan_values].tolist()\n",
    "            matrix[k]=np.array(class_type + zeros + rest)\n",
    "    \n",
    "    return pd.DataFrame(matrix)\n",
    "    "
   ]
  },
  {
   "cell_type": "markdown",
   "metadata": {},
   "source": [
    "#### 3.3 Padding the Dataset "
   ]
  },
  {
   "cell_type": "markdown",
   "metadata": {},
   "source": [
    "Now, we will apply padding to the whole dataests."
   ]
  },
  {
   "cell_type": "code",
   "execution_count": 9,
   "metadata": {},
   "outputs": [],
   "source": [
    "for i in datas_havenot_same_length_sample_list:\n",
    "    combined_datas[i]=padding(combined_datas[i])"
   ]
  },
  {
   "cell_type": "code",
   "execution_count": 10,
   "metadata": {},
   "outputs": [
    {
     "data": {
      "text/html": [
       "<div>\n",
       "<style scoped>\n",
       "    .dataframe tbody tr th:only-of-type {\n",
       "        vertical-align: middle;\n",
       "    }\n",
       "\n",
       "    .dataframe tbody tr th {\n",
       "        vertical-align: top;\n",
       "    }\n",
       "\n",
       "    .dataframe thead th {\n",
       "        text-align: right;\n",
       "    }\n",
       "</style>\n",
       "<table border=\"1\" class=\"dataframe\">\n",
       "  <thead>\n",
       "    <tr style=\"text-align: right;\">\n",
       "      <th></th>\n",
       "      <th>0</th>\n",
       "      <th>1</th>\n",
       "      <th>2</th>\n",
       "      <th>3</th>\n",
       "      <th>4</th>\n",
       "      <th>5</th>\n",
       "      <th>6</th>\n",
       "      <th>7</th>\n",
       "      <th>8</th>\n",
       "      <th>9</th>\n",
       "      <th>...</th>\n",
       "      <th>491</th>\n",
       "      <th>492</th>\n",
       "      <th>493</th>\n",
       "      <th>494</th>\n",
       "      <th>495</th>\n",
       "      <th>496</th>\n",
       "      <th>497</th>\n",
       "      <th>498</th>\n",
       "      <th>499</th>\n",
       "      <th>500</th>\n",
       "    </tr>\n",
       "  </thead>\n",
       "  <tbody>\n",
       "    <tr>\n",
       "      <th>0</th>\n",
       "      <td>1.0</td>\n",
       "      <td>0.0</td>\n",
       "      <td>0.0</td>\n",
       "      <td>0.0</td>\n",
       "      <td>0.0</td>\n",
       "      <td>0.0</td>\n",
       "      <td>0.0</td>\n",
       "      <td>0.0</td>\n",
       "      <td>0.0</td>\n",
       "      <td>0.0</td>\n",
       "      <td>...</td>\n",
       "      <td>0.192</td>\n",
       "      <td>0.192</td>\n",
       "      <td>0.154</td>\n",
       "      <td>0.154</td>\n",
       "      <td>0.154</td>\n",
       "      <td>0.192</td>\n",
       "      <td>0.192</td>\n",
       "      <td>0.192</td>\n",
       "      <td>0.192</td>\n",
       "      <td>0.192</td>\n",
       "    </tr>\n",
       "    <tr>\n",
       "      <th>1</th>\n",
       "      <td>1.0</td>\n",
       "      <td>0.0</td>\n",
       "      <td>0.0</td>\n",
       "      <td>0.0</td>\n",
       "      <td>0.0</td>\n",
       "      <td>0.0</td>\n",
       "      <td>0.0</td>\n",
       "      <td>0.0</td>\n",
       "      <td>0.0</td>\n",
       "      <td>0.0</td>\n",
       "      <td>...</td>\n",
       "      <td>-0.846</td>\n",
       "      <td>-0.846</td>\n",
       "      <td>-0.769</td>\n",
       "      <td>-0.769</td>\n",
       "      <td>-0.731</td>\n",
       "      <td>-0.731</td>\n",
       "      <td>-0.692</td>\n",
       "      <td>-0.692</td>\n",
       "      <td>-0.692</td>\n",
       "      <td>-0.615</td>\n",
       "    </tr>\n",
       "    <tr>\n",
       "      <th>2</th>\n",
       "      <td>1.0</td>\n",
       "      <td>0.0</td>\n",
       "      <td>0.0</td>\n",
       "      <td>0.0</td>\n",
       "      <td>0.0</td>\n",
       "      <td>0.0</td>\n",
       "      <td>0.0</td>\n",
       "      <td>0.0</td>\n",
       "      <td>0.0</td>\n",
       "      <td>0.0</td>\n",
       "      <td>...</td>\n",
       "      <td>0.154</td>\n",
       "      <td>0.154</td>\n",
       "      <td>0.154</td>\n",
       "      <td>0.154</td>\n",
       "      <td>0.154</td>\n",
       "      <td>0.115</td>\n",
       "      <td>0.077</td>\n",
       "      <td>0.077</td>\n",
       "      <td>0.115</td>\n",
       "      <td>0.115</td>\n",
       "    </tr>\n",
       "    <tr>\n",
       "      <th>3</th>\n",
       "      <td>1.0</td>\n",
       "      <td>0.0</td>\n",
       "      <td>0.0</td>\n",
       "      <td>0.0</td>\n",
       "      <td>0.0</td>\n",
       "      <td>0.0</td>\n",
       "      <td>0.0</td>\n",
       "      <td>0.0</td>\n",
       "      <td>0.0</td>\n",
       "      <td>0.0</td>\n",
       "      <td>...</td>\n",
       "      <td>0.192</td>\n",
       "      <td>0.192</td>\n",
       "      <td>0.154</td>\n",
       "      <td>0.154</td>\n",
       "      <td>0.154</td>\n",
       "      <td>0.154</td>\n",
       "      <td>0.154</td>\n",
       "      <td>0.154</td>\n",
       "      <td>0.154</td>\n",
       "      <td>0.115</td>\n",
       "    </tr>\n",
       "    <tr>\n",
       "      <th>4</th>\n",
       "      <td>1.0</td>\n",
       "      <td>0.0</td>\n",
       "      <td>0.0</td>\n",
       "      <td>0.0</td>\n",
       "      <td>0.0</td>\n",
       "      <td>0.0</td>\n",
       "      <td>0.0</td>\n",
       "      <td>0.0</td>\n",
       "      <td>0.0</td>\n",
       "      <td>0.0</td>\n",
       "      <td>...</td>\n",
       "      <td>0.231</td>\n",
       "      <td>0.231</td>\n",
       "      <td>0.269</td>\n",
       "      <td>0.269</td>\n",
       "      <td>0.231</td>\n",
       "      <td>0.192</td>\n",
       "      <td>0.192</td>\n",
       "      <td>0.192</td>\n",
       "      <td>0.154</td>\n",
       "      <td>0.154</td>\n",
       "    </tr>\n",
       "    <tr>\n",
       "      <th>...</th>\n",
       "      <td>...</td>\n",
       "      <td>...</td>\n",
       "      <td>...</td>\n",
       "      <td>...</td>\n",
       "      <td>...</td>\n",
       "      <td>...</td>\n",
       "      <td>...</td>\n",
       "      <td>...</td>\n",
       "      <td>...</td>\n",
       "      <td>...</td>\n",
       "      <td>...</td>\n",
       "      <td>...</td>\n",
       "      <td>...</td>\n",
       "      <td>...</td>\n",
       "      <td>...</td>\n",
       "      <td>...</td>\n",
       "      <td>...</td>\n",
       "      <td>...</td>\n",
       "      <td>...</td>\n",
       "      <td>...</td>\n",
       "      <td>...</td>\n",
       "    </tr>\n",
       "    <tr>\n",
       "      <th>995</th>\n",
       "      <td>10.0</td>\n",
       "      <td>0.0</td>\n",
       "      <td>0.0</td>\n",
       "      <td>0.0</td>\n",
       "      <td>0.0</td>\n",
       "      <td>0.0</td>\n",
       "      <td>0.0</td>\n",
       "      <td>0.0</td>\n",
       "      <td>0.0</td>\n",
       "      <td>0.0</td>\n",
       "      <td>...</td>\n",
       "      <td>0.038</td>\n",
       "      <td>0.077</td>\n",
       "      <td>0.077</td>\n",
       "      <td>0.077</td>\n",
       "      <td>0.077</td>\n",
       "      <td>0.115</td>\n",
       "      <td>0.115</td>\n",
       "      <td>0.115</td>\n",
       "      <td>0.077</td>\n",
       "      <td>0.077</td>\n",
       "    </tr>\n",
       "    <tr>\n",
       "      <th>996</th>\n",
       "      <td>10.0</td>\n",
       "      <td>0.0</td>\n",
       "      <td>0.0</td>\n",
       "      <td>0.0</td>\n",
       "      <td>0.0</td>\n",
       "      <td>0.0</td>\n",
       "      <td>0.0</td>\n",
       "      <td>0.0</td>\n",
       "      <td>0.0</td>\n",
       "      <td>0.0</td>\n",
       "      <td>...</td>\n",
       "      <td>-0.115</td>\n",
       "      <td>-0.115</td>\n",
       "      <td>-0.115</td>\n",
       "      <td>-0.115</td>\n",
       "      <td>-0.115</td>\n",
       "      <td>-0.115</td>\n",
       "      <td>-0.077</td>\n",
       "      <td>-0.077</td>\n",
       "      <td>-0.077</td>\n",
       "      <td>-0.077</td>\n",
       "    </tr>\n",
       "    <tr>\n",
       "      <th>997</th>\n",
       "      <td>10.0</td>\n",
       "      <td>0.0</td>\n",
       "      <td>0.0</td>\n",
       "      <td>0.0</td>\n",
       "      <td>0.0</td>\n",
       "      <td>0.0</td>\n",
       "      <td>0.0</td>\n",
       "      <td>0.0</td>\n",
       "      <td>0.0</td>\n",
       "      <td>0.0</td>\n",
       "      <td>...</td>\n",
       "      <td>-0.154</td>\n",
       "      <td>-0.154</td>\n",
       "      <td>-0.154</td>\n",
       "      <td>-0.115</td>\n",
       "      <td>0.038</td>\n",
       "      <td>0.077</td>\n",
       "      <td>0.115</td>\n",
       "      <td>0.346</td>\n",
       "      <td>0.346</td>\n",
       "      <td>0.538</td>\n",
       "    </tr>\n",
       "    <tr>\n",
       "      <th>998</th>\n",
       "      <td>10.0</td>\n",
       "      <td>0.0</td>\n",
       "      <td>0.0</td>\n",
       "      <td>0.0</td>\n",
       "      <td>0.0</td>\n",
       "      <td>0.0</td>\n",
       "      <td>0.0</td>\n",
       "      <td>0.0</td>\n",
       "      <td>0.0</td>\n",
       "      <td>0.0</td>\n",
       "      <td>...</td>\n",
       "      <td>0.192</td>\n",
       "      <td>0.192</td>\n",
       "      <td>0.192</td>\n",
       "      <td>0.154</td>\n",
       "      <td>0.192</td>\n",
       "      <td>0.154</td>\n",
       "      <td>0.154</td>\n",
       "      <td>0.154</td>\n",
       "      <td>0.154</td>\n",
       "      <td>0.115</td>\n",
       "    </tr>\n",
       "    <tr>\n",
       "      <th>999</th>\n",
       "      <td>10.0</td>\n",
       "      <td>0.0</td>\n",
       "      <td>0.0</td>\n",
       "      <td>0.0</td>\n",
       "      <td>0.0</td>\n",
       "      <td>0.0</td>\n",
       "      <td>0.0</td>\n",
       "      <td>0.0</td>\n",
       "      <td>0.0</td>\n",
       "      <td>0.0</td>\n",
       "      <td>...</td>\n",
       "      <td>0.077</td>\n",
       "      <td>0.038</td>\n",
       "      <td>0.038</td>\n",
       "      <td>0.038</td>\n",
       "      <td>0.077</td>\n",
       "      <td>0.115</td>\n",
       "      <td>0.115</td>\n",
       "      <td>0.077</td>\n",
       "      <td>0.038</td>\n",
       "      <td>0.038</td>\n",
       "    </tr>\n",
       "  </tbody>\n",
       "</table>\n",
       "<p>1000 rows × 501 columns</p>\n",
       "</div>"
      ],
      "text/plain": [
       "      0    1    2    3    4    5    6    7    8    9    ...    491    492  \\\n",
       "0     1.0  0.0  0.0  0.0  0.0  0.0  0.0  0.0  0.0  0.0  ...  0.192  0.192   \n",
       "1     1.0  0.0  0.0  0.0  0.0  0.0  0.0  0.0  0.0  0.0  ... -0.846 -0.846   \n",
       "2     1.0  0.0  0.0  0.0  0.0  0.0  0.0  0.0  0.0  0.0  ...  0.154  0.154   \n",
       "3     1.0  0.0  0.0  0.0  0.0  0.0  0.0  0.0  0.0  0.0  ...  0.192  0.192   \n",
       "4     1.0  0.0  0.0  0.0  0.0  0.0  0.0  0.0  0.0  0.0  ...  0.231  0.231   \n",
       "..    ...  ...  ...  ...  ...  ...  ...  ...  ...  ...  ...    ...    ...   \n",
       "995  10.0  0.0  0.0  0.0  0.0  0.0  0.0  0.0  0.0  0.0  ...  0.038  0.077   \n",
       "996  10.0  0.0  0.0  0.0  0.0  0.0  0.0  0.0  0.0  0.0  ... -0.115 -0.115   \n",
       "997  10.0  0.0  0.0  0.0  0.0  0.0  0.0  0.0  0.0  0.0  ... -0.154 -0.154   \n",
       "998  10.0  0.0  0.0  0.0  0.0  0.0  0.0  0.0  0.0  0.0  ...  0.192  0.192   \n",
       "999  10.0  0.0  0.0  0.0  0.0  0.0  0.0  0.0  0.0  0.0  ...  0.077  0.038   \n",
       "\n",
       "       493    494    495    496    497    498    499    500  \n",
       "0    0.154  0.154  0.154  0.192  0.192  0.192  0.192  0.192  \n",
       "1   -0.769 -0.769 -0.731 -0.731 -0.692 -0.692 -0.692 -0.615  \n",
       "2    0.154  0.154  0.154  0.115  0.077  0.077  0.115  0.115  \n",
       "3    0.154  0.154  0.154  0.154  0.154  0.154  0.154  0.115  \n",
       "4    0.269  0.269  0.231  0.192  0.192  0.192  0.154  0.154  \n",
       "..     ...    ...    ...    ...    ...    ...    ...    ...  \n",
       "995  0.077  0.077  0.077  0.115  0.115  0.115  0.077  0.077  \n",
       "996 -0.115 -0.115 -0.115 -0.115 -0.077 -0.077 -0.077 -0.077  \n",
       "997 -0.154 -0.115  0.038  0.077  0.115  0.346  0.346  0.538  \n",
       "998  0.192  0.154  0.192  0.154  0.154  0.154  0.154  0.115  \n",
       "999  0.038  0.038  0.077  0.115  0.115  0.077  0.038  0.038  \n",
       "\n",
       "[1000 rows x 501 columns]"
      ]
     },
     "execution_count": 10,
     "metadata": {},
     "output_type": "execute_result"
    }
   ],
   "source": [
    "#example \n",
    "combined_datas[86]"
   ]
  },
  {
   "cell_type": "markdown",
   "metadata": {},
   "source": [
    "### 4. SPLITTING INTO TEST, TRAIN, VALIDATION SETS"
   ]
  },
  {
   "cell_type": "markdown",
   "metadata": {},
   "source": [
    "#### 4.1 Defining the Functions"
   ]
  },
  {
   "cell_type": "code",
   "execution_count": 54,
   "metadata": {},
   "outputs": [],
   "source": [
    "def train_val_test(dataset):\n",
    "    sample_length = int(dataset.shape[1])\n",
    "    set_of_classes = set(dataset[0])\n",
    "\n",
    "    maximum_sample = dataset.shape[0]\n",
    "    minimum_sample = maximum_sample\n",
    "    \n",
    "    removed_set_of_classes=set(dataset[0])\n",
    "    \n",
    "    for i in set_of_classes:\n",
    "        n =dataset[dataset[0]==i].shape[0]\n",
    "        if n>3 and n<minimum_sample:\n",
    "            minimum_sample=n\n",
    "        elif n<3:\n",
    "            removed_set_of_classes.remove(i)\n",
    "            \n",
    "    indexing = list(range(0,sample_length))\n",
    "    \n",
    "    train_set=pd.DataFrame(columns= indexing)\n",
    "    valid_set=pd.DataFrame(columns = indexing)\n",
    "    test_set=pd.DataFrame(columns = indexing)\n",
    "    \n",
    "    \n",
    "    number_of_train_samples = math.floor(minimum_sample*0.7)\n",
    "    number_of_valid_samples=math.floor((minimum_sample-number_of_train_samples)/2)\n",
    "    \n",
    "    for j in removed_set_of_classes:\n",
    "        table_a_class = dataset[dataset[0]==j]\n",
    "        train_set=pd.concat([train_set,table_a_class.iloc[:number_of_train_samples,:]], axis=0)\n",
    "        valid_set=pd.concat([valid_set,table_a_class.iloc[number_of_train_samples:number_of_train_samples+number_of_valid_samples,:]], axis=0)\n",
    "        test_set=pd.concat([test_set,table_a_class.iloc[number_of_train_samples+number_of_valid_samples:minimum_sample,:]], axis=0)\n",
    "    \n",
    "    return train_set, valid_set, test_set\n",
    "\n",
    "    "
   ]
  },
  {
   "cell_type": "markdown",
   "metadata": {},
   "source": [
    "#### 4.2 Creating Train, Validation and Test Sets with Stratified Samples"
   ]
  },
  {
   "cell_type": "code",
   "execution_count": 55,
   "metadata": {},
   "outputs": [],
   "source": [
    "train_set = []\n",
    "valid_set = []\n",
    "test_set = []\n",
    "for i in range(0,128):\n",
    "    data = combined_datas[i]\n",
    "    train, valid,test= train_val_test(data)\n",
    "    train_set.append(train)\n",
    "    valid_set.append(valid)\n",
    "    test_set.append(test)\n",
    "    "
   ]
  },
  {
   "cell_type": "code",
   "execution_count": 56,
   "metadata": {},
   "outputs": [
    {
     "name": "stdout",
     "output_type": "stream",
     "text": [
      "128\n",
      "128\n",
      "128\n"
     ]
    }
   ],
   "source": [
    "print(len(train_set))\n",
    "print(len(valid_set))\n",
    "print(len(test_set))"
   ]
  },
  {
   "cell_type": "markdown",
   "metadata": {},
   "source": [
    "### 5. STANDARIZE THE DATASETS"
   ]
  },
  {
   "cell_type": "markdown",
   "metadata": {},
   "source": [
    "#### 5.1 Standarize Function"
   ]
  },
  {
   "cell_type": "code",
   "execution_count": 14,
   "metadata": {},
   "outputs": [],
   "source": [
    "def standardize_dataset(dataset):\n",
    "    matrix =dataset.values\n",
    "    \n",
    "    standard_deviation=np.std(matrix[:,1:])\n",
    "    mean = np.mean(matrix)\n",
    "    \n",
    "    rows =matrix.shape[0]\n",
    "    columns=matrix.shape[1]\n",
    "    \n",
    "    for i in range(0,rows):\n",
    "        for j in range(1,columns):\n",
    "            matrix[i][j]=(matrix[i][j]-mean)/standard_deviation\n",
    "            \n",
    "    return matrix"
   ]
  },
  {
   "cell_type": "markdown",
   "metadata": {},
   "source": [
    "#### 5.2 Standardize The Train Sets"
   ]
  },
  {
   "cell_type": "code",
   "execution_count": 15,
   "metadata": {},
   "outputs": [],
   "source": [
    "standard_train_set = []\n",
    "for i in range(0,128):\n",
    "    standard_train_set.append(standardize_dataset(train_set[i]))\n"
   ]
  },
  {
   "cell_type": "markdown",
   "metadata": {},
   "source": [
    "#### 5.3 Standardize The Valid Sets"
   ]
  },
  {
   "cell_type": "code",
   "execution_count": 16,
   "metadata": {},
   "outputs": [],
   "source": [
    "standard_valid_set = []\n",
    "for i in range(0,128):\n",
    "    standard_valid_set.append(standardize_dataset(valid_set[i]))"
   ]
  },
  {
   "cell_type": "markdown",
   "metadata": {},
   "source": [
    "#### 5.4 Standardize The Test Sets"
   ]
  },
  {
   "cell_type": "code",
   "execution_count": 17,
   "metadata": {},
   "outputs": [],
   "source": [
    "standard_test_set = []\n",
    "for i in range(0,128):\n",
    "    standard_test_set.append(standardize_dataset(test_set[i]))"
   ]
  },
  {
   "cell_type": "markdown",
   "metadata": {},
   "source": [
    "### 6. PLOTTING INTERESTING STATS"
   ]
  },
  {
   "cell_type": "markdown",
   "metadata": {},
   "source": [
    "#### 5.1 Total Length of Samples"
   ]
  },
  {
   "cell_type": "code",
   "execution_count": 18,
   "metadata": {},
   "outputs": [],
   "source": [
    "length_of_samples = []\n",
    "for i in range(0,128):\n",
    "    length_of_samples.append((combined_datas[i].shape[1]))"
   ]
  },
  {
   "cell_type": "code",
   "execution_count": 19,
   "metadata": {},
   "outputs": [
    {
     "data": {
      "image/png": "[encoded data removed]",
      "text/plain": [
       "<Figure size 864x504 with 1 Axes>"
      ]
     },
     "metadata": {
      "needs_background": "light"
     },
     "output_type": "display_data"
    }
   ],
   "source": [
    "plt.figure(figsize=(12,7))\n",
    "plt.title('TOTAL THE LENGTH OF SAMPLES')\n",
    "plt.plot(length_of_samples,'bo',length_of_samples,'k')\n",
    "plt.xlabel('Data Set')\n",
    "plt.ylabel('Length of Samples')\n",
    "plt.show()"
   ]
  },
  {
   "cell_type": "markdown",
   "metadata": {},
   "source": [
    "#### 5.2 Number of Classess"
   ]
  },
  {
   "cell_type": "code",
   "execution_count": 20,
   "metadata": {},
   "outputs": [],
   "source": [
    "number_of_classes =[]\n",
    "for i in range(0,128):\n",
    "    a =combined_datas[i]\n",
    "    b =len(set(a[0]))\n",
    "    number_of_classes.append(b)"
   ]
  },
  {
   "cell_type": "code",
   "execution_count": 21,
   "metadata": {},
   "outputs": [
    {
     "data": {
      "image/png": "[encoded data removed]",
      "text/plain": [
       "<Figure size 864x504 with 1 Axes>"
      ]
     },
     "metadata": {
      "needs_background": "light"
     },
     "output_type": "display_data"
    }
   ],
   "source": [
    "plt.figure(figsize=(12,7))\n",
    "plt.title('NUMBER OF CLASSES')\n",
    "plt.plot(list(range(0,128)),number_of_classes,'bo',list(range(0,128)),number_of_classes,'k')\n",
    "plt.xlabel('Dataset')\n",
    "plt.ylabel('Number of Classes')\n",
    "plt.show()"
   ]
  },
  {
   "cell_type": "markdown",
   "metadata": {},
   "source": [
    "#### 5.3 Total Length of Samples"
   ]
  },
  {
   "cell_type": "code",
   "execution_count": 22,
   "metadata": {},
   "outputs": [],
   "source": [
    "number_of_samples=[]\n",
    "for j in range(0,128):\n",
    "    number_of_samples.append((combined_datas[j].shape[0]))"
   ]
  },
  {
   "cell_type": "code",
   "execution_count": 23,
   "metadata": {},
   "outputs": [
    {
     "data": {
      "image/png": "[encoded data removed]",
      "text/plain": [
       "<Figure size 864x504 with 1 Axes>"
      ]
     },
     "metadata": {
      "needs_background": "light"
     },
     "output_type": "display_data"
    }
   ],
   "source": [
    "plt.figure(figsize=(12,7))\n",
    "plt.title('TOTAL THE NUMBER OF SAMPLES')\n",
    "plt.plot(number_of_samples,'bo',number_of_samples,'k')\n",
    "plt.xlabel('Data Set')\n",
    "plt.ylabel('Number of Samples')\n",
    "plt.show()"
   ]
  },
  {
   "cell_type": "markdown",
   "metadata": {},
   "source": [
    "# EXERCISE 2:\n",
    "# DATASET IMPUTATION WITH KNN"
   ]
  },
  {
   "cell_type": "markdown",
   "metadata": {},
   "source": [
    "## 2.1. DATASETS HAVING MISSING VALUES"
   ]
  },
  {
   "cell_type": "markdown",
   "metadata": {},
   "source": [
    "Now ,because we already did padding , so we will just look for NaN values in datasets to find missing values."
   ]
  },
  {
   "cell_type": "code",
   "execution_count": 24,
   "metadata": {},
   "outputs": [
    {
     "name": "stdout",
     "output_type": "stream",
     "text": [
      "92th datasets have 337 NaN Values\n",
      "93th datasets have 337 NaN Values\n",
      "94th datasets have 337 NaN Values\n",
      "112th datasets have 253 NaN Values\n"
     ]
    }
   ],
   "source": [
    "data_set_with_nan_values = []\n",
    "for i in range(0,128):\n",
    "    if combined_datas[i].isnull().sum().sum()!=0:\n",
    "        print(f'{i}th datasets have {combined_datas[i].isnull().sum().sum()} NaN Values')\n",
    "        data_set_with_nan_values.append(i)"
   ]
  },
  {
   "cell_type": "code",
   "execution_count": 25,
   "metadata": {},
   "outputs": [
    {
     "name": "stdout",
     "output_type": "stream",
     "text": [
      "List of Datasets Having missing Values:\n",
      " [92, 93, 94, 112]\n"
     ]
    }
   ],
   "source": [
    "print('List of Datasets Having missing Values:\\n',data_set_with_nan_values )"
   ]
  },
  {
   "cell_type": "code",
   "execution_count": 26,
   "metadata": {},
   "outputs": [
    {
     "data": {
      "text/plain": [
       "4"
      ]
     },
     "execution_count": 26,
     "metadata": {},
     "output_type": "execute_result"
    }
   ],
   "source": [
    "len(data_set_with_nan_values )"
   ]
  },
  {
   "cell_type": "markdown",
   "metadata": {},
   "source": [
    "So there are 4 datasets having missing values. So, we will use imputation for those 4 datasets."
   ]
  },
  {
   "cell_type": "markdown",
   "metadata": {},
   "source": [
    "## 2.2. IMPUTATION"
   ]
  },
  {
   "cell_type": "markdown",
   "metadata": {},
   "source": [
    "### 2.2.1 Defining The Functions"
   ]
  },
  {
   "cell_type": "markdown",
   "metadata": {},
   "source": [
    "#### 2.2.1.1 Euclid metric"
   ]
  },
  {
   "cell_type": "code",
   "execution_count": 27,
   "metadata": {},
   "outputs": [],
   "source": [
    "def euclid(x_one,x_two):  \n",
    "    dimension = int(x_one.shape[0])\n",
    "    distance = 0\n",
    "    \n",
    "    for i in range(1,dimension):\n",
    "        distance = distance + (x_one[i]-x_two[i])**2\n",
    "    \n",
    "    return  np.sqrt(distance)      "
   ]
  },
  {
   "cell_type": "markdown",
   "metadata": {},
   "source": [
    "#### 2.2.1.2 K-Neighborhood"
   ]
  },
  {
   "cell_type": "code",
   "execution_count": 28,
   "metadata": {},
   "outputs": [],
   "source": [
    "def k_neihborhood(rowth_index, dataset,k):\n",
    "    matrix = dataset.values\n",
    "    rows = int(matrix.shape[0])\n",
    "    columns = int(matrix.shape[1])\n",
    "    D=[]\n",
    "    for i in range(0,rows):\n",
    "        if i!=rowth_index:\n",
    "            D.append((euclid(matrix[rowth_index],matrix[i]),i))\n",
    "    D =sorted(D,key=lambda tup:tup[0])\n",
    "    return  D[:k] "
   ]
  },
  {
   "cell_type": "markdown",
   "metadata": {},
   "source": [
    "#### 2.2.2 Nearest Regression Algorithm"
   ]
  },
  {
   "cell_type": "code",
   "execution_count": 29,
   "metadata": {},
   "outputs": [],
   "source": [
    "def predict_knn_reg(rowth_index,dataset,k):\n",
    "    matrix = dataset.values\n",
    "    rows = int(matrix.shape[0])\n",
    "    columns=int(matrix.shape[1])\n",
    "    \n",
    "    D = k_neihborhood(rowth_index, dataset,k)\n",
    "    for i in range(0,columns):\n",
    "        prediction =0\n",
    "        for (a,b) in D:\n",
    "            prediction = prediction + matrix[b][i]\n",
    "        matrix[rowth_index][i]=prediction/4\n",
    "    \n",
    "    return matrix[rowth_index]      \n",
    "            "
   ]
  },
  {
   "cell_type": "markdown",
   "metadata": {},
   "source": [
    "### 2.2.2 Imputation for 92th Dataset"
   ]
  },
  {
   "cell_type": "markdown",
   "metadata": {},
   "source": [
    "#### 2.2.2.1 Finding the Places of Missing Values"
   ]
  },
  {
   "cell_type": "code",
   "execution_count": 30,
   "metadata": {},
   "outputs": [],
   "source": [
    "nan_values_rows = []\n",
    "matris = combined_datas[92].isnull()\n",
    "matris = matris.values\n",
    "rows = matris.shape[0]\n",
    "columns=matris.shape[1]\n",
    "\n",
    "for i in range(0,rows):\n",
    "    for j in range(0,columns):\n",
    "        if matris[i][j]==True:\n",
    "            nan_values_rows.append((i,j))\n",
    "    "
   ]
  },
  {
   "cell_type": "markdown",
   "metadata": {},
   "source": [
    "#### 2.2.2.2 Imputation"
   ]
  },
  {
   "cell_type": "code",
   "execution_count": 32,
   "metadata": {},
   "outputs": [],
   "source": [
    "for (a,b) in nan_values_rows:\n",
    "    combined_datas[92].iloc[a,b]=predict_knn_reg(a,combined_datas[92],5)[b]"
   ]
  },
  {
   "cell_type": "markdown",
   "metadata": {},
   "source": [
    "#### 2.2.2.3 Checking The NaN Values after Imputation"
   ]
  },
  {
   "cell_type": "code",
   "execution_count": 33,
   "metadata": {},
   "outputs": [
    {
     "data": {
      "text/plain": [
       "0"
      ]
     },
     "execution_count": 33,
     "metadata": {},
     "output_type": "execute_result"
    }
   ],
   "source": [
    "combined_datas[92].isnull().sum().sum()"
   ]
  },
  {
   "cell_type": "markdown",
   "metadata": {},
   "source": [
    "### 2.2.3 Imputation for 93th Dataset"
   ]
  },
  {
   "cell_type": "markdown",
   "metadata": {},
   "source": [
    "#### 2.2.3.1 Finding the Places of Missing Values"
   ]
  },
  {
   "cell_type": "code",
   "execution_count": 34,
   "metadata": {},
   "outputs": [],
   "source": [
    "nan_values_rows = []\n",
    "matris = combined_datas[93].isnull()\n",
    "matris = matris.values\n",
    "rows = matris.shape[0]\n",
    "columns=matris.shape[1]\n",
    "\n",
    "for i in range(0,rows):\n",
    "    for j in range(0,columns):\n",
    "        if matris[i][j]==True:\n",
    "            nan_values_rows.append((i,j))\n",
    "    "
   ]
  },
  {
   "cell_type": "markdown",
   "metadata": {},
   "source": [
    "####  2.2.3.2 Imputation"
   ]
  },
  {
   "cell_type": "code",
   "execution_count": 36,
   "metadata": {},
   "outputs": [],
   "source": [
    "seven= predict_knn_reg(7,combined_datas[93],5)\n",
    "fifteen=predict_knn_reg(15,combined_datas[93],5)\n",
    "nineteen=predict_knn_reg(19,combined_datas[93],5)\n",
    "twentyseven=predict_knn_reg(27,combined_datas[93],5)\n",
    "thirtythree=predict_knn_reg(33,combined_datas[93],5)\n",
    "fourtyone=predict_knn_reg(41,combined_datas[93],5)\n",
    "fourtytwo=predict_knn_reg(42,combined_datas[93],5)\n",
    "fiftytwo=predict_knn_reg(52,combined_datas[93],5)\n",
    "fiftyseven=predict_knn_reg(57,combined_datas[93],5)\n",
    "seventyseven=predict_knn_reg(77,combined_datas[93],5)\n",
    "ninetyfive=predict_knn_reg(95,combined_datas[93],5)\n",
    "onehundredseven=predict_knn_reg(107,combined_datas[93],5)\n",
    "onehundredten=predict_knn_reg(110,combined_datas[93],5)\n",
    "onehundredtwentyfour=predict_knn_reg(124,combined_datas[93],5)"
   ]
  },
  {
   "cell_type": "code",
   "execution_count": 37,
   "metadata": {},
   "outputs": [],
   "source": [
    "for a,b in nan_values_rows:\n",
    "    if a ==7:\n",
    "        combined_datas[93].iloc[a,b]=seven[b]\n",
    "    if a ==15:\n",
    "        combined_datas[93].iloc[a,b]=fifteen[b]\n",
    "    if a ==19:\n",
    "        combined_datas[93].iloc[a,b]=nineteen[b]\n",
    "    if a ==27:\n",
    "        combined_datas[93].iloc[a,b]=twentyseven[b]\n",
    "    if a ==33:\n",
    "        combined_datas[93].iloc[a,b]=thirtythree[b]\n",
    "    if a ==41:\n",
    "        combined_datas[93].iloc[a,b]=fourtyone[b]\n",
    "    if a ==42:\n",
    "        combined_datas[93].iloc[a,b]=fourtytwo[b]\n",
    "    if a ==52:\n",
    "        combined_datas[93].iloc[a,b]=fiftytwo[b]\n",
    "    if a ==57:\n",
    "        combined_datas[93].iloc[a,b]=fiftyseven[b]\n",
    "    if a ==77:\n",
    "        combined_datas[93].iloc[a,b]=seventyseven[b]\n",
    "    if a ==95:\n",
    "        combined_datas[93].iloc[a,b]=ninetyfive[b]\n",
    "    if a==107:\n",
    "        combined_datas[93].iloc[a,b]=onehundredseven[b]\n",
    "    if a==110:\n",
    "        combined_datas[93].iloc[a,b]=onehundredten[b]\n",
    "    if a==124:\n",
    "        combined_datas[93].iloc[a,b]=onehundredtwentyfour[b]    "
   ]
  },
  {
   "cell_type": "markdown",
   "metadata": {},
   "source": [
    "#### 2.2.3.3 Checking The NaN Values after Imputation"
   ]
  },
  {
   "cell_type": "code",
   "execution_count": 38,
   "metadata": {},
   "outputs": [
    {
     "data": {
      "text/plain": [
       "0"
      ]
     },
     "execution_count": 38,
     "metadata": {},
     "output_type": "execute_result"
    }
   ],
   "source": [
    "combined_datas[93].isnull().sum().sum()"
   ]
  },
  {
   "cell_type": "markdown",
   "metadata": {},
   "source": [
    "### 2.2.4 Imputation for 94th Dataset"
   ]
  },
  {
   "cell_type": "markdown",
   "metadata": {},
   "source": [
    "#### 2.2.4.1 Finding the Places of Missing Values"
   ]
  },
  {
   "cell_type": "code",
   "execution_count": 110,
   "metadata": {},
   "outputs": [],
   "source": [
    "nan_values_rows_second = []\n",
    "matris = combined_datas[94].isnull()\n",
    "matris = matris.values\n",
    "rows = matris.shape[0]\n",
    "columns=matris.shape[1]\n",
    "\n",
    "for i in range(0,rows):\n",
    "    for j in range(0,columns):\n",
    "        if matris[i][j]==True:\n",
    "            nan_values_rows_second.append((i,j))\n",
    "    "
   ]
  },
  {
   "cell_type": "markdown",
   "metadata": {},
   "source": [
    "#### 2.2.4.2 Imputation"
   ]
  },
  {
   "cell_type": "code",
   "execution_count": 41,
   "metadata": {},
   "outputs": [],
   "source": [
    "seventh = predict_knn_reg(7,combined_datas[94],5)\n",
    "ninth = predict_knn_reg(9,combined_datas[94],5)\n",
    "twentyfifth = predict_knn_reg(25,combined_datas[94],5)\n",
    "twentyeigthth=predict_knn_reg(28,combined_datas[94],5)\n",
    "fourtytwoth=predict_knn_reg(42,combined_datas[94],5)\n",
    "fourtyseventh=predict_knn_reg(47,combined_datas[94],5)\n",
    "fiftythreeth= predict_knn_reg(53,combined_datas[94],5)\n",
    "fiftyfourth=predict_knn_reg(54,combined_datas[94],5)\n",
    "sixtyninth=predict_knn_reg(69,combined_datas[94],5)\n",
    "seventyninth =predict_knn_reg(79,combined_datas[94],5)\n",
    "onehundredthirth=predict_knn_reg(103,combined_datas[94],5)\n",
    "onehundredtwentyseven=predict_knn_reg(127,combined_datas[94],5)\n",
    "onehundredthirtysix = predict_knn_reg(136,combined_datas[94],5)"
   ]
  },
  {
   "cell_type": "code",
   "execution_count": 42,
   "metadata": {},
   "outputs": [],
   "source": [
    "for a,b in nan_values_rows:\n",
    "    if a ==7:\n",
    "        combined_datas[94].iloc[a,b]=seventh[b]\n",
    "    if a ==9:\n",
    "        combined_datas[94].iloc[a,b]=ninth[b]\n",
    "    if a ==25:\n",
    "        combined_datas[94].iloc[a,b]=twentyfifth[b]\n",
    "    if a ==28:\n",
    "        combined_datas[94].iloc[a,b]=twentyeigthth[b]\n",
    "    if a ==42:\n",
    "        combined_datas[94].iloc[a,b]=fourtytwoth[b]\n",
    "    if a ==47:\n",
    "        combined_datas[94].iloc[a,b]=fourtyseventh[b]\n",
    "    if a ==53:\n",
    "        combined_datas[94].iloc[a,b]=fiftythreeth[b]\n",
    "    if a ==54:\n",
    "        combined_datas[94].iloc[a,b]=fiftyfourth[b]\n",
    "    if a ==69:\n",
    "        combined_datas[94].iloc[a,b]=sixtyninth[b]\n",
    "    if a ==79:\n",
    "        combined_datas[94].iloc[a,b]=seventyninth[b]\n",
    "    if a ==103:\n",
    "        combined_datas[94].iloc[a,b]=onehundredthirth[b]\n",
    "    if a ==127:\n",
    "        combined_datas[94].iloc[a,b]=onehundredtwentyseven[b]\n",
    "    if a ==136:\n",
    "        combined_datas[94].iloc[a,b]=onehundredthirtysix[b]    \n"
   ]
  },
  {
   "cell_type": "code",
   "execution_count": 103,
   "metadata": {},
   "outputs": [],
   "source": [
    "\n",
    "combined_datas[94].iloc[32,163]=predict_knn_reg(32,combined_datas[94],5)"
   ]
  },
  {
   "cell_type": "markdown",
   "metadata": {},
   "source": [
    "#### 2.2.4.3 Checking The NaN Values after Imputation"
   ]
  },
  {
   "cell_type": "code",
   "execution_count": 104,
   "metadata": {},
   "outputs": [
    {
     "data": {
      "text/plain": [
       "0"
      ]
     },
     "execution_count": 104,
     "metadata": {},
     "output_type": "execute_result"
    }
   ],
   "source": [
    "combined_datas[94].isnull().sum().sum()"
   ]
  },
  {
   "cell_type": "markdown",
   "metadata": {},
   "source": [
    "### 2.2.5 Imputation for 112th Dataset"
   ]
  },
  {
   "cell_type": "markdown",
   "metadata": {},
   "source": [
    "#### 2.2.5.1 Finding the Places of Missing Values"
   ]
  },
  {
   "cell_type": "code",
   "execution_count": 44,
   "metadata": {},
   "outputs": [],
   "source": [
    "nan_values_rows = []\n",
    "matris = combined_datas[112].isnull()\n",
    "matris = matris.values\n",
    "rows = matris.shape[0]\n",
    "columns=matris.shape[1]\n",
    "\n",
    "for i in range(0,rows):\n",
    "    for j in range(0,columns):\n",
    "        if matris[i][j]==True:\n",
    "            nan_values_rows.append((i,j))\n",
    "    "
   ]
  },
  {
   "cell_type": "markdown",
   "metadata": {},
   "source": [
    "#### 2.2.5.2 Imputation"
   ]
  },
  {
   "cell_type": "code",
   "execution_count": 46,
   "metadata": {},
   "outputs": [],
   "source": [
    "for (a,b) in nan_values_rows:\n",
    "    combined_datas[112].iloc[a,b]=predict_knn_reg(a,combined_datas[112],5)[b]"
   ]
  },
  {
   "cell_type": "markdown",
   "metadata": {},
   "source": [
    "#### 2.2.5.3 Checking The NaN Values after Imputation"
   ]
  },
  {
   "cell_type": "code",
   "execution_count": 47,
   "metadata": {},
   "outputs": [
    {
     "data": {
      "text/plain": [
       "0"
      ]
     },
     "execution_count": 47,
     "metadata": {},
     "output_type": "execute_result"
    }
   ],
   "source": [
    "combined_datas[112].isnull().sum().sum()"
   ]
  },
  {
   "cell_type": "markdown",
   "metadata": {},
   "source": [
    "### 2.2.6 After Imputation Whole Dataset"
   ]
  },
  {
   "cell_type": "code",
   "execution_count": 48,
   "metadata": {},
   "outputs": [],
   "source": [
    "all_nan_values =0\n",
    "for i in range(0,128):\n",
    "    all_nan_values=all_nan_values+combined_datas[i].isnull().sum().sum()"
   ]
  },
  {
   "cell_type": "code",
   "execution_count": 81,
   "metadata": {},
   "outputs": [
    {
     "data": {
      "text/plain": [
       "1"
      ]
     },
     "execution_count": 81,
     "metadata": {},
     "output_type": "execute_result"
    }
   ],
   "source": [
    "all_nan_values"
   ]
  },
  {
   "cell_type": "markdown",
   "metadata": {},
   "source": [
    "After imputation, there is no any NaN values."
   ]
  },
  {
   "cell_type": "markdown",
   "metadata": {},
   "source": [
    "## 2.3 K-NEAREST NEIGHBOUR CLASSIFIER"
   ]
  },
  {
   "cell_type": "markdown",
   "metadata": {},
   "source": [
    "### 2.3.1 Defining The Functions"
   ]
  },
  {
   "cell_type": "markdown",
   "metadata": {},
   "source": [
    "#### 2.3.1 Euclid Metric "
   ]
  },
  {
   "cell_type": "code",
   "execution_count": 154,
   "metadata": {},
   "outputs": [],
   "source": [
    "def euclid(x_one,x_two):  \n",
    "    dimension = int(x_one.shape[0])\n",
    "    distance = 0\n",
    "    \n",
    "    for i in range(1,dimension):\n",
    "        distance = distance + (x_one[i]-x_two[i])**2\n",
    "    \n",
    "    return  np.sqrt(distance)   "
   ]
  },
  {
   "cell_type": "markdown",
   "metadata": {},
   "source": [
    "#### 2.3.2 K-Neighboorhood"
   ]
  },
  {
   "cell_type": "code",
   "execution_count": 155,
   "metadata": {},
   "outputs": [],
   "source": [
    "def k_neihborhood(rowth_index, dataset,k):\n",
    "    matrix = dataset.values\n",
    "    rows = int(matrix.shape[0])\n",
    "    columns = int(matrix.shape[1])\n",
    "    D=[]\n",
    "    for i in range(0,rows):\n",
    "        if i!=rowth_index:\n",
    "            D.append((euclid(matrix[rowth_index],matrix[i]),i))\n",
    "    D =sorted(D,key=lambda tup:tup[0])\n",
    "    return  D[:k] "
   ]
  },
  {
   "cell_type": "markdown",
   "metadata": {},
   "source": [
    "#### 2.3.3 Nearest Neighbor Classification Algorithm"
   ]
  },
  {
   "cell_type": "code",
   "execution_count": 156,
   "metadata": {},
   "outputs": [],
   "source": [
    "def predict_knn_reg(rowth_index,dataset,k):\n",
    "    matrix = dataset.values\n",
    "    k_near_neighboorhood = k_neihborhood(rowth_index, dataset,k)\n",
    "    prediction=0\n",
    "    for (a,b) in  k_near_neighboorhood:\n",
    "        if matrix[b][0]==matrix[rowth_index][0]:\n",
    "            prediction=prediction+1\n",
    "        else:\n",
    "            prediction=prediction+0\n",
    "    return prediction/k   "
   ]
  },
  {
   "cell_type": "code",
   "execution_count": 157,
   "metadata": {},
   "outputs": [],
   "source": [
    "def accuracy_of_dataset(dataset,k):\n",
    "    accuracy=0\n",
    "    row = dataset.shape[0]\n",
    "    for i in range(0,row):\n",
    "        accuracy =accuracy + predict_knn_reg(i,dataset,k)\n",
    "    return accuracy  "
   ]
  },
  {
   "cell_type": "markdown",
   "metadata": {},
   "source": [
    "### 2.3.2 Maximizing The Accuracy"
   ]
  },
  {
   "cell_type": "markdown",
   "metadata": {},
   "source": [
    "Now, we will maximize the accuracy by changing k=1,3,5 on validation set. Becuase my computer is very slow, i will take just first 60 dataset."
   ]
  },
  {
   "cell_type": "markdown",
   "metadata": {},
   "source": [
    "#### For k=1"
   ]
  },
  {
   "cell_type": "code",
   "execution_count": 78,
   "metadata": {
    "collapsed": true
   },
   "outputs": [
    {
     "name": "stdout",
     "output_type": "stream",
     "text": [
      "0th\n",
      "1th\n",
      "2th\n",
      "3th\n",
      "4th\n",
      "5th\n",
      "6th\n",
      "7th\n",
      "8th\n",
      "9th\n",
      "10th\n",
      "11th\n",
      "12th\n",
      "13th\n",
      "14th\n",
      "15th\n",
      "16th\n",
      "17th\n",
      "18th\n",
      "19th\n",
      "20th\n",
      "21th\n",
      "22th\n",
      "23th\n",
      "24th\n",
      "25th\n",
      "26th\n",
      "27th\n",
      "28th\n",
      "29th\n",
      "30th\n",
      "31th\n",
      "32th\n",
      "33th\n",
      "34th\n",
      "35th\n",
      "36th\n",
      "37th\n",
      "38th\n",
      "39th\n",
      "40th\n",
      "41th\n",
      "42th\n",
      "43th\n",
      "44th\n",
      "45th\n",
      "46th\n",
      "47th\n",
      "48th\n",
      "49th\n",
      "50th\n",
      "51th\n",
      "52th\n",
      "53th\n",
      "54th\n",
      "55th\n",
      "56th\n",
      "57th\n",
      "58th\n",
      "59th\n"
     ]
    }
   ],
   "source": [
    "k=1\n",
    "total_accuarcy_one =[]\n",
    "for i in range(0,60):\n",
    "    total_accuarcy_one.append(accuracy_of_dataset(valid_set[i],k))\n",
    "    print(f'{i}th')"
   ]
  },
  {
   "cell_type": "markdown",
   "metadata": {},
   "source": [
    "#### For k=3"
   ]
  },
  {
   "cell_type": "code",
   "execution_count": 79,
   "metadata": {
    "collapsed": true
   },
   "outputs": [
    {
     "name": "stdout",
     "output_type": "stream",
     "text": [
      "0th\n",
      "1th\n",
      "2th\n",
      "3th\n",
      "4th\n",
      "5th\n",
      "6th\n",
      "7th\n",
      "8th\n",
      "9th\n",
      "10th\n",
      "11th\n",
      "12th\n",
      "13th\n",
      "14th\n",
      "15th\n",
      "16th\n",
      "17th\n",
      "18th\n",
      "19th\n",
      "20th\n",
      "21th\n",
      "22th\n",
      "23th\n",
      "24th\n",
      "25th\n",
      "26th\n",
      "27th\n",
      "28th\n",
      "29th\n",
      "30th\n",
      "31th\n",
      "32th\n",
      "33th\n",
      "34th\n",
      "35th\n",
      "36th\n",
      "37th\n",
      "38th\n",
      "39th\n",
      "40th\n",
      "41th\n",
      "42th\n",
      "43th\n",
      "44th\n",
      "45th\n",
      "46th\n",
      "47th\n",
      "48th\n",
      "49th\n",
      "50th\n",
      "51th\n",
      "52th\n",
      "53th\n",
      "54th\n",
      "55th\n",
      "56th\n",
      "57th\n",
      "58th\n",
      "59th\n"
     ]
    }
   ],
   "source": [
    "total_accuarcy_two =[]\n",
    "for i in range(0,60):\n",
    "    total_accuarcy_two.append(accuracy_of_dataset(valid_set[i],3))\n",
    "    print(f'{i}th')"
   ]
  },
  {
   "cell_type": "markdown",
   "metadata": {},
   "source": [
    "#### For k=5"
   ]
  },
  {
   "cell_type": "code",
   "execution_count": 80,
   "metadata": {
    "collapsed": true
   },
   "outputs": [
    {
     "name": "stdout",
     "output_type": "stream",
     "text": [
      "0th\n",
      "1th\n",
      "2th\n",
      "3th\n",
      "4th\n",
      "5th\n",
      "6th\n",
      "7th\n",
      "8th\n",
      "9th\n",
      "10th\n",
      "11th\n",
      "12th\n",
      "13th\n",
      "14th\n",
      "15th\n",
      "16th\n",
      "17th\n",
      "18th\n",
      "19th\n",
      "20th\n",
      "21th\n",
      "22th\n",
      "23th\n",
      "24th\n",
      "25th\n",
      "26th\n",
      "27th\n",
      "28th\n",
      "29th\n",
      "30th\n",
      "31th\n",
      "32th\n",
      "33th\n",
      "34th\n",
      "35th\n",
      "36th\n",
      "37th\n",
      "38th\n",
      "39th\n",
      "40th\n",
      "41th\n",
      "42th\n",
      "43th\n",
      "44th\n",
      "45th\n",
      "46th\n",
      "47th\n",
      "48th\n",
      "49th\n",
      "50th\n",
      "51th\n",
      "52th\n",
      "53th\n",
      "54th\n",
      "55th\n",
      "56th\n",
      "57th\n",
      "58th\n",
      "59th\n"
     ]
    }
   ],
   "source": [
    "total_accuarcy_three =[]\n",
    "for i in range(0,60):\n",
    "    total_accuarcy_three.append(accuracy_of_dataset(valid_set[i],5))\n",
    "    print(f'{i}th')"
   ]
  },
  {
   "cell_type": "code",
   "execution_count": 123,
   "metadata": {},
   "outputs": [
    {
     "data": {
      "image/png": "[encoded data removed]",
      "text/plain": [
       "<Figure size 936x576 with 1 Axes>"
      ]
     },
     "metadata": {
      "needs_background": "light"
     },
     "output_type": "display_data"
    }
   ],
   "source": [
    "plt.figure(figsize=(13,8))\n",
    "plt.title('Test Accuracy For First 60 Dataset')\n",
    "plt.plot(total_accuarcy_one, label ='k=1')\n",
    "plt.plot(total_accuarcy_two,label ='k=3')\n",
    "plt.plot(total_accuarcy_three, label ='k=5')\n",
    "plt.xlabel('First 60 Sets')\n",
    "plt.ylabel('Test Accuracy')\n",
    "plt.legend()\n",
    "plt.show()"
   ]
  },
  {
   "cell_type": "code",
   "execution_count": 97,
   "metadata": {},
   "outputs": [],
   "source": [
    "total_accuracy_all = [sum(total_accuarcy_one),sum(total_accuarcy_two),sum(total_accuarcy_three)]"
   ]
  },
  {
   "cell_type": "code",
   "execution_count": 124,
   "metadata": {},
   "outputs": [
    {
     "data": {
      "image/png": "[encoded data removed]",
      "text/plain": [
       "<Figure size 432x288 with 1 Axes>"
      ]
     },
     "metadata": {
      "needs_background": "light"
     },
     "output_type": "display_data"
    }
   ],
   "source": [
    "plt.title('Final Test Accuracy Across All Datasets')\n",
    "plt.plot(('1','3','5') ,total_accuracy_all,'bo',('1','3','5') ,total_accuracy_all,'k')\n",
    "plt.xlabel('k Classifier Hyperparameter')\n",
    "plt.ylabel('Test Accuracy')\n",
    "plt.show()"
   ]
  },
  {
   "cell_type": "markdown",
   "metadata": {},
   "source": [
    "# EXERCISE 2\n",
    "# TIME SERIES CLASSIFICATION with VARIOUS DISTANCE MEASURES"
   ]
  },
  {
   "cell_type": "markdown",
   "metadata": {},
   "source": [
    " Now, we will find a single most optimal distance measure across all time series. Because of my computer is very slow, I would take just first 20 datasets."
   ]
  },
  {
   "cell_type": "markdown",
   "metadata": {},
   "source": [
    "## EX 2.1 TUNING  K and SELECTING MEASURE THE METRIC"
   ]
  },
  {
   "cell_type": "code",
   "execution_count": 126,
   "metadata": {},
   "outputs": [],
   "source": [
    "from scipy.spatial.distance import pdist, squareform"
   ]
  },
  {
   "cell_type": "markdown",
   "metadata": {},
   "source": [
    "### 2.1.1 Minkowski "
   ]
  },
  {
   "cell_type": "code",
   "execution_count": 132,
   "metadata": {},
   "outputs": [],
   "source": [
    "Y = pdist(X, 'minkowski', p=2.)"
   ]
  },
  {
   "cell_type": "code",
   "execution_count": 135,
   "metadata": {},
   "outputs": [],
   "source": [
    "def k_neihborhood_minkowski(rowth_index, dataset,k):\n",
    "    matrix = dataset.values\n",
    "    rows = int(matrix.shape[0])\n",
    "    columns = int(matrix.shape[1])\n",
    "    D=[]\n",
    "    for i in range(0,rows):\n",
    "        if i!=rowth_index:\n",
    "            X = np.array([matrix[rowth_index],matrix[i] ])\n",
    "            D.append((pdist(X, 'minkowski', p=2.),i))\n",
    "    D =sorted(D,key=lambda tup:tup[0])\n",
    "    return  D[:k] "
   ]
  },
  {
   "cell_type": "code",
   "execution_count": 136,
   "metadata": {},
   "outputs": [],
   "source": [
    "def predict_knn_reg_minkowski(rowth_index,dataset,k):\n",
    "    matrix = dataset.values\n",
    "    k_near_neighboorhood = k_neihborhood_minkowski(rowth_index, dataset,k)\n",
    "    prediction=0\n",
    "    for (a,b) in  k_near_neighboorhood:\n",
    "        if matrix[b][0]==matrix[rowth_index][0]:\n",
    "            prediction=prediction+1\n",
    "        else:\n",
    "            prediction=prediction+0\n",
    "    return prediction/k "
   ]
  },
  {
   "cell_type": "code",
   "execution_count": 138,
   "metadata": {},
   "outputs": [],
   "source": [
    "def accuracy_of_dataset_minkowski(dataset,k):\n",
    "    accuracy=0\n",
    "    row = dataset.shape[0]\n",
    "    for i in range(0,row):\n",
    "        accuracy =accuracy + predict_knn_reg_minkowski(i,dataset,k)\n",
    "    return accuracy  "
   ]
  },
  {
   "cell_type": "code",
   "execution_count": 161,
   "metadata": {
    "collapsed": true
   },
   "outputs": [
    {
     "name": "stdout",
     "output_type": "stream",
     "text": [
      "0th okay\n",
      "1th okay\n",
      "2th okay\n",
      "3th okay\n",
      "4th okay\n",
      "5th okay\n",
      "6th okay\n",
      "7th okay\n",
      "8th okay\n",
      "9th okay\n",
      "10th okay\n",
      "11th okay\n",
      "12th okay\n",
      "13th okay\n",
      "14th okay\n",
      "15th okay\n",
      "16th okay\n",
      "17th okay\n",
      "18th okay\n",
      "19th okay\n"
     ]
    }
   ],
   "source": [
    "accuracy_over_twenty_datas_minkowski =[]\n",
    "for i in range(0,20):\n",
    "    accuracy_over_twenty_datas_minkowski.append(accuracy_of_dataset_minkowski(valid_set[i],1))\n",
    "    print(f'{i}th okay')"
   ]
  },
  {
   "cell_type": "markdown",
   "metadata": {},
   "source": [
    "### 2.1.2 Cityblock"
   ]
  },
  {
   "cell_type": "code",
   "execution_count": 162,
   "metadata": {},
   "outputs": [],
   "source": [
    "#Y = pdist(X, 'cityblock')\n",
    "\n",
    "def k_neihborhood_cityblock(rowth_index, dataset,k):\n",
    "    matrix = dataset.values\n",
    "    rows = int(matrix.shape[0])\n",
    "    columns = int(matrix.shape[1])\n",
    "    D=[]\n",
    "    for i in range(0,rows):\n",
    "        if i!=rowth_index:\n",
    "            X = np.array([matrix[rowth_index],matrix[i] ])\n",
    "            D.append((pdist(X, 'cityblock' ),i))\n",
    "    D =sorted(D,key=lambda tup:tup[0])\n",
    "    return  D[:k] \n",
    "\n",
    "\n",
    "\n",
    "def predict_knn_reg_cityblock(rowth_index,dataset,k):\n",
    "    matrix = dataset.values\n",
    "    k_near_neighboorhood = k_neihborhood_cityblock(rowth_index, dataset,k)\n",
    "    prediction=0\n",
    "    for (a,b) in  k_near_neighboorhood:\n",
    "        if matrix[b][0]==matrix[rowth_index][0]:\n",
    "            prediction=prediction+1\n",
    "        else:\n",
    "            prediction=prediction+0\n",
    "    return prediction/k \n",
    "\n",
    "def accuracy_of_dataset_cityblock(dataset,k):\n",
    "    accuracy=0\n",
    "    row = dataset.shape[0]\n",
    "    for i in range(0,row):\n",
    "        accuracy =accuracy + predict_knn_reg_cityblock(i,dataset,k)\n",
    "    return accuracy  \n",
    "\n"
   ]
  },
  {
   "cell_type": "code",
   "execution_count": 163,
   "metadata": {
    "collapsed": true
   },
   "outputs": [
    {
     "name": "stdout",
     "output_type": "stream",
     "text": [
      "0th okay\n",
      "1th okay\n",
      "2th okay\n",
      "3th okay\n",
      "4th okay\n",
      "5th okay\n",
      "6th okay\n",
      "7th okay\n",
      "8th okay\n",
      "9th okay\n",
      "10th okay\n",
      "11th okay\n",
      "12th okay\n",
      "13th okay\n",
      "14th okay\n",
      "15th okay\n",
      "16th okay\n",
      "17th okay\n",
      "18th okay\n",
      "19th okay\n"
     ]
    }
   ],
   "source": [
    "accuracy_over_twenty_datas_cityblock =[]\n",
    "for i in range(0,20):\n",
    "    accuracy_over_twenty_datas_cityblock.append(accuracy_of_dataset_cityblock(valid_set[i],1))\n",
    "    print(f'{i}th okay')"
   ]
  },
  {
   "cell_type": "markdown",
   "metadata": {},
   "source": [
    "### 2.1.3 Chebyshev"
   ]
  },
  {
   "cell_type": "code",
   "execution_count": 164,
   "metadata": {},
   "outputs": [],
   "source": [
    "#Y = pdist(X, 'chebyshev')\n",
    "\n",
    "def k_neihborhood_chebyshev(rowth_index, dataset,k):\n",
    "    matrix = dataset.values\n",
    "    rows = int(matrix.shape[0])\n",
    "    columns = int(matrix.shape[1])\n",
    "    D=[]\n",
    "    for i in range(0,rows):\n",
    "        if i!=rowth_index:\n",
    "            X = np.array([matrix[rowth_index],matrix[i] ])\n",
    "            D.append((pdist(X, 'chebyshev' ),i))\n",
    "    D =sorted(D,key=lambda tup:tup[0])\n",
    "    return  D[:k] \n",
    "\n",
    "\n",
    "\n",
    "def predict_knn_reg_chebyshev(rowth_index,dataset,k):\n",
    "    matrix = dataset.values\n",
    "    k_near_neighboorhood = k_neihborhood_chebyshev(rowth_index, dataset,k)\n",
    "    prediction=0\n",
    "    for (a,b) in  k_near_neighboorhood:\n",
    "        if matrix[b][0]==matrix[rowth_index][0]:\n",
    "            prediction=prediction+1\n",
    "        else:\n",
    "            prediction=prediction+0\n",
    "    return prediction/k \n",
    "\n",
    "def accuracy_of_dataset_chebyshev(dataset,k):\n",
    "    accuracy=0\n",
    "    row = dataset.shape[0]\n",
    "    for i in range(0,row):\n",
    "        accuracy =accuracy + predict_knn_reg_chebyshev(i,dataset,k)\n",
    "    return accuracy  \n",
    "\n"
   ]
  },
  {
   "cell_type": "code",
   "execution_count": 166,
   "metadata": {
    "collapsed": true
   },
   "outputs": [
    {
     "name": "stdout",
     "output_type": "stream",
     "text": [
      "0th okay\n",
      "1th okay\n",
      "2th okay\n",
      "3th okay\n",
      "4th okay\n",
      "5th okay\n",
      "6th okay\n",
      "7th okay\n",
      "8th okay\n",
      "9th okay\n",
      "10th okay\n",
      "11th okay\n",
      "12th okay\n",
      "13th okay\n",
      "14th okay\n",
      "15th okay\n",
      "16th okay\n",
      "17th okay\n",
      "18th okay\n",
      "19th okay\n"
     ]
    }
   ],
   "source": [
    "accuracy_over_twenty_datas_chebyshev =[]\n",
    "for i in range(0,20):\n",
    "    accuracy_over_twenty_datas_chebyshev.append(accuracy_of_dataset_chebyshev(valid_set[i],1))\n",
    "    print(f'{i}th okay')"
   ]
  },
  {
   "cell_type": "markdown",
   "metadata": {},
   "source": [
    "### 2.1.4 Cosine"
   ]
  },
  {
   "cell_type": "code",
   "execution_count": 176,
   "metadata": {},
   "outputs": [],
   "source": [
    "#Y = pdist(X, 'cosine')\n",
    "\n",
    "def k_neihborhood_cosine(rowth_index, dataset,k):\n",
    "    matrix = dataset.values\n",
    "    rows = int(matrix.shape[0])\n",
    "    columns = int(matrix.shape[1])\n",
    "    D=[]\n",
    "    for i in range(0,rows):\n",
    "        if i!=rowth_index:\n",
    "            X = np.array([matrix[rowth_index],matrix[i] ])\n",
    "            D.append((pdist(X, 'cosine'),i))\n",
    "    D =sorted(D,key=lambda tup:tup[0])\n",
    "    return  D[:k] \n",
    "\n",
    "\n",
    "\n",
    "def predict_knn_reg_cosine(rowth_index,dataset,k):\n",
    "    matrix = dataset.values\n",
    "    k_near_neighboorhood = k_neihborhood_cosine(rowth_index, dataset,k)\n",
    "    prediction=0\n",
    "    for (a,b) in  k_near_neighboorhood:\n",
    "        if matrix[b][0]==matrix[rowth_index][0]:\n",
    "            prediction=prediction+1\n",
    "        else:\n",
    "            prediction=prediction+0\n",
    "    return prediction/k \n",
    "\n",
    "def accuracy_of_dataset_cosine(dataset,k):\n",
    "    accuracy=0\n",
    "    row = dataset.shape[0]\n",
    "    for i in range(0,row):\n",
    "        accuracy =accuracy + predict_knn_reg_cosine(i,dataset,k)\n",
    "    return accuracy  "
   ]
  },
  {
   "cell_type": "code",
   "execution_count": 177,
   "metadata": {
    "collapsed": true
   },
   "outputs": [
    {
     "name": "stdout",
     "output_type": "stream",
     "text": [
      "0th okay\n",
      "1th okay\n",
      "2th okay\n",
      "3th okay\n",
      "4th okay\n",
      "5th okay\n",
      "6th okay\n",
      "7th okay\n",
      "8th okay\n",
      "9th okay\n",
      "10th okay\n",
      "11th okay\n",
      "12th okay\n",
      "13th okay\n",
      "14th okay\n",
      "15th okay\n",
      "16th okay\n",
      "17th okay\n",
      "18th okay\n",
      "19th okay\n"
     ]
    }
   ],
   "source": [
    "accuracy_over_twenty_datas_cosine =[]\n",
    "for i in range(0,20):\n",
    "    accuracy_over_twenty_datas_cosine.append(accuracy_of_dataset_cosine(valid_set[i],1))\n",
    "    print(f'{i}th okay')"
   ]
  },
  {
   "cell_type": "markdown",
   "metadata": {},
   "source": [
    "### EX 2 .2 Test Accuracy Accross 20 Dataset By Different Measures"
   ]
  },
  {
   "cell_type": "code",
   "execution_count": 182,
   "metadata": {},
   "outputs": [
    {
     "data": {
      "image/png": "[encoded data removed]",
      "text/plain": [
       "<Figure size 864x504 with 1 Axes>"
      ]
     },
     "metadata": {
      "needs_background": "light"
     },
     "output_type": "display_data"
    }
   ],
   "source": [
    "plt.figure(figsize=(12,7))\n",
    "plt.title('')\n",
    "plt.plot(accuracy_over_twenty_datas_minkowski, label = 'Minkowski')\n",
    "plt.plot(accuracy_over_twenty_datas_cityblock, label = 'Cityblock')\n",
    "plt.plot(accuracy_over_twenty_datas_chebyshev, label = 'Chebyshev')\n",
    "plt.plot(accuracy_over_twenty_datas_cosine, label = 'Cosine')\n",
    "plt.xlabel('First 20 Datasets')\n",
    "plt.ylabel('Test Accuracy')\n",
    "plt.legend()\n",
    "plt.show()"
   ]
  },
  {
   "cell_type": "markdown",
   "metadata": {},
   "source": [
    "### EX 2 .3 Aggregated Results"
   ]
  },
  {
   "cell_type": "code",
   "execution_count": 183,
   "metadata": {},
   "outputs": [],
   "source": [
    "aggreg_result =[sum(accuracy_over_twenty_datas_minkowski),sum(accuracy_over_twenty_datas_cityblock),sum(accuracy_over_twenty_datas_chebyshev),sum(accuracy_over_twenty_datas_cosine)]"
   ]
  },
  {
   "cell_type": "code",
   "execution_count": 225,
   "metadata": {},
   "outputs": [
    {
     "data": {
      "image/png": "[encoded data removed]",
      "text/plain": [
       "<Figure size 432x288 with 1 Axes>"
      ]
     },
     "metadata": {
      "needs_background": "light"
     },
     "output_type": "display_data"
    }
   ],
   "source": [
    "plt.title('Aggregated Results Accross First 20 Dataset')\n",
    "plt.plot(['Minkowski','Cityblock','Chebyshec','Cosine'],aggreg_result,'ro',['Minkowski','Cityblock','Chebyshec','Cosine'],aggreg_result,'k')\n",
    "plt.xlabel('Distance Measures')\n",
    "plt.ylabel('First 20 datasets Total Test Accuracy')\n",
    "plt.show()"
   ]
  },
  {
   "cell_type": "markdown",
   "metadata": {},
   "source": [
    "So 'Minkowski' distance has the best performance."
   ]
  },
  {
   "cell_type": "code",
   "execution_count": 230,
   "metadata": {},
   "outputs": [],
   "source": [
    "table =pd.DataFrame(aggreg_result ,['Minkowski','Cityblock','Chebyshec','Cosine'],columns=['Test']) "
   ]
  },
  {
   "cell_type": "code",
   "execution_count": 238,
   "metadata": {},
   "outputs": [
    {
     "data": {
      "text/html": [
       "<div>\n",
       "<style scoped>\n",
       "    .dataframe tbody tr th:only-of-type {\n",
       "        vertical-align: middle;\n",
       "    }\n",
       "\n",
       "    .dataframe tbody tr th {\n",
       "        vertical-align: top;\n",
       "    }\n",
       "\n",
       "    .dataframe thead th {\n",
       "        text-align: right;\n",
       "    }\n",
       "</style>\n",
       "<table border=\"1\" class=\"dataframe\">\n",
       "  <thead>\n",
       "    <tr style=\"text-align: right;\">\n",
       "      <th></th>\n",
       "      <th>Test</th>\n",
       "    </tr>\n",
       "  </thead>\n",
       "  <tbody>\n",
       "    <tr>\n",
       "      <th>Minkowski</th>\n",
       "      <td>1330.0</td>\n",
       "    </tr>\n",
       "    <tr>\n",
       "      <th>Cityblock</th>\n",
       "      <td>1215.0</td>\n",
       "    </tr>\n",
       "    <tr>\n",
       "      <th>Chebyshec</th>\n",
       "      <td>1276.0</td>\n",
       "    </tr>\n",
       "    <tr>\n",
       "      <th>Cosine</th>\n",
       "      <td>1313.0</td>\n",
       "    </tr>\n",
       "  </tbody>\n",
       "</table>\n",
       "</div>"
      ],
      "text/plain": [
       "             Test\n",
       "Minkowski  1330.0\n",
       "Cityblock  1215.0\n",
       "Chebyshec  1276.0\n",
       "Cosine     1313.0"
      ]
     },
     "execution_count": 238,
     "metadata": {},
     "output_type": "execute_result"
    }
   ],
   "source": [
    "table"
   ]
  }
 ],
 "metadata": {
  "kernelspec": {
   "display_name": "Python 3",
   "language": "python",
   "name": "python3"
  },
  "language_info": {
   "codemirror_mode": {
    "name": "ipython",
    "version": 3
   },
   "file_extension": ".py",
   "mimetype": "text/x-python",
   "name": "python",
   "nbconvert_exporter": "python",
   "pygments_lexer": "ipython3",
   "version": "3.8.3"
  }
 },
 "nbformat": 4,
 "nbformat_minor": 4
}
