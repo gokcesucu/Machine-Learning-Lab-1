{
 "cells": [
  {
   "cell_type": "markdown",
   "metadata": {},
   "source": [
    "# 1. Number of Unique Words"
   ]
  },
  {
   "cell_type": "markdown",
   "metadata": {},
   "source": [
    "### A.1.1 Opening and Reading The Text \n"
   ]
  },
  {
   "cell_type": "markdown",
   "metadata": {},
   "source": [
    "To count the number of unique words, first, we should display the text."
   ]
  },
  {
   "cell_type": "code",
   "execution_count": 1,
   "metadata": {
    "scrolled": true
   },
   "outputs": [
    {
     "name": "stdout",
     "output_type": "stream",
     "text": [
      "Lorem ipsum dolor sit amet, consectetur adipiscing elit. Donec in erat maximus, eleifend ante eget, feugiat libero. Maecenas vel pharetra orci. Morbi vitae finibus augue. Nunc pharetra ac lacus vel efficitur. Cras sed urna non ex luctus imperdiet. Sed eu volutpat nunc. Maecenas et nunc tellus. Nunc eget purus consectetur, ultricies leo iaculis, gravida elit. Nunc molestie tortor dolor, nec laoreet lectus sollicitudin sed. Duis ultricies at diam nec tincidunt. Donec at metus placerat lacus commodo molestie nec ut risus. Curabitur fermentum justo lectus, non maximus mauris placerat vel. Fusce auctor ex massa, nec condimentum enim interdum nec. Maecenas consectetur varius nunc, auctor pellentesque mi feugiat eu. Cras lacinia, ipsum vitae malesuada eleifend, mi magna hendrerit enim, id fringilla urna ante in magna.\n",
      "\n",
      "Suspendisse dolor nisl, interdum sit amet rutrum eget, congue sit amet odio. Vestibulum vestibulum orci sed volutpat facilisis. Quisque consectetur convallis mauris. In pretium velit arcu, sit amet facilisis massa semper at. Praesent nec lectus sit amet elit viverra cursus. Donec suscipit diam id metus condimentum tristique. Duis mollis enim eu ornare commodo. Nullam molestie vel enim in ornare.\n",
      "\n",
      "Fusce tempor elit at mauris imperdiet tempor. Donec ut felis eu neque convallis lobortis. Donec non tortor ut tellus hendrerit finibus at at nisl. Quisque iaculis finibus sem non finibus. Aenean lobortis ornare pellentesque. Vivamus euismod urna tortor, in venenatis nisi venenatis eu. Nullam finibus libero a elementum varius.\n",
      "\n",
      "Ut id tincidunt metus. In sed ante et sem posuere rutrum at eu leo. Integer consequat lacus sit amet ante placerat tempor. Fusce commodo enim vitae elit lobortis, non sagittis eros sagittis. Nam ultricies, elit at dapibus convallis, tellus ligula sagittis risus, non condimentum odio dolor eget ex. Etiam feugiat nulla sed tellus ornare pretium. Nam porta vestibulum dui iaculis tincidunt. Aenean a dignissim dui. Nulla facilisi. Aliquam faucibus sodales accumsan. Donec non quam in justo aliquam luctus vel interdum risus. Duis sodales rhoncus est, sed semper urna ullamcorper sit amet. Nulla sagittis ante vel molestie blandit. Aliquam maximus felis ut porttitor rutrum. Duis eu tempor mauris. Mauris nisi orci, feugiat sed blandit euismod, tempus sed lorem.\n",
      "\n",
      "Nullam interdum lorem a lectus efficitur pulvinar. Nullam mattis efficitur elit ac rutrum. Donec in ante vitae est dignissim mollis. Phasellus at velit id lectus vehicula condimentum. Vestibulum egestas turpis in nisl tristique luctus. Fusce convallis, augue iaculis dignissim tempus, augue ex convallis ante, non euismod lectus diam eu nisl. Pellentesque tristique diam in augue facilisis euismod eget et ante. Sed in faucibus ante. In hac habitasse platea dictumst. Proin elit ligula, suscipit id risus eu, volutpat varius libero. Mauris eget metus ut nibh vulputate euismod. Sed justo felis, accumsan sit amet dui vitae, dictum suscipit ligula. Sed commodo dapibus tincidunt.\n"
     ]
    }
   ],
   "source": [
    "#openning the text file \n",
    "mytext = open('latin_text.txt')\n",
    "\n",
    "#reading the file \n",
    "mytext = mytext.read() \n",
    "\n",
    "#display the text\n",
    "print(mytext) "
   ]
  },
  {
   "cell_type": "markdown",
   "metadata": {},
   "source": [
    "### A.1.2. Cleaning the All Punctuations From text"
   ]
  },
  {
   "cell_type": "markdown",
   "metadata": {},
   "source": [
    "Second, we should delete the all punctuations."
   ]
  },
  {
   "cell_type": "code",
   "execution_count": 2,
   "metadata": {},
   "outputs": [
    {
     "name": "stdout",
     "output_type": "stream",
     "text": [
      "Lorem ipsum dolor sit amet  consectetur adipiscing elit  Donec in erat maximus  eleifend ante eget  feugiat libero  Maecenas vel pharetra orci  Morbi vitae finibus augue  Nunc pharetra ac lacus vel efficitur  Cras sed urna non ex luctus imperdiet  Sed eu volutpat nunc  Maecenas et nunc tellus  Nunc eget purus consectetur  ultricies leo iaculis  gravida elit  Nunc molestie tortor dolor  nec laoreet lectus sollicitudin sed  Duis ultricies at diam nec tincidunt  Donec at metus placerat lacus commodo molestie nec ut risus  Curabitur fermentum justo lectus  non maximus mauris placerat vel  Fusce auctor ex massa  nec condimentum enim interdum nec  Maecenas consectetur varius nunc  auctor pellentesque mi feugiat eu  Cras lacinia  ipsum vitae malesuada eleifend  mi magna hendrerit enim  id fringilla urna ante in magna   Suspendisse dolor nisl  interdum sit amet rutrum eget  congue sit amet odio  Vestibulum vestibulum orci sed volutpat facilisis  Quisque consectetur convallis mauris  In pretium velit arcu  sit amet facilisis massa semper at  Praesent nec lectus sit amet elit viverra cursus  Donec suscipit diam id metus condimentum tristique  Duis mollis enim eu ornare commodo  Nullam molestie vel enim in ornare   Fusce tempor elit at mauris imperdiet tempor  Donec ut felis eu neque convallis lobortis  Donec non tortor ut tellus hendrerit finibus at at nisl  Quisque iaculis finibus sem non finibus  Aenean lobortis ornare pellentesque  Vivamus euismod urna tortor  in venenatis nisi venenatis eu  Nullam finibus libero a elementum varius   Ut id tincidunt metus  In sed ante et sem posuere rutrum at eu leo  Integer consequat lacus sit amet ante placerat tempor  Fusce commodo enim vitae elit lobortis  non sagittis eros sagittis  Nam ultricies  elit at dapibus convallis  tellus ligula sagittis risus  non condimentum odio dolor eget ex  Etiam feugiat nulla sed tellus ornare pretium  Nam porta vestibulum dui iaculis tincidunt  Aenean a dignissim dui  Nulla facilisi  Aliquam faucibus sodales accumsan  Donec non quam in justo aliquam luctus vel interdum risus  Duis sodales rhoncus est  sed semper urna ullamcorper sit amet  Nulla sagittis ante vel molestie blandit  Aliquam maximus felis ut porttitor rutrum  Duis eu tempor mauris  Mauris nisi orci  feugiat sed blandit euismod  tempus sed lorem   Nullam interdum lorem a lectus efficitur pulvinar  Nullam mattis efficitur elit ac rutrum  Donec in ante vitae est dignissim mollis  Phasellus at velit id lectus vehicula condimentum  Vestibulum egestas turpis in nisl tristique luctus  Fusce convallis  augue iaculis dignissim tempus  augue ex convallis ante  non euismod lectus diam eu nisl  Pellentesque tristique diam in augue facilisis euismod eget et ante  Sed in faucibus ante  In hac habitasse platea dictumst  Proin elit ligula  suscipit id risus eu  volutpat varius libero  Mauris eget metus ut nibh vulputate euismod  Sed justo felis  accumsan sit amet dui vitae  dictum suscipit ligula  Sed commodo dapibus tincidunt \n"
     ]
    }
   ],
   "source": [
    "mytext = mytext.replace('\\n',' ')  # deleting \\n \n",
    "mytext = mytext.replace(',',' ')   #deleting ,\n",
    "mytext = mytext.replace('.',' ')   #deleting .\n",
    "print(mytext)"
   ]
  },
  {
   "cell_type": "markdown",
   "metadata": {},
   "source": [
    "### A.1.3. Counting the Unique Words of the Text"
   ]
  },
  {
   "cell_type": "markdown",
   "metadata": {},
   "source": [
    "Now, we should find how many unique words exist in the text.\n",
    "\n",
    "First, we would define a fuction which counts the unique words in the text.\n",
    "\n",
    "While I am defining a function, first, I would make lowercas all lettrs of a word in the text.\n",
    "\n",
    "That's because, Python is sensitive to capital letters. \n",
    "\n",
    "For example.  'lorem' and 'Lorem' would be counted as different two words. \n",
    "\n",
    "For this reason, I would set() function to eliminate repititon of words."
   ]
  },
  {
   "cell_type": "code",
   "execution_count": 3,
   "metadata": {},
   "outputs": [],
   "source": [
    "#defining a function which counts words\n",
    "def unique_words(the_text):\n",
    "    #splitting the test into words\n",
    "    allwords_of_text = the_text.split() \n",
    "    \n",
    "    #translating the all letters in the text into lowercase \n",
    "    lower_text = [] \n",
    "    for x in allwords_of_text:\n",
    "        lower_text.append(x.lower())\n",
    "    \n",
    "    #eleminating the repeated words\n",
    "    b =set(lower_text)\n",
    "    \n",
    "    #number of unique words\n",
    "    return len(b)  "
   ]
  },
  {
   "cell_type": "markdown",
   "metadata": {},
   "source": [
    "Secondly, we would apply this function to our text to find unique words."
   ]
  },
  {
   "cell_type": "code",
   "execution_count": 4,
   "metadata": {},
   "outputs": [
    {
     "data": {
      "text/plain": [
       "151"
      ]
     },
     "execution_count": 4,
     "metadata": {},
     "output_type": "execute_result"
    }
   ],
   "source": [
    "#application of unique words function to random_text.txt\n",
    "unique_words(mytext)"
   ]
  },
  {
   "cell_type": "markdown",
   "metadata": {},
   "source": [
    "So, number of unique words of the text is 151. "
   ]
  }
 ],
 "metadata": {
  "kernelspec": {
   "display_name": "Python 3",
   "language": "python",
   "name": "python3"
  },
  "language_info": {
   "codemirror_mode": {
    "name": "ipython",
    "version": 3
   },
   "file_extension": ".py",
   "mimetype": "text/x-python",
   "name": "python",
   "nbconvert_exporter": "python",
   "pygments_lexer": "ipython3",
   "version": "3.8.3"
  }
 },
 "nbformat": 4,
 "nbformat_minor": 2
}
