{
 "cells": [
  {
   "cell_type": "markdown",
   "metadata": {},
   "source": [
    "# 4. GAUSSIAN ELIMINATION METHOD"
   ]
  },
  {
   "cell_type": "markdown",
   "metadata": {},
   "source": [
    "## PART A: IMPLEMENTING GAUSSIAN ELIMINATION"
   ]
  },
  {
   "cell_type": "code",
   "execution_count": 84,
   "metadata": {},
   "outputs": [],
   "source": [
    "#needed packages\n",
    "import random\n",
    "import numpy as np\n",
    "import matplotlib.pyplot as plt\n",
    "import random"
   ]
  },
  {
   "cell_type": "markdown",
   "metadata": {},
   "source": [
    "### A.1 GENERATE MATRIX X"
   ]
  },
  {
   "cell_type": "code",
   "execution_count": 85,
   "metadata": {},
   "outputs": [
    {
     "name": "stdout",
     "output_type": "stream",
     "text": [
      "Dimension of x :\n",
      " (100, 10)\n"
     ]
    }
   ],
   "source": [
    "#mean=2 and sigma=0.01\n",
    "x = np.random.normal(2, 0.01, 1000).reshape(100,10)\n",
    "#checking the created matrix's dimension\n",
    "print('Dimension of x :\\n',x.shape)"
   ]
  },
  {
   "cell_type": "markdown",
   "metadata": {},
   "source": [
    "### A.2. GENERATE MATRIX Y"
   ]
  },
  {
   "cell_type": "code",
   "execution_count": 86,
   "metadata": {},
   "outputs": [
    {
     "name": "stdout",
     "output_type": "stream",
     "text": [
      "Dimension of y:\n",
      " (100, 1)\n"
     ]
    }
   ],
   "source": [
    "#creating a random matrix with uniform distribution\n",
    "y =np.random.uniform( 0,10,100).reshape(100,1)\n",
    "\n",
    "#checking the dimension of created matrrix\n",
    "print('Dimension of y:\\n',y.shape)"
   ]
  },
  {
   "cell_type": "markdown",
   "metadata": {},
   "source": [
    "### A.3 LINEAR REGRESSION ALGORITHM"
   ]
  },
  {
   "cell_type": "markdown",
   "metadata": {},
   "source": [
    "Now we will use $\\beta= (X^TX)^{-1}X^TY$ formula. First we will calculate $A^{-1}=(X^TX)^{-1}$. first we have to add a 1 vector column to x matris for bias."
   ]
  },
  {
   "cell_type": "markdown",
   "metadata": {},
   "source": [
    "#### A.3.1 Adding to 1 column vector to X"
   ]
  },
  {
   "cell_type": "code",
   "execution_count": 87,
   "metadata": {
    "scrolled": true
   },
   "outputs": [
    {
     "name": "stdout",
     "output_type": "stream",
     "text": [
      "[[1.98203965 1.98717043 1.99432386 ... 2.00119053 2.00291333 1.        ]\n",
      " [2.004663   1.98854442 1.98483281 ... 1.98649845 2.00427849 1.        ]\n",
      " [2.01380524 2.00335039 2.0056528  ... 1.98139026 1.99725432 1.        ]\n",
      " ...\n",
      " [2.00055829 2.00586069 1.97439578 ... 2.00473462 1.99446942 1.        ]\n",
      " [1.99738547 1.99839435 2.01878457 ... 2.0001222  1.99769389 1.        ]\n",
      " [1.99414618 2.00193691 1.99495983 ... 2.00582859 2.02190532 1.        ]]\n"
     ]
    }
   ],
   "source": [
    "#creating a 1 column vector\n",
    "one_vector =np.ones((100,1))\n",
    "\n",
    "X =np.hstack((x,one_vector))\n",
    "print(X)"
   ]
  },
  {
   "cell_type": "markdown",
   "metadata": {},
   "source": [
    "#### A.3.2 Calculating $(X^TX)^{-1}$"
   ]
  },
  {
   "cell_type": "code",
   "execution_count": 88,
   "metadata": {},
   "outputs": [],
   "source": [
    "#transpose of x\n",
    "X_transpose = np.transpose(X)\n",
    "\n",
    "#matrix multiplication of x and its transpose\n",
    "H = np.matmul(X_transpose,X)\n",
    "\n",
    "#inverse of matrix multiplication of x and its transpose\n",
    "H_inverse = np.linalg.inv(H)"
   ]
  },
  {
   "cell_type": "code",
   "execution_count": 89,
   "metadata": {},
   "outputs": [
    {
     "data": {
      "text/plain": [
       "(11, 11)"
      ]
     },
     "execution_count": 89,
     "metadata": {},
     "output_type": "execute_result"
    }
   ],
   "source": [
    "H_inverse.shape"
   ]
  },
  {
   "cell_type": "markdown",
   "metadata": {},
   "source": [
    "#### A.3.3 Calculating  $ \\beta=(X^TX)^{-1}X^TY$"
   ]
  },
  {
   "cell_type": "code",
   "execution_count": 90,
   "metadata": {},
   "outputs": [],
   "source": [
    "#betas\n",
    "beta_by_lineerreg = np.matmul(np.matmul(H_inverse,X_transpose),y)"
   ]
  },
  {
   "cell_type": "code",
   "execution_count": 91,
   "metadata": {},
   "outputs": [
    {
     "data": {
      "text/plain": [
       "(11, 1)"
      ]
     },
     "execution_count": 91,
     "metadata": {},
     "output_type": "execute_result"
    }
   ],
   "source": [
    "#betas shape\n",
    "beta_by_lineerreg.shape"
   ]
  },
  {
   "cell_type": "code",
   "execution_count": 92,
   "metadata": {},
   "outputs": [
    {
     "data": {
      "text/plain": [
       "array([[ 44.8044448 ],\n",
       "       [  1.57690102],\n",
       "       [ 39.38291343],\n",
       "       [ -6.19187603],\n",
       "       [ -1.84298809],\n",
       "       [-40.93187542],\n",
       "       [  0.71845975],\n",
       "       [-17.75139838],\n",
       "       [-21.47344935],\n",
       "       [  3.45756743],\n",
       "       [  1.15010312]])"
      ]
     },
     "execution_count": 92,
     "metadata": {},
     "output_type": "execute_result"
    }
   ],
   "source": [
    "beta_by_lineerreg"
   ]
  },
  {
   "cell_type": "markdown",
   "metadata": {},
   "source": [
    "#### A.3.4 Predictions By Lineer Regression Algorithm"
   ]
  },
  {
   "cell_type": "code",
   "execution_count": 93,
   "metadata": {},
   "outputs": [],
   "source": [
    "predictions_bylineerreg =np.matmul(X,beta_by_lineerreg)"
   ]
  },
  {
   "cell_type": "markdown",
   "metadata": {},
   "source": [
    "#### A:3.4 Plotting By Lineer Regression Algortihm"
   ]
  },
  {
   "cell_type": "code",
   "execution_count": 94,
   "metadata": {},
   "outputs": [
    {
     "data": {
      "image/png": "[encoded data removed]",
      "text/plain": [
       "<Figure size 432x288 with 1 Axes>"
      ]
     },
     "metadata": {
      "needs_background": "light"
     },
     "output_type": "display_data"
    }
   ],
   "source": [
    "plt.title('Prediction Vs Real Values (Linear Regression Algorithm)')\n",
    "plt.scatter(list(range(100)),y , label=\"original\")\n",
    "plt.scatter(list(range(100)), predictions_bylineerreg, label=\"prediction\")\n",
    "plt.legend()\n",
    "plt.show()"
   ]
  },
  {
   "cell_type": "markdown",
   "metadata": {},
   "source": [
    "### A.4 GAUSSION ELIMINATION"
   ]
  },
  {
   "cell_type": "markdown",
   "metadata": {},
   "source": [
    "$AX=b$ and $A$ is an $nxn$ matrix. Then I simply used the algortima which is written on homework:"
   ]
  },
  {
   "cell_type": "code",
   "execution_count": 95,
   "metadata": {},
   "outputs": [],
   "source": [
    "def gaussian_elimination(A,b):\n",
    "    n=A.shape[0]\n",
    "    z=np.zeros((n,1))\n",
    "    for k in range(0,n-1):\n",
    "        for i in range(k+1,n):\n",
    "            A[i][k]=A[i][k]/A[k][k]\n",
    "            for j in range(k+1,n):\n",
    "                A[i][j]=A[i][j]-A[i][k]*A[k][j]\n",
    "                \n",
    "    #forword elimination\n",
    "    for k in range(0,n-1):\n",
    "        for i in range(k+1,n):\n",
    "            b[i]=b[i]-A[i][k]*b[k]\n",
    "        \n",
    "    #backward solve\n",
    "    for h in range(0,n):\n",
    "        i=n-1-h\n",
    "        s=b[i]\n",
    "        for j in range(i+1,n):\n",
    "            s=s-A[i][j]*z[j]\n",
    "        z[i]=s/A[i][i]\n",
    "    return z\n",
    "        "
   ]
  },
  {
   "cell_type": "markdown",
   "metadata": {},
   "source": [
    "### A.5 IMPLEMENTATION OF GAUSSIAN ELIMINATION"
   ]
  },
  {
   "cell_type": "markdown",
   "metadata": {},
   "source": [
    "#### A.5.1 Finding Beta by Using Gaussian Elimination Method"
   ]
  },
  {
   "cell_type": "code",
   "execution_count": 96,
   "metadata": {},
   "outputs": [],
   "source": [
    "b_matrix = np.matmul(np.transpose(X),y)"
   ]
  },
  {
   "cell_type": "code",
   "execution_count": 97,
   "metadata": {},
   "outputs": [],
   "source": [
    "beta_by_gaussian = gaussian_elimination(H,b_matrix)"
   ]
  },
  {
   "cell_type": "code",
   "execution_count": 98,
   "metadata": {},
   "outputs": [
    {
     "name": "stdout",
     "output_type": "stream",
     "text": [
      "[[ 44.8044448 ]\n",
      " [  1.57690102]\n",
      " [ 39.38291343]\n",
      " [ -6.19187603]\n",
      " [ -1.84298809]\n",
      " [-40.93187542]\n",
      " [  0.71845975]\n",
      " [-17.75139838]\n",
      " [-21.47344935]\n",
      " [  3.45756743]\n",
      " [  1.15010312]]\n"
     ]
    }
   ],
   "source": [
    "print(beta_by_gaussian)"
   ]
  },
  {
   "cell_type": "markdown",
   "metadata": {},
   "source": [
    "#### A.5.2 Predictions By Gaussian Elimination Function"
   ]
  },
  {
   "cell_type": "code",
   "execution_count": 99,
   "metadata": {},
   "outputs": [],
   "source": [
    "predictions_by_gaussian = np.matmul(X,beta_by_gaussian)"
   ]
  },
  {
   "cell_type": "markdown",
   "metadata": {},
   "source": [
    "### A.6 PLOTTING BY GAUSSION ELIMINATION"
   ]
  },
  {
   "cell_type": "code",
   "execution_count": 100,
   "metadata": {},
   "outputs": [
    {
     "data": {
      "image/png": "[encoded data removed]",
      "text/plain": [
       "<Figure size 432x288 with 1 Axes>"
      ]
     },
     "metadata": {
      "needs_background": "light"
     },
     "output_type": "display_data"
    }
   ],
   "source": [
    "plt.title('Prediction Vs. Real Dat (By Gaussian Elimination)')\n",
    "plt.scatter(list(range(100)),y , label=\"original\")\n",
    "plt.scatter(list(range(100)), predictions_by_gaussian, label=\"prediction\")\n",
    "plt.legend()\n",
    "plt.show()"
   ]
  },
  {
   "cell_type": "markdown",
   "metadata": {},
   "source": [
    "### A.7 PREDICTION BY np.linalg.lstsp"
   ]
  },
  {
   "cell_type": "code",
   "execution_count": 101,
   "metadata": {},
   "outputs": [
    {
     "data": {
      "text/plain": [
       "array([[ 44.8044448 ],\n",
       "       [  1.57690102],\n",
       "       [ 39.38291343],\n",
       "       [ -6.19187603],\n",
       "       [ -1.84298809],\n",
       "       [-40.93187542],\n",
       "       [  0.71845975],\n",
       "       [-17.75139838],\n",
       "       [-21.47344935],\n",
       "       [  3.45756743],\n",
       "       [  1.15010312]])"
      ]
     },
     "execution_count": 101,
     "metadata": {},
     "output_type": "execute_result"
    }
   ],
   "source": [
    "beta_by_nplinalg=np.linalg.lstsq(X,y,rcond=None)\n",
    "beta_by_nplinalg[0]"
   ]
  },
  {
   "cell_type": "code",
   "execution_count": 102,
   "metadata": {},
   "outputs": [],
   "source": [
    "prediction_by_nplinalg =np.matmul(X,beta_by_nplinalg[0])"
   ]
  },
  {
   "cell_type": "markdown",
   "metadata": {},
   "source": [
    "#### A.7. Plotting By np.linalg.lstsp"
   ]
  },
  {
   "cell_type": "code",
   "execution_count": 103,
   "metadata": {},
   "outputs": [
    {
     "data": {
      "image/png": "[encoded data removed]",
      "text/plain": [
       "<Figure size 432x288 with 1 Axes>"
      ]
     },
     "metadata": {
      "needs_background": "light"
     },
     "output_type": "display_data"
    }
   ],
   "source": [
    "plt.title('Prediction Vs. Real Data By np.linalg.lstsp')\n",
    "plt.scatter(list(range(100)),y , label=\"original\")\n",
    "plt.scatter(list(range(100)), prediction_by_nplinalg, label=\"prediction\")\n",
    "plt.legend()\n",
    "plt.show()"
   ]
  },
  {
   "cell_type": "markdown",
   "metadata": {},
   "source": [
    "## PART B: MULTIPLE LINEAR (AUTO) REGRESSION"
   ]
  },
  {
   "cell_type": "markdown",
   "metadata": {},
   "source": [
    "### a. The Stores That Have 942 Days Record\n"
   ]
  },
  {
   "cell_type": "code",
   "execution_count": 104,
   "metadata": {},
   "outputs": [],
   "source": [
    "#REMOVING THE STORES THT DONT HAVE 942 DAYS SALES RECORD\n",
    "stores_942 =[]\n",
    "\n",
    "#we are looking for in the 1000 stores that do not have 942 days sale record.\n",
    "for i in range(0,1115):\n",
    "    a =train.loc[train['Store']==i,'Sales']\n",
    "    if len(a)==942:\n",
    "        stores_942.append(train[train['Store']==i][['Store','Sales']])\n",
    "  \n",
    "        "
   ]
  },
  {
   "cell_type": "code",
   "execution_count": 105,
   "metadata": {},
   "outputs": [
    {
     "data": {
      "text/plain": [
       "933"
      ]
     },
     "execution_count": 105,
     "metadata": {},
     "output_type": "execute_result"
    }
   ],
   "source": [
    "len(stores_942)"
   ]
  },
  {
   "cell_type": "markdown",
   "metadata": {},
   "source": [
    "There 933 store that have 942 days record."
   ]
  },
  {
   "cell_type": "code",
   "execution_count": 106,
   "metadata": {
    "scrolled": true
   },
   "outputs": [
    {
     "data": {
      "text/html": [
       "<div>\n",
       "<style scoped>\n",
       "    .dataframe tbody tr th:only-of-type {\n",
       "        vertical-align: middle;\n",
       "    }\n",
       "\n",
       "    .dataframe tbody tr th {\n",
       "        vertical-align: top;\n",
       "    }\n",
       "\n",
       "    .dataframe thead th {\n",
       "        text-align: right;\n",
       "    }\n",
       "</style>\n",
       "<table border=\"1\" class=\"dataframe\">\n",
       "  <thead>\n",
       "    <tr style=\"text-align: right;\">\n",
       "      <th></th>\n",
       "      <th>Store</th>\n",
       "      <th>Sales</th>\n",
       "    </tr>\n",
       "  </thead>\n",
       "  <tbody>\n",
       "    <tr>\n",
       "      <th>1</th>\n",
       "      <td>2</td>\n",
       "      <td>6064</td>\n",
       "    </tr>\n",
       "    <tr>\n",
       "      <th>1116</th>\n",
       "      <td>2</td>\n",
       "      <td>5567</td>\n",
       "    </tr>\n",
       "    <tr>\n",
       "      <th>2231</th>\n",
       "      <td>2</td>\n",
       "      <td>6402</td>\n",
       "    </tr>\n",
       "    <tr>\n",
       "      <th>3346</th>\n",
       "      <td>2</td>\n",
       "      <td>5671</td>\n",
       "    </tr>\n",
       "    <tr>\n",
       "      <th>4461</th>\n",
       "      <td>2</td>\n",
       "      <td>6627</td>\n",
       "    </tr>\n",
       "    <tr>\n",
       "      <th>...</th>\n",
       "      <td>...</td>\n",
       "      <td>...</td>\n",
       "    </tr>\n",
       "    <tr>\n",
       "      <th>1011636</th>\n",
       "      <td>2</td>\n",
       "      <td>2342</td>\n",
       "    </tr>\n",
       "    <tr>\n",
       "      <th>1012751</th>\n",
       "      <td>2</td>\n",
       "      <td>4484</td>\n",
       "    </tr>\n",
       "    <tr>\n",
       "      <th>1013866</th>\n",
       "      <td>2</td>\n",
       "      <td>4159</td>\n",
       "    </tr>\n",
       "    <tr>\n",
       "      <th>1014981</th>\n",
       "      <td>2</td>\n",
       "      <td>4422</td>\n",
       "    </tr>\n",
       "    <tr>\n",
       "      <th>1016096</th>\n",
       "      <td>2</td>\n",
       "      <td>0</td>\n",
       "    </tr>\n",
       "  </tbody>\n",
       "</table>\n",
       "<p>942 rows × 2 columns</p>\n",
       "</div>"
      ],
      "text/plain": [
       "         Store  Sales\n",
       "1            2   6064\n",
       "1116         2   5567\n",
       "2231         2   6402\n",
       "3346         2   5671\n",
       "4461         2   6627\n",
       "...        ...    ...\n",
       "1011636      2   2342\n",
       "1012751      2   4484\n",
       "1013866      2   4159\n",
       "1014981      2   4422\n",
       "1016096      2      0\n",
       "\n",
       "[942 rows x 2 columns]"
      ]
     },
     "execution_count": 106,
     "metadata": {},
     "output_type": "execute_result"
    }
   ],
   "source": [
    "stores_942[1]"
   ]
  },
  {
   "cell_type": "markdown",
   "metadata": {},
   "source": [
    "### b. Create A Data Matrix"
   ]
  },
  {
   "cell_type": "code",
   "execution_count": 107,
   "metadata": {},
   "outputs": [],
   "source": [
    "sales_of_942=[]\n",
    "for i in range(0,933):\n",
    "    sales_of_942.append(stores_942[i]['Sales'])\n",
    "    "
   ]
  },
  {
   "cell_type": "code",
   "execution_count": 108,
   "metadata": {},
   "outputs": [
    {
     "name": "stdout",
     "output_type": "stream",
     "text": [
      "[[ 5263  5020  4782 ...  4327  5530     0]\n",
      " [ 6064  5567  6402 ...  4159  4422     0]\n",
      " [ 8314  8977  7610 ...  5902  6823     0]\n",
      " ...\n",
      " [ 9626  9652  9179 ...  8716 10797     0]\n",
      " [ 7289  7491  6640 ...  5563  6218     0]\n",
      " [27508 24395 25840 ... 18463 20642     0]]\n"
     ]
    }
   ],
   "source": [
    "#row store, column day\n",
    "data_matrix=np.array(sales_of_942)\n",
    "print(data_matrix)"
   ]
  },
  {
   "cell_type": "markdown",
   "metadata": {},
   "source": [
    "### c.1.Training  "
   ]
  },
  {
   "cell_type": "code",
   "execution_count": 109,
   "metadata": {},
   "outputs": [],
   "source": [
    "#first 800 store and first 900 days\n",
    "X_train = data_matrix[:800,42:]\n",
    "\n",
    "#first 800 store and last 42 days\n",
    "Y_train=data_matrix[:800,:42]"
   ]
  },
  {
   "cell_type": "code",
   "execution_count": 110,
   "metadata": {},
   "outputs": [
    {
     "name": "stdout",
     "output_type": "stream",
     "text": [
      "(800, 900)\n",
      "(800, 42)\n"
     ]
    }
   ],
   "source": [
    "print(X_train.shape)\n",
    "print(Y_train.shape)"
   ]
  },
  {
   "cell_type": "markdown",
   "metadata": {},
   "source": [
    "### c.2 Test"
   ]
  },
  {
   "cell_type": "code",
   "execution_count": 111,
   "metadata": {},
   "outputs": [],
   "source": [
    "#rest of stores and first 900 days\n",
    "X_test=data_matrix[800:,42:]\n",
    "\n",
    "#rest of stores and öast42 days\n",
    "Y_test=data_matrix[800: , :42]"
   ]
  },
  {
   "cell_type": "code",
   "execution_count": 112,
   "metadata": {},
   "outputs": [
    {
     "name": "stdout",
     "output_type": "stream",
     "text": [
      "(133, 900)\n",
      "(133, 42)\n"
     ]
    }
   ],
   "source": [
    "print(X_test.shape)\n",
    "print(Y_test.shape)"
   ]
  },
  {
   "cell_type": "markdown",
   "metadata": {},
   "source": [
    "### d. Model"
   ]
  },
  {
   "cell_type": "code",
   "execution_count": 113,
   "metadata": {},
   "outputs": [
    {
     "data": {
      "text/plain": [
       "array([[4202, 4645, 4000, ..., 4327, 5530,    0],\n",
       "       [4926, 5154, 6924, ..., 4159, 4422,    0],\n",
       "       [8074, 7537, 8524, ..., 5902, 6823,    0],\n",
       "       ...,\n",
       "       [3357, 3478, 3618, ..., 4059, 4072,    0],\n",
       "       [8073, 8042, 9478, ..., 5977, 6854,    0],\n",
       "       [4142, 4234, 3999, ..., 5320, 5826,    0]], dtype=int64)"
      ]
     },
     "execution_count": 113,
     "metadata": {},
     "output_type": "execute_result"
    }
   ],
   "source": [
    "X_train "
   ]
  },
  {
   "cell_type": "code",
   "execution_count": 114,
   "metadata": {},
   "outputs": [
    {
     "data": {
      "text/plain": [
       "array([[ 5263,  5020,  4782, ...,  3846,     0,  4097],\n",
       "       [ 6064,  5567,  6402, ...,  4123,     0,  3020],\n",
       "       [ 8314,  8977,  7610, ...,  5840,     0,  3891],\n",
       "       ...,\n",
       "       [ 4833,  3894,  3172, ...,  2822,     0,  1646],\n",
       "       [11276,  8711,  8689, ...,  6843,     0,  5085],\n",
       "       [ 4357,  3789,  3755, ...,  4087,     0,  2838]], dtype=int64)"
      ]
     },
     "execution_count": 114,
     "metadata": {},
     "output_type": "execute_result"
    }
   ],
   "source": [
    "Y_train"
   ]
  },
  {
   "cell_type": "markdown",
   "metadata": {},
   "source": [
    "### d.1 Linear Regression Functin"
   ]
  },
  {
   "cell_type": "markdown",
   "metadata": {},
   "source": [
    "Now we will use $\\beta= (X^TX)^{-1}X^TY$ formula to find betas. "
   ]
  },
  {
   "cell_type": "code",
   "execution_count": 115,
   "metadata": {},
   "outputs": [],
   "source": [
    "#creating a function that calculates linear regression\n",
    "def lin_reg(X,Y):\n",
    "    A_inverse = np.linalg.inv(np.matmul(np.transpose(X),X))\n",
    "    beta= np.matmul(np.matmul(A_inverse,np.transpose(X)),Y)\n",
    "    return beta\n",
    "    "
   ]
  },
  {
   "cell_type": "markdown",
   "metadata": {},
   "source": [
    "My computer could not run this function, for this reason i uses linalg.lstsq"
   ]
  },
  {
   "cell_type": "code",
   "execution_count": 117,
   "metadata": {},
   "outputs": [],
   "source": [
    "#creating a list of full of betas(consists of 900 parameter)\n",
    "beta_42=[]\n",
    "for i in range(0,42):\n",
    "    beta_42.append(np.linalg.lstsq(X_train,Y_train[:,i],rcond=None)[0])"
   ]
  },
  {
   "cell_type": "code",
   "execution_count": 120,
   "metadata": {},
   "outputs": [
    {
     "data": {
      "text/plain": [
       "42"
      ]
     },
     "execution_count": 120,
     "metadata": {},
     "output_type": "execute_result"
    }
   ],
   "source": [
    "len(beta_42)"
   ]
  },
  {
   "cell_type": "markdown",
   "metadata": {},
   "source": [
    "beta_42 list of all parameters for each days prediction. So we have 42 different model for each days prediciton."
   ]
  },
  {
   "cell_type": "markdown",
   "metadata": {},
   "source": [
    "### e. Verifying  Betas dimensions "
   ]
  },
  {
   "cell_type": "code",
   "execution_count": 121,
   "metadata": {},
   "outputs": [
    {
     "data": {
      "text/plain": [
       "900"
      ]
     },
     "execution_count": 121,
     "metadata": {},
     "output_type": "execute_result"
    }
   ],
   "source": [
    "len(beta_42[1])"
   ]
  },
  {
   "cell_type": "markdown",
   "metadata": {},
   "source": [
    "Now we can make predictions,"
   ]
  },
  {
   "cell_type": "code",
   "execution_count": 125,
   "metadata": {},
   "outputs": [],
   "source": [
    "#predictions for each day\n",
    "predictions_each_day =[]\n",
    "for i in range(0,42):\n",
    "    predictions_each_day.append(np.matmul(X_test,beta_42[i]))"
   ]
  },
  {
   "cell_type": "code",
   "execution_count": 127,
   "metadata": {},
   "outputs": [
    {
     "data": {
      "text/plain": [
       "array([  7100.33939591,   6456.69354737,   4861.12731812,  11600.31523338,\n",
       "        16443.17105837,  10317.01959573,  14325.03573081,   4097.90399421,\n",
       "         3039.54880154,   4442.89915368,   -665.44823257,    904.39380609,\n",
       "        -4827.04947994,  21058.27609019,   9363.65258576,  11506.18193902,\n",
       "         8006.25001299,  10704.61552533,  17836.8112336 ,  -5512.56684024,\n",
       "          893.04829268,   9863.64720386,  33242.32932835,  -2481.29844439,\n",
       "         9084.85846971,  -2607.59592843,  17027.61612351,  10086.38128349,\n",
       "        16332.6395216 ,   6192.10224209,  18566.45218127,   8154.97482292,\n",
       "         8575.05295448,  22076.21375976,   4665.89310233,   5190.29630423,\n",
       "        17772.67787999,   3800.08407616,   6476.9315138 ,  -2156.58423309,\n",
       "         1559.78092215,  10280.6961318 ,  19892.63727221,   8302.58729173,\n",
       "         2416.83661223,   5928.52356502,   4276.63726897,  17854.99904341,\n",
       "         8436.30539152,   5716.45360886,  19443.26454606,  21748.14607433,\n",
       "        13340.18736623,  34539.75194944,   3567.99951428,  15365.39978736,\n",
       "        11296.10625227,   2910.64793401,   8918.83799517,   8442.76637059,\n",
       "         1067.14106767,  -1478.91975318,  -1000.27912167,  11099.42905371,\n",
       "        16505.64813089,   6536.900954  ,   1726.31786073,   8217.72592103,\n",
       "        11120.498807  ,  10545.97058883,  10013.13970073,   7319.14416466,\n",
       "         9603.98515799,   5916.2401987 ,  21645.89830129,  12681.84963455,\n",
       "        11327.1058206 ,  19402.83455795,   6372.09438071,   1294.97843962,\n",
       "        13804.73722889,   6132.87000832,   4391.94922158,  16372.38112025,\n",
       "        10763.64328275,  10993.10551906,  10382.35488988,   8214.12621614,\n",
       "        16823.01337828,  13064.9815884 ,   7102.15638776,   9018.31161498,\n",
       "        14545.25033345,  -1476.86244575,   4184.74465202,  16231.65915924,\n",
       "         2418.50694604,  13811.65998073,   5561.92017281,  14103.38239433,\n",
       "         6605.87018902,   4307.0463567 ,  -4134.98864111,  12107.74775307,\n",
       "         8667.30472956,  24763.1348555 ,  11702.36560411,   9867.12227749,\n",
       "         4365.11418251,  11814.17912333,  14098.62178226,   7012.30975989,\n",
       "         8572.2881928 ,  12407.4954695 ,   4445.02629542,   1463.20148823,\n",
       "         9781.54241759,   6777.60161646,  18718.78693754, -14547.0669727 ,\n",
       "         4138.05107265,  22102.80530791,  15173.19484994,  15369.59798906,\n",
       "         6791.76481089,   9360.65800398,   6743.58544735,   5951.23090875,\n",
       "         5961.32807271,   1991.00747692,  15940.57426611,   6624.25298463,\n",
       "        31549.00872215])"
      ]
     },
     "execution_count": 127,
     "metadata": {},
     "output_type": "execute_result"
    }
   ],
   "source": [
    "#example first day prediction is:\n",
    "predictions_each_day[0]"
   ]
  },
  {
   "cell_type": "markdown",
   "metadata": {},
   "source": [
    "### f. RMSE and MAE "
   ]
  },
  {
   "cell_type": "code",
   "execution_count": 131,
   "metadata": {},
   "outputs": [],
   "source": [
    "#example\n",
    "first_day_predicition=np.matmul(X_test,beta_42[0])\n",
    "second_day_prediction=np.matmul(X_test,beta_42[1])"
   ]
  },
  {
   "cell_type": "markdown",
   "metadata": {},
   "source": [
    "#### f.1. 42 days prediction by using d 42 different betas"
   ]
  },
  {
   "cell_type": "code",
   "execution_count": 133,
   "metadata": {},
   "outputs": [],
   "source": [
    "daily_prediction_42=[]\n",
    "for i in range(0,42):\n",
    "    daily_prediction_42.append(np.matmul(X_test,beta_42[i]))\n",
    "    "
   ]
  },
  {
   "cell_type": "code",
   "execution_count": 140,
   "metadata": {},
   "outputs": [
    {
     "data": {
      "text/plain": [
       "array([  7100.33939591,   6456.69354737,   4861.12731812,  11600.31523338,\n",
       "        16443.17105837,  10317.01959573,  14325.03573081,   4097.90399421,\n",
       "         3039.54880154,   4442.89915368,   -665.44823257,    904.39380609,\n",
       "        -4827.04947994,  21058.27609019,   9363.65258576,  11506.18193902,\n",
       "         8006.25001299,  10704.61552533,  17836.8112336 ,  -5512.56684024,\n",
       "          893.04829268,   9863.64720386,  33242.32932835,  -2481.29844439,\n",
       "         9084.85846971,  -2607.59592843,  17027.61612351,  10086.38128349,\n",
       "        16332.6395216 ,   6192.10224209,  18566.45218127,   8154.97482292,\n",
       "         8575.05295448,  22076.21375976,   4665.89310233,   5190.29630423,\n",
       "        17772.67787999,   3800.08407616,   6476.9315138 ,  -2156.58423309,\n",
       "         1559.78092215,  10280.6961318 ,  19892.63727221,   8302.58729173,\n",
       "         2416.83661223,   5928.52356502,   4276.63726897,  17854.99904341,\n",
       "         8436.30539152,   5716.45360886,  19443.26454606,  21748.14607433,\n",
       "        13340.18736623,  34539.75194944,   3567.99951428,  15365.39978736,\n",
       "        11296.10625227,   2910.64793401,   8918.83799517,   8442.76637059,\n",
       "         1067.14106767,  -1478.91975318,  -1000.27912167,  11099.42905371,\n",
       "        16505.64813089,   6536.900954  ,   1726.31786073,   8217.72592103,\n",
       "        11120.498807  ,  10545.97058883,  10013.13970073,   7319.14416466,\n",
       "         9603.98515799,   5916.2401987 ,  21645.89830129,  12681.84963455,\n",
       "        11327.1058206 ,  19402.83455795,   6372.09438071,   1294.97843962,\n",
       "        13804.73722889,   6132.87000832,   4391.94922158,  16372.38112025,\n",
       "        10763.64328275,  10993.10551906,  10382.35488988,   8214.12621614,\n",
       "        16823.01337828,  13064.9815884 ,   7102.15638776,   9018.31161498,\n",
       "        14545.25033345,  -1476.86244575,   4184.74465202,  16231.65915924,\n",
       "         2418.50694604,  13811.65998073,   5561.92017281,  14103.38239433,\n",
       "         6605.87018902,   4307.0463567 ,  -4134.98864111,  12107.74775307,\n",
       "         8667.30472956,  24763.1348555 ,  11702.36560411,   9867.12227749,\n",
       "         4365.11418251,  11814.17912333,  14098.62178226,   7012.30975989,\n",
       "         8572.2881928 ,  12407.4954695 ,   4445.02629542,   1463.20148823,\n",
       "         9781.54241759,   6777.60161646,  18718.78693754, -14547.0669727 ,\n",
       "         4138.05107265,  22102.80530791,  15173.19484994,  15369.59798906,\n",
       "         6791.76481089,   9360.65800398,   6743.58544735,   5951.23090875,\n",
       "         5961.32807271,   1991.00747692,  15940.57426611,   6624.25298463,\n",
       "        31549.00872215])"
      ]
     },
     "execution_count": 140,
     "metadata": {},
     "output_type": "execute_result"
    }
   ],
   "source": [
    "#example: first day prediction of each store (133 store)\n",
    "daily_prediction_42[0]"
   ]
  },
  {
   "cell_type": "markdown",
   "metadata": {},
   "source": [
    "#### f.2 Error between prediction and Real Values"
   ]
  },
  {
   "cell_type": "code",
   "execution_count": 149,
   "metadata": {},
   "outputs": [],
   "source": [
    "error_42 =np.ones((133,42))\n",
    "for i in range(0,42):\n",
    "    for j in range(0,133):\n",
    "        error_42[j][i]=Y_test[j][i]-daily_prediction_42[i][j]\n",
    "        "
   ]
  },
  {
   "cell_type": "code",
   "execution_count": 152,
   "metadata": {},
   "outputs": [
    {
     "data": {
      "text/plain": [
       "array([[ 3.60766060e+03,  1.94886477e+03,  2.31983484e+03, ...,\n",
       "        -1.76913782e+03,  2.97397604e-11, -2.22182197e+03],\n",
       "       [ 2.62430645e+03,  5.37283507e+03,  5.55708569e+03, ...,\n",
       "        -1.06936335e+03, -4.12328056e-12, -3.14523024e+03],\n",
       "       [ 4.06487268e+03,  4.86518246e+03,  2.31951168e+02, ...,\n",
       "        -2.15114582e+03,  5.46860470e-11,  7.49220945e+03],\n",
       "       ...,\n",
       "       [-6.31457427e+03, -8.50773695e+03, -2.58961982e+03, ...,\n",
       "        -4.04028578e+03, -1.28666408e-10,  3.07822488e+03],\n",
       "       [ 6.64747015e+02, -1.13264001e+02, -4.40727319e+03, ...,\n",
       "        -1.81299895e+03, -5.60521660e-12, -1.57058824e+03],\n",
       "       [-4.04100872e+03, -5.15219754e+03,  1.50195555e+04, ...,\n",
       "         1.11501636e+02, -1.96497430e-10, -2.48177206e+03]])"
      ]
     },
     "execution_count": 152,
     "metadata": {},
     "output_type": "execute_result"
    }
   ],
   "source": [
    "#error matris\n",
    "error_42"
   ]
  },
  {
   "cell_type": "code",
   "execution_count": 153,
   "metadata": {},
   "outputs": [
    {
     "data": {
      "text/plain": [
       "(133, 42)"
      ]
     },
     "execution_count": 153,
     "metadata": {},
     "output_type": "execute_result"
    }
   ],
   "source": [
    "error_42.shape"
   ]
  },
  {
   "cell_type": "markdown",
   "metadata": {},
   "source": [
    "#### f.3 RMSE"
   ]
  },
  {
   "cell_type": "code",
   "execution_count": 156,
   "metadata": {},
   "outputs": [],
   "source": [
    "#rmse of a matric\n",
    "def rmse(X):\n",
    "    error=0\n",
    "    for i in range(0,X.shape[0]):\n",
    "        for j in range(0,X.shape[1]):\n",
    "            error=X[i][j]**2+error\n",
    "    return np.sqrt(error/X.shape[0]*X.shape[1])"
   ]
  },
  {
   "cell_type": "code",
   "execution_count": 166,
   "metadata": {},
   "outputs": [
    {
     "name": "stdout",
     "output_type": "stream",
     "text": [
      "RMSE= 205077.16366757796\n"
     ]
    }
   ],
   "source": [
    "print('RMSE=',rmse(error_42))"
   ]
  },
  {
   "cell_type": "markdown",
   "metadata": {},
   "source": [
    "#### f.4 MAE"
   ]
  },
  {
   "cell_type": "code",
   "execution_count": 167,
   "metadata": {},
   "outputs": [],
   "source": [
    "#mae of a matric\n",
    "def mae(M):\n",
    "    error_mae=0\n",
    "    for i in range(0,M.shape[0]):\n",
    "        for j in range(0,M.shape[1]):\n",
    "            error_mae=error_mae+M[i][j]\n",
    "    return error_mae/M.shape[0]*M.shape[1]\n",
    "            "
   ]
  },
  {
   "cell_type": "code",
   "execution_count": 168,
   "metadata": {},
   "outputs": [
    {
     "name": "stdout",
     "output_type": "stream",
     "text": [
      "MAE= 13093.599468557557\n"
     ]
    }
   ],
   "source": [
    "print('MAE=',mae(error_42))"
   ]
  }
 ],
 "metadata": {
  "kernelspec": {
   "display_name": "Python 3",
   "language": "python",
   "name": "python3"
  },
  "language_info": {
   "codemirror_mode": {
    "name": "ipython",
    "version": 3
   },
   "file_extension": ".py",
   "mimetype": "text/x-python",
   "name": "python",
   "nbconvert_exporter": "python",
   "pygments_lexer": "ipython3",
   "version": "3.8.3"
  }
 },
 "nbformat": 4,
 "nbformat_minor": 4
}
