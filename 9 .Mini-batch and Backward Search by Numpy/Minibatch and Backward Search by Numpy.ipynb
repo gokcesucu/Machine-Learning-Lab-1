{
 "cells": [
  {
   "cell_type": "markdown",
   "metadata": {},
   "source": [
    "# 9. Mini-batch and Backward Search by Numpy"
   ]
  },
  {
   "cell_type": "markdown",
   "metadata": {},
   "source": [
    "# EXERCISE 1:\n",
    "# BACKWARD SEARCH FOR VARIABLE SELECTION"
   ]
  },
  {
   "cell_type": "markdown",
   "metadata": {},
   "source": [
    "### 0. IMPORTING THE LIBRARIES"
   ]
  },
  {
   "cell_type": "code",
   "execution_count": 1,
   "metadata": {},
   "outputs": [],
   "source": [
    "import pandas as pd\n",
    "import random\n",
    "import math\n",
    "import numpy as np"
   ]
  },
  {
   "cell_type": "markdown",
   "metadata": {},
   "source": [
    "### 1. READING THE DATA"
   ]
  },
  {
   "cell_type": "code",
   "execution_count": 2,
   "metadata": {},
   "outputs": [],
   "source": [
    "bank_set = pd.read_csv('bank.csv', sep=';')"
   ]
  },
  {
   "cell_type": "code",
   "execution_count": 3,
   "metadata": {},
   "outputs": [
    {
     "data": {
      "text/html": [
       "<div>\n",
       "<style scoped>\n",
       "    .dataframe tbody tr th:only-of-type {\n",
       "        vertical-align: middle;\n",
       "    }\n",
       "\n",
       "    .dataframe tbody tr th {\n",
       "        vertical-align: top;\n",
       "    }\n",
       "\n",
       "    .dataframe thead th {\n",
       "        text-align: right;\n",
       "    }\n",
       "</style>\n",
       "<table border=\"1\" class=\"dataframe\">\n",
       "  <thead>\n",
       "    <tr style=\"text-align: right;\">\n",
       "      <th></th>\n",
       "      <th>age</th>\n",
       "      <th>job</th>\n",
       "      <th>marital</th>\n",
       "      <th>education</th>\n",
       "      <th>default</th>\n",
       "      <th>balance</th>\n",
       "      <th>housing</th>\n",
       "      <th>loan</th>\n",
       "      <th>contact</th>\n",
       "      <th>day</th>\n",
       "      <th>month</th>\n",
       "      <th>duration</th>\n",
       "      <th>campaign</th>\n",
       "      <th>pdays</th>\n",
       "      <th>previous</th>\n",
       "      <th>poutcome</th>\n",
       "      <th>y</th>\n",
       "    </tr>\n",
       "  </thead>\n",
       "  <tbody>\n",
       "    <tr>\n",
       "      <th>0</th>\n",
       "      <td>30</td>\n",
       "      <td>unemployed</td>\n",
       "      <td>married</td>\n",
       "      <td>primary</td>\n",
       "      <td>no</td>\n",
       "      <td>1787</td>\n",
       "      <td>no</td>\n",
       "      <td>no</td>\n",
       "      <td>cellular</td>\n",
       "      <td>19</td>\n",
       "      <td>oct</td>\n",
       "      <td>79</td>\n",
       "      <td>1</td>\n",
       "      <td>-1</td>\n",
       "      <td>0</td>\n",
       "      <td>unknown</td>\n",
       "      <td>no</td>\n",
       "    </tr>\n",
       "    <tr>\n",
       "      <th>1</th>\n",
       "      <td>33</td>\n",
       "      <td>services</td>\n",
       "      <td>married</td>\n",
       "      <td>secondary</td>\n",
       "      <td>no</td>\n",
       "      <td>4789</td>\n",
       "      <td>yes</td>\n",
       "      <td>yes</td>\n",
       "      <td>cellular</td>\n",
       "      <td>11</td>\n",
       "      <td>may</td>\n",
       "      <td>220</td>\n",
       "      <td>1</td>\n",
       "      <td>339</td>\n",
       "      <td>4</td>\n",
       "      <td>failure</td>\n",
       "      <td>no</td>\n",
       "    </tr>\n",
       "    <tr>\n",
       "      <th>2</th>\n",
       "      <td>35</td>\n",
       "      <td>management</td>\n",
       "      <td>single</td>\n",
       "      <td>tertiary</td>\n",
       "      <td>no</td>\n",
       "      <td>1350</td>\n",
       "      <td>yes</td>\n",
       "      <td>no</td>\n",
       "      <td>cellular</td>\n",
       "      <td>16</td>\n",
       "      <td>apr</td>\n",
       "      <td>185</td>\n",
       "      <td>1</td>\n",
       "      <td>330</td>\n",
       "      <td>1</td>\n",
       "      <td>failure</td>\n",
       "      <td>no</td>\n",
       "    </tr>\n",
       "    <tr>\n",
       "      <th>3</th>\n",
       "      <td>30</td>\n",
       "      <td>management</td>\n",
       "      <td>married</td>\n",
       "      <td>tertiary</td>\n",
       "      <td>no</td>\n",
       "      <td>1476</td>\n",
       "      <td>yes</td>\n",
       "      <td>yes</td>\n",
       "      <td>unknown</td>\n",
       "      <td>3</td>\n",
       "      <td>jun</td>\n",
       "      <td>199</td>\n",
       "      <td>4</td>\n",
       "      <td>-1</td>\n",
       "      <td>0</td>\n",
       "      <td>unknown</td>\n",
       "      <td>no</td>\n",
       "    </tr>\n",
       "    <tr>\n",
       "      <th>4</th>\n",
       "      <td>59</td>\n",
       "      <td>blue-collar</td>\n",
       "      <td>married</td>\n",
       "      <td>secondary</td>\n",
       "      <td>no</td>\n",
       "      <td>0</td>\n",
       "      <td>yes</td>\n",
       "      <td>no</td>\n",
       "      <td>unknown</td>\n",
       "      <td>5</td>\n",
       "      <td>may</td>\n",
       "      <td>226</td>\n",
       "      <td>1</td>\n",
       "      <td>-1</td>\n",
       "      <td>0</td>\n",
       "      <td>unknown</td>\n",
       "      <td>no</td>\n",
       "    </tr>\n",
       "    <tr>\n",
       "      <th>...</th>\n",
       "      <td>...</td>\n",
       "      <td>...</td>\n",
       "      <td>...</td>\n",
       "      <td>...</td>\n",
       "      <td>...</td>\n",
       "      <td>...</td>\n",
       "      <td>...</td>\n",
       "      <td>...</td>\n",
       "      <td>...</td>\n",
       "      <td>...</td>\n",
       "      <td>...</td>\n",
       "      <td>...</td>\n",
       "      <td>...</td>\n",
       "      <td>...</td>\n",
       "      <td>...</td>\n",
       "      <td>...</td>\n",
       "      <td>...</td>\n",
       "    </tr>\n",
       "    <tr>\n",
       "      <th>4516</th>\n",
       "      <td>33</td>\n",
       "      <td>services</td>\n",
       "      <td>married</td>\n",
       "      <td>secondary</td>\n",
       "      <td>no</td>\n",
       "      <td>-333</td>\n",
       "      <td>yes</td>\n",
       "      <td>no</td>\n",
       "      <td>cellular</td>\n",
       "      <td>30</td>\n",
       "      <td>jul</td>\n",
       "      <td>329</td>\n",
       "      <td>5</td>\n",
       "      <td>-1</td>\n",
       "      <td>0</td>\n",
       "      <td>unknown</td>\n",
       "      <td>no</td>\n",
       "    </tr>\n",
       "    <tr>\n",
       "      <th>4517</th>\n",
       "      <td>57</td>\n",
       "      <td>self-employed</td>\n",
       "      <td>married</td>\n",
       "      <td>tertiary</td>\n",
       "      <td>yes</td>\n",
       "      <td>-3313</td>\n",
       "      <td>yes</td>\n",
       "      <td>yes</td>\n",
       "      <td>unknown</td>\n",
       "      <td>9</td>\n",
       "      <td>may</td>\n",
       "      <td>153</td>\n",
       "      <td>1</td>\n",
       "      <td>-1</td>\n",
       "      <td>0</td>\n",
       "      <td>unknown</td>\n",
       "      <td>no</td>\n",
       "    </tr>\n",
       "    <tr>\n",
       "      <th>4518</th>\n",
       "      <td>57</td>\n",
       "      <td>technician</td>\n",
       "      <td>married</td>\n",
       "      <td>secondary</td>\n",
       "      <td>no</td>\n",
       "      <td>295</td>\n",
       "      <td>no</td>\n",
       "      <td>no</td>\n",
       "      <td>cellular</td>\n",
       "      <td>19</td>\n",
       "      <td>aug</td>\n",
       "      <td>151</td>\n",
       "      <td>11</td>\n",
       "      <td>-1</td>\n",
       "      <td>0</td>\n",
       "      <td>unknown</td>\n",
       "      <td>no</td>\n",
       "    </tr>\n",
       "    <tr>\n",
       "      <th>4519</th>\n",
       "      <td>28</td>\n",
       "      <td>blue-collar</td>\n",
       "      <td>married</td>\n",
       "      <td>secondary</td>\n",
       "      <td>no</td>\n",
       "      <td>1137</td>\n",
       "      <td>no</td>\n",
       "      <td>no</td>\n",
       "      <td>cellular</td>\n",
       "      <td>6</td>\n",
       "      <td>feb</td>\n",
       "      <td>129</td>\n",
       "      <td>4</td>\n",
       "      <td>211</td>\n",
       "      <td>3</td>\n",
       "      <td>other</td>\n",
       "      <td>no</td>\n",
       "    </tr>\n",
       "    <tr>\n",
       "      <th>4520</th>\n",
       "      <td>44</td>\n",
       "      <td>entrepreneur</td>\n",
       "      <td>single</td>\n",
       "      <td>tertiary</td>\n",
       "      <td>no</td>\n",
       "      <td>1136</td>\n",
       "      <td>yes</td>\n",
       "      <td>yes</td>\n",
       "      <td>cellular</td>\n",
       "      <td>3</td>\n",
       "      <td>apr</td>\n",
       "      <td>345</td>\n",
       "      <td>2</td>\n",
       "      <td>249</td>\n",
       "      <td>7</td>\n",
       "      <td>other</td>\n",
       "      <td>no</td>\n",
       "    </tr>\n",
       "  </tbody>\n",
       "</table>\n",
       "<p>4521 rows × 17 columns</p>\n",
       "</div>"
      ],
      "text/plain": [
       "      age            job  marital  education default  balance housing loan  \\\n",
       "0      30     unemployed  married    primary      no     1787      no   no   \n",
       "1      33       services  married  secondary      no     4789     yes  yes   \n",
       "2      35     management   single   tertiary      no     1350     yes   no   \n",
       "3      30     management  married   tertiary      no     1476     yes  yes   \n",
       "4      59    blue-collar  married  secondary      no        0     yes   no   \n",
       "...   ...            ...      ...        ...     ...      ...     ...  ...   \n",
       "4516   33       services  married  secondary      no     -333     yes   no   \n",
       "4517   57  self-employed  married   tertiary     yes    -3313     yes  yes   \n",
       "4518   57     technician  married  secondary      no      295      no   no   \n",
       "4519   28    blue-collar  married  secondary      no     1137      no   no   \n",
       "4520   44   entrepreneur   single   tertiary      no     1136     yes  yes   \n",
       "\n",
       "       contact  day month  duration  campaign  pdays  previous poutcome   y  \n",
       "0     cellular   19   oct        79         1     -1         0  unknown  no  \n",
       "1     cellular   11   may       220         1    339         4  failure  no  \n",
       "2     cellular   16   apr       185         1    330         1  failure  no  \n",
       "3      unknown    3   jun       199         4     -1         0  unknown  no  \n",
       "4      unknown    5   may       226         1     -1         0  unknown  no  \n",
       "...        ...  ...   ...       ...       ...    ...       ...      ...  ..  \n",
       "4516  cellular   30   jul       329         5     -1         0  unknown  no  \n",
       "4517   unknown    9   may       153         1     -1         0  unknown  no  \n",
       "4518  cellular   19   aug       151        11     -1         0  unknown  no  \n",
       "4519  cellular    6   feb       129         4    211         3    other  no  \n",
       "4520  cellular    3   apr       345         2    249         7    other  no  \n",
       "\n",
       "[4521 rows x 17 columns]"
      ]
     },
     "execution_count": 3,
     "metadata": {},
     "output_type": "execute_result"
    }
   ],
   "source": [
    "bank_set"
   ]
  },
  {
   "cell_type": "code",
   "execution_count": 12,
   "metadata": {},
   "outputs": [],
   "source": [
    "bank_set['job'].replace({'unemployed':1},inplace=True)"
   ]
  },
  {
   "cell_type": "markdown",
   "metadata": {},
   "source": [
    "The bank data has 4521 samples and 17 values."
   ]
  },
  {
   "cell_type": "markdown",
   "metadata": {},
   "source": [
    "### 2. CONVERTING NON-NUMERIC VALUES "
   ]
  },
  {
   "cell_type": "markdown",
   "metadata": {},
   "source": [
    "In this part, we will convert any non-numeric values into the numeric values. For doing this, first, I would find which values are non numeric and I will convert by manually."
   ]
  },
  {
   "cell_type": "code",
   "execution_count": 13,
   "metadata": {},
   "outputs": [
    {
     "name": "stdout",
     "output_type": "stream",
     "text": [
      "<class 'pandas.core.frame.DataFrame'>\n",
      "RangeIndex: 4521 entries, 0 to 4520\n",
      "Data columns (total 17 columns):\n",
      " #   Column     Non-Null Count  Dtype \n",
      "---  ------     --------------  ----- \n",
      " 0   age        4521 non-null   int64 \n",
      " 1   job        4521 non-null   object\n",
      " 2   marital    4521 non-null   object\n",
      " 3   education  4521 non-null   object\n",
      " 4   default    4521 non-null   object\n",
      " 5   balance    4521 non-null   int64 \n",
      " 6   housing    4521 non-null   object\n",
      " 7   loan       4521 non-null   object\n",
      " 8   contact    4521 non-null   object\n",
      " 9   day        4521 non-null   int64 \n",
      " 10  month      4521 non-null   object\n",
      " 11  duration   4521 non-null   int64 \n",
      " 12  campaign   4521 non-null   int64 \n",
      " 13  pdays      4521 non-null   int64 \n",
      " 14  previous   4521 non-null   int64 \n",
      " 15  poutcome   4521 non-null   object\n",
      " 16  y          4521 non-null   object\n",
      "dtypes: int64(7), object(10)\n",
      "memory usage: 600.6+ KB\n"
     ]
    }
   ],
   "source": [
    "bank_set.info()"
   ]
  },
  {
   "cell_type": "markdown",
   "metadata": {},
   "source": [
    "According to the info, job ,marital, education,default,housing,loan,contact,month,poutcome and y vlaues are object. "
   ]
  },
  {
   "cell_type": "markdown",
   "metadata": {},
   "source": [
    "#### 2.1 Converting the 'job' Column"
   ]
  },
  {
   "cell_type": "code",
   "execution_count": 14,
   "metadata": {},
   "outputs": [
    {
     "data": {
      "text/plain": [
       "{1,\n",
       " 'admin.',\n",
       " 'blue-collar',\n",
       " 'entrepreneur',\n",
       " 'housemaid',\n",
       " 'management',\n",
       " 'retired',\n",
       " 'self-employed',\n",
       " 'services',\n",
       " 'student',\n",
       " 'technician',\n",
       " 'unknown'}"
      ]
     },
     "execution_count": 14,
     "metadata": {},
     "output_type": "execute_result"
    }
   ],
   "source": [
    "set(list(bank_set['job']))"
   ]
  },
  {
   "cell_type": "code",
   "execution_count": 15,
   "metadata": {},
   "outputs": [],
   "source": [
    "bank_set['job'].replace({'admin.':0, 'blue-collar':1  , 'entrepreneur':2, \n",
    "                        'housemaid':3, 'management':4, 'retired':5 ,'self-employed':6\n",
    "                       ,'services':7, 'services':8 , 'student':9 , 'technician':10\n",
    "                       , 'unemployed':11, 'unknown':12}, inplace = True)"
   ]
  },
  {
   "cell_type": "markdown",
   "metadata": {},
   "source": [
    "#### 2.2 Converting the 'marital' Columns"
   ]
  },
  {
   "cell_type": "code",
   "execution_count": 16,
   "metadata": {},
   "outputs": [
    {
     "data": {
      "text/plain": [
       "{'divorced', 'married', 'single'}"
      ]
     },
     "execution_count": 16,
     "metadata": {},
     "output_type": "execute_result"
    }
   ],
   "source": [
    "set(list(bank_set['marital']))"
   ]
  },
  {
   "cell_type": "code",
   "execution_count": 17,
   "metadata": {},
   "outputs": [],
   "source": [
    "bank_set['marital'].replace({'divorced':0 , 'married':1,'single':2}, inplace=True)"
   ]
  },
  {
   "cell_type": "markdown",
   "metadata": {},
   "source": [
    "#### 2.3 Converting the 'education' Columns"
   ]
  },
  {
   "cell_type": "code",
   "execution_count": 18,
   "metadata": {},
   "outputs": [
    {
     "data": {
      "text/plain": [
       "{'primary', 'secondary', 'tertiary', 'unknown'}"
      ]
     },
     "execution_count": 18,
     "metadata": {},
     "output_type": "execute_result"
    }
   ],
   "source": [
    "set(list(bank_set['education']))"
   ]
  },
  {
   "cell_type": "code",
   "execution_count": 19,
   "metadata": {},
   "outputs": [],
   "source": [
    "bank_set['education'].replace({'primary':0, 'secondary':1 , 'tertiary':2 , 'unknown':3}, inplace=True)"
   ]
  },
  {
   "cell_type": "markdown",
   "metadata": {},
   "source": [
    "#### 2.4 Converting the 'default' Column"
   ]
  },
  {
   "cell_type": "code",
   "execution_count": 20,
   "metadata": {},
   "outputs": [
    {
     "data": {
      "text/plain": [
       "{'no', 'yes'}"
      ]
     },
     "execution_count": 20,
     "metadata": {},
     "output_type": "execute_result"
    }
   ],
   "source": [
    "set(list(bank_set['default']))"
   ]
  },
  {
   "cell_type": "code",
   "execution_count": 21,
   "metadata": {},
   "outputs": [],
   "source": [
    "bank_set['default'].replace({'no':0 , 'yes':1}, inplace = True)"
   ]
  },
  {
   "cell_type": "markdown",
   "metadata": {},
   "source": [
    "#### 2.5 Converting the 'Housing'   Column "
   ]
  },
  {
   "cell_type": "code",
   "execution_count": 22,
   "metadata": {},
   "outputs": [
    {
     "data": {
      "text/plain": [
       "{'no', 'yes'}"
      ]
     },
     "execution_count": 22,
     "metadata": {},
     "output_type": "execute_result"
    }
   ],
   "source": [
    "set(list(bank_set['housing']))"
   ]
  },
  {
   "cell_type": "code",
   "execution_count": 23,
   "metadata": {},
   "outputs": [],
   "source": [
    "bank_set['housing'].replace({'no':0 , 'yes':1}, inplace = True)"
   ]
  },
  {
   "cell_type": "markdown",
   "metadata": {},
   "source": [
    "#### 2.6 Converting the 'loan' Column"
   ]
  },
  {
   "cell_type": "code",
   "execution_count": 24,
   "metadata": {},
   "outputs": [
    {
     "data": {
      "text/plain": [
       "{'no', 'yes'}"
      ]
     },
     "execution_count": 24,
     "metadata": {},
     "output_type": "execute_result"
    }
   ],
   "source": [
    "set(list(bank_set['loan']))"
   ]
  },
  {
   "cell_type": "code",
   "execution_count": 25,
   "metadata": {},
   "outputs": [],
   "source": [
    "bank_set['loan'].replace({'no':0 , 'yes':1}, inplace = True)"
   ]
  },
  {
   "cell_type": "markdown",
   "metadata": {},
   "source": [
    "#### 2.7 Converting the 'Contact' Column"
   ]
  },
  {
   "cell_type": "code",
   "execution_count": 26,
   "metadata": {},
   "outputs": [
    {
     "data": {
      "text/plain": [
       "{'cellular', 'telephone', 'unknown'}"
      ]
     },
     "execution_count": 26,
     "metadata": {},
     "output_type": "execute_result"
    }
   ],
   "source": [
    "set(list(bank_set['contact']))"
   ]
  },
  {
   "cell_type": "code",
   "execution_count": 27,
   "metadata": {},
   "outputs": [],
   "source": [
    "bank_set['contact'].replace({'cellular':0, 'telephone':1 , 'unknown':2}, inplace=True)"
   ]
  },
  {
   "cell_type": "markdown",
   "metadata": {},
   "source": [
    "#### 2.8 Converting the 'month' Column"
   ]
  },
  {
   "cell_type": "code",
   "execution_count": 28,
   "metadata": {},
   "outputs": [
    {
     "data": {
      "text/plain": [
       "{'apr',\n",
       " 'aug',\n",
       " 'dec',\n",
       " 'feb',\n",
       " 'jan',\n",
       " 'jul',\n",
       " 'jun',\n",
       " 'mar',\n",
       " 'may',\n",
       " 'nov',\n",
       " 'oct',\n",
       " 'sep'}"
      ]
     },
     "execution_count": 28,
     "metadata": {},
     "output_type": "execute_result"
    }
   ],
   "source": [
    "set(list(bank_set['month']))"
   ]
  },
  {
   "cell_type": "code",
   "execution_count": 29,
   "metadata": {},
   "outputs": [],
   "source": [
    "bank_set['month'].replace({'jan':0 , 'feb':1 , 'mar':2 , 'apr':3 , 'may':4,\n",
    "                           'jun':5 , 'jul':6 , 'aug':7 , 'sep':8 , 'oct':9,\n",
    "                           'nov':10, 'dec':11}, inplace = True)"
   ]
  },
  {
   "cell_type": "markdown",
   "metadata": {},
   "source": [
    "#### 2.9 Converting 'poutcom' Column"
   ]
  },
  {
   "cell_type": "code",
   "execution_count": 30,
   "metadata": {},
   "outputs": [
    {
     "data": {
      "text/plain": [
       "{'failure', 'other', 'success', 'unknown'}"
      ]
     },
     "execution_count": 30,
     "metadata": {},
     "output_type": "execute_result"
    }
   ],
   "source": [
    "set(list(bank_set['poutcome']))"
   ]
  },
  {
   "cell_type": "code",
   "execution_count": 31,
   "metadata": {},
   "outputs": [],
   "source": [
    "bank_set['poutcome'].replace({'failure':0 , 'other':1 , 'success':2 , 'unknown':3}, inplace=True)"
   ]
  },
  {
   "cell_type": "markdown",
   "metadata": {},
   "source": [
    "#### 2.10 Converting 'y' Column"
   ]
  },
  {
   "cell_type": "code",
   "execution_count": 32,
   "metadata": {},
   "outputs": [
    {
     "data": {
      "text/plain": [
       "{'no', 'yes'}"
      ]
     },
     "execution_count": 32,
     "metadata": {},
     "output_type": "execute_result"
    }
   ],
   "source": [
    "set(list(bank_set['y']))"
   ]
  },
  {
   "cell_type": "code",
   "execution_count": 33,
   "metadata": {},
   "outputs": [],
   "source": [
    "bank_set['y'].replace({'no':0 , 'yes':1}, inplace = True)"
   ]
  },
  {
   "cell_type": "markdown",
   "metadata": {},
   "source": [
    "#### 2.11 Final Data Set"
   ]
  },
  {
   "cell_type": "code",
   "execution_count": 34,
   "metadata": {},
   "outputs": [
    {
     "name": "stdout",
     "output_type": "stream",
     "text": [
      "<class 'pandas.core.frame.DataFrame'>\n",
      "RangeIndex: 4521 entries, 0 to 4520\n",
      "Data columns (total 17 columns):\n",
      " #   Column     Non-Null Count  Dtype\n",
      "---  ------     --------------  -----\n",
      " 0   age        4521 non-null   int64\n",
      " 1   job        4521 non-null   int64\n",
      " 2   marital    4521 non-null   int64\n",
      " 3   education  4521 non-null   int64\n",
      " 4   default    4521 non-null   int64\n",
      " 5   balance    4521 non-null   int64\n",
      " 6   housing    4521 non-null   int64\n",
      " 7   loan       4521 non-null   int64\n",
      " 8   contact    4521 non-null   int64\n",
      " 9   day        4521 non-null   int64\n",
      " 10  month      4521 non-null   int64\n",
      " 11  duration   4521 non-null   int64\n",
      " 12  campaign   4521 non-null   int64\n",
      " 13  pdays      4521 non-null   int64\n",
      " 14  previous   4521 non-null   int64\n",
      " 15  poutcome   4521 non-null   int64\n",
      " 16  y          4521 non-null   int64\n",
      "dtypes: int64(17)\n",
      "memory usage: 600.6 KB\n"
     ]
    }
   ],
   "source": [
    "bank_set.info()"
   ]
  },
  {
   "cell_type": "code",
   "execution_count": 35,
   "metadata": {},
   "outputs": [
    {
     "data": {
      "text/html": [
       "<div>\n",
       "<style scoped>\n",
       "    .dataframe tbody tr th:only-of-type {\n",
       "        vertical-align: middle;\n",
       "    }\n",
       "\n",
       "    .dataframe tbody tr th {\n",
       "        vertical-align: top;\n",
       "    }\n",
       "\n",
       "    .dataframe thead th {\n",
       "        text-align: right;\n",
       "    }\n",
       "</style>\n",
       "<table border=\"1\" class=\"dataframe\">\n",
       "  <thead>\n",
       "    <tr style=\"text-align: right;\">\n",
       "      <th></th>\n",
       "      <th>age</th>\n",
       "      <th>job</th>\n",
       "      <th>marital</th>\n",
       "      <th>education</th>\n",
       "      <th>default</th>\n",
       "      <th>balance</th>\n",
       "      <th>housing</th>\n",
       "      <th>loan</th>\n",
       "      <th>contact</th>\n",
       "      <th>day</th>\n",
       "      <th>month</th>\n",
       "      <th>duration</th>\n",
       "      <th>campaign</th>\n",
       "      <th>pdays</th>\n",
       "      <th>previous</th>\n",
       "      <th>poutcome</th>\n",
       "      <th>y</th>\n",
       "    </tr>\n",
       "  </thead>\n",
       "  <tbody>\n",
       "    <tr>\n",
       "      <th>0</th>\n",
       "      <td>30</td>\n",
       "      <td>1</td>\n",
       "      <td>1</td>\n",
       "      <td>0</td>\n",
       "      <td>0</td>\n",
       "      <td>1787</td>\n",
       "      <td>0</td>\n",
       "      <td>0</td>\n",
       "      <td>0</td>\n",
       "      <td>19</td>\n",
       "      <td>9</td>\n",
       "      <td>79</td>\n",
       "      <td>1</td>\n",
       "      <td>-1</td>\n",
       "      <td>0</td>\n",
       "      <td>3</td>\n",
       "      <td>0</td>\n",
       "    </tr>\n",
       "    <tr>\n",
       "      <th>1</th>\n",
       "      <td>33</td>\n",
       "      <td>8</td>\n",
       "      <td>1</td>\n",
       "      <td>1</td>\n",
       "      <td>0</td>\n",
       "      <td>4789</td>\n",
       "      <td>1</td>\n",
       "      <td>1</td>\n",
       "      <td>0</td>\n",
       "      <td>11</td>\n",
       "      <td>4</td>\n",
       "      <td>220</td>\n",
       "      <td>1</td>\n",
       "      <td>339</td>\n",
       "      <td>4</td>\n",
       "      <td>0</td>\n",
       "      <td>0</td>\n",
       "    </tr>\n",
       "    <tr>\n",
       "      <th>2</th>\n",
       "      <td>35</td>\n",
       "      <td>4</td>\n",
       "      <td>2</td>\n",
       "      <td>2</td>\n",
       "      <td>0</td>\n",
       "      <td>1350</td>\n",
       "      <td>1</td>\n",
       "      <td>0</td>\n",
       "      <td>0</td>\n",
       "      <td>16</td>\n",
       "      <td>3</td>\n",
       "      <td>185</td>\n",
       "      <td>1</td>\n",
       "      <td>330</td>\n",
       "      <td>1</td>\n",
       "      <td>0</td>\n",
       "      <td>0</td>\n",
       "    </tr>\n",
       "    <tr>\n",
       "      <th>3</th>\n",
       "      <td>30</td>\n",
       "      <td>4</td>\n",
       "      <td>1</td>\n",
       "      <td>2</td>\n",
       "      <td>0</td>\n",
       "      <td>1476</td>\n",
       "      <td>1</td>\n",
       "      <td>1</td>\n",
       "      <td>2</td>\n",
       "      <td>3</td>\n",
       "      <td>5</td>\n",
       "      <td>199</td>\n",
       "      <td>4</td>\n",
       "      <td>-1</td>\n",
       "      <td>0</td>\n",
       "      <td>3</td>\n",
       "      <td>0</td>\n",
       "    </tr>\n",
       "    <tr>\n",
       "      <th>4</th>\n",
       "      <td>59</td>\n",
       "      <td>1</td>\n",
       "      <td>1</td>\n",
       "      <td>1</td>\n",
       "      <td>0</td>\n",
       "      <td>0</td>\n",
       "      <td>1</td>\n",
       "      <td>0</td>\n",
       "      <td>2</td>\n",
       "      <td>5</td>\n",
       "      <td>4</td>\n",
       "      <td>226</td>\n",
       "      <td>1</td>\n",
       "      <td>-1</td>\n",
       "      <td>0</td>\n",
       "      <td>3</td>\n",
       "      <td>0</td>\n",
       "    </tr>\n",
       "    <tr>\n",
       "      <th>...</th>\n",
       "      <td>...</td>\n",
       "      <td>...</td>\n",
       "      <td>...</td>\n",
       "      <td>...</td>\n",
       "      <td>...</td>\n",
       "      <td>...</td>\n",
       "      <td>...</td>\n",
       "      <td>...</td>\n",
       "      <td>...</td>\n",
       "      <td>...</td>\n",
       "      <td>...</td>\n",
       "      <td>...</td>\n",
       "      <td>...</td>\n",
       "      <td>...</td>\n",
       "      <td>...</td>\n",
       "      <td>...</td>\n",
       "      <td>...</td>\n",
       "    </tr>\n",
       "    <tr>\n",
       "      <th>4516</th>\n",
       "      <td>33</td>\n",
       "      <td>8</td>\n",
       "      <td>1</td>\n",
       "      <td>1</td>\n",
       "      <td>0</td>\n",
       "      <td>-333</td>\n",
       "      <td>1</td>\n",
       "      <td>0</td>\n",
       "      <td>0</td>\n",
       "      <td>30</td>\n",
       "      <td>6</td>\n",
       "      <td>329</td>\n",
       "      <td>5</td>\n",
       "      <td>-1</td>\n",
       "      <td>0</td>\n",
       "      <td>3</td>\n",
       "      <td>0</td>\n",
       "    </tr>\n",
       "    <tr>\n",
       "      <th>4517</th>\n",
       "      <td>57</td>\n",
       "      <td>6</td>\n",
       "      <td>1</td>\n",
       "      <td>2</td>\n",
       "      <td>1</td>\n",
       "      <td>-3313</td>\n",
       "      <td>1</td>\n",
       "      <td>1</td>\n",
       "      <td>2</td>\n",
       "      <td>9</td>\n",
       "      <td>4</td>\n",
       "      <td>153</td>\n",
       "      <td>1</td>\n",
       "      <td>-1</td>\n",
       "      <td>0</td>\n",
       "      <td>3</td>\n",
       "      <td>0</td>\n",
       "    </tr>\n",
       "    <tr>\n",
       "      <th>4518</th>\n",
       "      <td>57</td>\n",
       "      <td>10</td>\n",
       "      <td>1</td>\n",
       "      <td>1</td>\n",
       "      <td>0</td>\n",
       "      <td>295</td>\n",
       "      <td>0</td>\n",
       "      <td>0</td>\n",
       "      <td>0</td>\n",
       "      <td>19</td>\n",
       "      <td>7</td>\n",
       "      <td>151</td>\n",
       "      <td>11</td>\n",
       "      <td>-1</td>\n",
       "      <td>0</td>\n",
       "      <td>3</td>\n",
       "      <td>0</td>\n",
       "    </tr>\n",
       "    <tr>\n",
       "      <th>4519</th>\n",
       "      <td>28</td>\n",
       "      <td>1</td>\n",
       "      <td>1</td>\n",
       "      <td>1</td>\n",
       "      <td>0</td>\n",
       "      <td>1137</td>\n",
       "      <td>0</td>\n",
       "      <td>0</td>\n",
       "      <td>0</td>\n",
       "      <td>6</td>\n",
       "      <td>1</td>\n",
       "      <td>129</td>\n",
       "      <td>4</td>\n",
       "      <td>211</td>\n",
       "      <td>3</td>\n",
       "      <td>1</td>\n",
       "      <td>0</td>\n",
       "    </tr>\n",
       "    <tr>\n",
       "      <th>4520</th>\n",
       "      <td>44</td>\n",
       "      <td>2</td>\n",
       "      <td>2</td>\n",
       "      <td>2</td>\n",
       "      <td>0</td>\n",
       "      <td>1136</td>\n",
       "      <td>1</td>\n",
       "      <td>1</td>\n",
       "      <td>0</td>\n",
       "      <td>3</td>\n",
       "      <td>3</td>\n",
       "      <td>345</td>\n",
       "      <td>2</td>\n",
       "      <td>249</td>\n",
       "      <td>7</td>\n",
       "      <td>1</td>\n",
       "      <td>0</td>\n",
       "    </tr>\n",
       "  </tbody>\n",
       "</table>\n",
       "<p>4521 rows × 17 columns</p>\n",
       "</div>"
      ],
      "text/plain": [
       "      age  job  marital  education  default  balance  housing  loan  contact  \\\n",
       "0      30    1        1          0        0     1787        0     0        0   \n",
       "1      33    8        1          1        0     4789        1     1        0   \n",
       "2      35    4        2          2        0     1350        1     0        0   \n",
       "3      30    4        1          2        0     1476        1     1        2   \n",
       "4      59    1        1          1        0        0        1     0        2   \n",
       "...   ...  ...      ...        ...      ...      ...      ...   ...      ...   \n",
       "4516   33    8        1          1        0     -333        1     0        0   \n",
       "4517   57    6        1          2        1    -3313        1     1        2   \n",
       "4518   57   10        1          1        0      295        0     0        0   \n",
       "4519   28    1        1          1        0     1137        0     0        0   \n",
       "4520   44    2        2          2        0     1136        1     1        0   \n",
       "\n",
       "      day  month  duration  campaign  pdays  previous  poutcome  y  \n",
       "0      19      9        79         1     -1         0         3  0  \n",
       "1      11      4       220         1    339         4         0  0  \n",
       "2      16      3       185         1    330         1         0  0  \n",
       "3       3      5       199         4     -1         0         3  0  \n",
       "4       5      4       226         1     -1         0         3  0  \n",
       "...   ...    ...       ...       ...    ...       ...       ... ..  \n",
       "4516   30      6       329         5     -1         0         3  0  \n",
       "4517    9      4       153         1     -1         0         3  0  \n",
       "4518   19      7       151        11     -1         0         3  0  \n",
       "4519    6      1       129         4    211         3         1  0  \n",
       "4520    3      3       345         2    249         7         1  0  \n",
       "\n",
       "[4521 rows x 17 columns]"
      ]
     },
     "execution_count": 35,
     "metadata": {},
     "output_type": "execute_result"
    }
   ],
   "source": [
    "bank_set"
   ]
  },
  {
   "cell_type": "markdown",
   "metadata": {},
   "source": [
    "### 3. EXISTING OF MISSING VALUES"
   ]
  },
  {
   "cell_type": "markdown",
   "metadata": {},
   "source": [
    "Now, we will use .info() function the know whether data set has NaN values or not."
   ]
  },
  {
   "cell_type": "code",
   "execution_count": 36,
   "metadata": {},
   "outputs": [
    {
     "name": "stdout",
     "output_type": "stream",
     "text": [
      "<class 'pandas.core.frame.DataFrame'>\n",
      "RangeIndex: 4521 entries, 0 to 4520\n",
      "Data columns (total 17 columns):\n",
      " #   Column     Non-Null Count  Dtype\n",
      "---  ------     --------------  -----\n",
      " 0   age        4521 non-null   int64\n",
      " 1   job        4521 non-null   int64\n",
      " 2   marital    4521 non-null   int64\n",
      " 3   education  4521 non-null   int64\n",
      " 4   default    4521 non-null   int64\n",
      " 5   balance    4521 non-null   int64\n",
      " 6   housing    4521 non-null   int64\n",
      " 7   loan       4521 non-null   int64\n",
      " 8   contact    4521 non-null   int64\n",
      " 9   day        4521 non-null   int64\n",
      " 10  month      4521 non-null   int64\n",
      " 11  duration   4521 non-null   int64\n",
      " 12  campaign   4521 non-null   int64\n",
      " 13  pdays      4521 non-null   int64\n",
      " 14  previous   4521 non-null   int64\n",
      " 15  poutcome   4521 non-null   int64\n",
      " 16  y          4521 non-null   int64\n",
      "dtypes: int64(17)\n",
      "memory usage: 600.6 KB\n"
     ]
    }
   ],
   "source": [
    "bank_set.info()"
   ]
  },
  {
   "cell_type": "markdown",
   "metadata": {},
   "source": [
    "According to the info, there is no any NaN values in the data. For this reason, no need to drop any columns."
   ]
  },
  {
   "cell_type": "markdown",
   "metadata": {},
   "source": [
    "### 4. NORMALIZING THE DATA"
   ]
  },
  {
   "cell_type": "markdown",
   "metadata": {},
   "source": [
    "####  4. 1 Mean and Standard Deviation of The Data"
   ]
  },
  {
   "cell_type": "code",
   "execution_count": 37,
   "metadata": {},
   "outputs": [],
   "source": [
    "mu = np.array(bank_set).mean()"
   ]
  },
  {
   "cell_type": "code",
   "execution_count": 38,
   "metadata": {},
   "outputs": [],
   "source": [
    "sigma = np.std(np.array(bank_set))"
   ]
  },
  {
   "cell_type": "code",
   "execution_count": 39,
   "metadata": {},
   "outputs": [
    {
     "name": "stdout",
     "output_type": "stream",
     "text": [
      "Mean of The Data = 106.05065251050652\n",
      "Standart Deviation of The Data = 805.8497617924002\n"
     ]
    }
   ],
   "source": [
    "print('Mean of The Data =', mu)\n",
    "print('Standart Deviation of The Data =', sigma)"
   ]
  },
  {
   "cell_type": "markdown",
   "metadata": {},
   "source": [
    "####  4.2 Normalize The Data"
   ]
  },
  {
   "cell_type": "code",
   "execution_count": 40,
   "metadata": {},
   "outputs": [],
   "source": [
    "dimension_one = int(bank_set.shape[0])\n",
    "dimension_two = int(bank_set.shape[1])\n",
    "bank_set_matrix = np.array(bank_set, dtype='f')\n",
    "for i in range(0,dimension_one):\n",
    "    for j in range(0,dimension_two):\n",
    "        bank_set_matrix[i][j]=(bank_set_matrix[i][j]-mu)/sigma\n",
    "        "
   ]
  },
  {
   "cell_type": "code",
   "execution_count": 41,
   "metadata": {},
   "outputs": [],
   "source": [
    "a = (np.array(bank_set)[0][0]-mu)/sigma"
   ]
  },
  {
   "cell_type": "code",
   "execution_count": 42,
   "metadata": {},
   "outputs": [],
   "source": [
    "bank_set_normalized= pd.DataFrame(bank_set_matrix)"
   ]
  },
  {
   "cell_type": "markdown",
   "metadata": {},
   "source": [
    "### 5. CREATING TRAIN and TEST SET"
   ]
  },
  {
   "cell_type": "markdown",
   "metadata": {},
   "source": [
    "#### 5.1 Defining a Function to Create Train and Test Set"
   ]
  },
  {
   "cell_type": "code",
   "execution_count": 35,
   "metadata": {},
   "outputs": [],
   "source": [
    "def train_test_set(data,train_ratio):\n",
    "    train_set =[]\n",
    "    test_set=[]\n",
    "    all_number_of_samples=int(data.shape[0])\n",
    "    train_number_of_samples = math.floor(all_number_of_samples*train_ratio)\n",
    "    places_of_train_samples =random.sample(range(0,all_number_of_samples),train_number_of_samples)\n",
    "    for i in range(0,all_number_of_samples):\n",
    "        if i in places_of_train_samples:\n",
    "            train_set.append(data.iloc[i])\n",
    "        else:\n",
    "            test_set.append(data.iloc[i])\n",
    "    return train_set,test_set\n",
    "        \n",
    "    "
   ]
  },
  {
   "cell_type": "markdown",
   "metadata": {},
   "source": [
    "#### 5.2 Train and Test Sets"
   ]
  },
  {
   "cell_type": "code",
   "execution_count": 36,
   "metadata": {},
   "outputs": [],
   "source": [
    "train_set_bank , test_set_bank = train_test_set(bank_set_normalized,0.8)"
   ]
  },
  {
   "cell_type": "code",
   "execution_count": 37,
   "metadata": {},
   "outputs": [
    {
     "data": {
      "text/html": [
       "<div>\n",
       "<style scoped>\n",
       "    .dataframe tbody tr th:only-of-type {\n",
       "        vertical-align: middle;\n",
       "    }\n",
       "\n",
       "    .dataframe tbody tr th {\n",
       "        vertical-align: top;\n",
       "    }\n",
       "\n",
       "    .dataframe thead th {\n",
       "        text-align: right;\n",
       "    }\n",
       "</style>\n",
       "<table border=\"1\" class=\"dataframe\">\n",
       "  <thead>\n",
       "    <tr style=\"text-align: right;\">\n",
       "      <th></th>\n",
       "      <th>0</th>\n",
       "      <th>1</th>\n",
       "      <th>2</th>\n",
       "      <th>3</th>\n",
       "      <th>4</th>\n",
       "      <th>5</th>\n",
       "      <th>6</th>\n",
       "      <th>7</th>\n",
       "      <th>8</th>\n",
       "      <th>9</th>\n",
       "      <th>10</th>\n",
       "      <th>11</th>\n",
       "      <th>12</th>\n",
       "      <th>13</th>\n",
       "      <th>14</th>\n",
       "      <th>15</th>\n",
       "      <th>16</th>\n",
       "    </tr>\n",
       "  </thead>\n",
       "  <tbody>\n",
       "    <tr>\n",
       "      <th>0</th>\n",
       "      <td>-0.094373</td>\n",
       "      <td>-0.130360</td>\n",
       "      <td>-0.130360</td>\n",
       "      <td>-0.131601</td>\n",
       "      <td>-0.131601</td>\n",
       "      <td>2.085934</td>\n",
       "      <td>-0.131601</td>\n",
       "      <td>-0.131601</td>\n",
       "      <td>-0.131601</td>\n",
       "      <td>-0.108023</td>\n",
       "      <td>-0.120433</td>\n",
       "      <td>-0.033568</td>\n",
       "      <td>-0.130360</td>\n",
       "      <td>-0.132842</td>\n",
       "      <td>-0.131601</td>\n",
       "      <td>-0.127878</td>\n",
       "      <td>-0.131601</td>\n",
       "    </tr>\n",
       "    <tr>\n",
       "      <th>1</th>\n",
       "      <td>-0.090650</td>\n",
       "      <td>-0.121674</td>\n",
       "      <td>-0.130360</td>\n",
       "      <td>-0.130360</td>\n",
       "      <td>-0.131601</td>\n",
       "      <td>5.811194</td>\n",
       "      <td>-0.130360</td>\n",
       "      <td>-0.130360</td>\n",
       "      <td>-0.131601</td>\n",
       "      <td>-0.117951</td>\n",
       "      <td>-0.126637</td>\n",
       "      <td>0.141403</td>\n",
       "      <td>-0.130360</td>\n",
       "      <td>0.289073</td>\n",
       "      <td>-0.126637</td>\n",
       "      <td>-0.131601</td>\n",
       "      <td>-0.131601</td>\n",
       "    </tr>\n",
       "    <tr>\n",
       "      <th>2</th>\n",
       "      <td>-0.088169</td>\n",
       "      <td>-0.126637</td>\n",
       "      <td>-0.129119</td>\n",
       "      <td>-0.129119</td>\n",
       "      <td>-0.131601</td>\n",
       "      <td>1.543649</td>\n",
       "      <td>-0.130360</td>\n",
       "      <td>-0.131601</td>\n",
       "      <td>-0.131601</td>\n",
       "      <td>-0.111746</td>\n",
       "      <td>-0.127878</td>\n",
       "      <td>0.097970</td>\n",
       "      <td>-0.130360</td>\n",
       "      <td>0.277905</td>\n",
       "      <td>-0.130360</td>\n",
       "      <td>-0.131601</td>\n",
       "      <td>-0.131601</td>\n",
       "    </tr>\n",
       "    <tr>\n",
       "      <th>3</th>\n",
       "      <td>-0.094373</td>\n",
       "      <td>-0.126637</td>\n",
       "      <td>-0.130360</td>\n",
       "      <td>-0.129119</td>\n",
       "      <td>-0.131601</td>\n",
       "      <td>1.700006</td>\n",
       "      <td>-0.130360</td>\n",
       "      <td>-0.130360</td>\n",
       "      <td>-0.129119</td>\n",
       "      <td>-0.127878</td>\n",
       "      <td>-0.125396</td>\n",
       "      <td>0.115343</td>\n",
       "      <td>-0.126637</td>\n",
       "      <td>-0.132842</td>\n",
       "      <td>-0.131601</td>\n",
       "      <td>-0.127878</td>\n",
       "      <td>-0.131601</td>\n",
       "    </tr>\n",
       "    <tr>\n",
       "      <th>4</th>\n",
       "      <td>-0.058386</td>\n",
       "      <td>-0.130360</td>\n",
       "      <td>-0.130360</td>\n",
       "      <td>-0.130360</td>\n",
       "      <td>-0.131601</td>\n",
       "      <td>-0.131601</td>\n",
       "      <td>-0.130360</td>\n",
       "      <td>-0.131601</td>\n",
       "      <td>-0.129119</td>\n",
       "      <td>-0.125396</td>\n",
       "      <td>-0.126637</td>\n",
       "      <td>0.148848</td>\n",
       "      <td>-0.130360</td>\n",
       "      <td>-0.132842</td>\n",
       "      <td>-0.131601</td>\n",
       "      <td>-0.127878</td>\n",
       "      <td>-0.131601</td>\n",
       "    </tr>\n",
       "    <tr>\n",
       "      <th>...</th>\n",
       "      <td>...</td>\n",
       "      <td>...</td>\n",
       "      <td>...</td>\n",
       "      <td>...</td>\n",
       "      <td>...</td>\n",
       "      <td>...</td>\n",
       "      <td>...</td>\n",
       "      <td>...</td>\n",
       "      <td>...</td>\n",
       "      <td>...</td>\n",
       "      <td>...</td>\n",
       "      <td>...</td>\n",
       "      <td>...</td>\n",
       "      <td>...</td>\n",
       "      <td>...</td>\n",
       "      <td>...</td>\n",
       "      <td>...</td>\n",
       "    </tr>\n",
       "    <tr>\n",
       "      <th>4515</th>\n",
       "      <td>-0.091891</td>\n",
       "      <td>-0.121674</td>\n",
       "      <td>-0.129119</td>\n",
       "      <td>-0.130360</td>\n",
       "      <td>-0.131601</td>\n",
       "      <td>0.455357</td>\n",
       "      <td>-0.130360</td>\n",
       "      <td>-0.131601</td>\n",
       "      <td>-0.131601</td>\n",
       "      <td>-0.122915</td>\n",
       "      <td>-0.124155</td>\n",
       "      <td>0.642737</td>\n",
       "      <td>-0.125396</td>\n",
       "      <td>-0.132842</td>\n",
       "      <td>-0.131601</td>\n",
       "      <td>-0.127878</td>\n",
       "      <td>-0.131601</td>\n",
       "    </tr>\n",
       "    <tr>\n",
       "      <th>4516</th>\n",
       "      <td>-0.090650</td>\n",
       "      <td>-0.121674</td>\n",
       "      <td>-0.130360</td>\n",
       "      <td>-0.130360</td>\n",
       "      <td>-0.131601</td>\n",
       "      <td>-0.544829</td>\n",
       "      <td>-0.130360</td>\n",
       "      <td>-0.131601</td>\n",
       "      <td>-0.131601</td>\n",
       "      <td>-0.094373</td>\n",
       "      <td>-0.124155</td>\n",
       "      <td>0.276664</td>\n",
       "      <td>-0.125396</td>\n",
       "      <td>-0.132842</td>\n",
       "      <td>-0.131601</td>\n",
       "      <td>-0.127878</td>\n",
       "      <td>-0.131601</td>\n",
       "    </tr>\n",
       "    <tr>\n",
       "      <th>4518</th>\n",
       "      <td>-0.060868</td>\n",
       "      <td>-0.119192</td>\n",
       "      <td>-0.130360</td>\n",
       "      <td>-0.130360</td>\n",
       "      <td>-0.131601</td>\n",
       "      <td>0.234472</td>\n",
       "      <td>-0.131601</td>\n",
       "      <td>-0.131601</td>\n",
       "      <td>-0.131601</td>\n",
       "      <td>-0.108023</td>\n",
       "      <td>-0.122915</td>\n",
       "      <td>0.055779</td>\n",
       "      <td>-0.117951</td>\n",
       "      <td>-0.132842</td>\n",
       "      <td>-0.131601</td>\n",
       "      <td>-0.127878</td>\n",
       "      <td>-0.131601</td>\n",
       "    </tr>\n",
       "    <tr>\n",
       "      <th>4519</th>\n",
       "      <td>-0.096855</td>\n",
       "      <td>-0.130360</td>\n",
       "      <td>-0.130360</td>\n",
       "      <td>-0.130360</td>\n",
       "      <td>-0.131601</td>\n",
       "      <td>1.279332</td>\n",
       "      <td>-0.131601</td>\n",
       "      <td>-0.131601</td>\n",
       "      <td>-0.131601</td>\n",
       "      <td>-0.124155</td>\n",
       "      <td>-0.130360</td>\n",
       "      <td>0.028478</td>\n",
       "      <td>-0.126637</td>\n",
       "      <td>0.130234</td>\n",
       "      <td>-0.127878</td>\n",
       "      <td>-0.130360</td>\n",
       "      <td>-0.131601</td>\n",
       "    </tr>\n",
       "    <tr>\n",
       "      <th>4520</th>\n",
       "      <td>-0.077000</td>\n",
       "      <td>-0.129119</td>\n",
       "      <td>-0.129119</td>\n",
       "      <td>-0.129119</td>\n",
       "      <td>-0.131601</td>\n",
       "      <td>1.278091</td>\n",
       "      <td>-0.130360</td>\n",
       "      <td>-0.130360</td>\n",
       "      <td>-0.131601</td>\n",
       "      <td>-0.127878</td>\n",
       "      <td>-0.127878</td>\n",
       "      <td>0.296518</td>\n",
       "      <td>-0.129119</td>\n",
       "      <td>0.177390</td>\n",
       "      <td>-0.122915</td>\n",
       "      <td>-0.130360</td>\n",
       "      <td>-0.131601</td>\n",
       "    </tr>\n",
       "  </tbody>\n",
       "</table>\n",
       "<p>3616 rows × 17 columns</p>\n",
       "</div>"
      ],
      "text/plain": [
       "             0         1         2         3         4         5         6  \\\n",
       "0    -0.094373 -0.130360 -0.130360 -0.131601 -0.131601  2.085934 -0.131601   \n",
       "1    -0.090650 -0.121674 -0.130360 -0.130360 -0.131601  5.811194 -0.130360   \n",
       "2    -0.088169 -0.126637 -0.129119 -0.129119 -0.131601  1.543649 -0.130360   \n",
       "3    -0.094373 -0.126637 -0.130360 -0.129119 -0.131601  1.700006 -0.130360   \n",
       "4    -0.058386 -0.130360 -0.130360 -0.130360 -0.131601 -0.131601 -0.130360   \n",
       "...        ...       ...       ...       ...       ...       ...       ...   \n",
       "4515 -0.091891 -0.121674 -0.129119 -0.130360 -0.131601  0.455357 -0.130360   \n",
       "4516 -0.090650 -0.121674 -0.130360 -0.130360 -0.131601 -0.544829 -0.130360   \n",
       "4518 -0.060868 -0.119192 -0.130360 -0.130360 -0.131601  0.234472 -0.131601   \n",
       "4519 -0.096855 -0.130360 -0.130360 -0.130360 -0.131601  1.279332 -0.131601   \n",
       "4520 -0.077000 -0.129119 -0.129119 -0.129119 -0.131601  1.278091 -0.130360   \n",
       "\n",
       "             7         8         9        10        11        12        13  \\\n",
       "0    -0.131601 -0.131601 -0.108023 -0.120433 -0.033568 -0.130360 -0.132842   \n",
       "1    -0.130360 -0.131601 -0.117951 -0.126637  0.141403 -0.130360  0.289073   \n",
       "2    -0.131601 -0.131601 -0.111746 -0.127878  0.097970 -0.130360  0.277905   \n",
       "3    -0.130360 -0.129119 -0.127878 -0.125396  0.115343 -0.126637 -0.132842   \n",
       "4    -0.131601 -0.129119 -0.125396 -0.126637  0.148848 -0.130360 -0.132842   \n",
       "...        ...       ...       ...       ...       ...       ...       ...   \n",
       "4515 -0.131601 -0.131601 -0.122915 -0.124155  0.642737 -0.125396 -0.132842   \n",
       "4516 -0.131601 -0.131601 -0.094373 -0.124155  0.276664 -0.125396 -0.132842   \n",
       "4518 -0.131601 -0.131601 -0.108023 -0.122915  0.055779 -0.117951 -0.132842   \n",
       "4519 -0.131601 -0.131601 -0.124155 -0.130360  0.028478 -0.126637  0.130234   \n",
       "4520 -0.130360 -0.131601 -0.127878 -0.127878  0.296518 -0.129119  0.177390   \n",
       "\n",
       "            14        15        16  \n",
       "0    -0.131601 -0.127878 -0.131601  \n",
       "1    -0.126637 -0.131601 -0.131601  \n",
       "2    -0.130360 -0.131601 -0.131601  \n",
       "3    -0.131601 -0.127878 -0.131601  \n",
       "4    -0.131601 -0.127878 -0.131601  \n",
       "...        ...       ...       ...  \n",
       "4515 -0.131601 -0.127878 -0.131601  \n",
       "4516 -0.131601 -0.127878 -0.131601  \n",
       "4518 -0.131601 -0.127878 -0.131601  \n",
       "4519 -0.127878 -0.130360 -0.131601  \n",
       "4520 -0.122915 -0.130360 -0.131601  \n",
       "\n",
       "[3616 rows x 17 columns]"
      ]
     },
     "execution_count": 37,
     "metadata": {},
     "output_type": "execute_result"
    }
   ],
   "source": [
    "pd.DataFrame(train_set_bank)"
   ]
  },
  {
   "cell_type": "code",
   "execution_count": 38,
   "metadata": {},
   "outputs": [
    {
     "data": {
      "text/html": [
       "<div>\n",
       "<style scoped>\n",
       "    .dataframe tbody tr th:only-of-type {\n",
       "        vertical-align: middle;\n",
       "    }\n",
       "\n",
       "    .dataframe tbody tr th {\n",
       "        vertical-align: top;\n",
       "    }\n",
       "\n",
       "    .dataframe thead th {\n",
       "        text-align: right;\n",
       "    }\n",
       "</style>\n",
       "<table border=\"1\" class=\"dataframe\">\n",
       "  <thead>\n",
       "    <tr style=\"text-align: right;\">\n",
       "      <th></th>\n",
       "      <th>0</th>\n",
       "      <th>1</th>\n",
       "      <th>2</th>\n",
       "      <th>3</th>\n",
       "      <th>4</th>\n",
       "      <th>5</th>\n",
       "      <th>6</th>\n",
       "      <th>7</th>\n",
       "      <th>8</th>\n",
       "      <th>9</th>\n",
       "      <th>10</th>\n",
       "      <th>11</th>\n",
       "      <th>12</th>\n",
       "      <th>13</th>\n",
       "      <th>14</th>\n",
       "      <th>15</th>\n",
       "      <th>16</th>\n",
       "    </tr>\n",
       "  </thead>\n",
       "  <tbody>\n",
       "    <tr>\n",
       "      <th>6</th>\n",
       "      <td>-0.086928</td>\n",
       "      <td>-0.124155</td>\n",
       "      <td>-0.130360</td>\n",
       "      <td>-0.129119</td>\n",
       "      <td>-0.131601</td>\n",
       "      <td>0.249363</td>\n",
       "      <td>-0.130360</td>\n",
       "      <td>-0.131601</td>\n",
       "      <td>-0.131601</td>\n",
       "      <td>-0.114228</td>\n",
       "      <td>-0.126637</td>\n",
       "      <td>0.291555</td>\n",
       "      <td>-0.130360</td>\n",
       "      <td>0.277905</td>\n",
       "      <td>-0.129119</td>\n",
       "      <td>-0.130360</td>\n",
       "      <td>-0.131601</td>\n",
       "    </tr>\n",
       "    <tr>\n",
       "      <th>9</th>\n",
       "      <td>-0.078241</td>\n",
       "      <td>-0.121674</td>\n",
       "      <td>-0.130360</td>\n",
       "      <td>-0.131601</td>\n",
       "      <td>-0.131601</td>\n",
       "      <td>-0.240803</td>\n",
       "      <td>-0.130360</td>\n",
       "      <td>-0.130360</td>\n",
       "      <td>-0.131601</td>\n",
       "      <td>-0.110505</td>\n",
       "      <td>-0.127878</td>\n",
       "      <td>0.256809</td>\n",
       "      <td>-0.130360</td>\n",
       "      <td>0.050815</td>\n",
       "      <td>-0.129119</td>\n",
       "      <td>-0.131601</td>\n",
       "      <td>-0.131601</td>\n",
       "    </tr>\n",
       "    <tr>\n",
       "      <th>27</th>\n",
       "      <td>-0.048459</td>\n",
       "      <td>-0.125396</td>\n",
       "      <td>-0.130360</td>\n",
       "      <td>-0.127878</td>\n",
       "      <td>-0.131601</td>\n",
       "      <td>0.732084</td>\n",
       "      <td>-0.131601</td>\n",
       "      <td>-0.131601</td>\n",
       "      <td>-0.130360</td>\n",
       "      <td>-0.110505</td>\n",
       "      <td>-0.122915</td>\n",
       "      <td>0.016069</td>\n",
       "      <td>-0.130360</td>\n",
       "      <td>-0.001304</td>\n",
       "      <td>-0.129119</td>\n",
       "      <td>-0.131601</td>\n",
       "      <td>-0.131601</td>\n",
       "    </tr>\n",
       "    <tr>\n",
       "      <th>28</th>\n",
       "      <td>-0.062109</td>\n",
       "      <td>-0.124155</td>\n",
       "      <td>-0.130360</td>\n",
       "      <td>-0.130360</td>\n",
       "      <td>-0.131601</td>\n",
       "      <td>0.841285</td>\n",
       "      <td>-0.131601</td>\n",
       "      <td>-0.130360</td>\n",
       "      <td>-0.131601</td>\n",
       "      <td>-0.094373</td>\n",
       "      <td>-0.124155</td>\n",
       "      <td>0.053297</td>\n",
       "      <td>-0.129119</td>\n",
       "      <td>-0.132842</td>\n",
       "      <td>-0.131601</td>\n",
       "      <td>-0.127878</td>\n",
       "      <td>-0.131601</td>\n",
       "    </tr>\n",
       "    <tr>\n",
       "      <th>31</th>\n",
       "      <td>-0.093132</td>\n",
       "      <td>-0.119192</td>\n",
       "      <td>-0.130360</td>\n",
       "      <td>-0.130360</td>\n",
       "      <td>-0.131601</td>\n",
       "      <td>0.080597</td>\n",
       "      <td>-0.131601</td>\n",
       "      <td>-0.131601</td>\n",
       "      <td>-0.131601</td>\n",
       "      <td>-0.098096</td>\n",
       "      <td>-0.122915</td>\n",
       "      <td>-0.031086</td>\n",
       "      <td>-0.127878</td>\n",
       "      <td>-0.132842</td>\n",
       "      <td>-0.131601</td>\n",
       "      <td>-0.127878</td>\n",
       "      <td>-0.131601</td>\n",
       "    </tr>\n",
       "    <tr>\n",
       "      <th>...</th>\n",
       "      <td>...</td>\n",
       "      <td>...</td>\n",
       "      <td>...</td>\n",
       "      <td>...</td>\n",
       "      <td>...</td>\n",
       "      <td>...</td>\n",
       "      <td>...</td>\n",
       "      <td>...</td>\n",
       "      <td>...</td>\n",
       "      <td>...</td>\n",
       "      <td>...</td>\n",
       "      <td>...</td>\n",
       "      <td>...</td>\n",
       "      <td>...</td>\n",
       "      <td>...</td>\n",
       "      <td>...</td>\n",
       "      <td>...</td>\n",
       "    </tr>\n",
       "    <tr>\n",
       "      <th>4507</th>\n",
       "      <td>-0.090650</td>\n",
       "      <td>-0.121674</td>\n",
       "      <td>-0.130360</td>\n",
       "      <td>-0.130360</td>\n",
       "      <td>-0.131601</td>\n",
       "      <td>0.225786</td>\n",
       "      <td>-0.130360</td>\n",
       "      <td>-0.131601</td>\n",
       "      <td>-0.131601</td>\n",
       "      <td>-0.110505</td>\n",
       "      <td>-0.127878</td>\n",
       "      <td>0.248122</td>\n",
       "      <td>-0.130360</td>\n",
       "      <td>-0.132842</td>\n",
       "      <td>-0.131601</td>\n",
       "      <td>-0.127878</td>\n",
       "      <td>-0.131601</td>\n",
       "    </tr>\n",
       "    <tr>\n",
       "      <th>4508</th>\n",
       "      <td>-0.079482</td>\n",
       "      <td>-0.131601</td>\n",
       "      <td>-0.130360</td>\n",
       "      <td>-0.127878</td>\n",
       "      <td>-0.131601</td>\n",
       "      <td>0.665074</td>\n",
       "      <td>-0.130360</td>\n",
       "      <td>-0.130360</td>\n",
       "      <td>-0.129119</td>\n",
       "      <td>-0.111746</td>\n",
       "      <td>-0.126637</td>\n",
       "      <td>0.500030</td>\n",
       "      <td>-0.129119</td>\n",
       "      <td>-0.132842</td>\n",
       "      <td>-0.131601</td>\n",
       "      <td>-0.127878</td>\n",
       "      <td>-0.131601</td>\n",
       "    </tr>\n",
       "    <tr>\n",
       "      <th>4509</th>\n",
       "      <td>-0.068314</td>\n",
       "      <td>-0.119192</td>\n",
       "      <td>-0.130360</td>\n",
       "      <td>-0.129119</td>\n",
       "      <td>-0.131601</td>\n",
       "      <td>2.978160</td>\n",
       "      <td>-0.131601</td>\n",
       "      <td>-0.131601</td>\n",
       "      <td>-0.131601</td>\n",
       "      <td>-0.094373</td>\n",
       "      <td>-0.119192</td>\n",
       "      <td>0.128993</td>\n",
       "      <td>-0.127878</td>\n",
       "      <td>-0.132842</td>\n",
       "      <td>-0.131601</td>\n",
       "      <td>-0.127878</td>\n",
       "      <td>-0.131601</td>\n",
       "    </tr>\n",
       "    <tr>\n",
       "      <th>4510</th>\n",
       "      <td>-0.086928</td>\n",
       "      <td>-0.119192</td>\n",
       "      <td>-0.131601</td>\n",
       "      <td>-0.130360</td>\n",
       "      <td>-0.131601</td>\n",
       "      <td>0.570763</td>\n",
       "      <td>-0.130360</td>\n",
       "      <td>-0.131601</td>\n",
       "      <td>-0.129119</td>\n",
       "      <td>-0.106783</td>\n",
       "      <td>-0.126637</td>\n",
       "      <td>0.028478</td>\n",
       "      <td>-0.129119</td>\n",
       "      <td>-0.132842</td>\n",
       "      <td>-0.131601</td>\n",
       "      <td>-0.127878</td>\n",
       "      <td>-0.131601</td>\n",
       "    </tr>\n",
       "    <tr>\n",
       "      <th>4517</th>\n",
       "      <td>-0.060868</td>\n",
       "      <td>-0.124155</td>\n",
       "      <td>-0.130360</td>\n",
       "      <td>-0.129119</td>\n",
       "      <td>-0.130360</td>\n",
       "      <td>-4.242789</td>\n",
       "      <td>-0.130360</td>\n",
       "      <td>-0.130360</td>\n",
       "      <td>-0.129119</td>\n",
       "      <td>-0.120433</td>\n",
       "      <td>-0.126637</td>\n",
       "      <td>0.058261</td>\n",
       "      <td>-0.130360</td>\n",
       "      <td>-0.132842</td>\n",
       "      <td>-0.131601</td>\n",
       "      <td>-0.127878</td>\n",
       "      <td>-0.131601</td>\n",
       "    </tr>\n",
       "  </tbody>\n",
       "</table>\n",
       "<p>905 rows × 17 columns</p>\n",
       "</div>"
      ],
      "text/plain": [
       "             0         1         2         3         4         5         6  \\\n",
       "6    -0.086928 -0.124155 -0.130360 -0.129119 -0.131601  0.249363 -0.130360   \n",
       "9    -0.078241 -0.121674 -0.130360 -0.131601 -0.131601 -0.240803 -0.130360   \n",
       "27   -0.048459 -0.125396 -0.130360 -0.127878 -0.131601  0.732084 -0.131601   \n",
       "28   -0.062109 -0.124155 -0.130360 -0.130360 -0.131601  0.841285 -0.131601   \n",
       "31   -0.093132 -0.119192 -0.130360 -0.130360 -0.131601  0.080597 -0.131601   \n",
       "...        ...       ...       ...       ...       ...       ...       ...   \n",
       "4507 -0.090650 -0.121674 -0.130360 -0.130360 -0.131601  0.225786 -0.130360   \n",
       "4508 -0.079482 -0.131601 -0.130360 -0.127878 -0.131601  0.665074 -0.130360   \n",
       "4509 -0.068314 -0.119192 -0.130360 -0.129119 -0.131601  2.978160 -0.131601   \n",
       "4510 -0.086928 -0.119192 -0.131601 -0.130360 -0.131601  0.570763 -0.130360   \n",
       "4517 -0.060868 -0.124155 -0.130360 -0.129119 -0.130360 -4.242789 -0.130360   \n",
       "\n",
       "             7         8         9        10        11        12        13  \\\n",
       "6    -0.131601 -0.131601 -0.114228 -0.126637  0.291555 -0.130360  0.277905   \n",
       "9    -0.130360 -0.131601 -0.110505 -0.127878  0.256809 -0.130360  0.050815   \n",
       "27   -0.131601 -0.130360 -0.110505 -0.122915  0.016069 -0.130360 -0.001304   \n",
       "28   -0.130360 -0.131601 -0.094373 -0.124155  0.053297 -0.129119 -0.132842   \n",
       "31   -0.131601 -0.131601 -0.098096 -0.122915 -0.031086 -0.127878 -0.132842   \n",
       "...        ...       ...       ...       ...       ...       ...       ...   \n",
       "4507 -0.131601 -0.131601 -0.110505 -0.127878  0.248122 -0.130360 -0.132842   \n",
       "4508 -0.130360 -0.129119 -0.111746 -0.126637  0.500030 -0.129119 -0.132842   \n",
       "4509 -0.131601 -0.131601 -0.094373 -0.119192  0.128993 -0.127878 -0.132842   \n",
       "4510 -0.131601 -0.129119 -0.106783 -0.126637  0.028478 -0.129119 -0.132842   \n",
       "4517 -0.130360 -0.129119 -0.120433 -0.126637  0.058261 -0.130360 -0.132842   \n",
       "\n",
       "            14        15        16  \n",
       "6    -0.129119 -0.130360 -0.131601  \n",
       "9    -0.129119 -0.131601 -0.131601  \n",
       "27   -0.129119 -0.131601 -0.131601  \n",
       "28   -0.131601 -0.127878 -0.131601  \n",
       "31   -0.131601 -0.127878 -0.131601  \n",
       "...        ...       ...       ...  \n",
       "4507 -0.131601 -0.127878 -0.131601  \n",
       "4508 -0.131601 -0.127878 -0.131601  \n",
       "4509 -0.131601 -0.127878 -0.131601  \n",
       "4510 -0.131601 -0.127878 -0.131601  \n",
       "4517 -0.131601 -0.127878 -0.131601  \n",
       "\n",
       "[905 rows x 17 columns]"
      ]
     },
     "execution_count": 38,
     "metadata": {},
     "output_type": "execute_result"
    }
   ],
   "source": [
    "pd.DataFrame(test_set_bank)"
   ]
  },
  {
   "cell_type": "markdown",
   "metadata": {},
   "source": [
    "#### 5.3 X Matris  and Y Vector Of Train Set"
   ]
  },
  {
   "cell_type": "code",
   "execution_count": 39,
   "metadata": {},
   "outputs": [],
   "source": [
    "x_train = np.array(train_set_bank)[:,:16]\n",
    "y_train =np.array(train_set_bank)[:,16:]"
   ]
  },
  {
   "cell_type": "code",
   "execution_count": 40,
   "metadata": {},
   "outputs": [
    {
     "name": "stdout",
     "output_type": "stream",
     "text": [
      "(3616, 16)\n",
      "(3616, 1)\n"
     ]
    }
   ],
   "source": [
    "print(x_train.shape)\n",
    "print(y_train.shape)"
   ]
  },
  {
   "cell_type": "markdown",
   "metadata": {},
   "source": [
    "#### 5.4 X Matris  and Y Vector Of Test Set"
   ]
  },
  {
   "cell_type": "code",
   "execution_count": 41,
   "metadata": {},
   "outputs": [],
   "source": [
    "x_test = np.array(test_set_bank)[:,:16]\n",
    "y_test =np.array(test_set_bank)[:,16:]"
   ]
  },
  {
   "cell_type": "code",
   "execution_count": 42,
   "metadata": {},
   "outputs": [
    {
     "name": "stdout",
     "output_type": "stream",
     "text": [
      "(905, 16)\n",
      "(905, 1)\n"
     ]
    }
   ],
   "source": [
    "print(x_test.shape)\n",
    "print(y_test.shape)"
   ]
  },
  {
   "cell_type": "code",
   "execution_count": 43,
   "metadata": {},
   "outputs": [
    {
     "data": {
      "text/plain": [
       "array([[-0.09437324, -0.1303601 , -0.1303601 , ..., -0.13284194,\n",
       "        -0.13160102, -0.12787825],\n",
       "       [-0.09065046, -0.12167361, -0.1303601 , ...,  0.28907293,\n",
       "        -0.12663732, -0.13160102],\n",
       "       [-0.08816861, -0.12663732, -0.12911917, ...,  0.2779046 ,\n",
       "        -0.1303601 , -0.13160102],\n",
       "       ...,\n",
       "       [-0.06086823, -0.11919176, -0.1303601 , ..., -0.13284194,\n",
       "        -0.13160102, -0.12787825],\n",
       "       [-0.09685509, -0.1303601 , -0.1303601 , ...,  0.13023439,\n",
       "        -0.12787825, -0.1303601 ],\n",
       "       [-0.07700028, -0.12911917, -0.12911917, ...,  0.17738958,\n",
       "        -0.12291454, -0.1303601 ]], dtype=float32)"
      ]
     },
     "execution_count": 43,
     "metadata": {},
     "output_type": "execute_result"
    }
   ],
   "source": [
    "x_train"
   ]
  },
  {
   "cell_type": "markdown",
   "metadata": {},
   "source": [
    "### 6.  LOGISTIC REGRESSION  with MINI-BATCH GRADIENT ASCENT"
   ]
  },
  {
   "cell_type": "markdown",
   "metadata": {},
   "source": [
    "### 6.1 Defining The Functions"
   ]
  },
  {
   "cell_type": "markdown",
   "metadata": {},
   "source": [
    "#### 6.1.0 Logistic Function"
   ]
  },
  {
   "cell_type": "code",
   "execution_count": 44,
   "metadata": {},
   "outputs": [],
   "source": [
    "def logistic_function(x,beta):\n",
    "    return 1/(1+np.exp(x.T@beta))"
   ]
  },
  {
   "cell_type": "markdown",
   "metadata": {},
   "source": [
    "#### 6.1.1 Loglikelihood Loss Function"
   ]
  },
  {
   "cell_type": "code",
   "execution_count": 45,
   "metadata": {},
   "outputs": [],
   "source": [
    "def loglikelihood(x,y,beta):\n",
    "    dim_one= int(x.shape[0])\n",
    "    dim_two= int(x.shape[1])\n",
    "    loss = 0\n",
    "    for i in range(0,dim_one):\n",
    "        loss= float(loss + y[i]*((x[i].reshape((dim_two,1))).T@beta) - np.log(1  + (np.exp(x[i].reshape((dim_two,1))).T @beta)))\n",
    "    return loss\n",
    "    "
   ]
  },
  {
   "cell_type": "markdown",
   "metadata": {},
   "source": [
    "#### 6.1.2 Gradient Ascent For Logistic Regression"
   ]
  },
  {
   "cell_type": "code",
   "execution_count": 46,
   "metadata": {},
   "outputs": [],
   "source": [
    "#defining the gradienc ascent function for logistic regression\n",
    "def gradient_ascent_lr(x,y,beta,mu,i_max):\n",
    "    loss = []\n",
    "    dimension=int(y.shape[0])\n",
    "    diemnsion_two=int(x.shape[1])\n",
    "    \n",
    "    \n",
    "    for k in range(0,i_max):\n",
    "        y_prediction = np.zeros((dimension,1))\n",
    "        for j in range(0,dimension):\n",
    "            y_prediction[j] = logistic_function(x[j].reshape((16,1)),beta)\n",
    "        \n",
    "        beta_new = beta + mu* x.T@(y-y_prediction)\n",
    "        loss.append(loglikelihood(x,y,beta_new))\n",
    "        beta = beta_new\n",
    "    return loss\n",
    "    \n",
    "    \n",
    "    "
   ]
  },
  {
   "cell_type": "code",
   "execution_count": 47,
   "metadata": {},
   "outputs": [],
   "source": [
    "#applying the gradient ascent function to the train set\n",
    "b= np.ones((16,1))\n",
    "error_one= gradient_ascent_lr(x_train,y_train,b,0.000001,300)"
   ]
  },
  {
   "cell_type": "code",
   "execution_count": 48,
   "metadata": {},
   "outputs": [],
   "source": [
    "import matplotlib.pyplot as plt"
   ]
  },
  {
   "cell_type": "code",
   "execution_count": 49,
   "metadata": {},
   "outputs": [
    {
     "data": {
      "image/png": "[encoded data removed]",
      "text/plain": [
       "<Figure size 432x288 with 1 Axes>"
      ]
     },
     "metadata": {
      "needs_background": "light"
     },
     "output_type": "display_data"
    }
   ],
   "source": [
    "plt.plot(error_one)\n",
    "plt.xlabel('Iteration')\n",
    "plt.ylabel('Loglikelihood')\n",
    "plt.title('Gradient Ascent Method')\n",
    "plt.show()"
   ]
  },
  {
   "cell_type": "markdown",
   "metadata": {},
   "source": [
    "#### 6.1.3 Gradient Ascent With Mini-Batch  Size"
   ]
  },
  {
   "cell_type": "code",
   "execution_count": 50,
   "metadata": {},
   "outputs": [],
   "source": [
    "def mini_batch_ga_lr(x,y,beta,batch_size,mu, i_max):\n",
    "    dim_one = int(x.shape[0])\n",
    "    dim_two = int(x.shape[1])\n",
    "    loss =[]\n",
    "    epoch_number = math.floor(dim_one/batch_size)\n",
    "    for i in range(0,i_max):  \n",
    "        for j in range(0,epoch_number-1):\n",
    "            y_prediction = np.zeros((dim_one,1))\n",
    "            for k in range(0,dim_one):\n",
    "                y_prediction[k]=logistic_function(x[k].reshape((dim_two,1)),beta)\n",
    "            value_one = (x[j*batch_size:(j+1)*batch_size]).T\n",
    "            value_two = (y[j*batch_size:(j+1)*batch_size]-y_prediction[j*batch_size:(j+1)*batch_size])\n",
    "            beta_new = beta + mu*value_one@value_two\n",
    "            loss.append(loglikelihood(x,y,beta_new))\n",
    "            beta =beta_new\n",
    "               \n",
    "        y_prediction = np.zeros((dim_one,1))\n",
    "        for k in range(0,dim_one):\n",
    "                y_prediction[k]=logistic_function(x[k].reshape((dim_two,1)),beta)\n",
    "                \n",
    "        beta_lost = beta + mu*x[(epoch_number)*batch_size:dim_one].T@(y[(epoch_number)*batch_size:dim_one]- y_prediction[(epoch_number)*batch_size:dim_one])\n",
    "        loss.append(loglikelihood(x,y,beta_lost))\n",
    "        beta = beta_lost\n",
    " \n",
    "    return loss\n",
    "    \n",
    "    "
   ]
  },
  {
   "cell_type": "code",
   "execution_count": 51,
   "metadata": {},
   "outputs": [],
   "source": [
    "errors_mini = mini_batch_ga_lr(x_train,y_train,b,500,0.000001,10)"
   ]
  },
  {
   "cell_type": "code",
   "execution_count": 52,
   "metadata": {},
   "outputs": [
    {
     "data": {
      "text/plain": [
       "Text(0, 0.5, 'Loglikelihood')"
      ]
     },
     "execution_count": 52,
     "metadata": {},
     "output_type": "execute_result"
    },
    {
     "data": {
      "image/png": "[encoded data removed]",
      "text/plain": [
       "<Figure size 432x288 with 1 Axes>"
      ]
     },
     "metadata": {
      "needs_background": "light"
     },
     "output_type": "display_data"
    }
   ],
   "source": [
    "plt.plot(errors_mini)\n",
    "plt.title('Gradient Ascent With Mini Batch')\n",
    "plt.xlabel('Epoch')\n",
    "plt.ylabel('Loglikelihood')"
   ]
  },
  {
   "cell_type": "markdown",
   "metadata": {},
   "source": [
    "### 7. BACKWARD SELECTION WITH AIC"
   ]
  },
  {
   "cell_type": "markdown",
   "metadata": {},
   "source": [
    "In this part, we would implement a backward selection procedure with regard to the AIC mtric. The AIC metric :\n",
    "\n",
    "$\\begin{equation} min AIC = - 2 log L + 2p  \n",
    "\\end{equation}$\n",
    "\n",
    "where L is the loglikelihood. p is the number of parameters."
   ]
  },
  {
   "cell_type": "markdown",
   "metadata": {},
   "source": [
    "### 7.2 Backward Selection"
   ]
  },
  {
   "cell_type": "code",
   "execution_count": 53,
   "metadata": {},
   "outputs": [],
   "source": [
    "x_train_backward = x_train\n",
    "aic_initial = -2*mini_batch_ga_lr(x_train,y_train,np.ones((16,1)),500,0.000001,10)[-1]+2*16"
   ]
  },
  {
   "cell_type": "code",
   "execution_count": 54,
   "metadata": {},
   "outputs": [
    {
     "name": "stdout",
     "output_type": "stream",
     "text": [
      "15 th iteration\n",
      "14 th iteration\n",
      "13 th iteration\n",
      "12 th iteration\n",
      "11 th iteration\n",
      "10 th iteration\n",
      "9 th iteration\n",
      "8 th iteration\n",
      "7 th iteration\n",
      "6 th iteration\n",
      "5 th iteration\n",
      "4 th iteration\n",
      "3 th iteration\n",
      "2 th iteration\n",
      "1 th iteration\n"
     ]
    }
   ],
   "source": [
    "for p in range(0,15):\n",
    "    k=100\n",
    "    a = 16-p\n",
    "    b = np.ones((a-1,1))\n",
    "    for i in range(0,a):\n",
    "        L = -2*mini_batch_ga_lr(np.delete(x_train_backward,i,1),y_train,b,500,0.000001,10)[-1]+2*(a-1)\n",
    "        if L<aic_initial:\n",
    "            aic_initial = L\n",
    "            k=i\n",
    "    if k!=100:\n",
    "        x_train_backward = np.delete(x_train_backward,k,1)\n",
    "        print(i,'th iteration')\n",
    "    else:\n",
    "        break"
   ]
  },
  {
   "cell_type": "code",
   "execution_count": 55,
   "metadata": {},
   "outputs": [
    {
     "name": "stdout",
     "output_type": "stream",
     "text": [
      "(3616, 1)\n"
     ]
    }
   ],
   "source": [
    "print(x_train_backward.shape)"
   ]
  },
  {
   "cell_type": "markdown",
   "metadata": {},
   "source": [
    "### 7.3 Logloss Backward Selection: After vs. Before"
   ]
  },
  {
   "cell_type": "code",
   "execution_count": 56,
   "metadata": {},
   "outputs": [],
   "source": [
    "error_back =mini_batch_ga_lr(x_train_backward,y_train,b,500,0.000001,10)"
   ]
  },
  {
   "cell_type": "code",
   "execution_count": 57,
   "metadata": {
    "scrolled": false
   },
   "outputs": [
    {
     "data": {
      "text/plain": [
       "Text(0, 0.5, 'Logloss')"
      ]
     },
     "execution_count": 57,
     "metadata": {},
     "output_type": "execute_result"
    },
    {
     "data": {
      "image/png": "[encoded data removed]",
      "text/plain": [
       "<Figure size 432x288 with 1 Axes>"
      ]
     },
     "metadata": {
      "needs_background": "light"
     },
     "output_type": "display_data"
    }
   ],
   "source": [
    "plt.plot(error_back)\n",
    "plt.title('Logloss With 1 Future (After Backward)')\n",
    "plt.xlabel('Epoch')\n",
    "plt.ylabel('Logloss')"
   ]
  },
  {
   "cell_type": "code",
   "execution_count": 58,
   "metadata": {},
   "outputs": [],
   "source": [
    "logloss_before_backward =mini_batch_ga_lr(x_train,y_train,np.ones((16,1)),500,0.000001,10)"
   ]
  },
  {
   "cell_type": "code",
   "execution_count": 59,
   "metadata": {},
   "outputs": [
    {
     "data": {
      "text/plain": [
       "Text(0, 0.5, 'Logloss')"
      ]
     },
     "execution_count": 59,
     "metadata": {},
     "output_type": "execute_result"
    },
    {
     "data": {
      "image/png": "[encoded data removed]",
      "text/plain": [
       "<Figure size 432x288 with 1 Axes>"
      ]
     },
     "metadata": {
      "needs_background": "light"
     },
     "output_type": "display_data"
    }
   ],
   "source": [
    "plt.plot(logloss_before_backward)\n",
    "plt.title('Logloss With 16 Future (Before Backward)')\n",
    "plt.xlabel('Epoch')\n",
    "plt.ylabel('Logloss')"
   ]
  },
  {
   "cell_type": "markdown",
   "metadata": {},
   "source": [
    "After, I applied backward variable selection, until just one feature left, logloss increased. For this reason, even logloss algorithm is not increasing while I am using ine feature, logliss is the minimum."
   ]
  },
  {
   "cell_type": "markdown",
   "metadata": {},
   "source": [
    "### 7.4 Final Error"
   ]
  },
  {
   "cell_type": "code",
   "execution_count": 60,
   "metadata": {},
   "outputs": [],
   "source": [
    "def mini_batch_final_error(x,y,beta,batch_size,mu, i_max):\n",
    "    dim_one = int(x.shape[0])\n",
    "    dim_two = int(x.shape[1])\n",
    "    epoch_number = math.floor(dim_one/batch_size)\n",
    "    for i in range(0,i_max):  \n",
    "        for j in range(0,epoch_number-1):\n",
    "            y_prediction = np.zeros((dim_one,1))\n",
    "            for k in range(0,dim_one):\n",
    "                y_prediction[k]=logistic_function(x[k].reshape((dim_two,1)),beta)\n",
    "            value_one = (x[j*batch_size:(j+1)*batch_size]).T\n",
    "            value_two = (y[j*batch_size:(j+1)*batch_size]-y_prediction[j*batch_size:(j+1)*batch_size])\n",
    "            beta_new = beta + mu*value_one@value_two\n",
    "            beta =beta_new\n",
    "               \n",
    "        y_prediction = np.zeros((dim_one,1))\n",
    "        for k in range(0,dim_one):\n",
    "                y_prediction[k]=logistic_function(x[k].reshape((dim_two,1)),beta)\n",
    "                \n",
    "        beta_lost = beta + mu*x[(epoch_number)*batch_size:dim_one].T@(y[(epoch_number)*batch_size:dim_one]- y_prediction[(epoch_number)*batch_size:dim_one])\n",
    "       \n",
    "        beta = beta_lost\n",
    "\n",
    "            \n",
    "    for m in range(0,y.shape[0]):\n",
    "        if y_prediction[m]> 0.5:\n",
    "            y_prediction[m]=1\n",
    "        else:\n",
    "            y_prediction[m]=0\n",
    " \n",
    "    return y_prediction"
   ]
  },
  {
   "cell_type": "markdown",
   "metadata": {},
   "source": [
    "#### Final Error Before Backward"
   ]
  },
  {
   "cell_type": "markdown",
   "metadata": {},
   "source": [
    "In this part we would calculate the classification accuracy rate for before and after backwards value selection"
   ]
  },
  {
   "cell_type": "code",
   "execution_count": 61,
   "metadata": {},
   "outputs": [],
   "source": [
    "final_error_before_backward=mini_batch_final_error(x_train,y_train,np.ones((16,1)),500,0.000001,10)"
   ]
  },
  {
   "cell_type": "code",
   "execution_count": 62,
   "metadata": {},
   "outputs": [
    {
     "data": {
      "text/plain": [
       "array([[0.],\n",
       "       [0.],\n",
       "       [0.],\n",
       "       ...,\n",
       "       [1.],\n",
       "       [1.],\n",
       "       [0.]])"
      ]
     },
     "execution_count": 62,
     "metadata": {},
     "output_type": "execute_result"
    }
   ],
   "source": [
    "final_error_before_backward"
   ]
  },
  {
   "cell_type": "markdown",
   "metadata": {},
   "source": [
    "Now, we should translate y_train into non normalized values. As you remember, we normalized data and so y train set to. Here -0.131 is the normalized value of 0. So to calculate classification accuracy we will change the y train data to nonrmalized vektor y_ones_zero."
   ]
  },
  {
   "cell_type": "code",
   "execution_count": 63,
   "metadata": {},
   "outputs": [],
   "source": [
    "range_one = int(y_train.shape[0])\n",
    "\n",
    "y_ones_zero =np.zeros((range_one,1))\n",
    "#-0.13160102 is 0 \n",
    "for i in range(1,range_one):\n",
    "    number =float(y_train[i])\n",
    "    if number <-0.131:\n",
    "        y_ones_zero[i] = 0\n",
    "    else:\n",
    "        y_ones_zero[i] =1\n",
    "    \n",
    "\n",
    "    "
   ]
  },
  {
   "cell_type": "code",
   "execution_count": 64,
   "metadata": {},
   "outputs": [
    {
     "data": {
      "text/plain": [
       "array([[0.],\n",
       "       [0.],\n",
       "       [0.],\n",
       "       ...,\n",
       "       [0.],\n",
       "       [0.],\n",
       "       [0.]])"
      ]
     },
     "execution_count": 64,
     "metadata": {},
     "output_type": "execute_result"
    }
   ],
   "source": [
    "y_ones_zero"
   ]
  },
  {
   "cell_type": "code",
   "execution_count": 65,
   "metadata": {},
   "outputs": [
    {
     "name": "stdout",
     "output_type": "stream",
     "text": [
      "Classification Accuracy Value Before Backward:\n",
      " 0.70298672566369\n"
     ]
    }
   ],
   "source": [
    "print('Classification Accuracy Value Before Backward:\\n',float(sum(abs(final_error_before_backward -y_ones_zero)/range_one)))"
   ]
  },
  {
   "cell_type": "markdown",
   "metadata": {},
   "source": [
    "#### Final Error After Backward"
   ]
  },
  {
   "cell_type": "code",
   "execution_count": 66,
   "metadata": {},
   "outputs": [],
   "source": [
    " final_error_after_backward=mini_batch_final_error(x_train_backward,y_train,np.ones((1,1)),500,0.000001,10)"
   ]
  },
  {
   "cell_type": "code",
   "execution_count": 67,
   "metadata": {},
   "outputs": [
    {
     "name": "stdout",
     "output_type": "stream",
     "text": [
      "Classification Accuracy Value :\n",
      " 0.8808075221238938\n"
     ]
    }
   ],
   "source": [
    "print('Classification Accuracy Value :\\n',float(sum(abs(y_ones_zero-final_error_after_backward)))/range_one)"
   ]
  },
  {
   "cell_type": "code",
   "execution_count": 68,
   "metadata": {},
   "outputs": [
    {
     "data": {
      "text/plain": [
       "array([[0.],\n",
       "       [0.],\n",
       "       [0.],\n",
       "       ...,\n",
       "       [0.],\n",
       "       [0.],\n",
       "       [0.]])"
      ]
     },
     "execution_count": 68,
     "metadata": {},
     "output_type": "execute_result"
    }
   ],
   "source": [
    "y_ones_zero"
   ]
  },
  {
   "cell_type": "markdown",
   "metadata": {},
   "source": [
    "# EXERCISE 2"
   ]
  },
  {
   "cell_type": "markdown",
   "metadata": {},
   "source": [
    "# REGULARIZATION for LOGISTIC REGRESSION"
   ]
  },
  {
   "cell_type": "markdown",
   "metadata": {},
   "source": [
    "## 1. L2 REGULARIZED LR"
   ]
  },
  {
   "cell_type": "markdown",
   "metadata": {},
   "source": [
    "First, we should define new loglikelihood function for regularized logistic regression."
   ]
  },
  {
   "cell_type": "code",
   "execution_count": 69,
   "metadata": {},
   "outputs": [],
   "source": [
    "def loglikelihood_regularized(x,y,beta,lamba):\n",
    "    dim_one= int(x.shape[0])\n",
    "    dim_two= int(x.shape[1])\n",
    "    loss = 0\n",
    "    reg_sum=0\n",
    "    for i in range(0,dim_one):\n",
    "        loss= float(loss + y[i]*((x[i].reshape((dim_two,1))).T@beta) - np.log(1  + (np.exp(x[i].reshape((dim_two,1))).T @beta)))\n",
    "        \n",
    "    for j in range(0,dim_two):\n",
    "        reg_sum = reg_sum +beta[j]**2\n",
    "        \n",
    "    return float(loss-2*lamba*reg_sum)"
   ]
  },
  {
   "cell_type": "markdown",
   "metadata": {},
   "source": [
    "## 2. CREATING A GRID"
   ]
  },
  {
   "cell_type": "markdown",
   "metadata": {},
   "source": [
    "In this part, we would create values to apply grid search. For this reason, I would randomly choose 3 different step size values and 3 different ragularization parameters. In total, I would have 9 different combinations for grid search."
   ]
  },
  {
   "cell_type": "code",
   "execution_count": 70,
   "metadata": {},
   "outputs": [],
   "source": [
    "np.random.seed(3116)\n",
    "\n",
    "step_length_list = np.random.uniform(0.000001, 0.0001, 3)\n",
    "lambda_list = np.random.uniform(0.00001, 0.01, 3)\n",
    "\n",
    "grid = []\n",
    "for i in step_length_list:\n",
    "    for j in lambda_list:\n",
    "        grid.append((i,j))"
   ]
  },
  {
   "cell_type": "code",
   "execution_count": 71,
   "metadata": {},
   "outputs": [
    {
     "data": {
      "text/html": [
       "<div>\n",
       "<style scoped>\n",
       "    .dataframe tbody tr th:only-of-type {\n",
       "        vertical-align: middle;\n",
       "    }\n",
       "\n",
       "    .dataframe tbody tr th {\n",
       "        vertical-align: top;\n",
       "    }\n",
       "\n",
       "    .dataframe thead th {\n",
       "        text-align: right;\n",
       "    }\n",
       "</style>\n",
       "<table border=\"1\" class=\"dataframe\">\n",
       "  <thead>\n",
       "    <tr style=\"text-align: right;\">\n",
       "      <th></th>\n",
       "      <th>$a_0$</th>\n",
       "      <th>lamdba</th>\n",
       "    </tr>\n",
       "  </thead>\n",
       "  <tbody>\n",
       "    <tr>\n",
       "      <th>0</th>\n",
       "      <td>0.000095</td>\n",
       "      <td>0.001730</td>\n",
       "    </tr>\n",
       "    <tr>\n",
       "      <th>1</th>\n",
       "      <td>0.000095</td>\n",
       "      <td>0.003910</td>\n",
       "    </tr>\n",
       "    <tr>\n",
       "      <th>2</th>\n",
       "      <td>0.000095</td>\n",
       "      <td>0.009453</td>\n",
       "    </tr>\n",
       "    <tr>\n",
       "      <th>3</th>\n",
       "      <td>0.000029</td>\n",
       "      <td>0.001730</td>\n",
       "    </tr>\n",
       "    <tr>\n",
       "      <th>4</th>\n",
       "      <td>0.000029</td>\n",
       "      <td>0.003910</td>\n",
       "    </tr>\n",
       "    <tr>\n",
       "      <th>5</th>\n",
       "      <td>0.000029</td>\n",
       "      <td>0.009453</td>\n",
       "    </tr>\n",
       "    <tr>\n",
       "      <th>6</th>\n",
       "      <td>0.000015</td>\n",
       "      <td>0.001730</td>\n",
       "    </tr>\n",
       "    <tr>\n",
       "      <th>7</th>\n",
       "      <td>0.000015</td>\n",
       "      <td>0.003910</td>\n",
       "    </tr>\n",
       "    <tr>\n",
       "      <th>8</th>\n",
       "      <td>0.000015</td>\n",
       "      <td>0.009453</td>\n",
       "    </tr>\n",
       "  </tbody>\n",
       "</table>\n",
       "</div>"
      ],
      "text/plain": [
       "      $a_0$    lamdba\n",
       "0  0.000095  0.001730\n",
       "1  0.000095  0.003910\n",
       "2  0.000095  0.009453\n",
       "3  0.000029  0.001730\n",
       "4  0.000029  0.003910\n",
       "5  0.000029  0.009453\n",
       "6  0.000015  0.001730\n",
       "7  0.000015  0.003910\n",
       "8  0.000015  0.009453"
      ]
     },
     "execution_count": 71,
     "metadata": {},
     "output_type": "execute_result"
    }
   ],
   "source": [
    "grid_table =pd.DataFrame(grid)\n",
    "grid_table =grid_table.rename(columns = {0:'$a_0$',1:'lamdba'})\n",
    "grid_table"
   ]
  },
  {
   "cell_type": "markdown",
   "metadata": {},
   "source": [
    "### 3. CREATING 5-FOLD CROSS"
   ]
  },
  {
   "cell_type": "markdown",
   "metadata": {},
   "source": [
    "Now, I will create a function which splits data into k folds."
   ]
  },
  {
   "cell_type": "code",
   "execution_count": 72,
   "metadata": {},
   "outputs": [],
   "source": [
    "def k_fold_cross(data,k):\n",
    "    folds=[]\n",
    "    a =math.floor(data.shape[0]/k)\n",
    "    for i in range(0,k-1):\n",
    "        folds.append(data[a*i:a*(i+1),:])\n",
    "    folds.append(data[a*(k-1):,:])\n",
    "        \n",
    "    return folds\n",
    "    "
   ]
  },
  {
   "cell_type": "markdown",
   "metadata": {},
   "source": [
    "#### Example: k=5 data =bank set"
   ]
  },
  {
   "cell_type": "code",
   "execution_count": 73,
   "metadata": {},
   "outputs": [
    {
     "name": "stdout",
     "output_type": "stream",
     "text": [
      "(904, 17)\n"
     ]
    }
   ],
   "source": [
    "fold_one = k_fold_cross(bank_set_matrix,5)[0]\n",
    "print(fold_one.shape)"
   ]
  },
  {
   "cell_type": "code",
   "execution_count": 74,
   "metadata": {},
   "outputs": [
    {
     "name": "stdout",
     "output_type": "stream",
     "text": [
      "(904, 17)\n"
     ]
    }
   ],
   "source": [
    "fold_two = k_fold_cross(bank_set_matrix,5)[1]\n",
    "print(fold_two.shape)"
   ]
  },
  {
   "cell_type": "code",
   "execution_count": 75,
   "metadata": {},
   "outputs": [
    {
     "name": "stdout",
     "output_type": "stream",
     "text": [
      "(904, 17)\n"
     ]
    }
   ],
   "source": [
    "fold_three = k_fold_cross(bank_set_matrix,5)[2]\n",
    "print(fold_three.shape)"
   ]
  },
  {
   "cell_type": "code",
   "execution_count": 76,
   "metadata": {},
   "outputs": [
    {
     "name": "stdout",
     "output_type": "stream",
     "text": [
      "(904, 17)\n"
     ]
    }
   ],
   "source": [
    "fold_four = k_fold_cross(bank_set_matrix,5)[3]\n",
    "print(fold_four.shape)"
   ]
  },
  {
   "cell_type": "code",
   "execution_count": 77,
   "metadata": {},
   "outputs": [
    {
     "name": "stdout",
     "output_type": "stream",
     "text": [
      "(905, 17)\n"
     ]
    }
   ],
   "source": [
    "fold_five = k_fold_cross(bank_set_matrix,5)[4]\n",
    "print(fold_five.shape)"
   ]
  },
  {
   "cell_type": "markdown",
   "metadata": {},
   "source": [
    "### 4. SCORING ALL COMBINATIONS"
   ]
  },
  {
   "cell_type": "markdown",
   "metadata": {},
   "source": [
    "We already update loglikelihood with regularization, Now, we have to update mini batch gradient descent."
   ]
  },
  {
   "cell_type": "markdown",
   "metadata": {},
   "source": [
    "### 4.1 Accuracy Value"
   ]
  },
  {
   "cell_type": "code",
   "execution_count": 80,
   "metadata": {},
   "outputs": [],
   "source": [
    "def accuracy_value(y,y_predict):\n",
    "    y_new = np.zeros((y.shape[0],1))\n",
    "    y_predict_new = np.zeros((y.shape[0],1))\n",
    "    for i in range(0,y.shape[0]):\n",
    "        if y[i]<-0.131:\n",
    "            y_new[i] = 0\n",
    "        else:\n",
    "            y_new[i] =1\n",
    "    \n",
    "    for j in range(0,y_predict.shape[0]):\n",
    "        if y_predict[j]<0.5:\n",
    "            y_predict_new[j]=0\n",
    "        else:\n",
    "            y_predict_new[j]=1\n",
    "    \n",
    "    value_one =sum(abs(y_new-y_predict_new))\n",
    "    \n",
    "    return float(value_one/y.shape[0])\n",
    "    \n",
    "    \n",
    "    \n",
    "    "
   ]
  },
  {
   "cell_type": "markdown",
   "metadata": {},
   "source": [
    "### 4.2 Mini Batch Gradient Descent with Regularization"
   ]
  },
  {
   "cell_type": "code",
   "execution_count": 81,
   "metadata": {},
   "outputs": [],
   "source": [
    "def mini_batch_regularized(x,y,beta,batch_size,mu, i_max,lamba):\n",
    "    dim_one = int(x.shape[0])\n",
    "    dim_two = int(x.shape[1])\n",
    "    loss =[]\n",
    "    accuracy_value_list = []\n",
    "    epoch_number = math.floor(dim_one/batch_size)\n",
    "    for i in range(0,i_max):  \n",
    "        for j in range(0,epoch_number-1):\n",
    "            y_prediction = np.zeros((dim_one,1))\n",
    "            for k in range(0,dim_one):\n",
    "                y_prediction[k]=logistic_function(x[k].reshape((dim_two,1)),beta)\n",
    "            value_one = (x[j*batch_size:(j+1)*batch_size]).T\n",
    "            value_two = (y[j*batch_size:(j+1)*batch_size]-y_prediction[j*batch_size:(j+1)*batch_size])\n",
    "            beta_new = (1-2*lamba)*beta + mu*value_one@value_two\n",
    "            loss.append(loglikelihood(x,y,beta_new))\n",
    "            accuracy_value_list.append(accuracy_value(y,y_prediction))\n",
    "            beta =beta_new\n",
    "           \n",
    "        y_prediction = np.zeros((dim_one,1))\n",
    "        for k in range(0,dim_one):\n",
    "                y_prediction[k]=logistic_function(x[k].reshape((dim_two,1)),beta)\n",
    "                \n",
    "        beta_lost = beta + mu*x[(epoch_number)*batch_size:dim_one].T@(y[(epoch_number)*batch_size:dim_one]- y_prediction[(epoch_number)*batch_size:dim_one])\n",
    "        loss.append(loglikelihood_regularized(x,y,beta_lost,lamba))\n",
    "        beta = beta_lost\n",
    " \n",
    "    return loss,accuracy_value_list"
   ]
  },
  {
   "cell_type": "code",
   "execution_count": 82,
   "metadata": {},
   "outputs": [],
   "source": [
    "loss_regularized =mini_batch_regularized(x_train,y_train,np.ones((16,1)),500,0.000001,10,0.003)"
   ]
  },
  {
   "cell_type": "code",
   "execution_count": 83,
   "metadata": {},
   "outputs": [
    {
     "data": {
      "image/png": "[encoded data removed]",
      "text/plain": [
       "<Figure size 432x288 with 1 Axes>"
      ]
     },
     "metadata": {
      "needs_background": "light"
     },
     "output_type": "display_data"
    }
   ],
   "source": [
    "plt.plot(loss_regularized[0])\n",
    "plt.title('Mini Batch Gradient Descent With Regularization')\n",
    "plt.xlabel('Number of Epoch')\n",
    "plt.ylabel('Loglikelihood')\n",
    "plt.show()"
   ]
  },
  {
   "cell_type": "code",
   "execution_count": 84,
   "metadata": {},
   "outputs": [
    {
     "data": {
      "image/png": "[encoded data removed]",
      "text/plain": [
       "<Figure size 432x288 with 1 Axes>"
      ]
     },
     "metadata": {
      "needs_background": "light"
     },
     "output_type": "display_data"
    }
   ],
   "source": [
    "plt.plot(loss_regularized[1])\n",
    "plt.title('Mini Batch Gradient Descent With Regularization')\n",
    "plt.xlabel('Number of Epoch')\n",
    "plt.ylabel('Accuracy Value')\n",
    "plt.show()"
   ]
  },
  {
   "cell_type": "code",
   "execution_count": 85,
   "metadata": {},
   "outputs": [
    {
     "data": {
      "text/plain": [
       "0.1230641592920354"
      ]
     },
     "execution_count": 85,
     "metadata": {},
     "output_type": "execute_result"
    }
   ],
   "source": [
    "accuracy_value(y_train,np.ones((16,1)))"
   ]
  },
  {
   "cell_type": "markdown",
   "metadata": {},
   "source": [
    "### 4.3 COMBINING CROSS VALIDATION AND MINI BATCH"
   ]
  },
  {
   "cell_type": "markdown",
   "metadata": {},
   "source": [
    "We have 5 folds and 9 different parameter combinations. "
   ]
  },
  {
   "cell_type": "code",
   "execution_count": 86,
   "metadata": {},
   "outputs": [
    {
     "data": {
      "text/html": [
       "<div>\n",
       "<style scoped>\n",
       "    .dataframe tbody tr th:only-of-type {\n",
       "        vertical-align: middle;\n",
       "    }\n",
       "\n",
       "    .dataframe tbody tr th {\n",
       "        vertical-align: top;\n",
       "    }\n",
       "\n",
       "    .dataframe thead th {\n",
       "        text-align: right;\n",
       "    }\n",
       "</style>\n",
       "<table border=\"1\" class=\"dataframe\">\n",
       "  <thead>\n",
       "    <tr style=\"text-align: right;\">\n",
       "      <th></th>\n",
       "      <th>$a_0$</th>\n",
       "      <th>lamdba</th>\n",
       "    </tr>\n",
       "  </thead>\n",
       "  <tbody>\n",
       "    <tr>\n",
       "      <th>0</th>\n",
       "      <td>0.000095</td>\n",
       "      <td>0.001730</td>\n",
       "    </tr>\n",
       "    <tr>\n",
       "      <th>1</th>\n",
       "      <td>0.000095</td>\n",
       "      <td>0.003910</td>\n",
       "    </tr>\n",
       "    <tr>\n",
       "      <th>2</th>\n",
       "      <td>0.000095</td>\n",
       "      <td>0.009453</td>\n",
       "    </tr>\n",
       "    <tr>\n",
       "      <th>3</th>\n",
       "      <td>0.000029</td>\n",
       "      <td>0.001730</td>\n",
       "    </tr>\n",
       "    <tr>\n",
       "      <th>4</th>\n",
       "      <td>0.000029</td>\n",
       "      <td>0.003910</td>\n",
       "    </tr>\n",
       "    <tr>\n",
       "      <th>5</th>\n",
       "      <td>0.000029</td>\n",
       "      <td>0.009453</td>\n",
       "    </tr>\n",
       "    <tr>\n",
       "      <th>6</th>\n",
       "      <td>0.000015</td>\n",
       "      <td>0.001730</td>\n",
       "    </tr>\n",
       "    <tr>\n",
       "      <th>7</th>\n",
       "      <td>0.000015</td>\n",
       "      <td>0.003910</td>\n",
       "    </tr>\n",
       "    <tr>\n",
       "      <th>8</th>\n",
       "      <td>0.000015</td>\n",
       "      <td>0.009453</td>\n",
       "    </tr>\n",
       "  </tbody>\n",
       "</table>\n",
       "</div>"
      ],
      "text/plain": [
       "      $a_0$    lamdba\n",
       "0  0.000095  0.001730\n",
       "1  0.000095  0.003910\n",
       "2  0.000095  0.009453\n",
       "3  0.000029  0.001730\n",
       "4  0.000029  0.003910\n",
       "5  0.000029  0.009453\n",
       "6  0.000015  0.001730\n",
       "7  0.000015  0.003910\n",
       "8  0.000015  0.009453"
      ]
     },
     "execution_count": 86,
     "metadata": {},
     "output_type": "execute_result"
    }
   ],
   "source": [
    "grid_table"
   ]
  },
  {
   "cell_type": "markdown",
   "metadata": {},
   "source": [
    "Now, we will creat algorithm to find best hyperparameters."
   ]
  },
  {
   "cell_type": "code",
   "execution_count": 87,
   "metadata": {},
   "outputs": [],
   "source": [
    "#situation 1: first set is test set\n",
    "x_test_fold_one=fold_one[:,:-1] \n",
    "y_test_fold_one=fold_one[:,16:17]\n",
    "x_train_fold_one=(np.concatenate((fold_two,fold_three,fold_four,fold_five),axis=0))[:,:-1]\n",
    "y_train_fold_one=(np.concatenate((fold_two,fold_three,fold_four,fold_five),axis=0))[:,16:17]\n",
    "\n",
    "#situation 2 : second fold is test set\n",
    "x_test_fold_two = fold_two[:,:-1] \n",
    "y_test_fold_two=fold_two[:,16:17]\n",
    "x_train_fold_two = (np.concatenate((fold_one,fold_three,fold_four,fold_five),axis=0))[:,:-1] \n",
    "y_train_fold_two = (np.concatenate((fold_one,fold_three,fold_four,fold_five),axis=0))[:,16:17]\n",
    "\n",
    "#situation 3 : third fold is test set\n",
    "x_test_fold_three = fold_three[:,:-1]\n",
    "y_test_fold_three = fold_three[:,16:17]\n",
    "x_train_fold_three= (np.concatenate((fold_one,fold_two,fold_four,fold_five),axis=0))[:,:-1]\n",
    "y_train_fold_three= (np.concatenate((fold_one,fold_two,fold_four,fold_five),axis=0))[:,16:17]\n",
    "\n",
    "#situation 4 : fourth fold is test set\n",
    "x_test_fold_four = fold_four[:,:-1]\n",
    "y_test_fold_four = fold_four[:,16:17]\n",
    "x_train_fold_four =(np.concatenate((fold_one,fold_two,fold_three,fold_five),axis=0))[:,:-1]\n",
    "y_train_fold_four =(np.concatenate((fold_one,fold_two,fold_three,fold_five),axis=0))[:,16:17]\n",
    "\n",
    "#situation 5 : fivth fold is test set\n",
    "x_test_fold_five=fold_five[:,:-1]\n",
    "y_test_fold_five=fold_five[:,16:17]\n",
    "x_train_fold_five = (np.concatenate((fold_one,fold_two,fold_three,fold_four),axis=0))[:,:-1]\n",
    "y_train_fold_five = (np.concatenate((fold_one,fold_two,fold_three,fold_four),axis=0))[:,16:17]\n"
   ]
  },
  {
   "cell_type": "code",
   "execution_count": 92,
   "metadata": {},
   "outputs": [],
   "source": [
    "def mini_batch_regularized_with_test(x,y,beta,batch_size,mu, i_max,lamba,x_test,y_test):\n",
    "    dim_one = int(x.shape[0])\n",
    "    dim_two = int(x.shape[1])\n",
    "    loss =[]\n",
    "    accuracy_value_list = []\n",
    "    epoch_number = math.floor(dim_one/batch_size)\n",
    "    for i in range(0,i_max):  \n",
    "        for j in range(0,epoch_number-1):\n",
    "            y_prediction = np.zeros((dim_one,1))\n",
    "            for k in range(0,dim_one):\n",
    "                y_prediction[k]=logistic_function(x[k].reshape((dim_two,1)),beta)\n",
    "            value_one = (x[j*batch_size:(j+1)*batch_size]).T\n",
    "            value_two = (y[j*batch_size:(j+1)*batch_size]-y_prediction[j*batch_size:(j+1)*batch_size])\n",
    "            beta_new = (1-2*lamba)*beta + mu*value_one@value_two\n",
    "            loss.append(loglikelihood(x_test,y_test,beta_new))\n",
    "            accuracy_value_list.append(accuracy_value(y,y_prediction))\n",
    "            beta =beta_new\n",
    "           \n",
    "        y_prediction = np.zeros((dim_one,1))\n",
    "        for k in range(0,dim_one):\n",
    "                y_prediction[k]=logistic_function(x[k].reshape((dim_two,1)),beta)\n",
    "                \n",
    "        beta_lost = beta + mu*x[(epoch_number)*batch_size:dim_one].T@(y[(epoch_number)*batch_size:dim_one]- y_prediction[(epoch_number)*batch_size:dim_one])\n",
    "        loss.append(loglikelihood_regularized(x_test,y_test,beta_lost,lamba))\n",
    "        beta = beta_lost\n",
    " \n",
    "    return loss,accuracy_value_list"
   ]
  },
  {
   "cell_type": "code",
   "execution_count": 94,
   "metadata": {},
   "outputs": [
    {
     "name": "stdout",
     "output_type": "stream",
     "text": [
      "Mean Loss0th Combination -3017.177160974929\n",
      "Mean Accuracy0th Combination 0.7351252749430541\n",
      "Mean Loss1th Combination -2748.2930133482546\n",
      "Mean Accuracy1th Combination 0.7403232889917573\n",
      "Mean Loss2th Combination -2070.2955440419537\n",
      "Mean Accuracy2th Combination 0.7717875396664229\n",
      "Mean Loss3th Combination -3058.4049633456148\n",
      "Mean Accuracy3th Combination 0.7121768272244392\n",
      "Mean Loss4th Combination -2793.577306761058\n",
      "Mean Accuracy4th Combination 0.712563934199613\n",
      "Mean Loss5th Combination -2148.3168197053355\n",
      "Mean Accuracy5th Combination 0.7233469010645404\n",
      "Mean Loss6th Combination -3066.794923152883\n",
      "Mean Accuracy6th Combination 0.7069788743421552\n",
      "Mean Loss7th Combination -2802.5176003263527\n",
      "Mean Accuracy7th Combination 0.7073659507341195\n",
      "Mean Loss8th Combination -2161.648282670747\n",
      "Mean Accuracy8th Combination 0.7126745077938251\n"
     ]
    }
   ],
   "source": [
    "for i in range(0,9): \n",
    "    mu,lamba = grid[i]\n",
    "    all_list=[]\n",
    "    beta = np.ones((16,1))\n",
    "    #sitiuation 1\n",
    "    loss_1,accv_1 =mini_batch_regularized_with_test(x_train_fold_one,y_train_fold_one,beta,50,mu,1,lamba,x_test_fold_one,y_test_fold_one)\n",
    "\n",
    "    #sitiuation 2\n",
    "    loss_2,accv_2 =mini_batch_regularized_with_test(x_train_fold_two,y_train_fold_two,beta,50,mu,1,lamba,x_test_fold_two,y_test_fold_two)\n",
    "\n",
    "    #sitiuation 3\n",
    "    loss_3,accv_3 =mini_batch_regularized_with_test(x_train_fold_three,y_train_fold_three,beta,50,mu,1,lamba,x_test_fold_three,y_test_fold_three)\n",
    "\n",
    "    #sitiuation 4\n",
    "    loss_4,accv_4 =mini_batch_regularized_with_test(x_train_fold_four,y_train_fold_four,beta,50,mu,1,lamba,x_test_fold_four,y_test_fold_four)\n",
    "\n",
    "    #sitiuation 5\n",
    "    loss_5,accv_5 =mini_batch_regularized_with_test(x_train_fold_five,y_train_fold_five,beta,50,mu,1,lamba,x_test_fold_five,y_test_fold_five)\n",
    "    \n",
    "    all_list.append((mu,lamba,(accv_1[-1]+accv_2[-1]+accv_3[-1]+accv_4[-1]+accv_5[-1]) /5))\n",
    "    print(f'Mean Loss{i}th Combination',(loss_1[-1]+loss_2[-1]+loss_3[-1]+loss_4[-1]+loss_5[-1])/5)\n",
    "    print(f'Mean Accuracy{i}th Combination',(accv_1[-1]+accv_2[-1]+accv_3[-1]+accv_4[-1]+accv_5[-1]) /5)"
   ]
  },
  {
   "cell_type": "markdown",
   "metadata": {},
   "source": [
    "According to our calculation, best hyperparameter is 3rd combination."
   ]
  },
  {
   "cell_type": "code",
   "execution_count": 100,
   "metadata": {},
   "outputs": [],
   "source": [
    "accuracy =[0.7351252749430541,0.7403232889917573,0.771787539666422,0.7121768272244392,0.712563934199613,0.7233469010645404,0.7069788743421552,0.7073659507341195,0.7126745077938251]\n",
    "mu=[]\n",
    "lamba = []\n",
    "for i in grid:\n",
    "    mu.append(i[0])\n",
    "    lamba.append(i[1])"
   ]
  },
  {
   "cell_type": "markdown",
   "metadata": {},
   "source": [
    "### 4.4 3D Plotting"
   ]
  },
  {
   "cell_type": "code",
   "execution_count": 104,
   "metadata": {},
   "outputs": [
    {
     "data": {
      "image/png": "[encoded data removed]",
      "text/plain": [
       "<Figure size 720x504 with 1 Axes>"
      ]
     },
     "metadata": {
      "needs_background": "light"
     },
     "output_type": "display_data"
    }
   ],
   "source": [
    "fig = plt.figure(figsize=(10, 7))\n",
    "ax = fig.add_subplot(111, projection='3d')\n",
    "ax.scatter(mu, lamba, accuracy,'ro',)\n",
    "plt.title('5 Fold CV Loss with Different Hyper-Parameters and 50 as Mini-Batch Size')\n",
    "plt.xlabel('Step-Length')\n",
    "plt.ylabel('Lambda')\n",
    "plt.show()"
   ]
  },
  {
   "cell_type": "markdown",
   "metadata": {},
   "source": [
    "### 4.5 Best Hyperparameters"
   ]
  },
  {
   "cell_type": "markdown",
   "metadata": {},
   "source": [
    "According to our algorithm, the best hyperparameters are 3th element of grid."
   ]
  },
  {
   "cell_type": "code",
   "execution_count": 106,
   "metadata": {},
   "outputs": [],
   "source": [
    "optimal_mu, optimal_lamba =grid[2]"
   ]
  },
  {
   "cell_type": "code",
   "execution_count": 110,
   "metadata": {},
   "outputs": [
    {
     "data": {
      "image/png": "[encoded data removed]",
      "text/plain": [
       "<Figure size 432x288 with 1 Axes>"
      ]
     },
     "metadata": {
      "needs_background": "light"
     },
     "output_type": "display_data"
    },
    {
     "data": {
      "image/png": "[encoded data removed]",
      "text/plain": [
       "<Figure size 432x288 with 1 Axes>"
      ]
     },
     "metadata": {
      "needs_background": "light"
     },
     "output_type": "display_data"
    }
   ],
   "source": [
    "mu,lamba = grid[2]\n",
    "all_list=[]\n",
    "beta = np.ones((16,1))\n",
    "    \n",
    "#iteration 1\n",
    "loss_1,accv_1 =mini_batch_regularized_with_test(x_train_fold_one,y_train_fold_one,beta,50,mu,1,lamba,x_test_fold_one,y_test_fold_one)\n",
    "\n",
    "plt.title('Iteration 1 with Best Optimal Hyperparameters')\n",
    "plt.plot(loss_1)\n",
    "plt.xlabel('epoch')\n",
    "plt.ylabel('Loglikelihood')\n",
    "plt.show()\n",
    "\n",
    "\n",
    "\n",
    "plt.title('Iteration 1 Best witg Optimal Hyperparameters')\n",
    "plt.plot(accv_1,'r')\n",
    "plt.xlabel('epoch')\n",
    "plt.ylabel('vValidation Accuracy')\n",
    "plt.show()\n",
    "\n"
   ]
  },
  {
   "cell_type": "code",
   "execution_count": 111,
   "metadata": {},
   "outputs": [
    {
     "data": {
      "image/png": "[encoded data removed]",
      "text/plain": [
       "<Figure size 432x288 with 1 Axes>"
      ]
     },
     "metadata": {
      "needs_background": "light"
     },
     "output_type": "display_data"
    },
    {
     "data": {
      "image/png": "[encoded data removed]",
      "text/plain": [
       "<Figure size 432x288 with 1 Axes>"
      ]
     },
     "metadata": {
      "needs_background": "light"
     },
     "output_type": "display_data"
    }
   ],
   "source": [
    "#iteration 2\n",
    "loss_2,accv_2 =mini_batch_regularized_with_test(x_train_fold_two,y_train_fold_two,beta,50,mu,1,lamba,x_test_fold_two,y_test_fold_two)\n",
    "\n",
    "\n",
    "plt.title('Iteration 2 with Best Optimal Hyperparameters')\n",
    "plt.plot(loss_2)\n",
    "plt.xlabel('epoch')\n",
    "plt.ylabel('Loglikelihood')\n",
    "plt.show()\n",
    "\n",
    "\n",
    "\n",
    "plt.title('Iteration 2 Best witg Optimal Hyperparameters')\n",
    "plt.plot(accv_2,'r')\n",
    "plt.xlabel('epoch')\n",
    "plt.ylabel('Validation Accuracy')\n",
    "plt.show()\n"
   ]
  },
  {
   "cell_type": "code",
   "execution_count": 113,
   "metadata": {},
   "outputs": [
    {
     "data": {
      "image/png": "[encoded data removed]",
      "text/plain": [
       "<Figure size 432x288 with 1 Axes>"
      ]
     },
     "metadata": {
      "needs_background": "light"
     },
     "output_type": "display_data"
    },
    {
     "data": {
      "image/png": "[encoded data removed]",
      "text/plain": [
       "<Figure size 432x288 with 1 Axes>"
      ]
     },
     "metadata": {
      "needs_background": "light"
     },
     "output_type": "display_data"
    }
   ],
   "source": [
    "#iteration 3\n",
    "loss_3,accv_3 =mini_batch_regularized_with_test(x_train_fold_three,y_train_fold_three,beta,50,mu,1,lamba,x_test_fold_three,y_test_fold_three)\n",
    "\n",
    "plt.title('Iteration 3 with Best Optimal Hyperparameters')\n",
    "plt.plot(loss_3)\n",
    "plt.xlabel('epoch')\n",
    "plt.ylabel('Loglikelihood')\n",
    "plt.show()\n",
    "\n",
    "\n",
    "\n",
    "plt.title('Iteration 3 Best witg Optimal Hyperparameters')\n",
    "plt.plot(accv_3,'r')\n",
    "plt.xlabel('epoch')\n",
    "plt.ylabel('Validation Accuracy')\n",
    "plt.show()\n",
    "\n"
   ]
  },
  {
   "cell_type": "code",
   "execution_count": 114,
   "metadata": {},
   "outputs": [
    {
     "data": {
      "image/png": "[encoded data removed]",
      "text/plain": [
       "<Figure size 432x288 with 1 Axes>"
      ]
     },
     "metadata": {
      "needs_background": "light"
     },
     "output_type": "display_data"
    },
    {
     "data": {
      "image/png": "[encoded data removed]",
      "text/plain": [
       "<Figure size 432x288 with 1 Axes>"
      ]
     },
     "metadata": {
      "needs_background": "light"
     },
     "output_type": "display_data"
    }
   ],
   "source": [
    "#iteration 4\n",
    "loss_4,accv_4 =mini_batch_regularized_with_test(x_train_fold_four,y_train_fold_four,beta,50,mu,1,lamba,x_test_fold_four,y_test_fold_four)\n",
    "\n",
    "plt.title('Iteration 4 with Best Optimal Hyperparameters')\n",
    "plt.plot(loss_4)\n",
    "plt.xlabel('epoch')\n",
    "plt.ylabel('Loglikelihood')\n",
    "plt.show()\n",
    "\n",
    "\n",
    "\n",
    "plt.title('Iteration 4 Best with Optimal Hyperparameters')\n",
    "plt.plot(accv_4,'r')\n",
    "plt.xlabel('epoch')\n",
    "plt.ylabel('Validation Accuracy')\n",
    "plt.show()\n",
    "\n",
    "\n"
   ]
  },
  {
   "cell_type": "code",
   "execution_count": 115,
   "metadata": {},
   "outputs": [
    {
     "data": {
      "image/png": "[encoded data removed]",
      "text/plain": [
       "<Figure size 432x288 with 1 Axes>"
      ]
     },
     "metadata": {
      "needs_background": "light"
     },
     "output_type": "display_data"
    },
    {
     "data": {
      "image/png": "[encoded data removed]",
      "text/plain": [
       "<Figure size 432x288 with 1 Axes>"
      ]
     },
     "metadata": {
      "needs_background": "light"
     },
     "output_type": "display_data"
    }
   ],
   "source": [
    "#iteration 5\n",
    "loss_5,accv_5 =mini_batch_regularized_with_test(x_train_fold_five,y_train_fold_five,beta,50,mu,1,lamba,x_test_fold_five,y_test_fold_five)\n",
    "\n",
    "plt.title('Iteration 5 with Best Optimal Hyperparameters')\n",
    "plt.plot(loss_5)\n",
    "plt.xlabel('epoch')\n",
    "plt.ylabel('Loglikelihood')\n",
    "plt.show()\n",
    "\n",
    "\n",
    "\n",
    "plt.title('Iteration 5 Best witg Optimal Hyperparameters')\n",
    "plt.plot(accv_5,'r')\n",
    "plt.xlabel('epoch')\n",
    "plt.ylabel('Validation Accuracy')\n",
    "plt.show()\n",
    "\n"
   ]
  },
  {
   "cell_type": "markdown",
   "metadata": {},
   "source": [
    "# EXERCISE 3:"
   ]
  },
  {
   "cell_type": "markdown",
   "metadata": {},
   "source": [
    "# HYPERBAND FOR LOGISTIC REGRESSION"
   ]
  },
  {
   "cell_type": "markdown",
   "metadata": {},
   "source": [
    "Hyperband runs configs for just an iteration or two at first, to get a taste of how they perform. Then it takes the best performers and runs them longer.\n",
    "\n",
    "It runs random configurations on a specific schedule of iterations per configuration using earlier results to select candidates for longer runs."
   ]
  },
  {
   "cell_type": "markdown",
   "metadata": {},
   "source": [
    "## 1.  TRAIN, TEST and VALIDATION DATA"
   ]
  },
  {
   "cell_type": "code",
   "execution_count": 43,
   "metadata": {},
   "outputs": [
    {
     "data": {
      "text/html": [
       "<div>\n",
       "<style scoped>\n",
       "    .dataframe tbody tr th:only-of-type {\n",
       "        vertical-align: middle;\n",
       "    }\n",
       "\n",
       "    .dataframe tbody tr th {\n",
       "        vertical-align: top;\n",
       "    }\n",
       "\n",
       "    .dataframe thead th {\n",
       "        text-align: right;\n",
       "    }\n",
       "</style>\n",
       "<table border=\"1\" class=\"dataframe\">\n",
       "  <thead>\n",
       "    <tr style=\"text-align: right;\">\n",
       "      <th></th>\n",
       "      <th>0</th>\n",
       "      <th>1</th>\n",
       "      <th>2</th>\n",
       "      <th>3</th>\n",
       "      <th>4</th>\n",
       "      <th>5</th>\n",
       "      <th>6</th>\n",
       "      <th>7</th>\n",
       "      <th>8</th>\n",
       "      <th>9</th>\n",
       "      <th>10</th>\n",
       "      <th>11</th>\n",
       "      <th>12</th>\n",
       "      <th>13</th>\n",
       "      <th>14</th>\n",
       "      <th>15</th>\n",
       "      <th>16</th>\n",
       "    </tr>\n",
       "  </thead>\n",
       "  <tbody>\n",
       "    <tr>\n",
       "      <th>0</th>\n",
       "      <td>-0.094373</td>\n",
       "      <td>-0.130360</td>\n",
       "      <td>-0.130360</td>\n",
       "      <td>-0.131601</td>\n",
       "      <td>-0.131601</td>\n",
       "      <td>2.085934</td>\n",
       "      <td>-0.131601</td>\n",
       "      <td>-0.131601</td>\n",
       "      <td>-0.131601</td>\n",
       "      <td>-0.108023</td>\n",
       "      <td>-0.120433</td>\n",
       "      <td>-0.033568</td>\n",
       "      <td>-0.130360</td>\n",
       "      <td>-0.132842</td>\n",
       "      <td>-0.131601</td>\n",
       "      <td>-0.127878</td>\n",
       "      <td>-0.131601</td>\n",
       "    </tr>\n",
       "    <tr>\n",
       "      <th>1</th>\n",
       "      <td>-0.090650</td>\n",
       "      <td>-0.121674</td>\n",
       "      <td>-0.130360</td>\n",
       "      <td>-0.130360</td>\n",
       "      <td>-0.131601</td>\n",
       "      <td>5.811194</td>\n",
       "      <td>-0.130360</td>\n",
       "      <td>-0.130360</td>\n",
       "      <td>-0.131601</td>\n",
       "      <td>-0.117951</td>\n",
       "      <td>-0.126637</td>\n",
       "      <td>0.141403</td>\n",
       "      <td>-0.130360</td>\n",
       "      <td>0.289073</td>\n",
       "      <td>-0.126637</td>\n",
       "      <td>-0.131601</td>\n",
       "      <td>-0.131601</td>\n",
       "    </tr>\n",
       "    <tr>\n",
       "      <th>2</th>\n",
       "      <td>-0.088169</td>\n",
       "      <td>-0.126637</td>\n",
       "      <td>-0.129119</td>\n",
       "      <td>-0.129119</td>\n",
       "      <td>-0.131601</td>\n",
       "      <td>1.543649</td>\n",
       "      <td>-0.130360</td>\n",
       "      <td>-0.131601</td>\n",
       "      <td>-0.131601</td>\n",
       "      <td>-0.111746</td>\n",
       "      <td>-0.127878</td>\n",
       "      <td>0.097970</td>\n",
       "      <td>-0.130360</td>\n",
       "      <td>0.277905</td>\n",
       "      <td>-0.130360</td>\n",
       "      <td>-0.131601</td>\n",
       "      <td>-0.131601</td>\n",
       "    </tr>\n",
       "    <tr>\n",
       "      <th>3</th>\n",
       "      <td>-0.094373</td>\n",
       "      <td>-0.126637</td>\n",
       "      <td>-0.130360</td>\n",
       "      <td>-0.129119</td>\n",
       "      <td>-0.131601</td>\n",
       "      <td>1.700006</td>\n",
       "      <td>-0.130360</td>\n",
       "      <td>-0.130360</td>\n",
       "      <td>-0.129119</td>\n",
       "      <td>-0.127878</td>\n",
       "      <td>-0.125396</td>\n",
       "      <td>0.115343</td>\n",
       "      <td>-0.126637</td>\n",
       "      <td>-0.132842</td>\n",
       "      <td>-0.131601</td>\n",
       "      <td>-0.127878</td>\n",
       "      <td>-0.131601</td>\n",
       "    </tr>\n",
       "    <tr>\n",
       "      <th>4</th>\n",
       "      <td>-0.058386</td>\n",
       "      <td>-0.130360</td>\n",
       "      <td>-0.130360</td>\n",
       "      <td>-0.130360</td>\n",
       "      <td>-0.131601</td>\n",
       "      <td>-0.131601</td>\n",
       "      <td>-0.130360</td>\n",
       "      <td>-0.131601</td>\n",
       "      <td>-0.129119</td>\n",
       "      <td>-0.125396</td>\n",
       "      <td>-0.126637</td>\n",
       "      <td>0.148848</td>\n",
       "      <td>-0.130360</td>\n",
       "      <td>-0.132842</td>\n",
       "      <td>-0.131601</td>\n",
       "      <td>-0.127878</td>\n",
       "      <td>-0.131601</td>\n",
       "    </tr>\n",
       "    <tr>\n",
       "      <th>...</th>\n",
       "      <td>...</td>\n",
       "      <td>...</td>\n",
       "      <td>...</td>\n",
       "      <td>...</td>\n",
       "      <td>...</td>\n",
       "      <td>...</td>\n",
       "      <td>...</td>\n",
       "      <td>...</td>\n",
       "      <td>...</td>\n",
       "      <td>...</td>\n",
       "      <td>...</td>\n",
       "      <td>...</td>\n",
       "      <td>...</td>\n",
       "      <td>...</td>\n",
       "      <td>...</td>\n",
       "      <td>...</td>\n",
       "      <td>...</td>\n",
       "    </tr>\n",
       "    <tr>\n",
       "      <th>4516</th>\n",
       "      <td>-0.090650</td>\n",
       "      <td>-0.121674</td>\n",
       "      <td>-0.130360</td>\n",
       "      <td>-0.130360</td>\n",
       "      <td>-0.131601</td>\n",
       "      <td>-0.544829</td>\n",
       "      <td>-0.130360</td>\n",
       "      <td>-0.131601</td>\n",
       "      <td>-0.131601</td>\n",
       "      <td>-0.094373</td>\n",
       "      <td>-0.124155</td>\n",
       "      <td>0.276664</td>\n",
       "      <td>-0.125396</td>\n",
       "      <td>-0.132842</td>\n",
       "      <td>-0.131601</td>\n",
       "      <td>-0.127878</td>\n",
       "      <td>-0.131601</td>\n",
       "    </tr>\n",
       "    <tr>\n",
       "      <th>4517</th>\n",
       "      <td>-0.060868</td>\n",
       "      <td>-0.124155</td>\n",
       "      <td>-0.130360</td>\n",
       "      <td>-0.129119</td>\n",
       "      <td>-0.130360</td>\n",
       "      <td>-4.242789</td>\n",
       "      <td>-0.130360</td>\n",
       "      <td>-0.130360</td>\n",
       "      <td>-0.129119</td>\n",
       "      <td>-0.120433</td>\n",
       "      <td>-0.126637</td>\n",
       "      <td>0.058261</td>\n",
       "      <td>-0.130360</td>\n",
       "      <td>-0.132842</td>\n",
       "      <td>-0.131601</td>\n",
       "      <td>-0.127878</td>\n",
       "      <td>-0.131601</td>\n",
       "    </tr>\n",
       "    <tr>\n",
       "      <th>4518</th>\n",
       "      <td>-0.060868</td>\n",
       "      <td>-0.119192</td>\n",
       "      <td>-0.130360</td>\n",
       "      <td>-0.130360</td>\n",
       "      <td>-0.131601</td>\n",
       "      <td>0.234472</td>\n",
       "      <td>-0.131601</td>\n",
       "      <td>-0.131601</td>\n",
       "      <td>-0.131601</td>\n",
       "      <td>-0.108023</td>\n",
       "      <td>-0.122915</td>\n",
       "      <td>0.055779</td>\n",
       "      <td>-0.117951</td>\n",
       "      <td>-0.132842</td>\n",
       "      <td>-0.131601</td>\n",
       "      <td>-0.127878</td>\n",
       "      <td>-0.131601</td>\n",
       "    </tr>\n",
       "    <tr>\n",
       "      <th>4519</th>\n",
       "      <td>-0.096855</td>\n",
       "      <td>-0.130360</td>\n",
       "      <td>-0.130360</td>\n",
       "      <td>-0.130360</td>\n",
       "      <td>-0.131601</td>\n",
       "      <td>1.279332</td>\n",
       "      <td>-0.131601</td>\n",
       "      <td>-0.131601</td>\n",
       "      <td>-0.131601</td>\n",
       "      <td>-0.124155</td>\n",
       "      <td>-0.130360</td>\n",
       "      <td>0.028478</td>\n",
       "      <td>-0.126637</td>\n",
       "      <td>0.130234</td>\n",
       "      <td>-0.127878</td>\n",
       "      <td>-0.130360</td>\n",
       "      <td>-0.131601</td>\n",
       "    </tr>\n",
       "    <tr>\n",
       "      <th>4520</th>\n",
       "      <td>-0.077000</td>\n",
       "      <td>-0.129119</td>\n",
       "      <td>-0.129119</td>\n",
       "      <td>-0.129119</td>\n",
       "      <td>-0.131601</td>\n",
       "      <td>1.278091</td>\n",
       "      <td>-0.130360</td>\n",
       "      <td>-0.130360</td>\n",
       "      <td>-0.131601</td>\n",
       "      <td>-0.127878</td>\n",
       "      <td>-0.127878</td>\n",
       "      <td>0.296518</td>\n",
       "      <td>-0.129119</td>\n",
       "      <td>0.177390</td>\n",
       "      <td>-0.122915</td>\n",
       "      <td>-0.130360</td>\n",
       "      <td>-0.131601</td>\n",
       "    </tr>\n",
       "  </tbody>\n",
       "</table>\n",
       "<p>4521 rows × 17 columns</p>\n",
       "</div>"
      ],
      "text/plain": [
       "             0         1         2         3         4         5         6  \\\n",
       "0    -0.094373 -0.130360 -0.130360 -0.131601 -0.131601  2.085934 -0.131601   \n",
       "1    -0.090650 -0.121674 -0.130360 -0.130360 -0.131601  5.811194 -0.130360   \n",
       "2    -0.088169 -0.126637 -0.129119 -0.129119 -0.131601  1.543649 -0.130360   \n",
       "3    -0.094373 -0.126637 -0.130360 -0.129119 -0.131601  1.700006 -0.130360   \n",
       "4    -0.058386 -0.130360 -0.130360 -0.130360 -0.131601 -0.131601 -0.130360   \n",
       "...        ...       ...       ...       ...       ...       ...       ...   \n",
       "4516 -0.090650 -0.121674 -0.130360 -0.130360 -0.131601 -0.544829 -0.130360   \n",
       "4517 -0.060868 -0.124155 -0.130360 -0.129119 -0.130360 -4.242789 -0.130360   \n",
       "4518 -0.060868 -0.119192 -0.130360 -0.130360 -0.131601  0.234472 -0.131601   \n",
       "4519 -0.096855 -0.130360 -0.130360 -0.130360 -0.131601  1.279332 -0.131601   \n",
       "4520 -0.077000 -0.129119 -0.129119 -0.129119 -0.131601  1.278091 -0.130360   \n",
       "\n",
       "             7         8         9        10        11        12        13  \\\n",
       "0    -0.131601 -0.131601 -0.108023 -0.120433 -0.033568 -0.130360 -0.132842   \n",
       "1    -0.130360 -0.131601 -0.117951 -0.126637  0.141403 -0.130360  0.289073   \n",
       "2    -0.131601 -0.131601 -0.111746 -0.127878  0.097970 -0.130360  0.277905   \n",
       "3    -0.130360 -0.129119 -0.127878 -0.125396  0.115343 -0.126637 -0.132842   \n",
       "4    -0.131601 -0.129119 -0.125396 -0.126637  0.148848 -0.130360 -0.132842   \n",
       "...        ...       ...       ...       ...       ...       ...       ...   \n",
       "4516 -0.131601 -0.131601 -0.094373 -0.124155  0.276664 -0.125396 -0.132842   \n",
       "4517 -0.130360 -0.129119 -0.120433 -0.126637  0.058261 -0.130360 -0.132842   \n",
       "4518 -0.131601 -0.131601 -0.108023 -0.122915  0.055779 -0.117951 -0.132842   \n",
       "4519 -0.131601 -0.131601 -0.124155 -0.130360  0.028478 -0.126637  0.130234   \n",
       "4520 -0.130360 -0.131601 -0.127878 -0.127878  0.296518 -0.129119  0.177390   \n",
       "\n",
       "            14        15        16  \n",
       "0    -0.131601 -0.127878 -0.131601  \n",
       "1    -0.126637 -0.131601 -0.131601  \n",
       "2    -0.130360 -0.131601 -0.131601  \n",
       "3    -0.131601 -0.127878 -0.131601  \n",
       "4    -0.131601 -0.127878 -0.131601  \n",
       "...        ...       ...       ...  \n",
       "4516 -0.131601 -0.127878 -0.131601  \n",
       "4517 -0.131601 -0.127878 -0.131601  \n",
       "4518 -0.131601 -0.127878 -0.131601  \n",
       "4519 -0.127878 -0.130360 -0.131601  \n",
       "4520 -0.122915 -0.130360 -0.131601  \n",
       "\n",
       "[4521 rows x 17 columns]"
      ]
     },
     "execution_count": 43,
     "metadata": {},
     "output_type": "execute_result"
    }
   ],
   "source": [
    "bank_set_normalized"
   ]
  },
  {
   "cell_type": "markdown",
   "metadata": {},
   "source": [
    "### 1. Shuffling The Data Samples"
   ]
  },
  {
   "cell_type": "code",
   "execution_count": 57,
   "metadata": {},
   "outputs": [
    {
     "data": {
      "text/html": [
       "<div>\n",
       "<style scoped>\n",
       "    .dataframe tbody tr th:only-of-type {\n",
       "        vertical-align: middle;\n",
       "    }\n",
       "\n",
       "    .dataframe tbody tr th {\n",
       "        vertical-align: top;\n",
       "    }\n",
       "\n",
       "    .dataframe thead th {\n",
       "        text-align: right;\n",
       "    }\n",
       "</style>\n",
       "<table border=\"1\" class=\"dataframe\">\n",
       "  <thead>\n",
       "    <tr style=\"text-align: right;\">\n",
       "      <th></th>\n",
       "      <th>0</th>\n",
       "      <th>1</th>\n",
       "      <th>2</th>\n",
       "      <th>3</th>\n",
       "      <th>4</th>\n",
       "      <th>5</th>\n",
       "      <th>6</th>\n",
       "      <th>7</th>\n",
       "      <th>8</th>\n",
       "      <th>9</th>\n",
       "      <th>10</th>\n",
       "      <th>11</th>\n",
       "      <th>12</th>\n",
       "      <th>13</th>\n",
       "      <th>14</th>\n",
       "      <th>15</th>\n",
       "      <th>16</th>\n",
       "    </tr>\n",
       "  </thead>\n",
       "  <tbody>\n",
       "    <tr>\n",
       "      <th>3771</th>\n",
       "      <td>-0.055905</td>\n",
       "      <td>-0.126637</td>\n",
       "      <td>-0.130360</td>\n",
       "      <td>-0.129119</td>\n",
       "      <td>-0.131601</td>\n",
       "      <td>1.105602</td>\n",
       "      <td>-0.131601</td>\n",
       "      <td>-0.131601</td>\n",
       "      <td>-0.131601</td>\n",
       "      <td>-0.119192</td>\n",
       "      <td>-0.129119</td>\n",
       "      <td>-0.000063</td>\n",
       "      <td>-0.130360</td>\n",
       "      <td>-0.132842</td>\n",
       "      <td>-0.131601</td>\n",
       "      <td>-0.127878</td>\n",
       "      <td>-0.130360</td>\n",
       "    </tr>\n",
       "    <tr>\n",
       "      <th>2581</th>\n",
       "      <td>-0.094373</td>\n",
       "      <td>-0.126637</td>\n",
       "      <td>-0.129119</td>\n",
       "      <td>-0.129119</td>\n",
       "      <td>-0.131601</td>\n",
       "      <td>0.830117</td>\n",
       "      <td>-0.130360</td>\n",
       "      <td>-0.131601</td>\n",
       "      <td>-0.129119</td>\n",
       "      <td>-0.111746</td>\n",
       "      <td>-0.125396</td>\n",
       "      <td>0.022274</td>\n",
       "      <td>-0.129119</td>\n",
       "      <td>-0.132842</td>\n",
       "      <td>-0.131601</td>\n",
       "      <td>-0.127878</td>\n",
       "      <td>-0.131601</td>\n",
       "    </tr>\n",
       "    <tr>\n",
       "      <th>2463</th>\n",
       "      <td>-0.073277</td>\n",
       "      <td>-0.130360</td>\n",
       "      <td>-0.129119</td>\n",
       "      <td>-0.127878</td>\n",
       "      <td>-0.131601</td>\n",
       "      <td>2.899981</td>\n",
       "      <td>-0.131601</td>\n",
       "      <td>-0.131601</td>\n",
       "      <td>-0.129119</td>\n",
       "      <td>-0.109264</td>\n",
       "      <td>-0.125396</td>\n",
       "      <td>0.392070</td>\n",
       "      <td>-0.130360</td>\n",
       "      <td>-0.132842</td>\n",
       "      <td>-0.131601</td>\n",
       "      <td>-0.127878</td>\n",
       "      <td>-0.131601</td>\n",
       "    </tr>\n",
       "    <tr>\n",
       "      <th>1152</th>\n",
       "      <td>-0.069555</td>\n",
       "      <td>-0.131601</td>\n",
       "      <td>-0.130360</td>\n",
       "      <td>-0.130360</td>\n",
       "      <td>-0.131601</td>\n",
       "      <td>-0.131601</td>\n",
       "      <td>-0.131601</td>\n",
       "      <td>-0.131601</td>\n",
       "      <td>-0.131601</td>\n",
       "      <td>-0.126637</td>\n",
       "      <td>-0.122915</td>\n",
       "      <td>-0.024881</td>\n",
       "      <td>-0.126637</td>\n",
       "      <td>-0.132842</td>\n",
       "      <td>-0.131601</td>\n",
       "      <td>-0.127878</td>\n",
       "      <td>-0.131601</td>\n",
       "    </tr>\n",
       "    <tr>\n",
       "      <th>4265</th>\n",
       "      <td>-0.094373</td>\n",
       "      <td>-0.130360</td>\n",
       "      <td>-0.129119</td>\n",
       "      <td>-0.130360</td>\n",
       "      <td>-0.131601</td>\n",
       "      <td>1.199913</td>\n",
       "      <td>-0.130360</td>\n",
       "      <td>-0.131601</td>\n",
       "      <td>-0.131601</td>\n",
       "      <td>-0.125396</td>\n",
       "      <td>-0.126637</td>\n",
       "      <td>1.270645</td>\n",
       "      <td>-0.126637</td>\n",
       "      <td>-0.132842</td>\n",
       "      <td>-0.131601</td>\n",
       "      <td>-0.127878</td>\n",
       "      <td>-0.131601</td>\n",
       "    </tr>\n",
       "    <tr>\n",
       "      <th>...</th>\n",
       "      <td>...</td>\n",
       "      <td>...</td>\n",
       "      <td>...</td>\n",
       "      <td>...</td>\n",
       "      <td>...</td>\n",
       "      <td>...</td>\n",
       "      <td>...</td>\n",
       "      <td>...</td>\n",
       "      <td>...</td>\n",
       "      <td>...</td>\n",
       "      <td>...</td>\n",
       "      <td>...</td>\n",
       "      <td>...</td>\n",
       "      <td>...</td>\n",
       "      <td>...</td>\n",
       "      <td>...</td>\n",
       "      <td>...</td>\n",
       "    </tr>\n",
       "    <tr>\n",
       "      <th>3722</th>\n",
       "      <td>-0.095614</td>\n",
       "      <td>-0.124155</td>\n",
       "      <td>-0.130360</td>\n",
       "      <td>-0.130360</td>\n",
       "      <td>-0.131601</td>\n",
       "      <td>-0.225911</td>\n",
       "      <td>-0.130360</td>\n",
       "      <td>-0.131601</td>\n",
       "      <td>-0.129119</td>\n",
       "      <td>-0.098096</td>\n",
       "      <td>-0.126637</td>\n",
       "      <td>0.246881</td>\n",
       "      <td>-0.129119</td>\n",
       "      <td>-0.132842</td>\n",
       "      <td>-0.131601</td>\n",
       "      <td>-0.127878</td>\n",
       "      <td>-0.131601</td>\n",
       "    </tr>\n",
       "    <tr>\n",
       "      <th>1513</th>\n",
       "      <td>-0.094373</td>\n",
       "      <td>-0.130360</td>\n",
       "      <td>-0.130360</td>\n",
       "      <td>-0.130360</td>\n",
       "      <td>-0.131601</td>\n",
       "      <td>-0.254453</td>\n",
       "      <td>-0.130360</td>\n",
       "      <td>-0.131601</td>\n",
       "      <td>-0.131601</td>\n",
       "      <td>-0.112987</td>\n",
       "      <td>-0.126637</td>\n",
       "      <td>0.047092</td>\n",
       "      <td>-0.125396</td>\n",
       "      <td>-0.132842</td>\n",
       "      <td>-0.131601</td>\n",
       "      <td>-0.127878</td>\n",
       "      <td>-0.131601</td>\n",
       "    </tr>\n",
       "    <tr>\n",
       "      <th>3299</th>\n",
       "      <td>-0.084446</td>\n",
       "      <td>-0.126637</td>\n",
       "      <td>-0.129119</td>\n",
       "      <td>-0.129119</td>\n",
       "      <td>-0.131601</td>\n",
       "      <td>0.398274</td>\n",
       "      <td>-0.130360</td>\n",
       "      <td>-0.131601</td>\n",
       "      <td>-0.131601</td>\n",
       "      <td>-0.124155</td>\n",
       "      <td>-0.126637</td>\n",
       "      <td>-0.110505</td>\n",
       "      <td>-0.127878</td>\n",
       "      <td>0.078115</td>\n",
       "      <td>-0.129119</td>\n",
       "      <td>-0.131601</td>\n",
       "      <td>-0.131601</td>\n",
       "    </tr>\n",
       "    <tr>\n",
       "      <th>828</th>\n",
       "      <td>-0.073277</td>\n",
       "      <td>-0.130360</td>\n",
       "      <td>-0.130360</td>\n",
       "      <td>-0.131601</td>\n",
       "      <td>-0.131601</td>\n",
       "      <td>0.076875</td>\n",
       "      <td>-0.130360</td>\n",
       "      <td>-0.131601</td>\n",
       "      <td>-0.130360</td>\n",
       "      <td>-0.094373</td>\n",
       "      <td>-0.131601</td>\n",
       "      <td>-0.049700</td>\n",
       "      <td>-0.130360</td>\n",
       "      <td>0.167462</td>\n",
       "      <td>-0.130360</td>\n",
       "      <td>-0.130360</td>\n",
       "      <td>-0.131601</td>\n",
       "    </tr>\n",
       "    <tr>\n",
       "      <th>4507</th>\n",
       "      <td>-0.090650</td>\n",
       "      <td>-0.121674</td>\n",
       "      <td>-0.130360</td>\n",
       "      <td>-0.130360</td>\n",
       "      <td>-0.131601</td>\n",
       "      <td>0.225786</td>\n",
       "      <td>-0.130360</td>\n",
       "      <td>-0.131601</td>\n",
       "      <td>-0.131601</td>\n",
       "      <td>-0.110505</td>\n",
       "      <td>-0.127878</td>\n",
       "      <td>0.248122</td>\n",
       "      <td>-0.130360</td>\n",
       "      <td>-0.132842</td>\n",
       "      <td>-0.131601</td>\n",
       "      <td>-0.127878</td>\n",
       "      <td>-0.131601</td>\n",
       "    </tr>\n",
       "  </tbody>\n",
       "</table>\n",
       "<p>4521 rows × 17 columns</p>\n",
       "</div>"
      ],
      "text/plain": [
       "             0         1         2         3         4         5         6  \\\n",
       "3771 -0.055905 -0.126637 -0.130360 -0.129119 -0.131601  1.105602 -0.131601   \n",
       "2581 -0.094373 -0.126637 -0.129119 -0.129119 -0.131601  0.830117 -0.130360   \n",
       "2463 -0.073277 -0.130360 -0.129119 -0.127878 -0.131601  2.899981 -0.131601   \n",
       "1152 -0.069555 -0.131601 -0.130360 -0.130360 -0.131601 -0.131601 -0.131601   \n",
       "4265 -0.094373 -0.130360 -0.129119 -0.130360 -0.131601  1.199913 -0.130360   \n",
       "...        ...       ...       ...       ...       ...       ...       ...   \n",
       "3722 -0.095614 -0.124155 -0.130360 -0.130360 -0.131601 -0.225911 -0.130360   \n",
       "1513 -0.094373 -0.130360 -0.130360 -0.130360 -0.131601 -0.254453 -0.130360   \n",
       "3299 -0.084446 -0.126637 -0.129119 -0.129119 -0.131601  0.398274 -0.130360   \n",
       "828  -0.073277 -0.130360 -0.130360 -0.131601 -0.131601  0.076875 -0.130360   \n",
       "4507 -0.090650 -0.121674 -0.130360 -0.130360 -0.131601  0.225786 -0.130360   \n",
       "\n",
       "             7         8         9        10        11        12        13  \\\n",
       "3771 -0.131601 -0.131601 -0.119192 -0.129119 -0.000063 -0.130360 -0.132842   \n",
       "2581 -0.131601 -0.129119 -0.111746 -0.125396  0.022274 -0.129119 -0.132842   \n",
       "2463 -0.131601 -0.129119 -0.109264 -0.125396  0.392070 -0.130360 -0.132842   \n",
       "1152 -0.131601 -0.131601 -0.126637 -0.122915 -0.024881 -0.126637 -0.132842   \n",
       "4265 -0.131601 -0.131601 -0.125396 -0.126637  1.270645 -0.126637 -0.132842   \n",
       "...        ...       ...       ...       ...       ...       ...       ...   \n",
       "3722 -0.131601 -0.129119 -0.098096 -0.126637  0.246881 -0.129119 -0.132842   \n",
       "1513 -0.131601 -0.131601 -0.112987 -0.126637  0.047092 -0.125396 -0.132842   \n",
       "3299 -0.131601 -0.131601 -0.124155 -0.126637 -0.110505 -0.127878  0.078115   \n",
       "828  -0.131601 -0.130360 -0.094373 -0.131601 -0.049700 -0.130360  0.167462   \n",
       "4507 -0.131601 -0.131601 -0.110505 -0.127878  0.248122 -0.130360 -0.132842   \n",
       "\n",
       "            14        15        16  \n",
       "3771 -0.131601 -0.127878 -0.130360  \n",
       "2581 -0.131601 -0.127878 -0.131601  \n",
       "2463 -0.131601 -0.127878 -0.131601  \n",
       "1152 -0.131601 -0.127878 -0.131601  \n",
       "4265 -0.131601 -0.127878 -0.131601  \n",
       "...        ...       ...       ...  \n",
       "3722 -0.131601 -0.127878 -0.131601  \n",
       "1513 -0.131601 -0.127878 -0.131601  \n",
       "3299 -0.129119 -0.131601 -0.131601  \n",
       "828  -0.130360 -0.130360 -0.131601  \n",
       "4507 -0.131601 -0.127878 -0.131601  \n",
       "\n",
       "[4521 rows x 17 columns]"
      ]
     },
     "execution_count": 57,
     "metadata": {},
     "output_type": "execute_result"
    }
   ],
   "source": [
    "bank_set_shuffled = bank_set_normalized.sample(frac = 1)\n",
    "bank_set_shuffled"
   ]
  },
  {
   "cell_type": "markdown",
   "metadata": {},
   "source": [
    "### 2. Splitting the Data "
   ]
  },
  {
   "cell_type": "code",
   "execution_count": 59,
   "metadata": {},
   "outputs": [],
   "source": [
    "#train set %70\n",
    "train_number_of_samples =math.floor(bank_set_shuffled.shape[0]*0.7)\n",
    "train_set = bank_set_shuffled.iloc[:train_number_of_samples,:]"
   ]
  },
  {
   "cell_type": "code",
   "execution_count": 60,
   "metadata": {},
   "outputs": [],
   "source": [
    "#validation set %15\n",
    "validation_number_of_samples = math.floor(bank_set_shuffled.shape[0]*0.15)\n",
    "validation_set = bank_set_shuffled.iloc[train_number_of_samples:train_number_of_samples+validation_number_of_samples ,:]\n"
   ]
  },
  {
   "cell_type": "code",
   "execution_count": 61,
   "metadata": {},
   "outputs": [],
   "source": [
    "#test set %15\n",
    "test_set = bank_set_shuffled.iloc[train_number_of_samples+validation_number_of_samples :,:]"
   ]
  },
  {
   "cell_type": "markdown",
   "metadata": {},
   "source": [
    "### 3. Creating X and Y Matrix of Data Sets"
   ]
  },
  {
   "cell_type": "code",
   "execution_count": 62,
   "metadata": {},
   "outputs": [],
   "source": [
    "#train set\n",
    "train_set_x = np.array(train_set.iloc[ : , :-1])\n",
    "train_set_y = np.array(train_set.iloc[:,-1]).reshape((3164,1))"
   ]
  },
  {
   "cell_type": "code",
   "execution_count": 63,
   "metadata": {},
   "outputs": [],
   "source": [
    "#validation set\n",
    "validation_set_x =np.array(validation_set.iloc[:,:-1])\n",
    "validation_set_y = np.array(validation_set.iloc[:,15:16])"
   ]
  },
  {
   "cell_type": "code",
   "execution_count": 64,
   "metadata": {},
   "outputs": [],
   "source": [
    "#test set\n",
    "test_set_x = np.array(test_set.iloc[:,:-1])\n",
    "test_set_y = np.array(test_set.iloc[:,15:16])"
   ]
  },
  {
   "cell_type": "markdown",
   "metadata": {},
   "source": [
    "## 2. HYPERBAND"
   ]
  },
  {
   "cell_type": "markdown",
   "metadata": {},
   "source": [
    "### 2.1 Introduction"
   ]
  },
  {
   "cell_type": "markdown",
   "metadata": {},
   "source": [
    "Hyperband is principled early stopping method that adaptively allocates a predefined resource (iterations , data samples or number of features) to randomly sampled configurations. "
   ]
  },
  {
   "cell_type": "markdown",
   "metadata": {},
   "source": [
    "The quality of a predictive model critically depends on ots hyperparameter configuration, but it is poorly understood how these hyperparameters interact with each other to effect quality of the resulting model. Consequently, practioners often default either hand-tuning or automated brute-force methods like random search and grid search."
   ]
  },
  {
   "cell_type": "markdown",
   "metadata": {},
   "source": [
    "In an effort to develop more efficient search methods, the problem of hyperparameter optimization has recently been dominated by Bayesian optimization methods. thatt focus on optimizing hyperparameter configuratuon selection. These methods aim to identify good configurations more quickly than standard baselines like random search by selecting configurations in an adaptive manner."
   ]
  },
  {
   "cell_type": "markdown",
   "metadata": {},
   "source": [
    "Existing emprical evidence suggests that these methods outperform random search. However, these methods tackle a fundemantally challenging problem of simultaneously  fitting and ptimizing a high dimensional non convex function with unknow smoothness and possibly noisy evaluations. To overcome these difficulties some Bayesian optimization methods resort to heuristics at the expense of consistency guarantees. "
   ]
  },
  {
   "cell_type": "markdown",
   "metadata": {},
   "source": [
    "An orthogonal approach to hyperparameter optimization focuses on speeding up configuration evaluation. These methods are adaptive in computation, allocationg more resources to pormisin hyperparameter configurations while quickly eliminatiing poor ones. Resources can take various forms, including size of training set, number of features, or number of iterations for iterative algorithms."
   ]
  },
  {
   "cell_type": "markdown",
   "metadata": {},
   "source": [
    "### 2.2 Hyperband Algorithm"
   ]
  },
  {
   "cell_type": "markdown",
   "metadata": {},
   "source": [
    "Hyperband extends the SuccesiveHalving algortihm proposed for hyperparameter optimization."
   ]
  },
  {
   "cell_type": "markdown",
   "metadata": {},
   "source": [
    "The idea behind SuccesiveHalving :uniformly allocate a budget to a set of hyperparameter configurations, evaluate the performance of all configurations, throw out the worst haly and repeat until one conigurations remains."
   ]
  },
  {
   "cell_type": "markdown",
   "metadata": {},
   "source": [
    "The algorithm allocates axponentially more resources to more promising configurations."
   ]
  },
  {
   "cell_type": "markdown",
   "metadata": {},
   "source": [
    "Unfortunately, SuccessiveHalving requires number of configurations n as an input the algortihm. Given some fnite budget B (an hour of training time to choose hyperparameter configuration), $B/n$ resources are allocated on average across the configurations."
   ]
  },
  {
   "cell_type": "markdown",
   "metadata": {},
   "source": [
    "However, for fixed B ,it is not clear a priori whether we should a consider many configurations (large n) with a small average training time, or b consider a small number of configurations (small n) with longer average training times."
   ]
  },
  {
   "cell_type": "markdown",
   "metadata": {},
   "source": [
    "### 2.3 Hyperband"
   ]
  },
  {
   "cell_type": "markdown",
   "metadata": {},
   "source": [
    "Hyperband addresses this $n$ versus $B/n$ problem by considering several possible values of n for a fixed B, in essence performing a grid search over feasible value of n."
   ]
  },
  {
   "cell_type": "markdown",
   "metadata": {},
   "source": [
    "Associated with each value of n is a minimum resource r that is allocated to all configurations before some are discarded, a larger value of n corresponds to a smaller r and hence more aggressive early stopping. There are 2 components to Hyperband\n",
    "\n",
    "1) inner loop invokes SuccesiveHalving for fixed values of n and r\n",
    "\n",
    "2)The outer loop which iteraes over different values $n$ and $r$\n"
   ]
  },
  {
   "cell_type": "markdown",
   "metadata": {},
   "source": [
    "It refers to each such run of SuccessiveHalving within hyperband as a bracket."
   ]
  },
  {
   "cell_type": "markdown",
   "metadata": {},
   "source": [
    "Each bracket is designed to use about B total resources and corresponds to a a different trade off between n and $B/n$"
   ]
  },
  {
   "cell_type": "markdown",
   "metadata": {},
   "source": [
    "A single execution of Hyperban takes a finite number of iterations and in practice ca be repeated indefinitely. "
   ]
  },
  {
   "cell_type": "code",
   "execution_count": null,
   "metadata": {},
   "outputs": [],
   "source": []
  },
  {
   "cell_type": "code",
   "execution_count": null,
   "metadata": {},
   "outputs": [],
   "source": []
  }
 ],
 "metadata": {
  "kernelspec": {
   "display_name": "Python 3",
   "language": "python",
   "name": "python3"
  },
  "language_info": {
   "codemirror_mode": {
    "name": "ipython",
    "version": 3
   },
   "file_extension": ".py",
   "mimetype": "text/x-python",
   "name": "python",
   "nbconvert_exporter": "python",
   "pygments_lexer": "ipython3",
   "version": "3.8.3"
  }
 },
 "nbformat": 4,
 "nbformat_minor": 4
}
